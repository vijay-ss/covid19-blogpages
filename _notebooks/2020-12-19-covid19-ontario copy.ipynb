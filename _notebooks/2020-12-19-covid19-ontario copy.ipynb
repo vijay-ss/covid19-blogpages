{
 "cells": [
  {
   "cell_type": "markdown",
   "metadata": {
    "id": "7dMw06RUvnER"
   },
   "source": [
    "# Investigating Ontario's Covid-19 Spread\n",
    "> Insights into the Covid-19 spread in Ontario, Canada.\n",
    "\n",
    "- toc: true \n",
    "- badges: true\n",
    "- comments: true\n",
    "- categories: [jupyter]\n",
    "- image: images/test.png"
   ]
  },
  {
   "cell_type": "code",
   "execution_count": 1,
   "metadata": {
    "colab": {
     "base_uri": "https://localhost:8080/",
     "height": 87
    },
    "executionInfo": {
     "elapsed": 986,
     "status": "ok",
     "timestamp": 1608260145966,
     "user": {
      "displayName": "Vijay S",
      "photoUrl": "https://lh4.googleusercontent.com/-Y3kqresK7tQ/AAAAAAAAAAI/AAAAAAAAIow/dmSWQoFZ3gU/s64/photo.jpg",
      "userId": "09127601101212446573"
     },
     "user_tz": 300
    },
    "id": "J5j7jrpi9e9n",
    "outputId": "f04baf26-a654-4498-9aac-174dd4a97fb5"
   },
   "outputs": [
    {
     "output_type": "execute_result",
     "data": {
      "text/plain": [
       "'\\n\\n TO DO LIST:\\n\\n - percent posititvity in hotzones\\n - hotzone regional analysis\\n - deaths vs ltc deaths\\n - add death/survival rate to number plate\\n\\n- mini overview of some basic stats (dashboard style):\\n    -death rate, recovery rate (Done)\\n    - number of new cases per region (Done)\\n\\n\\n- percent positivity; use the 3 methods outlined by the CDC (Done)\\n- break this down overall, and by month/quarter and evaluate\\n- false positive data\\n- negative tests relative to population\\n- recovery rate (done)\\n- death rate (Done)\\n- top 5 regions time series\\n\\n'"
      ]
     },
     "metadata": {},
     "execution_count": 1
    }
   ],
   "source": [
    "#hide\n",
    "\n",
    "\"\"\"\n",
    "\n",
    " TO DO LIST:\n",
    "\n",
    " - percent posititvity in hotzones\n",
    " - hotzone regional analysis\n",
    " - deaths vs ltc deaths\n",
    " - add death/survival rate to number plate\n",
    "\n",
    "- mini overview of some basic stats (dashboard style):\n",
    "    -death rate, recovery rate (Done)\n",
    "    - number of new cases per region (Done)\n",
    "\n",
    "\n",
    "- percent positivity; use the 3 methods outlined by the CDC (Done)\n",
    "- break this down overall, and by month/quarter and evaluate\n",
    "- false positive data\n",
    "- negative tests relative to population\n",
    "- recovery rate (done)\n",
    "- death rate (Done)\n",
    "- top 5 regions time series\n",
    "\n",
    "\"\"\""
   ]
  },
  {
   "cell_type": "code",
   "execution_count": 2,
   "metadata": {
    "executionInfo": {
     "elapsed": 1201,
     "status": "ok",
     "timestamp": 1608260146195,
     "user": {
      "displayName": "Vijay S",
      "photoUrl": "https://lh4.googleusercontent.com/-Y3kqresK7tQ/AAAAAAAAAAI/AAAAAAAAIow/dmSWQoFZ3gU/s64/photo.jpg",
      "userId": "09127601101212446573"
     },
     "user_tz": 300
    },
    "id": "jh66BYSZPcb4"
   },
   "outputs": [],
   "source": [
    "#hide\n",
    "#!pip install -q geopandas\n",
    "#!pip install sweetviz"
   ]
  },
  {
   "cell_type": "code",
   "execution_count": 3,
   "metadata": {
    "colab": {
     "base_uri": "https://localhost:8080/"
    },
    "executionInfo": {
     "elapsed": 1192,
     "status": "ok",
     "timestamp": 1608260146196,
     "user": {
      "displayName": "Vijay S",
      "photoUrl": "https://lh4.googleusercontent.com/-Y3kqresK7tQ/AAAAAAAAAAI/AAAAAAAAIow/dmSWQoFZ3gU/s64/photo.jpg",
      "userId": "09127601101212446573"
     },
     "user_tz": 300
    },
    "id": "j48Q5lomvnER",
    "outputId": "5e227662-7732-4a37-8fc0-96035f5c3bdd"
   },
   "outputs": [
    {
     "output_type": "stream",
     "name": "stdout",
     "text": [
      "Libraries successfully imported.\n"
     ]
    }
   ],
   "source": [
    "#hide\n",
    "# import urllib, json, os, time\n",
    "# import dateutil.parser\n",
    "# import re\n",
    "\n",
    "import pandas as pd\n",
    "import numpy as np\n",
    "\n",
    "import plotly.graph_objects as go\n",
    "import plotly.express as px\n",
    "import altair as alt\n",
    "\n",
    "from IPython.display import HTML, display\n",
    "import pytz\n",
    "\n",
    "import ipywidgets as widgets\n",
    "\n",
    "from datetime import datetime, timedelta, timezone\n",
    "\n",
    "# import geopandas as gpd\n",
    "# import sweetviz as sv\n",
    "\n",
    "print('Libraries successfully imported.')"
   ]
  },
  {
   "cell_type": "code",
   "execution_count": 4,
   "metadata": {
    "colab": {
     "base_uri": "https://localhost:8080/"
    },
    "executionInfo": {
     "elapsed": 4078,
     "status": "ok",
     "timestamp": 1608260149094,
     "user": {
      "displayName": "Vijay S",
      "photoUrl": "https://lh4.googleusercontent.com/-Y3kqresK7tQ/AAAAAAAAAAI/AAAAAAAAIow/dmSWQoFZ3gU/s64/photo.jpg",
      "userId": "09127601101212446573"
     },
     "user_tz": 300
    },
    "id": "FtEWcpj-vnES",
    "outputId": "5ade4e26-cfff-48fe-8e5d-8b65d88cae4a"
   },
   "outputs": [
    {
     "output_type": "stream",
     "name": "stdout",
     "text": [
      "Source files successfully loaded.\n"
     ]
    }
   ],
   "source": [
    "#hide\n",
    "#%%time\n",
    "\n",
    "url = 'https://data.ontario.ca/dataset/f4112442-bdc8-45d2-be3c-12efae72fb27/resource/455fd63b-603d-4608-8216-7d8647f43350/download/conposcovidloc.csv'\n",
    "url_2 = 'https://data.ontario.ca/dataset/f4f86e54-872d-43f8-8a86-3892fd3cb5e6/resource/ed270bb8-340b-41f9-a7c6-e8ef587e6d11/download/covidtesting.csv'\n",
    "url_3 = 'https://data.ontario.ca/dataset/f4f86e54-872d-43f8-8a86-3892fd3cb5e6/resource/8a88fe6d-d8fb-41a3-9d04-f0550a44999f/download/daily_change_in_cases_by_phu.csv'\n",
    "\n",
    "#geo = gpd.read_file('https://data.ontario.ca/dataset/f4112442-bdc8-45d2-be3c-12efae72fb27/resource/4f39b02b-47fe-4e66-95b6-e6da879c6910/download/conposcovidloc.geojson') \n",
    "\n",
    "src_conpos = pd.read_csv(url, index_col=0, parse_dates=['Accurate_Episode_Date', 'Case_Reported_Date', 'Test_Reported_Date', 'Specimen_Date']).reset_index()\n",
    "src_testing = pd.read_csv(url_2, index_col=0, parse_dates=['Reported Date']).reset_index()\n",
    "src_daily = pd.read_csv(url_3, index_col=0, parse_dates=['Date']).reset_index()\n",
    "\n",
    "# duplicate entry for December 5th, 2020 causing error\n",
    "src_testing.drop_duplicates(inplace=True)\n",
    "\n",
    "refreshtime = datetime.now()\n",
    "cached=False\n",
    "\n",
    "print('Source files successfully loaded.')"
   ]
  },
  {
   "cell_type": "code",
   "execution_count": 5,
   "metadata": {
    "colab": {
     "base_uri": "https://localhost:8080/",
     "height": 35
    },
    "executionInfo": {
     "elapsed": 4065,
     "status": "ok",
     "timestamp": 1608260149096,
     "user": {
      "displayName": "Vijay S",
      "photoUrl": "https://lh4.googleusercontent.com/-Y3kqresK7tQ/AAAAAAAAAAI/AAAAAAAAIow/dmSWQoFZ3gU/s64/photo.jpg",
      "userId": "09127601101212446573"
     },
     "user_tz": 300
    },
    "id": "eq0ycIeZjwgY",
    "outputId": "50327d33-9e6f-4a63-da8b-9f2b358f48fe"
   },
   "outputs": [
    {
     "output_type": "display_data",
     "data": {
      "text/plain": "<IPython.core.display.HTML object>",
      "text/html": "Ontario data set last updated on: 12/19/20"
     },
     "metadata": {}
    }
   ],
   "source": [
    "#hide\n",
    "last_date = src_testing['Reported Date'].max()\n",
    "init_date = src_conpos['Accurate_Episode_Date'].min()\n",
    "display(HTML(\"Ontario data set last updated on: \" + last_date.strftime(\"%x\")))"
   ]
  },
  {
   "cell_type": "code",
   "execution_count": 6,
   "metadata": {
    "executionInfo": {
     "elapsed": 4058,
     "status": "ok",
     "timestamp": 1608260149097,
     "user": {
      "displayName": "Vijay S",
      "photoUrl": "https://lh4.googleusercontent.com/-Y3kqresK7tQ/AAAAAAAAAAI/AAAAAAAAIow/dmSWQoFZ3gU/s64/photo.jpg",
      "userId": "09127601101212446573"
     },
     "user_tz": 300
    },
    "id": "vricx0JSn3sF"
   },
   "outputs": [],
   "source": [
    "#hide\n",
    "# src_testing[src_testing['Confirmed Negative'] > 0].tail() # no confirmed negatives after March 29th 2020\n",
    "\n",
    "# testing_latest = src_testing[src_testing['Reported Date'] == src_testing['Reported Date'].max()]\n",
    "\n",
    "# display(HTML(\"<div style = 'background-color: #504e4e; padding: 30px; text-align: center'>\" +\n",
    "#              \"<span style='color: #fff; font-size:23px;'> Confirmed: \"  + str('{:,.0f}'.format(int(testing_latest['Total Cases']))) +\"</span>\" +\n",
    "#              \"<span style='color: lightgreen; font-size:23px; margin-left:20px;'> Resolved: \" + str('{:,.0f}'.format(int(testing_latest['Resolved']))) + \"</span>\" +\n",
    "#              \"<span style='color: orange; font-size:23px; margin-left:20px;'> Active: \" + str('{:,.0f}'.format(int(testing_latest['Confirmed Positive']))) + \"</span>\" +\n",
    "#              \"<span style='color: red; font-size:23px;margin-left:20px;'> Deaths: \" + str('{:,.0f}'.format(int(testing_latest['Deaths']))) + \"</span>\"+\n",
    "#              \"<br> <span style='color: #fff; font-size:11px;'> Ontario data last updated: \"  + str(testing_latest['Reported Date'].max().strftime('%Y-%m-%d')) +\"</span>\" +\n",
    "#              \"</div>\" \n",
    "#              )\n",
    "#        )"
   ]
  },
  {
   "cell_type": "code",
   "execution_count": 7,
   "metadata": {
    "colab": {
     "base_uri": "https://localhost:8080/",
     "height": 209
    },
    "executionInfo": {
     "elapsed": 4050,
     "status": "ok",
     "timestamp": 1608260149098,
     "user": {
      "displayName": "Vijay S",
      "photoUrl": "https://lh4.googleusercontent.com/-Y3kqresK7tQ/AAAAAAAAAAI/AAAAAAAAIow/dmSWQoFZ3gU/s64/photo.jpg",
      "userId": "09127601101212446573"
     },
     "user_tz": 300
    },
    "id": "c68XFe3ziLrH",
    "outputId": "4876217e-4368-487d-9053-838bd518765d"
   },
   "outputs": [
    {
     "output_type": "display_data",
     "data": {
      "text/plain": "<IPython.core.display.HTML object>",
      "text/html": "<div id='number-plate' style = 'background-color: #ececec; padding: 30px; text-align: center; marginTop: 1%; marginBottom: 1%;'><p style='color: black; font-size: 32px'> Ontario Covid-19 Cases to Date</p><div id='confirmed' style = 'display: inline-block'> <span style='color: black; font-size: 23px;'> Confirmed: 153,614</span><br> <span style='color: black; font-size:15px; '> +2,357 (+1.56%)</span></div><div id='resolved' style = 'display: inline-block'> <span style='color: #228b22; font-size: 23px; margin-left: 20px;'> Resolved: 131,282</span><br> <span style='color: black; font-size:15px; '>+1,865 (+1.44%)</span></div><div id='active' style = 'display: inline-block'> <span style='color: orange; font-size: 23px; margin-left: 20px;'> Active: 18,207</span><br> <span style='color: black; font-size:15px; '>+465 (+2.62%)</span></div><div id='deaths' style = 'display: inline-block'> <span style='color: red; font-size: 23px; margin-left: 20px;'> Deaths: 4,125</span><br> <span style='color: black; font-size:15px; '>+27 (+0.66%)</span></div><br><div id='rates' style = 'display: block; marginTop: 1%;'> <div id='deathrate' style = 'display: inline-block'> <span style='color: black;'> Current Death Rate: </span><span style = 'color: red'>2.69%</span></div><div id='survivalrate' style = 'display:inline-block'> <span style='color: black; margin-left: 20px;'> Current Survival Rate: </span><span style = 'color: #228b22'>97.31%</span></div></div><span style='color: black; font-size: 11px;'> Ontario data last updated: 2020-12-19, Refreshed on: 2020-12-19 at 21:39</span></div>"
     },
     "metadata": {}
    }
   ],
   "source": [
    "#hide_input\n",
    "src_testing[src_testing['Confirmed Negative'] > 0].tail() # no confirmed negatives after March 29th 2020\n",
    "\n",
    "testing_latest = src_testing[src_testing['Reported Date'] == src_testing['Reported Date'].max()]\n",
    "\n",
    "# get the previous day results\n",
    "testing_delta1 = src_testing[src_testing['Reported Date'] == src_testing['Reported Date'].max() - timedelta(days=1)]\n",
    "\n",
    "# get the daily percentage +/-\n",
    "dailypct = src_testing.join(src_testing[['Total Cases', 'Resolved', 'Confirmed Positive', 'Deaths']].pct_change().add_suffix('_pct'))\n",
    "\n",
    "dailypct = dailypct[dailypct['Reported Date'] == dailypct['Reported Date'].max()]\n",
    "\n",
    "# apply a percentage format; conventional formatting method throws an error\n",
    "def percentage_delta(raw):\n",
    "  # pctfmt = raw.map('{:+.2%}'.format)\n",
    "  # split = str(pctfmt).split()\n",
    "  formatted_pct = str(raw.map('{:+.2%}'.format)).split()[1]\n",
    "  return formatted_pct\n",
    "\n",
    "# original background colour code: #504e4e, secondary: #585858\n",
    "\n",
    "display(HTML(\n",
    "    \n",
    "    \"<div id='number-plate' style = 'background-color: #ececec; padding: 30px; text-align: center; marginTop: 1%; marginBottom: 1%;'>\" +\n",
    "\n",
    "    \"<p style='color: black; font-size: 32px'> Ontario Covid-19 Cases to Date</p>\"\n",
    "    \n",
    "    \"<div id='confirmed' style = 'display: inline-block'> <span style='color: black; font-size: 23px;'> Confirmed: \" +\n",
    "    str('{:,.0f}'.format(int(testing_latest['Total Cases']))) + \"</span>\" + \n",
    "    \"<br> <span style='color: black; font-size:15px; '> \" + \n",
    "    str('{0:+,d}'.format(int(testing_latest['Total Cases']) - (int(testing_delta1['Total Cases'])))) +\n",
    "    ' (' + percentage_delta(dailypct['Total Cases_pct']) + ')' +\n",
    "    \"</span>\" + \n",
    "    \"</div>\" +\n",
    "\n",
    "    \"<div id='resolved' style = 'display: inline-block'> <span style='color: #228b22; font-size: 23px; margin-left: 20px;'> Resolved: \" + \n",
    "    str('{:,.0f}'.format(int(testing_latest['Resolved']))) + \"</span>\" + \n",
    "    \"<br> <span style='color: black; font-size:15px; '>\" + \n",
    "    str('{0:+,d}'.format(int(testing_latest['Resolved']) - (int(testing_delta1['Resolved'])))) +\n",
    "    ' (' + percentage_delta(dailypct['Resolved_pct']) + ')' +\n",
    "    \"</span>\" + \n",
    "    \"</div>\" +\n",
    "\n",
    "    \"<div id='active' style = 'display: inline-block'> <span style='color: orange; font-size: 23px; margin-left: 20px;'> Active: \" + \n",
    "    str('{:,.0f}'.format(int(testing_latest['Confirmed Positive']))) +\"</span>\" + \n",
    "    \"<br> <span style='color: black; font-size:15px; '>\" + \n",
    "    str('{0:+,d}'.format(int(testing_latest['Confirmed Positive']) - (int(testing_delta1['Confirmed Positive'])))) +\n",
    "    ' (' + percentage_delta(dailypct['Confirmed Positive_pct']) + ')' +\n",
    "    \"</span>\" + \n",
    "    \"</div>\" +\n",
    "\n",
    "    \"<div id='deaths' style = 'display: inline-block'> <span style='color: red; font-size: 23px; margin-left: 20px;'> Deaths: \" + \n",
    "    str('{:,.0f}'.format(int(testing_latest['Deaths']))) + \"</span>\" + \n",
    "    \"<br> <span style='color: black; font-size:15px; '>\" + \n",
    "    str('{0:+,d}'.format(int(testing_latest['Deaths']) - (int(testing_delta1['Deaths'])))) +\n",
    "    ' (' + percentage_delta(dailypct['Deaths_pct']) + ')' +\n",
    "    \"</span>\" + \n",
    "    \"</div>\" +\n",
    "\n",
    "    \"<br><div id='rates' style = 'display: block; marginTop: 1%;'> \" +\n",
    "\n",
    "    \"<div id='deathrate' style = 'display: inline-block'> <span style='color: black;'> Current Death Rate: \" +\n",
    "    \"</span>\" +\n",
    "    \"<span style = 'color: red'>\" +\n",
    "    str((testing_latest['Deaths'] / testing_latest['Total Cases']).map('{:.2%}'.format)).split()[1] + \n",
    "    \"</span>\" +\n",
    "    \"</div>\" +\n",
    "\n",
    "    \"<div id='survivalrate' style = 'display:inline-block'> <span style='color: black; margin-left: 20px;'> Current Survival Rate: \" + \n",
    "    \"</span>\" +\n",
    "    \"<span style = 'color: #228b22'>\" +\n",
    "    str(((testing_latest['Total Cases'] - testing_latest['Deaths']) / testing_latest['Total Cases']).map('{:.2%}'.format)).split()[1] + \n",
    "    \"</span>\" +\n",
    "    \"</div>\" +\n",
    "\n",
    "    \"</div>\" +\n",
    "\n",
    "    \"<span style='color: black; font-size: 11px;'> Ontario data last updated: \" + \n",
    "    str(testing_latest['Reported Date'].max().strftime('%Y-%m-%d')) + \", Refreshed on: \" + datetime.now(pytz.timezone('America/New_York') ).strftime(\"%Y-%m-%d at %H:%M\") +\n",
    "    \"</span>\" +\n",
    "\n",
    "    \"</div>\"\n",
    "    \n",
    "    ))"
   ]
  },
  {
   "cell_type": "code",
   "execution_count": 8,
   "metadata": {
    "executionInfo": {
     "elapsed": 4313,
     "status": "ok",
     "timestamp": 1608260149371,
     "user": {
      "displayName": "Vijay S",
      "photoUrl": "https://lh4.googleusercontent.com/-Y3kqresK7tQ/AAAAAAAAAAI/AAAAAAAAIow/dmSWQoFZ3gU/s64/photo.jpg",
      "userId": "09127601101212446573"
     },
     "user_tz": 300
    },
    "id": "e0DluRH6VwE8"
   },
   "outputs": [],
   "source": [
    "#hide_input\n",
    "# display(HTML(\"<div style = 'background-color: #504e4e; padding: 30px; '>\" +\n",
    "#              \"<span style='color: #fff; font-size:30px; margin-left:20px;'> Confirmed: \" + str('{:,.0f}'.format(int(testing_latest['Total Cases']))) +\"</span>\" +\n",
    "#              \"<br> <span style='color: lightgreen; font-size:30px; margin-left:20px;'> Resolved: \" + str('{:,.0f}'.format(int(testing_latest['Resolved']))) + \"</span>\"+\n",
    "#              \"<br> <span style='color: orange; font-size:30px; margin-left:20px;'> Active: \" + str('{:,.0f}'.format(int(testing_latest['Confirmed Positive']))) + \"</span>\"+\n",
    "#              \"<br> <span style='color: red; font-size:30px; margin-left:20px;'> Deaths: \" + str('{:,.0f}'.format(int(testing_latest['Deaths']))) + \"</span>\"+\n",
    "#              \"<br> <span style='color: #fff; font-size:11px; margin-left:20px;'> Ontario data last updated: \"  + str(testing_latest['Reported Date'].max().strftime('%Y-%m-%d')) +\"</span>\" +\n",
    "#              \"</div>\")\n",
    "#        )"
   ]
  },
  {
   "cell_type": "code",
   "execution_count": 9,
   "metadata": {
    "colab": {
     "base_uri": "https://localhost:8080/",
     "height": 343
    },
    "executionInfo": {
     "elapsed": 4306,
     "status": "ok",
     "timestamp": 1608260149372,
     "user": {
      "displayName": "Vijay S",
      "photoUrl": "https://lh4.googleusercontent.com/-Y3kqresK7tQ/AAAAAAAAAAI/AAAAAAAAIow/dmSWQoFZ3gU/s64/photo.jpg",
      "userId": "09127601101212446573"
     },
     "user_tz": 300
    },
    "id": "PXfG7Du1uCQi",
    "outputId": "c82fa853-0786-4654-b2cb-8e1c88b1d8db"
   },
   "outputs": [
    {
     "output_type": "execute_result",
     "data": {
      "text/plain": [
       "   Row_ID Accurate_Episode_Date Case_Reported_Date Test_Reported_Date  \\\n",
       "0       1            2020-03-10         2020-03-12                NaT   \n",
       "1       2            2020-03-10         2020-03-12                NaT   \n",
       "2       3            2020-03-11         2020-03-12                NaT   \n",
       "3       4            2020-03-06         2020-03-12                NaT   \n",
       "4       5            2020-03-09         2020-03-12                NaT   \n",
       "\n",
       "  Specimen_Date Age_Group Client_Gender Case_AcquisitionInfo  Outcome1  \\\n",
       "0    2020-03-11       20s          MALE               TRAVEL  Resolved   \n",
       "1    2020-03-12       30s        FEMALE                   CC  Resolved   \n",
       "2    2020-03-12       20s          MALE                   CC  Resolved   \n",
       "3    2020-03-11       40s          MALE    NO KNOWN EPI LINK  Resolved   \n",
       "4    2020-03-11       50s        FEMALE               TRAVEL  Resolved   \n",
       "\n",
       "  Outbreak_Related  Reporting_PHU_ID          Reporting_PHU  \\\n",
       "0              NaN              3895  Toronto Public Health   \n",
       "1              NaN              3895  Toronto Public Health   \n",
       "2              NaN              3895  Toronto Public Health   \n",
       "3              NaN              3895  Toronto Public Health   \n",
       "4              NaN              3895  Toronto Public Health   \n",
       "\n",
       "            Reporting_PHU_Address Reporting_PHU_City  \\\n",
       "0  277 Victoria Street, 5th Floor            Toronto   \n",
       "1  277 Victoria Street, 5th Floor            Toronto   \n",
       "2  277 Victoria Street, 5th Floor            Toronto   \n",
       "3  277 Victoria Street, 5th Floor            Toronto   \n",
       "4  277 Victoria Street, 5th Floor            Toronto   \n",
       "\n",
       "  Reporting_PHU_Postal_Code  \\\n",
       "0                   M5B 1W2   \n",
       "1                   M5B 1W2   \n",
       "2                   M5B 1W2   \n",
       "3                   M5B 1W2   \n",
       "4                   M5B 1W2   \n",
       "\n",
       "                               Reporting_PHU_Website  Reporting_PHU_Latitude  \\\n",
       "0  www.toronto.ca/community-people/health-wellnes...               43.656591   \n",
       "1  www.toronto.ca/community-people/health-wellnes...               43.656591   \n",
       "2  www.toronto.ca/community-people/health-wellnes...               43.656591   \n",
       "3  www.toronto.ca/community-people/health-wellnes...               43.656591   \n",
       "4  www.toronto.ca/community-people/health-wellnes...               43.656591   \n",
       "\n",
       "   Reporting_PHU_Longitude  \n",
       "0               -79.379358  \n",
       "1               -79.379358  \n",
       "2               -79.379358  \n",
       "3               -79.379358  \n",
       "4               -79.379358  "
      ],
      "text/html": "<div>\n<style scoped>\n    .dataframe tbody tr th:only-of-type {\n        vertical-align: middle;\n    }\n\n    .dataframe tbody tr th {\n        vertical-align: top;\n    }\n\n    .dataframe thead th {\n        text-align: right;\n    }\n</style>\n<table border=\"1\" class=\"dataframe\">\n  <thead>\n    <tr style=\"text-align: right;\">\n      <th></th>\n      <th>Row_ID</th>\n      <th>Accurate_Episode_Date</th>\n      <th>Case_Reported_Date</th>\n      <th>Test_Reported_Date</th>\n      <th>Specimen_Date</th>\n      <th>Age_Group</th>\n      <th>Client_Gender</th>\n      <th>Case_AcquisitionInfo</th>\n      <th>Outcome1</th>\n      <th>Outbreak_Related</th>\n      <th>Reporting_PHU_ID</th>\n      <th>Reporting_PHU</th>\n      <th>Reporting_PHU_Address</th>\n      <th>Reporting_PHU_City</th>\n      <th>Reporting_PHU_Postal_Code</th>\n      <th>Reporting_PHU_Website</th>\n      <th>Reporting_PHU_Latitude</th>\n      <th>Reporting_PHU_Longitude</th>\n    </tr>\n  </thead>\n  <tbody>\n    <tr>\n      <th>0</th>\n      <td>1</td>\n      <td>2020-03-10</td>\n      <td>2020-03-12</td>\n      <td>NaT</td>\n      <td>2020-03-11</td>\n      <td>20s</td>\n      <td>MALE</td>\n      <td>TRAVEL</td>\n      <td>Resolved</td>\n      <td>NaN</td>\n      <td>3895</td>\n      <td>Toronto Public Health</td>\n      <td>277 Victoria Street, 5th Floor</td>\n      <td>Toronto</td>\n      <td>M5B 1W2</td>\n      <td>www.toronto.ca/community-people/health-wellnes...</td>\n      <td>43.656591</td>\n      <td>-79.379358</td>\n    </tr>\n    <tr>\n      <th>1</th>\n      <td>2</td>\n      <td>2020-03-10</td>\n      <td>2020-03-12</td>\n      <td>NaT</td>\n      <td>2020-03-12</td>\n      <td>30s</td>\n      <td>FEMALE</td>\n      <td>CC</td>\n      <td>Resolved</td>\n      <td>NaN</td>\n      <td>3895</td>\n      <td>Toronto Public Health</td>\n      <td>277 Victoria Street, 5th Floor</td>\n      <td>Toronto</td>\n      <td>M5B 1W2</td>\n      <td>www.toronto.ca/community-people/health-wellnes...</td>\n      <td>43.656591</td>\n      <td>-79.379358</td>\n    </tr>\n    <tr>\n      <th>2</th>\n      <td>3</td>\n      <td>2020-03-11</td>\n      <td>2020-03-12</td>\n      <td>NaT</td>\n      <td>2020-03-12</td>\n      <td>20s</td>\n      <td>MALE</td>\n      <td>CC</td>\n      <td>Resolved</td>\n      <td>NaN</td>\n      <td>3895</td>\n      <td>Toronto Public Health</td>\n      <td>277 Victoria Street, 5th Floor</td>\n      <td>Toronto</td>\n      <td>M5B 1W2</td>\n      <td>www.toronto.ca/community-people/health-wellnes...</td>\n      <td>43.656591</td>\n      <td>-79.379358</td>\n    </tr>\n    <tr>\n      <th>3</th>\n      <td>4</td>\n      <td>2020-03-06</td>\n      <td>2020-03-12</td>\n      <td>NaT</td>\n      <td>2020-03-11</td>\n      <td>40s</td>\n      <td>MALE</td>\n      <td>NO KNOWN EPI LINK</td>\n      <td>Resolved</td>\n      <td>NaN</td>\n      <td>3895</td>\n      <td>Toronto Public Health</td>\n      <td>277 Victoria Street, 5th Floor</td>\n      <td>Toronto</td>\n      <td>M5B 1W2</td>\n      <td>www.toronto.ca/community-people/health-wellnes...</td>\n      <td>43.656591</td>\n      <td>-79.379358</td>\n    </tr>\n    <tr>\n      <th>4</th>\n      <td>5</td>\n      <td>2020-03-09</td>\n      <td>2020-03-12</td>\n      <td>NaT</td>\n      <td>2020-03-11</td>\n      <td>50s</td>\n      <td>FEMALE</td>\n      <td>TRAVEL</td>\n      <td>Resolved</td>\n      <td>NaN</td>\n      <td>3895</td>\n      <td>Toronto Public Health</td>\n      <td>277 Victoria Street, 5th Floor</td>\n      <td>Toronto</td>\n      <td>M5B 1W2</td>\n      <td>www.toronto.ca/community-people/health-wellnes...</td>\n      <td>43.656591</td>\n      <td>-79.379358</td>\n    </tr>\n  </tbody>\n</table>\n</div>"
     },
     "metadata": {},
     "execution_count": 9
    }
   ],
   "source": [
    "#hide\n",
    "src_conpos.head()\n",
    "#src_daily.head()"
   ]
  },
  {
   "cell_type": "code",
   "execution_count": 10,
   "metadata": {
    "colab": {
     "base_uri": "https://localhost:8080/"
    },
    "executionInfo": {
     "elapsed": 4295,
     "status": "ok",
     "timestamp": 1608260149373,
     "user": {
      "displayName": "Vijay S",
      "photoUrl": "https://lh4.googleusercontent.com/-Y3kqresK7tQ/AAAAAAAAAAI/AAAAAAAAIow/dmSWQoFZ3gU/s64/photo.jpg",
      "userId": "09127601101212446573"
     },
     "user_tz": 300
    },
    "id": "bbK7DXhXvnEU",
    "outputId": "3613364e-3465-42d2-a0ca-fa830e8fb217"
   },
   "outputs": [
    {
     "output_type": "execute_result",
     "data": {
      "text/plain": [
       "array(['Resolved', 'Fatal', 'Not Resolved'], dtype=object)"
      ]
     },
     "metadata": {},
     "execution_count": 10
    }
   ],
   "source": [
    "#hide\n",
    "src_conpos['Case_AcquisitionInfo'].unique()\n",
    "src_conpos['Outcome1'].unique()"
   ]
  },
  {
   "cell_type": "code",
   "execution_count": 11,
   "metadata": {
    "colab": {
     "base_uri": "https://localhost:8080/",
     "height": 202
    },
    "executionInfo": {
     "elapsed": 4285,
     "status": "ok",
     "timestamp": 1608260149374,
     "user": {
      "displayName": "Vijay S",
      "photoUrl": "https://lh4.googleusercontent.com/-Y3kqresK7tQ/AAAAAAAAAAI/AAAAAAAAIow/dmSWQoFZ3gU/s64/photo.jpg",
      "userId": "09127601101212446573"
     },
     "user_tz": 300
    },
    "id": "su9nqGy814vt",
    "outputId": "ea2a112b-eb17-4b3a-ac3a-a38c434ff2c4"
   },
   "outputs": [
    {
     "output_type": "execute_result",
     "data": {
      "text/plain": [
       "     Accurate_Episode_Date                       Reporting_PHU  \\\n",
       "6304            2020-12-13  York Region Public Health Services   \n",
       "6333            2020-12-14  York Region Public Health Services   \n",
       "6364            2020-12-15  York Region Public Health Services   \n",
       "6386            2020-12-16  York Region Public Health Services   \n",
       "6410            2020-12-17  York Region Public Health Services   \n",
       "\n",
       "     Reporting_PHU_City   Latitude  Longitude  Cases  \n",
       "6304          Newmarket  44.048023 -79.480239    122  \n",
       "6333          Newmarket  44.048023 -79.480239    160  \n",
       "6364          Newmarket  44.048023 -79.480239    131  \n",
       "6386          Newmarket  44.048023 -79.480239     85  \n",
       "6410          Newmarket  44.048023 -79.480239      5  "
      ],
      "text/html": "<div>\n<style scoped>\n    .dataframe tbody tr th:only-of-type {\n        vertical-align: middle;\n    }\n\n    .dataframe tbody tr th {\n        vertical-align: top;\n    }\n\n    .dataframe thead th {\n        text-align: right;\n    }\n</style>\n<table border=\"1\" class=\"dataframe\">\n  <thead>\n    <tr style=\"text-align: right;\">\n      <th></th>\n      <th>Accurate_Episode_Date</th>\n      <th>Reporting_PHU</th>\n      <th>Reporting_PHU_City</th>\n      <th>Latitude</th>\n      <th>Longitude</th>\n      <th>Cases</th>\n    </tr>\n  </thead>\n  <tbody>\n    <tr>\n      <th>6304</th>\n      <td>2020-12-13</td>\n      <td>York Region Public Health Services</td>\n      <td>Newmarket</td>\n      <td>44.048023</td>\n      <td>-79.480239</td>\n      <td>122</td>\n    </tr>\n    <tr>\n      <th>6333</th>\n      <td>2020-12-14</td>\n      <td>York Region Public Health Services</td>\n      <td>Newmarket</td>\n      <td>44.048023</td>\n      <td>-79.480239</td>\n      <td>160</td>\n    </tr>\n    <tr>\n      <th>6364</th>\n      <td>2020-12-15</td>\n      <td>York Region Public Health Services</td>\n      <td>Newmarket</td>\n      <td>44.048023</td>\n      <td>-79.480239</td>\n      <td>131</td>\n    </tr>\n    <tr>\n      <th>6386</th>\n      <td>2020-12-16</td>\n      <td>York Region Public Health Services</td>\n      <td>Newmarket</td>\n      <td>44.048023</td>\n      <td>-79.480239</td>\n      <td>85</td>\n    </tr>\n    <tr>\n      <th>6410</th>\n      <td>2020-12-17</td>\n      <td>York Region Public Health Services</td>\n      <td>Newmarket</td>\n      <td>44.048023</td>\n      <td>-79.480239</td>\n      <td>5</td>\n    </tr>\n  </tbody>\n</table>\n</div>"
     },
     "metadata": {},
     "execution_count": 11
    }
   ],
   "source": [
    "#hide\n",
    "src_conpos.groupby([\"Accurate_Episode_Date\",\"Reporting_PHU\", \"Reporting_PHU_City\",\"Reporting_PHU_Latitude\", \"Reporting_PHU_Longitude\"]) \\\n",
    ".count()[\"Row_ID\"] \\\n",
    ".reset_index() \\\n",
    ".rename(columns={\"Row_ID\" : \"Cases\", \"Reporting_PHU_Latitude\": \"Latitude\", \"Reporting_PHU_Longitude\": \"Longitude\"}) \\\n",
    ".sort_values(by = [\"Reporting_PHU\", \"Accurate_Episode_Date\"]).tail()"
   ]
  },
  {
   "cell_type": "code",
   "execution_count": 12,
   "metadata": {
    "colab": {
     "base_uri": "https://localhost:8080/",
     "height": 202
    },
    "executionInfo": {
     "elapsed": 4455,
     "status": "ok",
     "timestamp": 1608260149555,
     "user": {
      "displayName": "Vijay S",
      "photoUrl": "https://lh4.googleusercontent.com/-Y3kqresK7tQ/AAAAAAAAAAI/AAAAAAAAIow/dmSWQoFZ3gU/s64/photo.jpg",
      "userId": "09127601101212446573"
     },
     "user_tz": 300
    },
    "id": "SmdKOsrVvnEU",
    "outputId": "b8c600fa-0079-4774-e93b-cd9a3f3349a2"
   },
   "outputs": [
    {
     "output_type": "execute_result",
     "data": {
      "text/plain": [
       "                     Reporting_PHU Reporting_PHU_City   Latitude  Longitude  \\\n",
       "0        Algoma Public Health Unit   Sault Ste. Marie  46.532373 -84.314836   \n",
       "1         Brant County Health Unit          Brantford  43.151811 -80.274374   \n",
       "2         Chatham-Kent Health Unit            Chatham  42.403861 -82.208561   \n",
       "3  Durham Region Health Department             Whitby  43.898605 -78.940341   \n",
       "4      Eastern Ontario Health Unit           Cornwall  45.029152 -74.736298   \n",
       "\n",
       "   Cases Symptom_Onset  \n",
       "0      1       Anytime  \n",
       "1    114       Anytime  \n",
       "2     36       Anytime  \n",
       "3    697       Anytime  \n",
       "4    153       Anytime  "
      ],
      "text/html": "<div>\n<style scoped>\n    .dataframe tbody tr th:only-of-type {\n        vertical-align: middle;\n    }\n\n    .dataframe tbody tr th {\n        vertical-align: top;\n    }\n\n    .dataframe thead th {\n        text-align: right;\n    }\n</style>\n<table border=\"1\" class=\"dataframe\">\n  <thead>\n    <tr style=\"text-align: right;\">\n      <th></th>\n      <th>Reporting_PHU</th>\n      <th>Reporting_PHU_City</th>\n      <th>Latitude</th>\n      <th>Longitude</th>\n      <th>Cases</th>\n      <th>Symptom_Onset</th>\n    </tr>\n  </thead>\n  <tbody>\n    <tr>\n      <th>0</th>\n      <td>Algoma Public Health Unit</td>\n      <td>Sault Ste. Marie</td>\n      <td>46.532373</td>\n      <td>-84.314836</td>\n      <td>1</td>\n      <td>Anytime</td>\n    </tr>\n    <tr>\n      <th>1</th>\n      <td>Brant County Health Unit</td>\n      <td>Brantford</td>\n      <td>43.151811</td>\n      <td>-80.274374</td>\n      <td>114</td>\n      <td>Anytime</td>\n    </tr>\n    <tr>\n      <th>2</th>\n      <td>Chatham-Kent Health Unit</td>\n      <td>Chatham</td>\n      <td>42.403861</td>\n      <td>-82.208561</td>\n      <td>36</td>\n      <td>Anytime</td>\n    </tr>\n    <tr>\n      <th>3</th>\n      <td>Durham Region Health Department</td>\n      <td>Whitby</td>\n      <td>43.898605</td>\n      <td>-78.940341</td>\n      <td>697</td>\n      <td>Anytime</td>\n    </tr>\n    <tr>\n      <th>4</th>\n      <td>Eastern Ontario Health Unit</td>\n      <td>Cornwall</td>\n      <td>45.029152</td>\n      <td>-74.736298</td>\n      <td>153</td>\n      <td>Anytime</td>\n    </tr>\n  </tbody>\n</table>\n</div>"
     },
     "metadata": {},
     "execution_count": 12
    }
   ],
   "source": [
    " #hide\n",
    "\n",
    "# create dataframe of all active cases in Ontario by region since Covid-19 inception\n",
    "# Note: Brampton and Caledon not included in PHU Cities; use Region instead\n",
    "\n",
    "active = src_conpos[src_conpos['Outcome1'] == \"Not Resolved\"]\n",
    "\n",
    "active = active.groupby([\"Reporting_PHU\", \"Reporting_PHU_City\",\"Reporting_PHU_Latitude\", \"Reporting_PHU_Longitude\"]) \\\n",
    ".count()[\"Row_ID\"] \\\n",
    ".reset_index() \\\n",
    ".rename(columns={\"Row_ID\" : \"Cases\", \"Reporting_PHU_Latitude\": \"Latitude\", \"Reporting_PHU_Longitude\": \"Longitude\"}) \\\n",
    ".sort_values(by = [\"Reporting_PHU\"])\n",
    "\n",
    "active[\"Symptom_Onset\"] = \"Anytime\"\n",
    "\n",
    "active.head()"
   ]
  },
  {
   "cell_type": "code",
   "execution_count": 13,
   "metadata": {
    "colab": {
     "base_uri": "https://localhost:8080/",
     "height": 415
    },
    "executionInfo": {
     "elapsed": 4448,
     "status": "ok",
     "timestamp": 1608260149559,
     "user": {
      "displayName": "Vijay S",
      "photoUrl": "https://lh4.googleusercontent.com/-Y3kqresK7tQ/AAAAAAAAAAI/AAAAAAAAIow/dmSWQoFZ3gU/s64/photo.jpg",
      "userId": "09127601101212446573"
     },
     "user_tz": 300
    },
    "id": "KnZPIlCGJcXa",
    "outputId": "1e52410a-7bc6-405a-fdf6-7f9ef8a76651"
   },
   "outputs": [
    {
     "output_type": "execute_result",
     "data": {
      "text/plain": [
       "                               Reporting_PHU Reporting_PHU_City   Latitude  \\\n",
       "0                  Algoma Public Health Unit   Sault Ste. Marie  46.532373   \n",
       "1                   Brant County Health Unit          Brantford  43.151811   \n",
       "2                   Chatham-Kent Health Unit            Chatham  42.403861   \n",
       "3            Durham Region Health Department             Whitby  43.898605   \n",
       "4                Eastern Ontario Health Unit           Cornwall  45.029152   \n",
       "..                                       ...                ...        ...   \n",
       "27                   Timiskaming Health Unit       New Liskeard  47.509284   \n",
       "28                     Toronto Public Health            Toronto  43.656591   \n",
       "29  Wellington-Dufferin-Guelph Public Health             Guelph  43.524881   \n",
       "30          Windsor-Essex County Health Unit            Windsor  42.308796   \n",
       "31        York Region Public Health Services          Newmarket  44.048023   \n",
       "\n",
       "    Longitude  Cases Symptom_Onset  \n",
       "0  -84.314836      1       Anytime  \n",
       "1  -80.274374    114       Anytime  \n",
       "2  -82.208561     36       Anytime  \n",
       "3  -78.940341    697       Anytime  \n",
       "4  -74.736298    153       Anytime  \n",
       "..        ...    ...           ...  \n",
       "27 -79.681632      1   Last 5 days  \n",
       "28 -79.379358    432   Last 5 days  \n",
       "29 -80.233743     49   Last 5 days  \n",
       "30 -83.033670    122   Last 5 days  \n",
       "31 -79.480239    221   Last 5 days  \n",
       "\n",
       "[133 rows x 6 columns]"
      ],
      "text/html": "<div>\n<style scoped>\n    .dataframe tbody tr th:only-of-type {\n        vertical-align: middle;\n    }\n\n    .dataframe tbody tr th {\n        vertical-align: top;\n    }\n\n    .dataframe thead th {\n        text-align: right;\n    }\n</style>\n<table border=\"1\" class=\"dataframe\">\n  <thead>\n    <tr style=\"text-align: right;\">\n      <th></th>\n      <th>Reporting_PHU</th>\n      <th>Reporting_PHU_City</th>\n      <th>Latitude</th>\n      <th>Longitude</th>\n      <th>Cases</th>\n      <th>Symptom_Onset</th>\n    </tr>\n  </thead>\n  <tbody>\n    <tr>\n      <th>0</th>\n      <td>Algoma Public Health Unit</td>\n      <td>Sault Ste. Marie</td>\n      <td>46.532373</td>\n      <td>-84.314836</td>\n      <td>1</td>\n      <td>Anytime</td>\n    </tr>\n    <tr>\n      <th>1</th>\n      <td>Brant County Health Unit</td>\n      <td>Brantford</td>\n      <td>43.151811</td>\n      <td>-80.274374</td>\n      <td>114</td>\n      <td>Anytime</td>\n    </tr>\n    <tr>\n      <th>2</th>\n      <td>Chatham-Kent Health Unit</td>\n      <td>Chatham</td>\n      <td>42.403861</td>\n      <td>-82.208561</td>\n      <td>36</td>\n      <td>Anytime</td>\n    </tr>\n    <tr>\n      <th>3</th>\n      <td>Durham Region Health Department</td>\n      <td>Whitby</td>\n      <td>43.898605</td>\n      <td>-78.940341</td>\n      <td>697</td>\n      <td>Anytime</td>\n    </tr>\n    <tr>\n      <th>4</th>\n      <td>Eastern Ontario Health Unit</td>\n      <td>Cornwall</td>\n      <td>45.029152</td>\n      <td>-74.736298</td>\n      <td>153</td>\n      <td>Anytime</td>\n    </tr>\n    <tr>\n      <th>...</th>\n      <td>...</td>\n      <td>...</td>\n      <td>...</td>\n      <td>...</td>\n      <td>...</td>\n      <td>...</td>\n    </tr>\n    <tr>\n      <th>27</th>\n      <td>Timiskaming Health Unit</td>\n      <td>New Liskeard</td>\n      <td>47.509284</td>\n      <td>-79.681632</td>\n      <td>1</td>\n      <td>Last 5 days</td>\n    </tr>\n    <tr>\n      <th>28</th>\n      <td>Toronto Public Health</td>\n      <td>Toronto</td>\n      <td>43.656591</td>\n      <td>-79.379358</td>\n      <td>432</td>\n      <td>Last 5 days</td>\n    </tr>\n    <tr>\n      <th>29</th>\n      <td>Wellington-Dufferin-Guelph Public Health</td>\n      <td>Guelph</td>\n      <td>43.524881</td>\n      <td>-80.233743</td>\n      <td>49</td>\n      <td>Last 5 days</td>\n    </tr>\n    <tr>\n      <th>30</th>\n      <td>Windsor-Essex County Health Unit</td>\n      <td>Windsor</td>\n      <td>42.308796</td>\n      <td>-83.033670</td>\n      <td>122</td>\n      <td>Last 5 days</td>\n    </tr>\n    <tr>\n      <th>31</th>\n      <td>York Region Public Health Services</td>\n      <td>Newmarket</td>\n      <td>44.048023</td>\n      <td>-79.480239</td>\n      <td>221</td>\n      <td>Last 5 days</td>\n    </tr>\n  </tbody>\n</table>\n<p>133 rows × 6 columns</p>\n</div>"
     },
     "metadata": {},
     "execution_count": 13
    }
   ],
   "source": [
    "#hide\n",
    "\n",
    "# create dataframes for  last 14, 7 and 5 day time periods\n",
    "\n",
    "# 14 day delta\n",
    "active14 = src_conpos[(src_conpos['Outcome1'] == \"Not Resolved\") & (src_conpos['Accurate_Episode_Date'] >= datetime.now() - timedelta(days=14))]\n",
    "\n",
    "active14 = active14.groupby([\"Reporting_PHU\", \"Reporting_PHU_City\",\"Reporting_PHU_Latitude\", \"Reporting_PHU_Longitude\"]) \\\n",
    ".count()[\"Row_ID\"] \\\n",
    ".reset_index() \\\n",
    ".rename(columns={\"Row_ID\" : \"Cases\", \"Reporting_PHU_Latitude\": \"Latitude\", \"Reporting_PHU_Longitude\": \"Longitude\"}) \\\n",
    ".sort_values(by = [\"Reporting_PHU\"])\n",
    "\n",
    "active14[\"Symptom_Onset\"] = \"Last 14 days\"\n",
    "\n",
    "# 7 day delta\n",
    "active7 = src_conpos[(src_conpos['Outcome1'] == \"Not Resolved\") & (src_conpos['Accurate_Episode_Date'] >= datetime.now() - timedelta(days=7))]\n",
    "\n",
    "active7 = active7.groupby([\"Reporting_PHU\", \"Reporting_PHU_City\",\"Reporting_PHU_Latitude\", \"Reporting_PHU_Longitude\"]) \\\n",
    ".count()[\"Row_ID\"] \\\n",
    ".reset_index() \\\n",
    ".rename(columns={\"Row_ID\" : \"Cases\", \"Reporting_PHU_Latitude\": \"Latitude\", \"Reporting_PHU_Longitude\": \"Longitude\"}) \\\n",
    ".sort_values(by = [\"Reporting_PHU\"])\n",
    "\n",
    "active7[\"Symptom_Onset\"] = \"Last 7 days\"\n",
    "\n",
    "# 5 day delta\n",
    "active5 = src_conpos[(src_conpos['Outcome1'] == \"Not Resolved\") & (src_conpos['Accurate_Episode_Date'] >= datetime.now() - timedelta(days=5))]\n",
    "\n",
    "active5 = active5.groupby([\"Reporting_PHU\", \"Reporting_PHU_City\",\"Reporting_PHU_Latitude\", \"Reporting_PHU_Longitude\"]) \\\n",
    ".count()[\"Row_ID\"] \\\n",
    ".reset_index() \\\n",
    ".rename(columns={\"Row_ID\" : \"Cases\", \"Reporting_PHU_Latitude\": \"Latitude\", \"Reporting_PHU_Longitude\": \"Longitude\"}) \\\n",
    ".sort_values(by = [\"Reporting_PHU\"])\n",
    "\n",
    "active5[\"Symptom_Onset\"] = \"Last 5 days\"\n",
    "\n",
    "# append all dataframes together\n",
    "df_active = active.append(active14).append(active7).append(active5)\n",
    "df_active"
   ]
  },
  {
   "cell_type": "markdown",
   "metadata": {
    "id": "9YtkGexfEYR4"
   },
   "source": [
    "## Geographical Spread of Cases"
   ]
  },
  {
   "cell_type": "code",
   "execution_count": 14,
   "metadata": {
    "colab": {
     "base_uri": "https://localhost:8080/",
     "height": 817
    },
    "executionInfo": {
     "elapsed": 5044,
     "status": "ok",
     "timestamp": 1608260150166,
     "user": {
      "displayName": "Vijay S",
      "photoUrl": "https://lh4.googleusercontent.com/-Y3kqresK7tQ/AAAAAAAAAAI/AAAAAAAAIow/dmSWQoFZ3gU/s64/photo.jpg",
      "userId": "09127601101212446573"
     },
     "user_tz": 300
    },
    "id": "IoFuvKHyvnEU",
    "outputId": "fb1a0df9-6d3d-4496-a9b6-edf75b3fd2d6"
   },
   "outputs": [
    {
     "output_type": "display_data",
     "data": {
      "application/vnd.plotly.v1+json": {
       "config": {
        "plotlyServerURL": "https://plot.ly"
       },
       "data": [
        {
         "hovertemplate": "<b>%{hovertext}</b><br><br>Symptom Onset=Anytime<br>Cases=%{marker.size}<br>Latitude=%{lat}<br>Longitude=%{lon}<extra></extra>",
         "hovertext": [
          "Algoma Public Health Unit",
          "Brant County Health Unit",
          "Chatham-Kent Health Unit",
          "Durham Region Health Department",
          "Eastern Ontario Health Unit",
          "Grey Bruce Health Unit",
          "Haldimand-Norfolk Health Unit",
          "Haliburton, Kawartha, Pine Ridge District Health Unit",
          "Halton Region Health Department",
          "Hamilton Public Health Services",
          "Hastings and Prince Edward Counties Health Unit",
          "Huron Perth District Health Unit",
          "Kingston, Frontenac and Lennox & Addington Public Health",
          "Lambton Public Health",
          "Leeds, Grenville and Lanark District Health Unit",
          "Middlesex-London Health Unit",
          "Niagara Region Public Health Department",
          "North Bay Parry Sound District Health Unit",
          "Northwestern Health Unit",
          "Ottawa Public Health",
          "Peel Public Health",
          "Peterborough Public Health",
          "Porcupine Health Unit",
          "Region of Waterloo, Public Health",
          "Renfrew County and District Health Unit",
          "Simcoe Muskoka District Health Unit",
          "Southwestern Public Health",
          "Sudbury & District Health Unit",
          "Thunder Bay District Health Unit",
          "Timiskaming Health Unit",
          "Toronto Public Health",
          "Wellington-Dufferin-Guelph Public Health",
          "Windsor-Essex County Health Unit",
          "York Region Public Health Services"
         ],
         "lat": [
          46.5323728,
          43.151811,
          42.403861,
          43.898604999999996,
          45.02915233,
          44.57619612,
          42.84782526,
          43.96817279,
          43.41399692,
          43.2576311,
          44.18667362,
          43.3686615,
          44.2278735,
          42.98641646,
          44.61584261,
          42.98146842,
          43.1165366,
          46.31320706,
          49.76961482,
          45.3456651,
          43.6474713,
          44.30163229,
          48.47251,
          43.46287573,
          45.799406,
          44.41071258,
          42.77780366,
          46.46609195,
          48.4005716,
          47.5092835,
          43.65659125,
          43.5248813,
          42.3087965,
          44.048023
         ],
         "legendgroup": "Anytime",
         "lon": [
          -84.3148358,
          -80.27437415,
          -82.208561,
          -78.940341,
          -74.73629779,
          -80.94097993,
          -80.30381491,
          -78.28579239,
          -79.74479581,
          -79.87134089,
          -77.39144554,
          -81.00191283,
          -76.5252108,
          -82.40480836,
          -75.70283308,
          -81.25401572,
          -79.2412197,
          -79.46784050000001,
          -94.48825435,
          -75.7639122,
          -79.7088933,
          -78.32134748,
          -81.32875,
          -80.52091315,
          -77.118727,
          -79.68630597,
          -81.15115646,
          -80.99805884,
          -89.25885079999999,
          -79.681632,
          -79.37935801,
          -80.2337433,
          -83.0336705,
          -79.480239
         ],
         "marker": {
          "color": "maroon",
          "size": [
           1,
           114,
           36,
           697,
           153,
           27,
           65,
           46,
           644,
           895,
           32,
           72,
           95,
           49,
           68,
           505,
           458,
           14,
           2,
           457,
           4331,
           19,
           3,
           504,
           21,
           420,
           178,
           14,
           82,
           7,
           5606,
           300,
           997,
           1295
          ],
          "sizemode": "area",
          "sizeref": 7.150510204081633
         },
         "mode": "markers",
         "name": "Anytime",
         "showlegend": true,
         "subplot": "mapbox",
         "type": "scattermapbox"
        },
        {
         "hovertemplate": "<b>%{hovertext}</b><br><br>Symptom Onset=Last 14 days<br>Cases=%{marker.size}<br>Latitude=%{lat}<br>Longitude=%{lon}<extra></extra>",
         "hovertext": [
          "Algoma Public Health Unit",
          "Brant County Health Unit",
          "Chatham-Kent Health Unit",
          "Durham Region Health Department",
          "Eastern Ontario Health Unit",
          "Grey Bruce Health Unit",
          "Haldimand-Norfolk Health Unit",
          "Haliburton, Kawartha, Pine Ridge District Health Unit",
          "Halton Region Health Department",
          "Hamilton Public Health Services",
          "Hastings and Prince Edward Counties Health Unit",
          "Huron Perth District Health Unit",
          "Kingston, Frontenac and Lennox & Addington Public Health",
          "Lambton Public Health",
          "Leeds, Grenville and Lanark District Health Unit",
          "Middlesex-London Health Unit",
          "Niagara Region Public Health Department",
          "North Bay Parry Sound District Health Unit",
          "Northwestern Health Unit",
          "Ottawa Public Health",
          "Peel Public Health",
          "Peterborough Public Health",
          "Porcupine Health Unit",
          "Region of Waterloo, Public Health",
          "Renfrew County and District Health Unit",
          "Simcoe Muskoka District Health Unit",
          "Southwestern Public Health",
          "Sudbury & District Health Unit",
          "Thunder Bay District Health Unit",
          "Timiskaming Health Unit",
          "Toronto Public Health",
          "Wellington-Dufferin-Guelph Public Health",
          "Windsor-Essex County Health Unit",
          "York Region Public Health Services"
         ],
         "lat": [
          46.5323728,
          43.151811,
          42.403861,
          43.898604999999996,
          45.02915233,
          44.57619612,
          42.84782526,
          43.96817279,
          43.41399692,
          43.2576311,
          44.18667362,
          43.3686615,
          44.2278735,
          42.98641646,
          44.61584261,
          42.98146842,
          43.1165366,
          46.31320706,
          49.76961482,
          45.3456651,
          43.6474713,
          44.30163229,
          48.47251,
          43.46287573,
          45.799406,
          44.41071258,
          42.77780366,
          46.46609195,
          48.4005716,
          47.5092835,
          43.65659125,
          43.5248813,
          42.3087965,
          44.048023
         ],
         "legendgroup": "Last 14 days",
         "lon": [
          -84.3148358,
          -80.27437415,
          -82.208561,
          -78.940341,
          -74.73629779,
          -80.94097993,
          -80.30381491,
          -78.28579239,
          -79.74479581,
          -79.87134089,
          -77.39144554,
          -81.00191283,
          -76.5252108,
          -82.40480836,
          -75.70283308,
          -81.25401572,
          -79.2412197,
          -79.46784050000001,
          -94.48825435,
          -75.7639122,
          -79.7088933,
          -78.32134748,
          -81.32875,
          -80.52091315,
          -77.118727,
          -79.68630597,
          -81.15115646,
          -80.99805884,
          -89.25885079999999,
          -79.681632,
          -79.37935801,
          -80.2337433,
          -83.0336705,
          -79.480239
         ],
         "marker": {
          "color": "darkorange",
          "size": [
           1,
           107,
           30,
           616,
           135,
           25,
           54,
           44,
           528,
           846,
           31,
           65,
           90,
           45,
           67,
           437,
           429,
           13,
           2,
           428,
           3528,
           17,
           3,
           478,
           16,
           348,
           163,
           11,
           69,
           6,
           4562,
           282,
           932,
           1201
          ],
          "sizemode": "area",
          "sizeref": 7.150510204081633
         },
         "mode": "markers",
         "name": "Last 14 days",
         "showlegend": true,
         "subplot": "mapbox",
         "type": "scattermapbox"
        },
        {
         "hovertemplate": "<b>%{hovertext}</b><br><br>Symptom Onset=Last 7 days<br>Cases=%{marker.size}<br>Latitude=%{lat}<br>Longitude=%{lon}<extra></extra>",
         "hovertext": [
          "Algoma Public Health Unit",
          "Brant County Health Unit",
          "Chatham-Kent Health Unit",
          "Durham Region Health Department",
          "Eastern Ontario Health Unit",
          "Grey Bruce Health Unit",
          "Haldimand-Norfolk Health Unit",
          "Haliburton, Kawartha, Pine Ridge District Health Unit",
          "Halton Region Health Department",
          "Hamilton Public Health Services",
          "Hastings and Prince Edward Counties Health Unit",
          "Huron Perth District Health Unit",
          "Kingston, Frontenac and Lennox & Addington Public Health",
          "Lambton Public Health",
          "Leeds, Grenville and Lanark District Health Unit",
          "Middlesex-London Health Unit",
          "Niagara Region Public Health Department",
          "North Bay Parry Sound District Health Unit",
          "Ottawa Public Health",
          "Peel Public Health",
          "Peterborough Public Health",
          "Porcupine Health Unit",
          "Region of Waterloo, Public Health",
          "Renfrew County and District Health Unit",
          "Simcoe Muskoka District Health Unit",
          "Southwestern Public Health",
          "Sudbury & District Health Unit",
          "Thunder Bay District Health Unit",
          "Timiskaming Health Unit",
          "Toronto Public Health",
          "Wellington-Dufferin-Guelph Public Health",
          "Windsor-Essex County Health Unit",
          "York Region Public Health Services"
         ],
         "lat": [
          46.5323728,
          43.151811,
          42.403861,
          43.898604999999996,
          45.02915233,
          44.57619612,
          42.84782526,
          43.96817279,
          43.41399692,
          43.2576311,
          44.18667362,
          43.3686615,
          44.2278735,
          42.98641646,
          44.61584261,
          42.98146842,
          43.1165366,
          46.31320706,
          45.3456651,
          43.6474713,
          44.30163229,
          48.47251,
          43.46287573,
          45.799406,
          44.41071258,
          42.77780366,
          46.46609195,
          48.4005716,
          47.5092835,
          43.65659125,
          43.5248813,
          42.3087965,
          44.048023
         ],
         "legendgroup": "Last 7 days",
         "lon": [
          -84.3148358,
          -80.27437415,
          -82.208561,
          -78.940341,
          -74.73629779,
          -80.94097993,
          -80.30381491,
          -78.28579239,
          -79.74479581,
          -79.87134089,
          -77.39144554,
          -81.00191283,
          -76.5252108,
          -82.40480836,
          -75.70283308,
          -81.25401572,
          -79.2412197,
          -79.46784050000001,
          -75.7639122,
          -79.7088933,
          -78.32134748,
          -81.32875,
          -80.52091315,
          -77.118727,
          -79.68630597,
          -81.15115646,
          -80.99805884,
          -89.25885079999999,
          -79.681632,
          -79.37935801,
          -80.2337433,
          -83.0336705,
          -79.480239
         ],
         "marker": {
          "color": "yellow",
          "size": [
           1,
           34,
           10,
           187,
           29,
           10,
           18,
           13,
           146,
           329,
           9,
           17,
           37,
           14,
           20,
           167,
           192,
           8,
           190,
           844,
           5,
           1,
           167,
           6,
           107,
           55,
           5,
           26,
           1,
           1180,
           113,
           346,
           502
          ],
          "sizemode": "area",
          "sizeref": 7.150510204081633
         },
         "mode": "markers",
         "name": "Last 7 days",
         "showlegend": true,
         "subplot": "mapbox",
         "type": "scattermapbox"
        },
        {
         "hovertemplate": "<b>%{hovertext}</b><br><br>Symptom Onset=Last 5 days<br>Cases=%{marker.size}<br>Latitude=%{lat}<br>Longitude=%{lon}<extra></extra>",
         "hovertext": [
          "Algoma Public Health Unit",
          "Brant County Health Unit",
          "Chatham-Kent Health Unit",
          "Durham Region Health Department",
          "Eastern Ontario Health Unit",
          "Grey Bruce Health Unit",
          "Haldimand-Norfolk Health Unit",
          "Haliburton, Kawartha, Pine Ridge District Health Unit",
          "Halton Region Health Department",
          "Hamilton Public Health Services",
          "Hastings and Prince Edward Counties Health Unit",
          "Huron Perth District Health Unit",
          "Kingston, Frontenac and Lennox & Addington Public Health",
          "Lambton Public Health",
          "Leeds, Grenville and Lanark District Health Unit",
          "Middlesex-London Health Unit",
          "Niagara Region Public Health Department",
          "North Bay Parry Sound District Health Unit",
          "Ottawa Public Health",
          "Peel Public Health",
          "Peterborough Public Health",
          "Region of Waterloo, Public Health",
          "Renfrew County and District Health Unit",
          "Simcoe Muskoka District Health Unit",
          "Southwestern Public Health",
          "Sudbury & District Health Unit",
          "Thunder Bay District Health Unit",
          "Timiskaming Health Unit",
          "Toronto Public Health",
          "Wellington-Dufferin-Guelph Public Health",
          "Windsor-Essex County Health Unit",
          "York Region Public Health Services"
         ],
         "lat": [
          46.5323728,
          43.151811,
          42.403861,
          43.898604999999996,
          45.02915233,
          44.57619612,
          42.84782526,
          43.96817279,
          43.41399692,
          43.2576311,
          44.18667362,
          43.3686615,
          44.2278735,
          42.98641646,
          44.61584261,
          42.98146842,
          43.1165366,
          46.31320706,
          45.3456651,
          43.6474713,
          44.30163229,
          43.46287573,
          45.799406,
          44.41071258,
          42.77780366,
          46.46609195,
          48.4005716,
          47.5092835,
          43.65659125,
          43.5248813,
          42.3087965,
          44.048023
         ],
         "legendgroup": "Last 5 days",
         "lon": [
          -84.3148358,
          -80.27437415,
          -82.208561,
          -78.940341,
          -74.73629779,
          -80.94097993,
          -80.30381491,
          -78.28579239,
          -79.74479581,
          -79.87134089,
          -77.39144554,
          -81.00191283,
          -76.5252108,
          -82.40480836,
          -75.70283308,
          -81.25401572,
          -79.2412197,
          -79.46784050000001,
          -75.7639122,
          -79.7088933,
          -78.32134748,
          -80.52091315,
          -77.118727,
          -79.68630597,
          -81.15115646,
          -80.99805884,
          -89.25885079999999,
          -79.681632,
          -79.37935801,
          -80.2337433,
          -83.0336705,
          -79.480239
         ],
         "marker": {
          "color": "grey",
          "size": [
           1,
           18,
           5,
           50,
           6,
           3,
           12,
           5,
           81,
           146,
           3,
           4,
           20,
           1,
           11,
           86,
           128,
           4,
           102,
           384,
           2,
           95,
           4,
           53,
           21,
           1,
           15,
           1,
           432,
           49,
           122,
           221
          ],
          "sizemode": "area",
          "sizeref": 7.150510204081633
         },
         "mode": "markers",
         "name": "Last 5 days",
         "showlegend": true,
         "subplot": "mapbox",
         "type": "scattermapbox"
        }
       ],
       "layout": {
        "height": 800,
        "legend": {
         "itemsizing": "constant",
         "title": {
          "text": "Symptom Onset"
         },
         "tracegroupgap": 0
        },
        "mapbox": {
         "center": {
          "lat": 45,
          "lon": -79.4
         },
         "domain": {
          "x": [
           0,
           1
          ],
          "y": [
           0,
           1
          ]
         },
         "style": "open-street-map",
         "zoom": 5.4
        },
        "template": {
         "data": {
          "bar": [
           {
            "error_x": {
             "color": "#2a3f5f"
            },
            "error_y": {
             "color": "#2a3f5f"
            },
            "marker": {
             "line": {
              "color": "#E5ECF6",
              "width": 0.5
             }
            },
            "type": "bar"
           }
          ],
          "barpolar": [
           {
            "marker": {
             "line": {
              "color": "#E5ECF6",
              "width": 0.5
             }
            },
            "type": "barpolar"
           }
          ],
          "carpet": [
           {
            "aaxis": {
             "endlinecolor": "#2a3f5f",
             "gridcolor": "white",
             "linecolor": "white",
             "minorgridcolor": "white",
             "startlinecolor": "#2a3f5f"
            },
            "baxis": {
             "endlinecolor": "#2a3f5f",
             "gridcolor": "white",
             "linecolor": "white",
             "minorgridcolor": "white",
             "startlinecolor": "#2a3f5f"
            },
            "type": "carpet"
           }
          ],
          "choropleth": [
           {
            "colorbar": {
             "outlinewidth": 0,
             "ticks": ""
            },
            "type": "choropleth"
           }
          ],
          "contour": [
           {
            "colorbar": {
             "outlinewidth": 0,
             "ticks": ""
            },
            "colorscale": [
             [
              0,
              "#0d0887"
             ],
             [
              0.1111111111111111,
              "#46039f"
             ],
             [
              0.2222222222222222,
              "#7201a8"
             ],
             [
              0.3333333333333333,
              "#9c179e"
             ],
             [
              0.4444444444444444,
              "#bd3786"
             ],
             [
              0.5555555555555556,
              "#d8576b"
             ],
             [
              0.6666666666666666,
              "#ed7953"
             ],
             [
              0.7777777777777778,
              "#fb9f3a"
             ],
             [
              0.8888888888888888,
              "#fdca26"
             ],
             [
              1,
              "#f0f921"
             ]
            ],
            "type": "contour"
           }
          ],
          "contourcarpet": [
           {
            "colorbar": {
             "outlinewidth": 0,
             "ticks": ""
            },
            "type": "contourcarpet"
           }
          ],
          "heatmap": [
           {
            "colorbar": {
             "outlinewidth": 0,
             "ticks": ""
            },
            "colorscale": [
             [
              0,
              "#0d0887"
             ],
             [
              0.1111111111111111,
              "#46039f"
             ],
             [
              0.2222222222222222,
              "#7201a8"
             ],
             [
              0.3333333333333333,
              "#9c179e"
             ],
             [
              0.4444444444444444,
              "#bd3786"
             ],
             [
              0.5555555555555556,
              "#d8576b"
             ],
             [
              0.6666666666666666,
              "#ed7953"
             ],
             [
              0.7777777777777778,
              "#fb9f3a"
             ],
             [
              0.8888888888888888,
              "#fdca26"
             ],
             [
              1,
              "#f0f921"
             ]
            ],
            "type": "heatmap"
           }
          ],
          "heatmapgl": [
           {
            "colorbar": {
             "outlinewidth": 0,
             "ticks": ""
            },
            "colorscale": [
             [
              0,
              "#0d0887"
             ],
             [
              0.1111111111111111,
              "#46039f"
             ],
             [
              0.2222222222222222,
              "#7201a8"
             ],
             [
              0.3333333333333333,
              "#9c179e"
             ],
             [
              0.4444444444444444,
              "#bd3786"
             ],
             [
              0.5555555555555556,
              "#d8576b"
             ],
             [
              0.6666666666666666,
              "#ed7953"
             ],
             [
              0.7777777777777778,
              "#fb9f3a"
             ],
             [
              0.8888888888888888,
              "#fdca26"
             ],
             [
              1,
              "#f0f921"
             ]
            ],
            "type": "heatmapgl"
           }
          ],
          "histogram": [
           {
            "marker": {
             "colorbar": {
              "outlinewidth": 0,
              "ticks": ""
             }
            },
            "type": "histogram"
           }
          ],
          "histogram2d": [
           {
            "colorbar": {
             "outlinewidth": 0,
             "ticks": ""
            },
            "colorscale": [
             [
              0,
              "#0d0887"
             ],
             [
              0.1111111111111111,
              "#46039f"
             ],
             [
              0.2222222222222222,
              "#7201a8"
             ],
             [
              0.3333333333333333,
              "#9c179e"
             ],
             [
              0.4444444444444444,
              "#bd3786"
             ],
             [
              0.5555555555555556,
              "#d8576b"
             ],
             [
              0.6666666666666666,
              "#ed7953"
             ],
             [
              0.7777777777777778,
              "#fb9f3a"
             ],
             [
              0.8888888888888888,
              "#fdca26"
             ],
             [
              1,
              "#f0f921"
             ]
            ],
            "type": "histogram2d"
           }
          ],
          "histogram2dcontour": [
           {
            "colorbar": {
             "outlinewidth": 0,
             "ticks": ""
            },
            "colorscale": [
             [
              0,
              "#0d0887"
             ],
             [
              0.1111111111111111,
              "#46039f"
             ],
             [
              0.2222222222222222,
              "#7201a8"
             ],
             [
              0.3333333333333333,
              "#9c179e"
             ],
             [
              0.4444444444444444,
              "#bd3786"
             ],
             [
              0.5555555555555556,
              "#d8576b"
             ],
             [
              0.6666666666666666,
              "#ed7953"
             ],
             [
              0.7777777777777778,
              "#fb9f3a"
             ],
             [
              0.8888888888888888,
              "#fdca26"
             ],
             [
              1,
              "#f0f921"
             ]
            ],
            "type": "histogram2dcontour"
           }
          ],
          "mesh3d": [
           {
            "colorbar": {
             "outlinewidth": 0,
             "ticks": ""
            },
            "type": "mesh3d"
           }
          ],
          "parcoords": [
           {
            "line": {
             "colorbar": {
              "outlinewidth": 0,
              "ticks": ""
             }
            },
            "type": "parcoords"
           }
          ],
          "pie": [
           {
            "automargin": true,
            "type": "pie"
           }
          ],
          "scatter": [
           {
            "marker": {
             "colorbar": {
              "outlinewidth": 0,
              "ticks": ""
             }
            },
            "type": "scatter"
           }
          ],
          "scatter3d": [
           {
            "line": {
             "colorbar": {
              "outlinewidth": 0,
              "ticks": ""
             }
            },
            "marker": {
             "colorbar": {
              "outlinewidth": 0,
              "ticks": ""
             }
            },
            "type": "scatter3d"
           }
          ],
          "scattercarpet": [
           {
            "marker": {
             "colorbar": {
              "outlinewidth": 0,
              "ticks": ""
             }
            },
            "type": "scattercarpet"
           }
          ],
          "scattergeo": [
           {
            "marker": {
             "colorbar": {
              "outlinewidth": 0,
              "ticks": ""
             }
            },
            "type": "scattergeo"
           }
          ],
          "scattergl": [
           {
            "marker": {
             "colorbar": {
              "outlinewidth": 0,
              "ticks": ""
             }
            },
            "type": "scattergl"
           }
          ],
          "scattermapbox": [
           {
            "marker": {
             "colorbar": {
              "outlinewidth": 0,
              "ticks": ""
             }
            },
            "type": "scattermapbox"
           }
          ],
          "scatterpolar": [
           {
            "marker": {
             "colorbar": {
              "outlinewidth": 0,
              "ticks": ""
             }
            },
            "type": "scatterpolar"
           }
          ],
          "scatterpolargl": [
           {
            "marker": {
             "colorbar": {
              "outlinewidth": 0,
              "ticks": ""
             }
            },
            "type": "scatterpolargl"
           }
          ],
          "scatterternary": [
           {
            "marker": {
             "colorbar": {
              "outlinewidth": 0,
              "ticks": ""
             }
            },
            "type": "scatterternary"
           }
          ],
          "surface": [
           {
            "colorbar": {
             "outlinewidth": 0,
             "ticks": ""
            },
            "colorscale": [
             [
              0,
              "#0d0887"
             ],
             [
              0.1111111111111111,
              "#46039f"
             ],
             [
              0.2222222222222222,
              "#7201a8"
             ],
             [
              0.3333333333333333,
              "#9c179e"
             ],
             [
              0.4444444444444444,
              "#bd3786"
             ],
             [
              0.5555555555555556,
              "#d8576b"
             ],
             [
              0.6666666666666666,
              "#ed7953"
             ],
             [
              0.7777777777777778,
              "#fb9f3a"
             ],
             [
              0.8888888888888888,
              "#fdca26"
             ],
             [
              1,
              "#f0f921"
             ]
            ],
            "type": "surface"
           }
          ],
          "table": [
           {
            "cells": {
             "fill": {
              "color": "#EBF0F8"
             },
             "line": {
              "color": "white"
             }
            },
            "header": {
             "fill": {
              "color": "#C8D4E3"
             },
             "line": {
              "color": "white"
             }
            },
            "type": "table"
           }
          ]
         },
         "layout": {
          "annotationdefaults": {
           "arrowcolor": "#2a3f5f",
           "arrowhead": 0,
           "arrowwidth": 1
          },
          "coloraxis": {
           "colorbar": {
            "outlinewidth": 0,
            "ticks": ""
           }
          },
          "colorscale": {
           "diverging": [
            [
             0,
             "#8e0152"
            ],
            [
             0.1,
             "#c51b7d"
            ],
            [
             0.2,
             "#de77ae"
            ],
            [
             0.3,
             "#f1b6da"
            ],
            [
             0.4,
             "#fde0ef"
            ],
            [
             0.5,
             "#f7f7f7"
            ],
            [
             0.6,
             "#e6f5d0"
            ],
            [
             0.7,
             "#b8e186"
            ],
            [
             0.8,
             "#7fbc41"
            ],
            [
             0.9,
             "#4d9221"
            ],
            [
             1,
             "#276419"
            ]
           ],
           "sequential": [
            [
             0,
             "#0d0887"
            ],
            [
             0.1111111111111111,
             "#46039f"
            ],
            [
             0.2222222222222222,
             "#7201a8"
            ],
            [
             0.3333333333333333,
             "#9c179e"
            ],
            [
             0.4444444444444444,
             "#bd3786"
            ],
            [
             0.5555555555555556,
             "#d8576b"
            ],
            [
             0.6666666666666666,
             "#ed7953"
            ],
            [
             0.7777777777777778,
             "#fb9f3a"
            ],
            [
             0.8888888888888888,
             "#fdca26"
            ],
            [
             1,
             "#f0f921"
            ]
           ],
           "sequentialminus": [
            [
             0,
             "#0d0887"
            ],
            [
             0.1111111111111111,
             "#46039f"
            ],
            [
             0.2222222222222222,
             "#7201a8"
            ],
            [
             0.3333333333333333,
             "#9c179e"
            ],
            [
             0.4444444444444444,
             "#bd3786"
            ],
            [
             0.5555555555555556,
             "#d8576b"
            ],
            [
             0.6666666666666666,
             "#ed7953"
            ],
            [
             0.7777777777777778,
             "#fb9f3a"
            ],
            [
             0.8888888888888888,
             "#fdca26"
            ],
            [
             1,
             "#f0f921"
            ]
           ]
          },
          "colorway": [
           "#636efa",
           "#EF553B",
           "#00cc96",
           "#ab63fa",
           "#FFA15A",
           "#19d3f3",
           "#FF6692",
           "#B6E880",
           "#FF97FF",
           "#FECB52"
          ],
          "font": {
           "color": "#2a3f5f"
          },
          "geo": {
           "bgcolor": "white",
           "lakecolor": "white",
           "landcolor": "#E5ECF6",
           "showlakes": true,
           "showland": true,
           "subunitcolor": "white"
          },
          "hoverlabel": {
           "align": "left"
          },
          "hovermode": "closest",
          "mapbox": {
           "style": "light"
          },
          "paper_bgcolor": "white",
          "plot_bgcolor": "#E5ECF6",
          "polar": {
           "angularaxis": {
            "gridcolor": "white",
            "linecolor": "white",
            "ticks": ""
           },
           "bgcolor": "#E5ECF6",
           "radialaxis": {
            "gridcolor": "white",
            "linecolor": "white",
            "ticks": ""
           }
          },
          "scene": {
           "xaxis": {
            "backgroundcolor": "#E5ECF6",
            "gridcolor": "white",
            "gridwidth": 2,
            "linecolor": "white",
            "showbackground": true,
            "ticks": "",
            "zerolinecolor": "white"
           },
           "yaxis": {
            "backgroundcolor": "#E5ECF6",
            "gridcolor": "white",
            "gridwidth": 2,
            "linecolor": "white",
            "showbackground": true,
            "ticks": "",
            "zerolinecolor": "white"
           },
           "zaxis": {
            "backgroundcolor": "#E5ECF6",
            "gridcolor": "white",
            "gridwidth": 2,
            "linecolor": "white",
            "showbackground": true,
            "ticks": "",
            "zerolinecolor": "white"
           }
          },
          "shapedefaults": {
           "line": {
            "color": "#2a3f5f"
           }
          },
          "ternary": {
           "aaxis": {
            "gridcolor": "white",
            "linecolor": "white",
            "ticks": ""
           },
           "baxis": {
            "gridcolor": "white",
            "linecolor": "white",
            "ticks": ""
           },
           "bgcolor": "#E5ECF6",
           "caxis": {
            "gridcolor": "white",
            "linecolor": "white",
            "ticks": ""
           }
          },
          "title": {
           "x": 0.05
          },
          "xaxis": {
           "automargin": true,
           "gridcolor": "white",
           "linecolor": "white",
           "ticks": "",
           "title": {
            "standoff": 15
           },
           "zerolinecolor": "white",
           "zerolinewidth": 2
          },
          "yaxis": {
           "automargin": true,
           "gridcolor": "white",
           "linecolor": "white",
           "ticks": "",
           "title": {
            "standoff": 15
           },
           "zerolinecolor": "white",
           "zerolinewidth": 2
          }
         }
        },
        "title": {
         "text": "Currently Active (Not Recovered) Cases per Public Health Jurisdiction"
        }
       }
      }
     },
     "metadata": {}
    }
   ],
   "source": [
    "#hide_input\n",
    "activemap = px.scatter_mapbox(df_active, \n",
    "                              lat=\"Latitude\", \n",
    "                              lon=\"Longitude\",  \n",
    "                              color=\"Symptom_Onset\", \n",
    "                              color_discrete_sequence=[\"maroon\", \"darkorange\", \"yellow\", \"grey\"], \n",
    "                              size=\"Cases\",\n",
    "                              hover_name=\"Reporting_PHU\", \n",
    "                              size_max=28, \n",
    "                              zoom=5.4,\n",
    "                              center=dict(lat=45, lon=-79.4), \n",
    "                              height=800, \n",
    "                              #width=900,\n",
    "                              labels={\"Symptom_Onset\" : \"Symptom Onset\"},\n",
    "                              # tracking  currently active cases based on PHU\n",
    "                              title=\"Currently Active (Not Recovered) Cases per Public Health Jurisdiction\"\n",
    "                              )\n",
    "activemap.update_layout(mapbox_style=\"open-street-map\")\n",
    "#activemap.show()\n",
    "#HTML(activemap.to_html())"
   ]
  },
  {
   "cell_type": "code",
   "execution_count": 15,
   "metadata": {
    "executionInfo": {
     "elapsed": 5037,
     "status": "ok",
     "timestamp": 1608260150168,
     "user": {
      "displayName": "Vijay S",
      "photoUrl": "https://lh4.googleusercontent.com/-Y3kqresK7tQ/AAAAAAAAAAI/AAAAAAAAIow/dmSWQoFZ3gU/s64/photo.jpg",
      "userId": "09127601101212446573"
     },
     "user_tz": 300
    },
    "id": "0tvLSU5aZzgZ"
   },
   "outputs": [],
   "source": [
    "#hide\n",
    "# analyze_report = sv.analyze(src)\n",
    "# analyze_report.show_html('report.html', open_browser=False)\n",
    "# import IPython\n",
    "# IPython.display.HTML('report.html')"
   ]
  },
  {
   "cell_type": "code",
   "execution_count": 16,
   "metadata": {
    "colab": {
     "base_uri": "https://localhost:8080/",
     "height": 430
    },
    "executionInfo": {
     "elapsed": 5028,
     "status": "ok",
     "timestamp": 1608260150169,
     "user": {
      "displayName": "Vijay S",
      "photoUrl": "https://lh4.googleusercontent.com/-Y3kqresK7tQ/AAAAAAAAAAI/AAAAAAAAIow/dmSWQoFZ3gU/s64/photo.jpg",
      "userId": "09127601101212446573"
     },
     "user_tz": 300
    },
    "id": "PjexfxDsaEoy",
    "outputId": "3e9b0d31-e8d7-45ec-b39a-4271dfd62f05"
   },
   "outputs": [
    {
     "output_type": "execute_result",
     "data": {
      "text/plain": [
       "    Reported Date  Confirmed Negative  Presumptive Negative  \\\n",
       "313    2020-12-15                 NaN                   NaN   \n",
       "314    2020-12-16                 NaN                   NaN   \n",
       "315    2020-12-17                 NaN                   NaN   \n",
       "316    2020-12-18                 NaN                   NaN   \n",
       "317    2020-12-19                 NaN                   NaN   \n",
       "\n",
       "     Presumptive Positive  Confirmed Positive  Resolved  Deaths  Total Cases  \\\n",
       "313                   NaN             17031.0  123373.0  3992.0     144396.0   \n",
       "314                   NaN             17084.0  125416.0  4035.0     146535.0   \n",
       "315                   NaN             17484.0  127425.0  4058.0     148967.0   \n",
       "316                   NaN             17742.0  129417.0  4098.0     151257.0   \n",
       "317                   NaN             18207.0  131282.0  4125.0     153614.0   \n",
       "\n",
       "     Total patients approved for testing as of Reporting Date  \\\n",
       "313                                          7059300.0          \n",
       "314                                          7108489.0          \n",
       "315                                          7166667.0          \n",
       "316                                          7234913.0          \n",
       "317                                          7302120.0          \n",
       "\n",
       "     Total tests completed in the last day  \\\n",
       "313                                39566.0   \n",
       "314                                49189.0   \n",
       "315                                58178.0   \n",
       "316                                68246.0   \n",
       "317                                67207.0   \n",
       "\n",
       "     Percent positive tests in last day  Under Investigation  \\\n",
       "313                                 5.4                45770   \n",
       "314                                 5.1                65597   \n",
       "315                                 4.0                78631   \n",
       "316                                 3.9                81235   \n",
       "317                                 4.2                78147   \n",
       "\n",
       "     Number of patients hospitalized with COVID-19  \\\n",
       "313                                          921.0   \n",
       "314                                          932.0   \n",
       "315                                          919.0   \n",
       "316                                          877.0   \n",
       "317                                          895.0   \n",
       "\n",
       "     Number of patients in ICU with COVID-19  \\\n",
       "313                                    249.0   \n",
       "314                                    256.0   \n",
       "315                                    263.0   \n",
       "316                                    261.0   \n",
       "317                                    256.0   \n",
       "\n",
       "     Number of patients in ICU on a ventilator with COVID-19  \\\n",
       "313                                              156.0         \n",
       "314                                              157.0         \n",
       "315                                              172.0         \n",
       "316                                              168.0         \n",
       "317                                              146.0         \n",
       "\n",
       "     Total Positive LTC Resident Cases  Total Positive LTC HCW Cases  \\\n",
       "313                             9378.0                        3686.0   \n",
       "314                             9462.0                        3717.0   \n",
       "315                             9538.0                        3750.0   \n",
       "316                             9625.0                        3809.0   \n",
       "317                             9755.0                        3840.0   \n",
       "\n",
       "     Total LTC Resident Deaths  Total LTC HCW Deaths  \n",
       "313                     2491.0                   8.0  \n",
       "314                     2513.0                   8.0  \n",
       "315                     2526.0                   8.0  \n",
       "316                     2537.0                   8.0  \n",
       "317                     2546.0                   8.0  "
      ],
      "text/html": "<div>\n<style scoped>\n    .dataframe tbody tr th:only-of-type {\n        vertical-align: middle;\n    }\n\n    .dataframe tbody tr th {\n        vertical-align: top;\n    }\n\n    .dataframe thead th {\n        text-align: right;\n    }\n</style>\n<table border=\"1\" class=\"dataframe\">\n  <thead>\n    <tr style=\"text-align: right;\">\n      <th></th>\n      <th>Reported Date</th>\n      <th>Confirmed Negative</th>\n      <th>Presumptive Negative</th>\n      <th>Presumptive Positive</th>\n      <th>Confirmed Positive</th>\n      <th>Resolved</th>\n      <th>Deaths</th>\n      <th>Total Cases</th>\n      <th>Total patients approved for testing as of Reporting Date</th>\n      <th>Total tests completed in the last day</th>\n      <th>Percent positive tests in last day</th>\n      <th>Under Investigation</th>\n      <th>Number of patients hospitalized with COVID-19</th>\n      <th>Number of patients in ICU with COVID-19</th>\n      <th>Number of patients in ICU on a ventilator with COVID-19</th>\n      <th>Total Positive LTC Resident Cases</th>\n      <th>Total Positive LTC HCW Cases</th>\n      <th>Total LTC Resident Deaths</th>\n      <th>Total LTC HCW Deaths</th>\n    </tr>\n  </thead>\n  <tbody>\n    <tr>\n      <th>313</th>\n      <td>2020-12-15</td>\n      <td>NaN</td>\n      <td>NaN</td>\n      <td>NaN</td>\n      <td>17031.0</td>\n      <td>123373.0</td>\n      <td>3992.0</td>\n      <td>144396.0</td>\n      <td>7059300.0</td>\n      <td>39566.0</td>\n      <td>5.4</td>\n      <td>45770</td>\n      <td>921.0</td>\n      <td>249.0</td>\n      <td>156.0</td>\n      <td>9378.0</td>\n      <td>3686.0</td>\n      <td>2491.0</td>\n      <td>8.0</td>\n    </tr>\n    <tr>\n      <th>314</th>\n      <td>2020-12-16</td>\n      <td>NaN</td>\n      <td>NaN</td>\n      <td>NaN</td>\n      <td>17084.0</td>\n      <td>125416.0</td>\n      <td>4035.0</td>\n      <td>146535.0</td>\n      <td>7108489.0</td>\n      <td>49189.0</td>\n      <td>5.1</td>\n      <td>65597</td>\n      <td>932.0</td>\n      <td>256.0</td>\n      <td>157.0</td>\n      <td>9462.0</td>\n      <td>3717.0</td>\n      <td>2513.0</td>\n      <td>8.0</td>\n    </tr>\n    <tr>\n      <th>315</th>\n      <td>2020-12-17</td>\n      <td>NaN</td>\n      <td>NaN</td>\n      <td>NaN</td>\n      <td>17484.0</td>\n      <td>127425.0</td>\n      <td>4058.0</td>\n      <td>148967.0</td>\n      <td>7166667.0</td>\n      <td>58178.0</td>\n      <td>4.0</td>\n      <td>78631</td>\n      <td>919.0</td>\n      <td>263.0</td>\n      <td>172.0</td>\n      <td>9538.0</td>\n      <td>3750.0</td>\n      <td>2526.0</td>\n      <td>8.0</td>\n    </tr>\n    <tr>\n      <th>316</th>\n      <td>2020-12-18</td>\n      <td>NaN</td>\n      <td>NaN</td>\n      <td>NaN</td>\n      <td>17742.0</td>\n      <td>129417.0</td>\n      <td>4098.0</td>\n      <td>151257.0</td>\n      <td>7234913.0</td>\n      <td>68246.0</td>\n      <td>3.9</td>\n      <td>81235</td>\n      <td>877.0</td>\n      <td>261.0</td>\n      <td>168.0</td>\n      <td>9625.0</td>\n      <td>3809.0</td>\n      <td>2537.0</td>\n      <td>8.0</td>\n    </tr>\n    <tr>\n      <th>317</th>\n      <td>2020-12-19</td>\n      <td>NaN</td>\n      <td>NaN</td>\n      <td>NaN</td>\n      <td>18207.0</td>\n      <td>131282.0</td>\n      <td>4125.0</td>\n      <td>153614.0</td>\n      <td>7302120.0</td>\n      <td>67207.0</td>\n      <td>4.2</td>\n      <td>78147</td>\n      <td>895.0</td>\n      <td>256.0</td>\n      <td>146.0</td>\n      <td>9755.0</td>\n      <td>3840.0</td>\n      <td>2546.0</td>\n      <td>8.0</td>\n    </tr>\n  </tbody>\n</table>\n</div>"
     },
     "metadata": {},
     "execution_count": 16
    }
   ],
   "source": [
    "#hide\n",
    "src_testing.tail()"
   ]
  },
  {
   "cell_type": "code",
   "execution_count": 17,
   "metadata": {
    "colab": {
     "base_uri": "https://localhost:8080/",
     "height": 713
    },
    "executionInfo": {
     "elapsed": 5015,
     "status": "ok",
     "timestamp": 1608260150170,
     "user": {
      "displayName": "Vijay S",
      "photoUrl": "https://lh4.googleusercontent.com/-Y3kqresK7tQ/AAAAAAAAAAI/AAAAAAAAIow/dmSWQoFZ3gU/s64/photo.jpg",
      "userId": "09127601101212446573"
     },
     "user_tz": 300
    },
    "id": "CCriuvUB9ARc",
    "outputId": "f727b684-f877-4f8e-86ae-259872de94fe"
   },
   "outputs": [
    {
     "output_type": "execute_result",
     "data": {
      "text/plain": [
       "    Reported Date  Confirmed Positive  Resolved  Deaths  Total Cases  \\\n",
       "0      2020-01-26                 0.0       0.0     0.0          0.0   \n",
       "1      2020-01-27                 0.0       0.0     0.0          0.0   \n",
       "2      2020-01-28                 1.0       0.0     0.0          1.0   \n",
       "3      2020-01-30                 2.0       0.0     0.0          2.0   \n",
       "4      2020-01-31                 2.0       0.0     0.0          2.0   \n",
       "..            ...                 ...       ...     ...          ...   \n",
       "313    2020-12-15             17031.0  123373.0  3992.0     144396.0   \n",
       "314    2020-12-16             17084.0  125416.0  4035.0     146535.0   \n",
       "315    2020-12-17             17484.0  127425.0  4058.0     148967.0   \n",
       "316    2020-12-18             17742.0  129417.0  4098.0     151257.0   \n",
       "317    2020-12-19             18207.0  131282.0  4125.0     153614.0   \n",
       "\n",
       "     Total tests completed in the last day  \\\n",
       "0                                      0.0   \n",
       "1                                      0.0   \n",
       "2                                      0.0   \n",
       "3                                      0.0   \n",
       "4                                      0.0   \n",
       "..                                     ...   \n",
       "313                                39566.0   \n",
       "314                                49189.0   \n",
       "315                                58178.0   \n",
       "316                                68246.0   \n",
       "317                                67207.0   \n",
       "\n",
       "     Percent positive tests in last day  \\\n",
       "0                                   0.0   \n",
       "1                                   0.0   \n",
       "2                                   0.0   \n",
       "3                                   0.0   \n",
       "4                                   0.0   \n",
       "..                                  ...   \n",
       "313                                 5.4   \n",
       "314                                 5.1   \n",
       "315                                 4.0   \n",
       "316                                 3.9   \n",
       "317                                 4.2   \n",
       "\n",
       "     Number of patients hospitalized with COVID-19  \\\n",
       "0                                              0.0   \n",
       "1                                              0.0   \n",
       "2                                              0.0   \n",
       "3                                              0.0   \n",
       "4                                              0.0   \n",
       "..                                             ...   \n",
       "313                                          921.0   \n",
       "314                                          932.0   \n",
       "315                                          919.0   \n",
       "316                                          877.0   \n",
       "317                                          895.0   \n",
       "\n",
       "     Number of patients in ICU with COVID-19  \\\n",
       "0                                        0.0   \n",
       "1                                        0.0   \n",
       "2                                        0.0   \n",
       "3                                        0.0   \n",
       "4                                        0.0   \n",
       "..                                       ...   \n",
       "313                                    249.0   \n",
       "314                                    256.0   \n",
       "315                                    263.0   \n",
       "316                                    261.0   \n",
       "317                                    256.0   \n",
       "\n",
       "     Number of patients in ICU on a ventilator with COVID-19  ...  \\\n",
       "0                                                  0.0        ...   \n",
       "1                                                  0.0        ...   \n",
       "2                                                  0.0        ...   \n",
       "3                                                  0.0        ...   \n",
       "4                                                  0.0        ...   \n",
       "..                                                 ...        ...   \n",
       "313                                              156.0        ...   \n",
       "314                                              157.0        ...   \n",
       "315                                              172.0        ...   \n",
       "316                                              168.0        ...   \n",
       "317                                              146.0        ...   \n",
       "\n",
       "     Total Positive LTC HCW Cases  Total LTC Resident Deaths  \\\n",
       "0                             0.0                        0.0   \n",
       "1                             0.0                        0.0   \n",
       "2                             0.0                        0.0   \n",
       "3                             0.0                        0.0   \n",
       "4                             0.0                        0.0   \n",
       "..                            ...                        ...   \n",
       "313                        3686.0                     2491.0   \n",
       "314                        3717.0                     2513.0   \n",
       "315                        3750.0                     2526.0   \n",
       "316                        3809.0                     2537.0   \n",
       "317                        3840.0                     2546.0   \n",
       "\n",
       "     Total LTC HCW Deaths  New Cases  New Deaths  Completed Tests Cumulative  \\\n",
       "0                     0.0        NaN         NaN                         0.0   \n",
       "1                     0.0        0.0         0.0                         0.0   \n",
       "2                     0.0        1.0         0.0                         0.0   \n",
       "3                     0.0        1.0         0.0                         0.0   \n",
       "4                     0.0        0.0         0.0                         0.0   \n",
       "..                    ...        ...         ...                         ...   \n",
       "313                   8.0     2275.0        20.0                   6946218.0   \n",
       "314                   8.0     2139.0        43.0                   6995407.0   \n",
       "315                   8.0     2432.0        23.0                   7053585.0   \n",
       "316                   8.0     2290.0        40.0                   7121831.0   \n",
       "317                   8.0     2357.0        27.0                   7189038.0   \n",
       "\n",
       "     New Cases 5 Day Average  New Cases 7 Day Average  \\\n",
       "0                        NaN                      NaN   \n",
       "1                        NaN                      NaN   \n",
       "2                        NaN                      NaN   \n",
       "3                        NaN                      NaN   \n",
       "4                        NaN                      NaN   \n",
       "..                       ...                      ...   \n",
       "313                   1923.0                   1927.0   \n",
       "314                   1981.0                   1962.0   \n",
       "315                   2093.0                   2026.0   \n",
       "316                   2215.0                   2089.0   \n",
       "317                   2299.0                   2159.0   \n",
       "\n",
       "     New Tests 7 Day Average  7 Day Avg Percent Positivity  \n",
       "0                        NaN                           NaN  \n",
       "1                        NaN                           NaN  \n",
       "2                        NaN                           NaN  \n",
       "3                        NaN                           NaN  \n",
       "4                        NaN                           NaN  \n",
       "..                       ...                           ...  \n",
       "313                  56216.0                          3.43  \n",
       "314                  56308.0                          3.48  \n",
       "315                  55789.0                          3.63  \n",
       "316                  56531.0                          3.70  \n",
       "317                  56810.0                          3.80  \n",
       "\n",
       "[318 rows x 21 columns]"
      ],
      "text/html": "<div>\n<style scoped>\n    .dataframe tbody tr th:only-of-type {\n        vertical-align: middle;\n    }\n\n    .dataframe tbody tr th {\n        vertical-align: top;\n    }\n\n    .dataframe thead th {\n        text-align: right;\n    }\n</style>\n<table border=\"1\" class=\"dataframe\">\n  <thead>\n    <tr style=\"text-align: right;\">\n      <th></th>\n      <th>Reported Date</th>\n      <th>Confirmed Positive</th>\n      <th>Resolved</th>\n      <th>Deaths</th>\n      <th>Total Cases</th>\n      <th>Total tests completed in the last day</th>\n      <th>Percent positive tests in last day</th>\n      <th>Number of patients hospitalized with COVID-19</th>\n      <th>Number of patients in ICU with COVID-19</th>\n      <th>Number of patients in ICU on a ventilator with COVID-19</th>\n      <th>...</th>\n      <th>Total Positive LTC HCW Cases</th>\n      <th>Total LTC Resident Deaths</th>\n      <th>Total LTC HCW Deaths</th>\n      <th>New Cases</th>\n      <th>New Deaths</th>\n      <th>Completed Tests Cumulative</th>\n      <th>New Cases 5 Day Average</th>\n      <th>New Cases 7 Day Average</th>\n      <th>New Tests 7 Day Average</th>\n      <th>7 Day Avg Percent Positivity</th>\n    </tr>\n  </thead>\n  <tbody>\n    <tr>\n      <th>0</th>\n      <td>2020-01-26</td>\n      <td>0.0</td>\n      <td>0.0</td>\n      <td>0.0</td>\n      <td>0.0</td>\n      <td>0.0</td>\n      <td>0.0</td>\n      <td>0.0</td>\n      <td>0.0</td>\n      <td>0.0</td>\n      <td>...</td>\n      <td>0.0</td>\n      <td>0.0</td>\n      <td>0.0</td>\n      <td>NaN</td>\n      <td>NaN</td>\n      <td>0.0</td>\n      <td>NaN</td>\n      <td>NaN</td>\n      <td>NaN</td>\n      <td>NaN</td>\n    </tr>\n    <tr>\n      <th>1</th>\n      <td>2020-01-27</td>\n      <td>0.0</td>\n      <td>0.0</td>\n      <td>0.0</td>\n      <td>0.0</td>\n      <td>0.0</td>\n      <td>0.0</td>\n      <td>0.0</td>\n      <td>0.0</td>\n      <td>0.0</td>\n      <td>...</td>\n      <td>0.0</td>\n      <td>0.0</td>\n      <td>0.0</td>\n      <td>0.0</td>\n      <td>0.0</td>\n      <td>0.0</td>\n      <td>NaN</td>\n      <td>NaN</td>\n      <td>NaN</td>\n      <td>NaN</td>\n    </tr>\n    <tr>\n      <th>2</th>\n      <td>2020-01-28</td>\n      <td>1.0</td>\n      <td>0.0</td>\n      <td>0.0</td>\n      <td>1.0</td>\n      <td>0.0</td>\n      <td>0.0</td>\n      <td>0.0</td>\n      <td>0.0</td>\n      <td>0.0</td>\n      <td>...</td>\n      <td>0.0</td>\n      <td>0.0</td>\n      <td>0.0</td>\n      <td>1.0</td>\n      <td>0.0</td>\n      <td>0.0</td>\n      <td>NaN</td>\n      <td>NaN</td>\n      <td>NaN</td>\n      <td>NaN</td>\n    </tr>\n    <tr>\n      <th>3</th>\n      <td>2020-01-30</td>\n      <td>2.0</td>\n      <td>0.0</td>\n      <td>0.0</td>\n      <td>2.0</td>\n      <td>0.0</td>\n      <td>0.0</td>\n      <td>0.0</td>\n      <td>0.0</td>\n      <td>0.0</td>\n      <td>...</td>\n      <td>0.0</td>\n      <td>0.0</td>\n      <td>0.0</td>\n      <td>1.0</td>\n      <td>0.0</td>\n      <td>0.0</td>\n      <td>NaN</td>\n      <td>NaN</td>\n      <td>NaN</td>\n      <td>NaN</td>\n    </tr>\n    <tr>\n      <th>4</th>\n      <td>2020-01-31</td>\n      <td>2.0</td>\n      <td>0.0</td>\n      <td>0.0</td>\n      <td>2.0</td>\n      <td>0.0</td>\n      <td>0.0</td>\n      <td>0.0</td>\n      <td>0.0</td>\n      <td>0.0</td>\n      <td>...</td>\n      <td>0.0</td>\n      <td>0.0</td>\n      <td>0.0</td>\n      <td>0.0</td>\n      <td>0.0</td>\n      <td>0.0</td>\n      <td>NaN</td>\n      <td>NaN</td>\n      <td>NaN</td>\n      <td>NaN</td>\n    </tr>\n    <tr>\n      <th>...</th>\n      <td>...</td>\n      <td>...</td>\n      <td>...</td>\n      <td>...</td>\n      <td>...</td>\n      <td>...</td>\n      <td>...</td>\n      <td>...</td>\n      <td>...</td>\n      <td>...</td>\n      <td>...</td>\n      <td>...</td>\n      <td>...</td>\n      <td>...</td>\n      <td>...</td>\n      <td>...</td>\n      <td>...</td>\n      <td>...</td>\n      <td>...</td>\n      <td>...</td>\n      <td>...</td>\n    </tr>\n    <tr>\n      <th>313</th>\n      <td>2020-12-15</td>\n      <td>17031.0</td>\n      <td>123373.0</td>\n      <td>3992.0</td>\n      <td>144396.0</td>\n      <td>39566.0</td>\n      <td>5.4</td>\n      <td>921.0</td>\n      <td>249.0</td>\n      <td>156.0</td>\n      <td>...</td>\n      <td>3686.0</td>\n      <td>2491.0</td>\n      <td>8.0</td>\n      <td>2275.0</td>\n      <td>20.0</td>\n      <td>6946218.0</td>\n      <td>1923.0</td>\n      <td>1927.0</td>\n      <td>56216.0</td>\n      <td>3.43</td>\n    </tr>\n    <tr>\n      <th>314</th>\n      <td>2020-12-16</td>\n      <td>17084.0</td>\n      <td>125416.0</td>\n      <td>4035.0</td>\n      <td>146535.0</td>\n      <td>49189.0</td>\n      <td>5.1</td>\n      <td>932.0</td>\n      <td>256.0</td>\n      <td>157.0</td>\n      <td>...</td>\n      <td>3717.0</td>\n      <td>2513.0</td>\n      <td>8.0</td>\n      <td>2139.0</td>\n      <td>43.0</td>\n      <td>6995407.0</td>\n      <td>1981.0</td>\n      <td>1962.0</td>\n      <td>56308.0</td>\n      <td>3.48</td>\n    </tr>\n    <tr>\n      <th>315</th>\n      <td>2020-12-17</td>\n      <td>17484.0</td>\n      <td>127425.0</td>\n      <td>4058.0</td>\n      <td>148967.0</td>\n      <td>58178.0</td>\n      <td>4.0</td>\n      <td>919.0</td>\n      <td>263.0</td>\n      <td>172.0</td>\n      <td>...</td>\n      <td>3750.0</td>\n      <td>2526.0</td>\n      <td>8.0</td>\n      <td>2432.0</td>\n      <td>23.0</td>\n      <td>7053585.0</td>\n      <td>2093.0</td>\n      <td>2026.0</td>\n      <td>55789.0</td>\n      <td>3.63</td>\n    </tr>\n    <tr>\n      <th>316</th>\n      <td>2020-12-18</td>\n      <td>17742.0</td>\n      <td>129417.0</td>\n      <td>4098.0</td>\n      <td>151257.0</td>\n      <td>68246.0</td>\n      <td>3.9</td>\n      <td>877.0</td>\n      <td>261.0</td>\n      <td>168.0</td>\n      <td>...</td>\n      <td>3809.0</td>\n      <td>2537.0</td>\n      <td>8.0</td>\n      <td>2290.0</td>\n      <td>40.0</td>\n      <td>7121831.0</td>\n      <td>2215.0</td>\n      <td>2089.0</td>\n      <td>56531.0</td>\n      <td>3.70</td>\n    </tr>\n    <tr>\n      <th>317</th>\n      <td>2020-12-19</td>\n      <td>18207.0</td>\n      <td>131282.0</td>\n      <td>4125.0</td>\n      <td>153614.0</td>\n      <td>67207.0</td>\n      <td>4.2</td>\n      <td>895.0</td>\n      <td>256.0</td>\n      <td>146.0</td>\n      <td>...</td>\n      <td>3840.0</td>\n      <td>2546.0</td>\n      <td>8.0</td>\n      <td>2357.0</td>\n      <td>27.0</td>\n      <td>7189038.0</td>\n      <td>2299.0</td>\n      <td>2159.0</td>\n      <td>56810.0</td>\n      <td>3.80</td>\n    </tr>\n  </tbody>\n</table>\n<p>318 rows × 21 columns</p>\n</div>"
     },
     "metadata": {},
     "execution_count": 17
    }
   ],
   "source": [
    "#hide\n",
    "\n",
    "df_testing = src_testing.drop(['Confirmed Negative',\t'Presumptive Negative',\t'Presumptive Positive',\n",
    "                  'Total patients approved for testing as of Reporting Date',\n",
    "                  'Under Investigation'], axis=1).fillna(0)\n",
    "\n",
    "df_testing['New Cases'] = df_testing['Total Cases'].fillna(0).diff()\n",
    "df_testing['New Deaths'] = df_testing['Deaths'].fillna(0).diff()\n",
    "df_testing['Completed Tests Cumulative'] = df_testing['Total tests completed in the last day'].cumsum()\n",
    "\n",
    "# rolling averages\n",
    "numdays = 7\n",
    "\n",
    "df_testing['New Cases 5 Day Average'] = round(df_testing['New Cases'].rolling(5).mean())\n",
    "df_testing['New Cases 7 Day Average'] = round(df_testing['New Cases'].rolling(numdays).mean())\n",
    "df_testing['New Tests 7 Day Average'] = round(df_testing['Total tests completed in the last day'].rolling(numdays).mean())\n",
    "\n",
    "df_testing['7 Day Avg Percent Positivity'] = round((df_testing['New Cases 7 Day Average'] / df_testing['New Tests 7 Day Average']) *100, 2)\n",
    "\n",
    "df_testing"
   ]
  },
  {
   "cell_type": "markdown",
   "metadata": {
    "id": "WiHSo-TP24qu"
   },
   "source": [
    "# Timeline of Cases"
   ]
  },
  {
   "cell_type": "code",
   "execution_count": 18,
   "metadata": {
    "colab": {
     "base_uri": "https://localhost:8080/",
     "height": 542
    },
    "executionInfo": {
     "elapsed": 5448,
     "status": "ok",
     "timestamp": 1608260150615,
     "user": {
      "displayName": "Vijay S",
      "photoUrl": "https://lh4.googleusercontent.com/-Y3kqresK7tQ/AAAAAAAAAAI/AAAAAAAAIow/dmSWQoFZ3gU/s64/photo.jpg",
      "userId": "09127601101212446573"
     },
     "user_tz": 300
    },
    "id": "7wCDhJ0vfRnB",
    "outputId": "6a19f7a5-780f-4bb8-f6dc-d789cdf248dd"
   },
   "outputs": [
    {
     "output_type": "display_data",
     "data": {
      "application/vnd.plotly.v1+json": {
       "config": {
        "plotlyServerURL": "https://plot.ly"
       },
       "data": [
        {
         "alignmentgroup": "True",
         "hovertemplate": "Reported Date=%{x}<br>New Cases=%{y}<br>% Positivity Rate=%{marker.color}<extra></extra>",
         "legendgroup": "",
         "marker": {
          "color": [
           null,
           null,
           null,
           null,
           null,
           null,
           null,
           null,
           null,
           null,
           null,
           null,
           null,
           null,
           null,
           null,
           null,
           null,
           null,
           null,
           null,
           null,
           null,
           null,
           null,
           null,
           null,
           null,
           null,
           null,
           null,
           null,
           null,
           null,
           null,
           null,
           null,
           null,
           null,
           null,
           null,
           null,
           null,
           null,
           null,
           null,
           null,
           null,
           null,
           null,
           null,
           null,
           null,
           null,
           null,
           null,
           null,
           null,
           null,
           null,
           null,
           null,
           null,
           null,
           null,
           null,
           null,
           null,
           null,
           52.74,
           21.32,
           13.76,
           10.07,
           8.2,
           7.18,
           6.19,
           5.81,
           5.88,
           5.71,
           5.6,
           5.24,
           4.75,
           4.62,
           4.35,
           4,
           3.55,
           3.37,
           3.19,
           3.07,
           2.94,
           2.96,
           2.84,
           2.9,
           2.67,
           2.52,
           2.48,
           2.42,
           2.3,
           2.2,
           2.04,
           2.11,
           2.18,
           2.27,
           2.48,
           2.76,
           3.06,
           3.47,
           3.82,
           4.28,
           4.5,
           4.03,
           3.5,
           3.17,
           2.82,
           2.46,
           2.21,
           2.08,
           2.13,
           2.12,
           2.04,
           1.97,
           2.04,
           2.07,
           1.94,
           1.8,
           1.7,
           1.55,
           1.38,
           1.21,
           1.03,
           0.95,
           0.88,
           0.82,
           0.8,
           0.8,
           0.77,
           0.75,
           0.74,
           0.79,
           0.77,
           0.77,
           0.71,
           0.67,
           0.65,
           0.68,
           0.63,
           0.61,
           0.6,
           0.65,
           0.67,
           0.67,
           0.64,
           0.65,
           0.64,
           0.65,
           0.6,
           0.58,
           0.57,
           0.53,
           0.52,
           0.51,
           0.48,
           0.47,
           0.49,
           0.5,
           0.52,
           0.55,
           0.58,
           0.58,
           0.64,
           0.62,
           0.6,
           0.58,
           0.55,
           0.49,
           0.48,
           0.44,
           0.42,
           0.4,
           0.39,
           0.38,
           0.4,
           0.41,
           0.39,
           0.38,
           0.36,
           0.38,
           0.34,
           0.33,
           0.32,
           0.31,
           0.32,
           0.33,
           0.31,
           0.36,
           0.36,
           0.37,
           0.4,
           0.4,
           0.42,
           0.44,
           0.43,
           0.43,
           0.45,
           0.44,
           0.45,
           0.44,
           0.44,
           0.43,
           0.45,
           0.47,
           0.49,
           0.51,
           0.52,
           0.57,
           0.61,
           0.65,
           0.68,
           0.7,
           0.7,
           0.72,
           0.76,
           0.77,
           0.81,
           0.83,
           0.9,
           0.96,
           0.99,
           1.03,
           1.1,
           1.07,
           1.14,
           1.12,
           1.11,
           1.15,
           1.21,
           1.22,
           1.33,
           1.33,
           1.45,
           1.51,
           1.56,
           1.54,
           1.52,
           1.46,
           1.51,
           1.55,
           1.61,
           1.62,
           1.69,
           1.82,
           1.94,
           2,
           1.96,
           1.95,
           1.98,
           1.98,
           2.06,
           2.09,
           2.12,
           2.15,
           2.23,
           2.4,
           2.49,
           2.49,
           2.54,
           2.61,
           2.63,
           2.67,
           2.66,
           2.71,
           2.79,
           2.87,
           2.89,
           2.93,
           3.02,
           3.16,
           3.28,
           3.37,
           3.44,
           3.61,
           3.78,
           3.87,
           3.77,
           3.79,
           3.78,
           3.82,
           3.65,
           3.56,
           3.53,
           3.58,
           3.57,
           3.47,
           3.43,
           3.45,
           3.48,
           3.46,
           3.44,
           3.46,
           3.6,
           3.62,
           3.66,
           3.66,
           3.63,
           3.63,
           3.62,
           3.57,
           3.57,
           3.53,
           3.48,
           3.43,
           3.38,
           3.28,
           3.43,
           3.48,
           3.63,
           3.7,
           3.8
          ],
          "coloraxis": "coloraxis"
         },
         "name": "",
         "offsetgroup": "",
         "orientation": "v",
         "showlegend": false,
         "textposition": "auto",
         "type": "bar",
         "x": [
          "2020-01-26T00:00:00",
          "2020-01-27T00:00:00",
          "2020-01-28T00:00:00",
          "2020-01-30T00:00:00",
          "2020-01-31T00:00:00",
          "2020-02-03T00:00:00",
          "2020-02-04T00:00:00",
          "2020-02-05T00:00:00",
          "2020-02-06T00:00:00",
          "2020-02-08T00:00:00",
          "2020-02-10T00:00:00",
          "2020-02-11T00:00:00",
          "2020-02-12T00:00:00",
          "2020-02-13T00:00:00",
          "2020-02-14T00:00:00",
          "2020-02-17T00:00:00",
          "2020-02-18T00:00:00",
          "2020-02-19T00:00:00",
          "2020-02-20T00:00:00",
          "2020-02-21T00:00:00",
          "2020-02-24T00:00:00",
          "2020-02-25T00:00:00",
          "2020-02-26T00:00:00",
          "2020-02-27T00:00:00",
          "2020-02-28T00:00:00",
          "2020-03-02T00:00:00",
          "2020-03-03T00:00:00",
          "2020-03-04T00:00:00",
          "2020-03-05T00:00:00",
          "2020-03-06T00:00:00",
          "2020-03-07T00:00:00",
          "2020-03-08T00:00:00",
          "2020-03-09T00:00:00",
          "2020-03-10T00:00:00",
          "2020-03-11T00:00:00",
          "2020-03-12T00:00:00",
          "2020-03-13T00:00:00",
          "2020-03-14T00:00:00",
          "2020-03-15T00:00:00",
          "2020-03-16T00:00:00",
          "2020-03-17T00:00:00",
          "2020-03-18T00:00:00",
          "2020-03-19T00:00:00",
          "2020-03-20T00:00:00",
          "2020-03-21T00:00:00",
          "2020-03-22T00:00:00",
          "2020-03-23T00:00:00",
          "2020-03-24T00:00:00",
          "2020-03-25T00:00:00",
          "2020-03-26T00:00:00",
          "2020-03-27T00:00:00",
          "2020-03-28T00:00:00",
          "2020-03-29T00:00:00",
          "2020-03-30T00:00:00",
          "2020-03-31T00:00:00",
          "2020-04-01T00:00:00",
          "2020-04-02T00:00:00",
          "2020-04-03T00:00:00",
          "2020-04-04T00:00:00",
          "2020-04-05T00:00:00",
          "2020-04-06T00:00:00",
          "2020-04-07T00:00:00",
          "2020-04-08T00:00:00",
          "2020-04-09T00:00:00",
          "2020-04-10T00:00:00",
          "2020-04-11T00:00:00",
          "2020-04-12T00:00:00",
          "2020-04-13T00:00:00",
          "2020-04-14T00:00:00",
          "2020-04-15T00:00:00",
          "2020-04-16T00:00:00",
          "2020-04-17T00:00:00",
          "2020-04-18T00:00:00",
          "2020-04-19T00:00:00",
          "2020-04-20T00:00:00",
          "2020-04-21T00:00:00",
          "2020-04-22T00:00:00",
          "2020-04-23T00:00:00",
          "2020-04-24T00:00:00",
          "2020-04-25T00:00:00",
          "2020-04-26T00:00:00",
          "2020-04-27T00:00:00",
          "2020-04-28T00:00:00",
          "2020-04-29T00:00:00",
          "2020-04-30T00:00:00",
          "2020-05-01T00:00:00",
          "2020-05-02T00:00:00",
          "2020-05-03T00:00:00",
          "2020-05-04T00:00:00",
          "2020-05-05T00:00:00",
          "2020-05-06T00:00:00",
          "2020-05-07T00:00:00",
          "2020-05-08T00:00:00",
          "2020-05-09T00:00:00",
          "2020-05-10T00:00:00",
          "2020-05-11T00:00:00",
          "2020-05-12T00:00:00",
          "2020-05-13T00:00:00",
          "2020-05-14T00:00:00",
          "2020-05-15T00:00:00",
          "2020-05-16T00:00:00",
          "2020-05-17T00:00:00",
          "2020-05-18T00:00:00",
          "2020-05-19T00:00:00",
          "2020-05-20T00:00:00",
          "2020-05-21T00:00:00",
          "2020-05-22T00:00:00",
          "2020-05-23T00:00:00",
          "2020-05-24T00:00:00",
          "2020-05-25T00:00:00",
          "2020-05-26T00:00:00",
          "2020-05-27T00:00:00",
          "2020-05-28T00:00:00",
          "2020-05-29T00:00:00",
          "2020-05-30T00:00:00",
          "2020-05-31T00:00:00",
          "2020-06-01T00:00:00",
          "2020-06-02T00:00:00",
          "2020-06-03T00:00:00",
          "2020-06-04T00:00:00",
          "2020-06-05T00:00:00",
          "2020-06-06T00:00:00",
          "2020-06-07T00:00:00",
          "2020-06-08T00:00:00",
          "2020-06-09T00:00:00",
          "2020-06-10T00:00:00",
          "2020-06-11T00:00:00",
          "2020-06-12T00:00:00",
          "2020-06-13T00:00:00",
          "2020-06-14T00:00:00",
          "2020-06-15T00:00:00",
          "2020-06-16T00:00:00",
          "2020-06-17T00:00:00",
          "2020-06-18T00:00:00",
          "2020-06-19T00:00:00",
          "2020-06-20T00:00:00",
          "2020-06-21T00:00:00",
          "2020-06-22T00:00:00",
          "2020-06-23T00:00:00",
          "2020-06-24T00:00:00",
          "2020-06-25T00:00:00",
          "2020-06-26T00:00:00",
          "2020-06-27T00:00:00",
          "2020-06-28T00:00:00",
          "2020-06-29T00:00:00",
          "2020-06-30T00:00:00",
          "2020-07-01T00:00:00",
          "2020-07-02T00:00:00",
          "2020-07-03T00:00:00",
          "2020-07-04T00:00:00",
          "2020-07-05T00:00:00",
          "2020-07-06T00:00:00",
          "2020-07-07T00:00:00",
          "2020-07-08T00:00:00",
          "2020-07-09T00:00:00",
          "2020-07-10T00:00:00",
          "2020-07-11T00:00:00",
          "2020-07-12T00:00:00",
          "2020-07-13T00:00:00",
          "2020-07-14T00:00:00",
          "2020-07-15T00:00:00",
          "2020-07-16T00:00:00",
          "2020-07-17T00:00:00",
          "2020-07-18T00:00:00",
          "2020-07-19T00:00:00",
          "2020-07-20T00:00:00",
          "2020-07-21T00:00:00",
          "2020-07-22T00:00:00",
          "2020-07-23T00:00:00",
          "2020-07-24T00:00:00",
          "2020-07-25T00:00:00",
          "2020-07-26T00:00:00",
          "2020-07-27T00:00:00",
          "2020-07-28T00:00:00",
          "2020-07-29T00:00:00",
          "2020-07-30T00:00:00",
          "2020-07-31T00:00:00",
          "2020-08-01T00:00:00",
          "2020-08-02T00:00:00",
          "2020-08-03T00:00:00",
          "2020-08-04T00:00:00",
          "2020-08-05T00:00:00",
          "2020-08-06T00:00:00",
          "2020-08-07T00:00:00",
          "2020-08-08T00:00:00",
          "2020-08-09T00:00:00",
          "2020-08-10T00:00:00",
          "2020-08-11T00:00:00",
          "2020-08-12T00:00:00",
          "2020-08-13T00:00:00",
          "2020-08-14T00:00:00",
          "2020-08-15T00:00:00",
          "2020-08-16T00:00:00",
          "2020-08-17T00:00:00",
          "2020-08-18T00:00:00",
          "2020-08-19T00:00:00",
          "2020-08-20T00:00:00",
          "2020-08-21T00:00:00",
          "2020-08-22T00:00:00",
          "2020-08-23T00:00:00",
          "2020-08-24T00:00:00",
          "2020-08-25T00:00:00",
          "2020-08-26T00:00:00",
          "2020-08-27T00:00:00",
          "2020-08-28T00:00:00",
          "2020-08-29T00:00:00",
          "2020-08-30T00:00:00",
          "2020-08-31T00:00:00",
          "2020-09-01T00:00:00",
          "2020-09-02T00:00:00",
          "2020-09-03T00:00:00",
          "2020-09-04T00:00:00",
          "2020-09-05T00:00:00",
          "2020-09-06T00:00:00",
          "2020-09-07T00:00:00",
          "2020-09-08T00:00:00",
          "2020-09-09T00:00:00",
          "2020-09-10T00:00:00",
          "2020-09-11T00:00:00",
          "2020-09-12T00:00:00",
          "2020-09-13T00:00:00",
          "2020-09-14T00:00:00",
          "2020-09-15T00:00:00",
          "2020-09-16T00:00:00",
          "2020-09-17T00:00:00",
          "2020-09-18T00:00:00",
          "2020-09-19T00:00:00",
          "2020-09-20T00:00:00",
          "2020-09-21T00:00:00",
          "2020-09-22T00:00:00",
          "2020-09-23T00:00:00",
          "2020-09-24T00:00:00",
          "2020-09-25T00:00:00",
          "2020-09-26T00:00:00",
          "2020-09-27T00:00:00",
          "2020-09-28T00:00:00",
          "2020-09-29T00:00:00",
          "2020-09-30T00:00:00",
          "2020-10-01T00:00:00",
          "2020-10-02T00:00:00",
          "2020-10-03T00:00:00",
          "2020-10-04T00:00:00",
          "2020-10-05T00:00:00",
          "2020-10-06T00:00:00",
          "2020-10-07T00:00:00",
          "2020-10-08T00:00:00",
          "2020-10-09T00:00:00",
          "2020-10-10T00:00:00",
          "2020-10-11T00:00:00",
          "2020-10-12T00:00:00",
          "2020-10-13T00:00:00",
          "2020-10-14T00:00:00",
          "2020-10-15T00:00:00",
          "2020-10-16T00:00:00",
          "2020-10-17T00:00:00",
          "2020-10-18T00:00:00",
          "2020-10-19T00:00:00",
          "2020-10-20T00:00:00",
          "2020-10-21T00:00:00",
          "2020-10-22T00:00:00",
          "2020-10-23T00:00:00",
          "2020-10-24T00:00:00",
          "2020-10-25T00:00:00",
          "2020-10-26T00:00:00",
          "2020-10-27T00:00:00",
          "2020-10-28T00:00:00",
          "2020-10-29T00:00:00",
          "2020-10-30T00:00:00",
          "2020-10-31T00:00:00",
          "2020-11-01T00:00:00",
          "2020-11-02T00:00:00",
          "2020-11-03T00:00:00",
          "2020-11-04T00:00:00",
          "2020-11-05T00:00:00",
          "2020-11-06T00:00:00",
          "2020-11-07T00:00:00",
          "2020-11-08T00:00:00",
          "2020-11-09T00:00:00",
          "2020-11-10T00:00:00",
          "2020-11-11T00:00:00",
          "2020-11-12T00:00:00",
          "2020-11-13T00:00:00",
          "2020-11-14T00:00:00",
          "2020-11-15T00:00:00",
          "2020-11-16T00:00:00",
          "2020-11-17T00:00:00",
          "2020-11-18T00:00:00",
          "2020-11-19T00:00:00",
          "2020-11-20T00:00:00",
          "2020-11-21T00:00:00",
          "2020-11-22T00:00:00",
          "2020-11-23T00:00:00",
          "2020-11-24T00:00:00",
          "2020-11-25T00:00:00",
          "2020-11-26T00:00:00",
          "2020-11-27T00:00:00",
          "2020-11-28T00:00:00",
          "2020-11-29T00:00:00",
          "2020-11-30T00:00:00",
          "2020-12-01T00:00:00",
          "2020-12-02T00:00:00",
          "2020-12-03T00:00:00",
          "2020-12-04T00:00:00",
          "2020-12-05T00:00:00",
          "2020-12-06T00:00:00",
          "2020-12-07T00:00:00",
          "2020-12-08T00:00:00",
          "2020-12-09T00:00:00",
          "2020-12-10T00:00:00",
          "2020-12-11T00:00:00",
          "2020-12-12T00:00:00",
          "2020-12-13T00:00:00",
          "2020-12-14T00:00:00",
          "2020-12-15T00:00:00",
          "2020-12-16T00:00:00",
          "2020-12-17T00:00:00",
          "2020-12-18T00:00:00",
          "2020-12-19T00:00:00"
         ],
         "xaxis": "x",
         "y": [
          null,
          0,
          1,
          1,
          0,
          1,
          0,
          0,
          0,
          0,
          0,
          0,
          0,
          0,
          0,
          0,
          0,
          0,
          0,
          0,
          1,
          0,
          0,
          1,
          1,
          12,
          2,
          0,
          2,
          4,
          2,
          1,
          6,
          1,
          6,
          17,
          20,
          24,
          42,
          32,
          12,
          25,
          44,
          60,
          59,
          48,
          78,
          85,
          100,
          170,
          135,
          151,
          211,
          351,
          260,
          426,
          401,
          462,
          375,
          408,
          309,
          379,
          550,
          483,
          478,
          411,
          401,
          421,
          483,
          494,
          514,
          564,
          485,
          568,
          606,
          551,
          510,
          634,
          640,
          476,
          437,
          424,
          525,
          347,
          459,
          421,
          511,
          434,
          370,
          387,
          412,
          399,
          477,
          346,
          294,
          308,
          361,
          329,
          345,
          341,
          391,
          340,
          304,
          427,
          390,
          413,
          441,
          412,
          460,
          404,
          287,
          292,
          383,
          344,
          323,
          326,
          404,
          446,
          338,
          356,
          344,
          455,
          415,
          243,
          230,
          251,
          203,
          182,
          266,
          197,
          181,
          184,
          190,
          173,
          178,
          206,
          175,
          161,
          216,
          163,
          189,
          111,
          160,
          178,
          257,
          157,
          149,
          153,
          165,
          121,
          138,
          154,
          112,
          118,
          170,
          116,
          130,
          129,
          116,
          111,
          102,
          111,
          111,
          166,
          164,
          135,
          203,
          165,
          103,
          195,
          138,
          137,
          119,
          111,
          76,
          89,
          134,
          124,
          116,
          88,
          91,
          86,
          95,
          88,
          70,
          79,
          115,
          33,
          95,
          78,
          92,
          106,
          81,
          99,
          125,
          102,
          76,
          131,
          108,
          115,
          105,
          100,
          88,
          118,
          122,
          148,
          112,
          114,
          112,
          133,
          132,
          148,
          169,
          158,
          190,
          185,
          149,
          170,
          213,
          232,
          204,
          313,
          251,
          315,
          293,
          401,
          407,
          365,
          425,
          478,
          335,
          409,
          409,
          435,
          491,
          700,
          554,
          625,
          538,
          732,
          653,
          566,
          615,
          548,
          583,
          797,
          939,
          809,
          649,
          807,
          746,
          721,
          783,
          712,
          805,
          658,
          704,
          821,
          790,
          841,
          826,
          978,
          1042,
          851,
          827,
          834,
          934,
          896,
          1015,
          977,
          948,
          1050,
          987,
          998,
          1003,
          1132,
          1328,
          1242,
          1388,
          1426,
          1575,
          1396,
          1581,
          1248,
          1487,
          1249,
          1417,
          1210,
          1418,
          1588,
          1534,
          1589,
          1009,
          1373,
          1478,
          1855,
          1822,
          1708,
          1746,
          1707,
          1723,
          1824,
          1780,
          1859,
          1924,
          1925,
          1676,
          1890,
          1983,
          1848,
          1873,
          1677,
          1940,
          2275,
          2139,
          2432,
          2290,
          2357
         ],
         "yaxis": "y"
        },
        {
         "line": {
          "color": "#057D41",
          "dash": "solid"
         },
         "mode": "lines",
         "name": "7d Avg",
         "type": "scatter",
         "x": [
          "2020-01-26T00:00:00",
          "2020-01-27T00:00:00",
          "2020-01-28T00:00:00",
          "2020-01-30T00:00:00",
          "2020-01-31T00:00:00",
          "2020-02-03T00:00:00",
          "2020-02-04T00:00:00",
          "2020-02-05T00:00:00",
          "2020-02-06T00:00:00",
          "2020-02-08T00:00:00",
          "2020-02-10T00:00:00",
          "2020-02-11T00:00:00",
          "2020-02-12T00:00:00",
          "2020-02-13T00:00:00",
          "2020-02-14T00:00:00",
          "2020-02-17T00:00:00",
          "2020-02-18T00:00:00",
          "2020-02-19T00:00:00",
          "2020-02-20T00:00:00",
          "2020-02-21T00:00:00",
          "2020-02-24T00:00:00",
          "2020-02-25T00:00:00",
          "2020-02-26T00:00:00",
          "2020-02-27T00:00:00",
          "2020-02-28T00:00:00",
          "2020-03-02T00:00:00",
          "2020-03-03T00:00:00",
          "2020-03-04T00:00:00",
          "2020-03-05T00:00:00",
          "2020-03-06T00:00:00",
          "2020-03-07T00:00:00",
          "2020-03-08T00:00:00",
          "2020-03-09T00:00:00",
          "2020-03-10T00:00:00",
          "2020-03-11T00:00:00",
          "2020-03-12T00:00:00",
          "2020-03-13T00:00:00",
          "2020-03-14T00:00:00",
          "2020-03-15T00:00:00",
          "2020-03-16T00:00:00",
          "2020-03-17T00:00:00",
          "2020-03-18T00:00:00",
          "2020-03-19T00:00:00",
          "2020-03-20T00:00:00",
          "2020-03-21T00:00:00",
          "2020-03-22T00:00:00",
          "2020-03-23T00:00:00",
          "2020-03-24T00:00:00",
          "2020-03-25T00:00:00",
          "2020-03-26T00:00:00",
          "2020-03-27T00:00:00",
          "2020-03-28T00:00:00",
          "2020-03-29T00:00:00",
          "2020-03-30T00:00:00",
          "2020-03-31T00:00:00",
          "2020-04-01T00:00:00",
          "2020-04-02T00:00:00",
          "2020-04-03T00:00:00",
          "2020-04-04T00:00:00",
          "2020-04-05T00:00:00",
          "2020-04-06T00:00:00",
          "2020-04-07T00:00:00",
          "2020-04-08T00:00:00",
          "2020-04-09T00:00:00",
          "2020-04-10T00:00:00",
          "2020-04-11T00:00:00",
          "2020-04-12T00:00:00",
          "2020-04-13T00:00:00",
          "2020-04-14T00:00:00",
          "2020-04-15T00:00:00",
          "2020-04-16T00:00:00",
          "2020-04-17T00:00:00",
          "2020-04-18T00:00:00",
          "2020-04-19T00:00:00",
          "2020-04-20T00:00:00",
          "2020-04-21T00:00:00",
          "2020-04-22T00:00:00",
          "2020-04-23T00:00:00",
          "2020-04-24T00:00:00",
          "2020-04-25T00:00:00",
          "2020-04-26T00:00:00",
          "2020-04-27T00:00:00",
          "2020-04-28T00:00:00",
          "2020-04-29T00:00:00",
          "2020-04-30T00:00:00",
          "2020-05-01T00:00:00",
          "2020-05-02T00:00:00",
          "2020-05-03T00:00:00",
          "2020-05-04T00:00:00",
          "2020-05-05T00:00:00",
          "2020-05-06T00:00:00",
          "2020-05-07T00:00:00",
          "2020-05-08T00:00:00",
          "2020-05-09T00:00:00",
          "2020-05-10T00:00:00",
          "2020-05-11T00:00:00",
          "2020-05-12T00:00:00",
          "2020-05-13T00:00:00",
          "2020-05-14T00:00:00",
          "2020-05-15T00:00:00",
          "2020-05-16T00:00:00",
          "2020-05-17T00:00:00",
          "2020-05-18T00:00:00",
          "2020-05-19T00:00:00",
          "2020-05-20T00:00:00",
          "2020-05-21T00:00:00",
          "2020-05-22T00:00:00",
          "2020-05-23T00:00:00",
          "2020-05-24T00:00:00",
          "2020-05-25T00:00:00",
          "2020-05-26T00:00:00",
          "2020-05-27T00:00:00",
          "2020-05-28T00:00:00",
          "2020-05-29T00:00:00",
          "2020-05-30T00:00:00",
          "2020-05-31T00:00:00",
          "2020-06-01T00:00:00",
          "2020-06-02T00:00:00",
          "2020-06-03T00:00:00",
          "2020-06-04T00:00:00",
          "2020-06-05T00:00:00",
          "2020-06-06T00:00:00",
          "2020-06-07T00:00:00",
          "2020-06-08T00:00:00",
          "2020-06-09T00:00:00",
          "2020-06-10T00:00:00",
          "2020-06-11T00:00:00",
          "2020-06-12T00:00:00",
          "2020-06-13T00:00:00",
          "2020-06-14T00:00:00",
          "2020-06-15T00:00:00",
          "2020-06-16T00:00:00",
          "2020-06-17T00:00:00",
          "2020-06-18T00:00:00",
          "2020-06-19T00:00:00",
          "2020-06-20T00:00:00",
          "2020-06-21T00:00:00",
          "2020-06-22T00:00:00",
          "2020-06-23T00:00:00",
          "2020-06-24T00:00:00",
          "2020-06-25T00:00:00",
          "2020-06-26T00:00:00",
          "2020-06-27T00:00:00",
          "2020-06-28T00:00:00",
          "2020-06-29T00:00:00",
          "2020-06-30T00:00:00",
          "2020-07-01T00:00:00",
          "2020-07-02T00:00:00",
          "2020-07-03T00:00:00",
          "2020-07-04T00:00:00",
          "2020-07-05T00:00:00",
          "2020-07-06T00:00:00",
          "2020-07-07T00:00:00",
          "2020-07-08T00:00:00",
          "2020-07-09T00:00:00",
          "2020-07-10T00:00:00",
          "2020-07-11T00:00:00",
          "2020-07-12T00:00:00",
          "2020-07-13T00:00:00",
          "2020-07-14T00:00:00",
          "2020-07-15T00:00:00",
          "2020-07-16T00:00:00",
          "2020-07-17T00:00:00",
          "2020-07-18T00:00:00",
          "2020-07-19T00:00:00",
          "2020-07-20T00:00:00",
          "2020-07-21T00:00:00",
          "2020-07-22T00:00:00",
          "2020-07-23T00:00:00",
          "2020-07-24T00:00:00",
          "2020-07-25T00:00:00",
          "2020-07-26T00:00:00",
          "2020-07-27T00:00:00",
          "2020-07-28T00:00:00",
          "2020-07-29T00:00:00",
          "2020-07-30T00:00:00",
          "2020-07-31T00:00:00",
          "2020-08-01T00:00:00",
          "2020-08-02T00:00:00",
          "2020-08-03T00:00:00",
          "2020-08-04T00:00:00",
          "2020-08-05T00:00:00",
          "2020-08-06T00:00:00",
          "2020-08-07T00:00:00",
          "2020-08-08T00:00:00",
          "2020-08-09T00:00:00",
          "2020-08-10T00:00:00",
          "2020-08-11T00:00:00",
          "2020-08-12T00:00:00",
          "2020-08-13T00:00:00",
          "2020-08-14T00:00:00",
          "2020-08-15T00:00:00",
          "2020-08-16T00:00:00",
          "2020-08-17T00:00:00",
          "2020-08-18T00:00:00",
          "2020-08-19T00:00:00",
          "2020-08-20T00:00:00",
          "2020-08-21T00:00:00",
          "2020-08-22T00:00:00",
          "2020-08-23T00:00:00",
          "2020-08-24T00:00:00",
          "2020-08-25T00:00:00",
          "2020-08-26T00:00:00",
          "2020-08-27T00:00:00",
          "2020-08-28T00:00:00",
          "2020-08-29T00:00:00",
          "2020-08-30T00:00:00",
          "2020-08-31T00:00:00",
          "2020-09-01T00:00:00",
          "2020-09-02T00:00:00",
          "2020-09-03T00:00:00",
          "2020-09-04T00:00:00",
          "2020-09-05T00:00:00",
          "2020-09-06T00:00:00",
          "2020-09-07T00:00:00",
          "2020-09-08T00:00:00",
          "2020-09-09T00:00:00",
          "2020-09-10T00:00:00",
          "2020-09-11T00:00:00",
          "2020-09-12T00:00:00",
          "2020-09-13T00:00:00",
          "2020-09-14T00:00:00",
          "2020-09-15T00:00:00",
          "2020-09-16T00:00:00",
          "2020-09-17T00:00:00",
          "2020-09-18T00:00:00",
          "2020-09-19T00:00:00",
          "2020-09-20T00:00:00",
          "2020-09-21T00:00:00",
          "2020-09-22T00:00:00",
          "2020-09-23T00:00:00",
          "2020-09-24T00:00:00",
          "2020-09-25T00:00:00",
          "2020-09-26T00:00:00",
          "2020-09-27T00:00:00",
          "2020-09-28T00:00:00",
          "2020-09-29T00:00:00",
          "2020-09-30T00:00:00",
          "2020-10-01T00:00:00",
          "2020-10-02T00:00:00",
          "2020-10-03T00:00:00",
          "2020-10-04T00:00:00",
          "2020-10-05T00:00:00",
          "2020-10-06T00:00:00",
          "2020-10-07T00:00:00",
          "2020-10-08T00:00:00",
          "2020-10-09T00:00:00",
          "2020-10-10T00:00:00",
          "2020-10-11T00:00:00",
          "2020-10-12T00:00:00",
          "2020-10-13T00:00:00",
          "2020-10-14T00:00:00",
          "2020-10-15T00:00:00",
          "2020-10-16T00:00:00",
          "2020-10-17T00:00:00",
          "2020-10-18T00:00:00",
          "2020-10-19T00:00:00",
          "2020-10-20T00:00:00",
          "2020-10-21T00:00:00",
          "2020-10-22T00:00:00",
          "2020-10-23T00:00:00",
          "2020-10-24T00:00:00",
          "2020-10-25T00:00:00",
          "2020-10-26T00:00:00",
          "2020-10-27T00:00:00",
          "2020-10-28T00:00:00",
          "2020-10-29T00:00:00",
          "2020-10-30T00:00:00",
          "2020-10-31T00:00:00",
          "2020-11-01T00:00:00",
          "2020-11-02T00:00:00",
          "2020-11-03T00:00:00",
          "2020-11-04T00:00:00",
          "2020-11-05T00:00:00",
          "2020-11-06T00:00:00",
          "2020-11-07T00:00:00",
          "2020-11-08T00:00:00",
          "2020-11-09T00:00:00",
          "2020-11-10T00:00:00",
          "2020-11-11T00:00:00",
          "2020-11-12T00:00:00",
          "2020-11-13T00:00:00",
          "2020-11-14T00:00:00",
          "2020-11-15T00:00:00",
          "2020-11-16T00:00:00",
          "2020-11-17T00:00:00",
          "2020-11-18T00:00:00",
          "2020-11-19T00:00:00",
          "2020-11-20T00:00:00",
          "2020-11-21T00:00:00",
          "2020-11-22T00:00:00",
          "2020-11-23T00:00:00",
          "2020-11-24T00:00:00",
          "2020-11-25T00:00:00",
          "2020-11-26T00:00:00",
          "2020-11-27T00:00:00",
          "2020-11-28T00:00:00",
          "2020-11-29T00:00:00",
          "2020-11-30T00:00:00",
          "2020-12-01T00:00:00",
          "2020-12-02T00:00:00",
          "2020-12-03T00:00:00",
          "2020-12-04T00:00:00",
          "2020-12-05T00:00:00",
          "2020-12-06T00:00:00",
          "2020-12-07T00:00:00",
          "2020-12-08T00:00:00",
          "2020-12-09T00:00:00",
          "2020-12-10T00:00:00",
          "2020-12-11T00:00:00",
          "2020-12-12T00:00:00",
          "2020-12-13T00:00:00",
          "2020-12-14T00:00:00",
          "2020-12-15T00:00:00",
          "2020-12-16T00:00:00",
          "2020-12-17T00:00:00",
          "2020-12-18T00:00:00",
          "2020-12-19T00:00:00"
         ],
         "y": [
          null,
          null,
          null,
          null,
          null,
          null,
          null,
          0,
          0,
          0,
          0,
          0,
          0,
          0,
          0,
          0,
          0,
          0,
          0,
          0,
          0,
          0,
          0,
          0,
          0,
          2,
          2,
          2,
          3,
          3,
          3,
          3,
          2,
          2,
          3,
          5,
          8,
          11,
          17,
          20,
          22,
          25,
          28,
          34,
          39,
          40,
          47,
          57,
          68,
          86,
          96,
          110,
          133,
          172,
          197,
          243,
          276,
          323,
          355,
          383,
          377,
          394,
          412,
          424,
          426,
          431,
          430,
          446,
          461,
          453,
          457,
          470,
          480,
          504,
          531,
          540,
          543,
          560,
          571,
          569,
          551,
          525,
          521,
          498,
          473,
          441,
          446,
          446,
          438,
          418,
          428,
          419,
          427,
          404,
          384,
          375,
          371,
          359,
          351,
          332,
          338,
          345,
          344,
          354,
          363,
          372,
          387,
          390,
          407,
          421,
          401,
          387,
          383,
          369,
          356,
          337,
          337,
          360,
          366,
          362,
          362,
          381,
          394,
          371,
          340,
          328,
          306,
          283,
          256,
          225,
          216,
          209,
          200,
          196,
          196,
          187,
          184,
          181,
          186,
          182,
          184,
          174,
          168,
          168,
          182,
          174,
          172,
          166,
          174,
          169,
          163,
          148,
          142,
          137,
          140,
          133,
          134,
          133,
          127,
          127,
          125,
          116,
          116,
          121,
          126,
          129,
          142,
          151,
          150,
          162,
          158,
          154,
          151,
          138,
          126,
          124,
          115,
          113,
          110,
          105,
          103,
          104,
          105,
          98,
          91,
          85,
          89,
          81,
          82,
          80,
          80,
          85,
          86,
          83,
          97,
          98,
          97,
          103,
          103,
          108,
          109,
          105,
          103,
          109,
          108,
          114,
          113,
          115,
          116,
          123,
          125,
          128,
          131,
          138,
          149,
          159,
          162,
          167,
          176,
          185,
          192,
          209,
          219,
          243,
          260,
          287,
          312,
          335,
          351,
          383,
          386,
          403,
          404,
          408,
          426,
          465,
          476,
          518,
          536,
          582,
          613,
          624,
          612,
          611,
          605,
          642,
          672,
          694,
          706,
          733,
          761,
          781,
          779,
          747,
          746,
          747,
          733,
          743,
          753,
          762,
          778,
          803,
          857,
          878,
          879,
          886,
          899,
          909,
          914,
          905,
          919,
          951,
          972,
          982,
          997,
          1014,
          1064,
          1106,
          1154,
          1217,
          1299,
          1355,
          1419,
          1408,
          1443,
          1423,
          1422,
          1370,
          1373,
          1374,
          1415,
          1429,
          1395,
          1389,
          1427,
          1489,
          1523,
          1548,
          1570,
          1670,
          1720,
          1769,
          1759,
          1764,
          1795,
          1820,
          1816,
          1840,
          1862,
          1872,
          1874,
          1839,
          1841,
          1927,
          1962,
          2026,
          2089,
          2159
         ]
        }
       ],
       "layout": {
        "bargap": 0,
        "barmode": "relative",
        "coloraxis": {
         "cmax": 8,
         "cmin": 0,
         "colorbar": {
          "ticks": "outside",
          "ticksuffix": "",
          "title": {
           "text": "% Positivity Rate"
          },
          "x": 1,
          "y": 1,
          "yanchor": "top"
         },
         "colorscale": [
          [
           0,
           "#0d0887"
          ],
          [
           0.1111111111111111,
           "#46039f"
          ],
          [
           0.2222222222222222,
           "#7201a8"
          ],
          [
           0.3333333333333333,
           "#9c179e"
          ],
          [
           0.4444444444444444,
           "#bd3786"
          ],
          [
           0.5555555555555556,
           "#d8576b"
          ],
          [
           0.6666666666666666,
           "#ed7953"
          ],
          [
           0.7777777777777778,
           "#fb9f3a"
          ],
          [
           0.8888888888888888,
           "#fdca26"
          ],
          [
           1,
           "#f0f921"
          ]
         ]
        },
        "legend": {
         "orientation": "h",
         "tracegroupgap": 0,
         "x": 1,
         "xanchor": "right",
         "y": 1.02,
         "yanchor": "bottom"
        },
        "template": {
         "data": {
          "bar": [
           {
            "error_x": {
             "color": "#2a3f5f"
            },
            "error_y": {
             "color": "#2a3f5f"
            },
            "marker": {
             "line": {
              "color": "#E5ECF6",
              "width": 0.5
             }
            },
            "type": "bar"
           }
          ],
          "barpolar": [
           {
            "marker": {
             "line": {
              "color": "#E5ECF6",
              "width": 0.5
             }
            },
            "type": "barpolar"
           }
          ],
          "carpet": [
           {
            "aaxis": {
             "endlinecolor": "#2a3f5f",
             "gridcolor": "white",
             "linecolor": "white",
             "minorgridcolor": "white",
             "startlinecolor": "#2a3f5f"
            },
            "baxis": {
             "endlinecolor": "#2a3f5f",
             "gridcolor": "white",
             "linecolor": "white",
             "minorgridcolor": "white",
             "startlinecolor": "#2a3f5f"
            },
            "type": "carpet"
           }
          ],
          "choropleth": [
           {
            "colorbar": {
             "outlinewidth": 0,
             "ticks": ""
            },
            "type": "choropleth"
           }
          ],
          "contour": [
           {
            "colorbar": {
             "outlinewidth": 0,
             "ticks": ""
            },
            "colorscale": [
             [
              0,
              "#0d0887"
             ],
             [
              0.1111111111111111,
              "#46039f"
             ],
             [
              0.2222222222222222,
              "#7201a8"
             ],
             [
              0.3333333333333333,
              "#9c179e"
             ],
             [
              0.4444444444444444,
              "#bd3786"
             ],
             [
              0.5555555555555556,
              "#d8576b"
             ],
             [
              0.6666666666666666,
              "#ed7953"
             ],
             [
              0.7777777777777778,
              "#fb9f3a"
             ],
             [
              0.8888888888888888,
              "#fdca26"
             ],
             [
              1,
              "#f0f921"
             ]
            ],
            "type": "contour"
           }
          ],
          "contourcarpet": [
           {
            "colorbar": {
             "outlinewidth": 0,
             "ticks": ""
            },
            "type": "contourcarpet"
           }
          ],
          "heatmap": [
           {
            "colorbar": {
             "outlinewidth": 0,
             "ticks": ""
            },
            "colorscale": [
             [
              0,
              "#0d0887"
             ],
             [
              0.1111111111111111,
              "#46039f"
             ],
             [
              0.2222222222222222,
              "#7201a8"
             ],
             [
              0.3333333333333333,
              "#9c179e"
             ],
             [
              0.4444444444444444,
              "#bd3786"
             ],
             [
              0.5555555555555556,
              "#d8576b"
             ],
             [
              0.6666666666666666,
              "#ed7953"
             ],
             [
              0.7777777777777778,
              "#fb9f3a"
             ],
             [
              0.8888888888888888,
              "#fdca26"
             ],
             [
              1,
              "#f0f921"
             ]
            ],
            "type": "heatmap"
           }
          ],
          "heatmapgl": [
           {
            "colorbar": {
             "outlinewidth": 0,
             "ticks": ""
            },
            "colorscale": [
             [
              0,
              "#0d0887"
             ],
             [
              0.1111111111111111,
              "#46039f"
             ],
             [
              0.2222222222222222,
              "#7201a8"
             ],
             [
              0.3333333333333333,
              "#9c179e"
             ],
             [
              0.4444444444444444,
              "#bd3786"
             ],
             [
              0.5555555555555556,
              "#d8576b"
             ],
             [
              0.6666666666666666,
              "#ed7953"
             ],
             [
              0.7777777777777778,
              "#fb9f3a"
             ],
             [
              0.8888888888888888,
              "#fdca26"
             ],
             [
              1,
              "#f0f921"
             ]
            ],
            "type": "heatmapgl"
           }
          ],
          "histogram": [
           {
            "marker": {
             "colorbar": {
              "outlinewidth": 0,
              "ticks": ""
             }
            },
            "type": "histogram"
           }
          ],
          "histogram2d": [
           {
            "colorbar": {
             "outlinewidth": 0,
             "ticks": ""
            },
            "colorscale": [
             [
              0,
              "#0d0887"
             ],
             [
              0.1111111111111111,
              "#46039f"
             ],
             [
              0.2222222222222222,
              "#7201a8"
             ],
             [
              0.3333333333333333,
              "#9c179e"
             ],
             [
              0.4444444444444444,
              "#bd3786"
             ],
             [
              0.5555555555555556,
              "#d8576b"
             ],
             [
              0.6666666666666666,
              "#ed7953"
             ],
             [
              0.7777777777777778,
              "#fb9f3a"
             ],
             [
              0.8888888888888888,
              "#fdca26"
             ],
             [
              1,
              "#f0f921"
             ]
            ],
            "type": "histogram2d"
           }
          ],
          "histogram2dcontour": [
           {
            "colorbar": {
             "outlinewidth": 0,
             "ticks": ""
            },
            "colorscale": [
             [
              0,
              "#0d0887"
             ],
             [
              0.1111111111111111,
              "#46039f"
             ],
             [
              0.2222222222222222,
              "#7201a8"
             ],
             [
              0.3333333333333333,
              "#9c179e"
             ],
             [
              0.4444444444444444,
              "#bd3786"
             ],
             [
              0.5555555555555556,
              "#d8576b"
             ],
             [
              0.6666666666666666,
              "#ed7953"
             ],
             [
              0.7777777777777778,
              "#fb9f3a"
             ],
             [
              0.8888888888888888,
              "#fdca26"
             ],
             [
              1,
              "#f0f921"
             ]
            ],
            "type": "histogram2dcontour"
           }
          ],
          "mesh3d": [
           {
            "colorbar": {
             "outlinewidth": 0,
             "ticks": ""
            },
            "type": "mesh3d"
           }
          ],
          "parcoords": [
           {
            "line": {
             "colorbar": {
              "outlinewidth": 0,
              "ticks": ""
             }
            },
            "type": "parcoords"
           }
          ],
          "pie": [
           {
            "automargin": true,
            "type": "pie"
           }
          ],
          "scatter": [
           {
            "marker": {
             "colorbar": {
              "outlinewidth": 0,
              "ticks": ""
             }
            },
            "type": "scatter"
           }
          ],
          "scatter3d": [
           {
            "line": {
             "colorbar": {
              "outlinewidth": 0,
              "ticks": ""
             }
            },
            "marker": {
             "colorbar": {
              "outlinewidth": 0,
              "ticks": ""
             }
            },
            "type": "scatter3d"
           }
          ],
          "scattercarpet": [
           {
            "marker": {
             "colorbar": {
              "outlinewidth": 0,
              "ticks": ""
             }
            },
            "type": "scattercarpet"
           }
          ],
          "scattergeo": [
           {
            "marker": {
             "colorbar": {
              "outlinewidth": 0,
              "ticks": ""
             }
            },
            "type": "scattergeo"
           }
          ],
          "scattergl": [
           {
            "marker": {
             "colorbar": {
              "outlinewidth": 0,
              "ticks": ""
             }
            },
            "type": "scattergl"
           }
          ],
          "scattermapbox": [
           {
            "marker": {
             "colorbar": {
              "outlinewidth": 0,
              "ticks": ""
             }
            },
            "type": "scattermapbox"
           }
          ],
          "scatterpolar": [
           {
            "marker": {
             "colorbar": {
              "outlinewidth": 0,
              "ticks": ""
             }
            },
            "type": "scatterpolar"
           }
          ],
          "scatterpolargl": [
           {
            "marker": {
             "colorbar": {
              "outlinewidth": 0,
              "ticks": ""
             }
            },
            "type": "scatterpolargl"
           }
          ],
          "scatterternary": [
           {
            "marker": {
             "colorbar": {
              "outlinewidth": 0,
              "ticks": ""
             }
            },
            "type": "scatterternary"
           }
          ],
          "surface": [
           {
            "colorbar": {
             "outlinewidth": 0,
             "ticks": ""
            },
            "colorscale": [
             [
              0,
              "#0d0887"
             ],
             [
              0.1111111111111111,
              "#46039f"
             ],
             [
              0.2222222222222222,
              "#7201a8"
             ],
             [
              0.3333333333333333,
              "#9c179e"
             ],
             [
              0.4444444444444444,
              "#bd3786"
             ],
             [
              0.5555555555555556,
              "#d8576b"
             ],
             [
              0.6666666666666666,
              "#ed7953"
             ],
             [
              0.7777777777777778,
              "#fb9f3a"
             ],
             [
              0.8888888888888888,
              "#fdca26"
             ],
             [
              1,
              "#f0f921"
             ]
            ],
            "type": "surface"
           }
          ],
          "table": [
           {
            "cells": {
             "fill": {
              "color": "#EBF0F8"
             },
             "line": {
              "color": "white"
             }
            },
            "header": {
             "fill": {
              "color": "#C8D4E3"
             },
             "line": {
              "color": "white"
             }
            },
            "type": "table"
           }
          ]
         },
         "layout": {
          "annotationdefaults": {
           "arrowcolor": "#2a3f5f",
           "arrowhead": 0,
           "arrowwidth": 1
          },
          "coloraxis": {
           "colorbar": {
            "outlinewidth": 0,
            "ticks": ""
           }
          },
          "colorscale": {
           "diverging": [
            [
             0,
             "#8e0152"
            ],
            [
             0.1,
             "#c51b7d"
            ],
            [
             0.2,
             "#de77ae"
            ],
            [
             0.3,
             "#f1b6da"
            ],
            [
             0.4,
             "#fde0ef"
            ],
            [
             0.5,
             "#f7f7f7"
            ],
            [
             0.6,
             "#e6f5d0"
            ],
            [
             0.7,
             "#b8e186"
            ],
            [
             0.8,
             "#7fbc41"
            ],
            [
             0.9,
             "#4d9221"
            ],
            [
             1,
             "#276419"
            ]
           ],
           "sequential": [
            [
             0,
             "#0d0887"
            ],
            [
             0.1111111111111111,
             "#46039f"
            ],
            [
             0.2222222222222222,
             "#7201a8"
            ],
            [
             0.3333333333333333,
             "#9c179e"
            ],
            [
             0.4444444444444444,
             "#bd3786"
            ],
            [
             0.5555555555555556,
             "#d8576b"
            ],
            [
             0.6666666666666666,
             "#ed7953"
            ],
            [
             0.7777777777777778,
             "#fb9f3a"
            ],
            [
             0.8888888888888888,
             "#fdca26"
            ],
            [
             1,
             "#f0f921"
            ]
           ],
           "sequentialminus": [
            [
             0,
             "#0d0887"
            ],
            [
             0.1111111111111111,
             "#46039f"
            ],
            [
             0.2222222222222222,
             "#7201a8"
            ],
            [
             0.3333333333333333,
             "#9c179e"
            ],
            [
             0.4444444444444444,
             "#bd3786"
            ],
            [
             0.5555555555555556,
             "#d8576b"
            ],
            [
             0.6666666666666666,
             "#ed7953"
            ],
            [
             0.7777777777777778,
             "#fb9f3a"
            ],
            [
             0.8888888888888888,
             "#fdca26"
            ],
            [
             1,
             "#f0f921"
            ]
           ]
          },
          "colorway": [
           "#636efa",
           "#EF553B",
           "#00cc96",
           "#ab63fa",
           "#FFA15A",
           "#19d3f3",
           "#FF6692",
           "#B6E880",
           "#FF97FF",
           "#FECB52"
          ],
          "font": {
           "color": "#2a3f5f"
          },
          "geo": {
           "bgcolor": "white",
           "lakecolor": "white",
           "landcolor": "#E5ECF6",
           "showlakes": true,
           "showland": true,
           "subunitcolor": "white"
          },
          "hoverlabel": {
           "align": "left"
          },
          "hovermode": "closest",
          "mapbox": {
           "style": "light"
          },
          "paper_bgcolor": "white",
          "plot_bgcolor": "#E5ECF6",
          "polar": {
           "angularaxis": {
            "gridcolor": "white",
            "linecolor": "white",
            "ticks": ""
           },
           "bgcolor": "#E5ECF6",
           "radialaxis": {
            "gridcolor": "white",
            "linecolor": "white",
            "ticks": ""
           }
          },
          "scene": {
           "xaxis": {
            "backgroundcolor": "#E5ECF6",
            "gridcolor": "white",
            "gridwidth": 2,
            "linecolor": "white",
            "showbackground": true,
            "ticks": "",
            "zerolinecolor": "white"
           },
           "yaxis": {
            "backgroundcolor": "#E5ECF6",
            "gridcolor": "white",
            "gridwidth": 2,
            "linecolor": "white",
            "showbackground": true,
            "ticks": "",
            "zerolinecolor": "white"
           },
           "zaxis": {
            "backgroundcolor": "#E5ECF6",
            "gridcolor": "white",
            "gridwidth": 2,
            "linecolor": "white",
            "showbackground": true,
            "ticks": "",
            "zerolinecolor": "white"
           }
          },
          "shapedefaults": {
           "line": {
            "color": "#2a3f5f"
           }
          },
          "ternary": {
           "aaxis": {
            "gridcolor": "white",
            "linecolor": "white",
            "ticks": ""
           },
           "baxis": {
            "gridcolor": "white",
            "linecolor": "white",
            "ticks": ""
           },
           "bgcolor": "#E5ECF6",
           "caxis": {
            "gridcolor": "white",
            "linecolor": "white",
            "ticks": ""
           }
          },
          "title": {
           "x": 0.05
          },
          "xaxis": {
           "automargin": true,
           "gridcolor": "white",
           "linecolor": "white",
           "ticks": "",
           "title": {
            "standoff": 15
           },
           "zerolinecolor": "white",
           "zerolinewidth": 2
          },
          "yaxis": {
           "automargin": true,
           "gridcolor": "white",
           "linecolor": "white",
           "ticks": "",
           "title": {
            "standoff": 15
           },
           "zerolinecolor": "white",
           "zerolinewidth": 2
          }
         }
        },
        "title": {
         "text": "Ontario Confirmed Cases with % Positivity Rate and 7-Day Rolling Average"
        },
        "xaxis": {
         "anchor": "y",
         "domain": [
          0,
          1
         ],
         "title": {
          "text": "Reported Date"
         }
        },
        "yaxis": {
         "anchor": "x",
         "domain": [
          0,
          1
         ],
         "title": {
          "text": "New Cases"
         }
        }
       }
      }
     },
     "metadata": {}
    }
   ],
   "source": [
    "#hide_input\n",
    "\n",
    "# report daily case load and % positivity\n",
    "\n",
    "fig_conf = px.bar(df_testing,\n",
    "              x='Reported Date',\n",
    "              y='New Cases',\n",
    "              color='7 Day Avg Percent Positivity', range_color=[0,8],\n",
    "              title='Ontario Confirmed Cases with % Positivity Rate and 7-Day Rolling Average',\n",
    "              labels={'7 Day Avg Percent Positivity': '% Positivity Rate'}\n",
    "              )\n",
    "fig_conf.update_layout(bargap=0)\n",
    "\n",
    "fig_conf.update_layout(coloraxis_colorbar=dict(yanchor=\"top\", y=1, x=1,\n",
    "                                          ticks=\"outside\",\n",
    "                                          ticksuffix=\"\"))\n",
    "\n",
    "fig_conf.add_trace(go.Scatter(\n",
    "    x=df_testing['Reported Date'],\n",
    "    y=df_testing['New Cases 7 Day Average'],\n",
    "    mode='lines',\n",
    "    name='7d Avg',\n",
    "    line=dict(color=\"#057D41\", dash=\"solid\")\n",
    "    ))\n",
    "\n",
    "fig_conf.update_layout(legend=dict(\n",
    "    orientation=\"h\",\n",
    "    yanchor=\"bottom\",\n",
    "    y=1.02,\n",
    "    xanchor=\"right\",\n",
    "    x=1,))"
   ]
  },
  {
   "cell_type": "code",
   "execution_count": 19,
   "metadata": {
    "colab": {
     "base_uri": "https://localhost:8080/",
     "height": 542
    },
    "executionInfo": {
     "elapsed": 5882,
     "status": "ok",
     "timestamp": 1608260151061,
     "user": {
      "displayName": "Vijay S",
      "photoUrl": "https://lh4.googleusercontent.com/-Y3kqresK7tQ/AAAAAAAAAAI/AAAAAAAAIow/dmSWQoFZ3gU/s64/photo.jpg",
      "userId": "09127601101212446573"
     },
     "user_tz": 300
    },
    "id": "0IwYRIlrCOjW",
    "outputId": "c8010761-69bb-4e02-dd3c-531e8d829c91"
   },
   "outputs": [
    {
     "output_type": "display_data",
     "data": {
      "application/vnd.plotly.v1+json": {
       "config": {
        "plotlyServerURL": "https://plot.ly"
       },
       "data": [
        {
         "alignmentgroup": "True",
         "hovertemplate": "Reported Date=%{x}<br>Tests Completed=%{y}<br>% Positivity Rate=%{marker.color}<extra></extra>",
         "legendgroup": "",
         "marker": {
          "color": [
           52.74,
           21.32,
           13.76,
           10.07,
           8.2,
           7.18,
           6.19,
           5.81,
           5.88,
           5.71,
           5.6,
           5.24,
           4.75,
           4.62,
           4.35,
           4,
           3.55,
           3.37,
           3.19,
           3.07,
           2.94,
           2.96,
           2.84,
           2.9,
           2.67,
           2.52,
           2.48,
           2.42,
           2.3,
           2.2,
           2.04,
           2.11,
           2.18,
           2.27,
           2.48,
           2.76,
           3.06,
           3.47,
           3.82,
           4.28,
           4.5,
           4.03,
           3.5,
           3.17,
           2.82,
           2.46,
           2.21,
           2.08,
           2.13,
           2.12,
           2.04,
           1.97,
           2.04,
           2.07,
           1.94,
           1.8,
           1.7,
           1.55,
           1.38,
           1.21,
           1.03,
           0.95,
           0.88,
           0.82,
           0.8,
           0.8,
           0.77,
           0.75,
           0.74,
           0.79,
           0.77,
           0.77,
           0.71,
           0.67,
           0.65,
           0.68,
           0.63,
           0.61,
           0.6,
           0.65,
           0.67,
           0.67,
           0.64,
           0.65,
           0.64,
           0.65,
           0.6,
           0.58,
           0.57,
           0.53,
           0.52,
           0.51,
           0.48,
           0.47,
           0.49,
           0.5,
           0.52,
           0.55,
           0.58,
           0.58,
           0.64,
           0.62,
           0.6,
           0.58,
           0.55,
           0.49,
           0.48,
           0.44,
           0.42,
           0.4,
           0.39,
           0.38,
           0.4,
           0.41,
           0.39,
           0.38,
           0.36,
           0.38,
           0.34,
           0.33,
           0.32,
           0.31,
           0.32,
           0.33,
           0.31,
           0.36,
           0.36,
           0.37,
           0.4,
           0.4,
           0.42,
           0.44,
           0.43,
           0.43,
           0.45,
           0.44,
           0.45,
           0.44,
           0.44,
           0.43,
           0.45,
           0.47,
           0.49,
           0.51,
           0.52,
           0.57,
           0.61,
           0.65,
           0.68,
           0.7,
           0.7,
           0.72,
           0.76,
           0.77,
           0.81,
           0.83,
           0.9,
           0.96,
           0.99,
           1.03,
           1.1,
           1.07,
           1.14,
           1.12,
           1.11,
           1.15,
           1.21,
           1.22,
           1.33,
           1.33,
           1.45,
           1.51,
           1.56,
           1.54,
           1.52,
           1.46,
           1.51,
           1.55,
           1.61,
           1.62,
           1.69,
           1.82,
           1.94,
           2,
           1.96,
           1.95,
           1.98,
           1.98,
           2.06,
           2.09,
           2.12,
           2.15,
           2.23,
           2.4,
           2.49,
           2.49,
           2.54,
           2.61,
           2.63,
           2.67,
           2.66,
           2.71,
           2.79,
           2.87,
           2.89,
           2.93,
           3.02,
           3.16,
           3.28,
           3.37,
           3.44,
           3.61,
           3.78,
           3.87,
           3.77,
           3.79,
           3.78,
           3.82,
           3.65,
           3.56,
           3.53,
           3.58,
           3.57,
           3.47,
           3.43,
           3.45,
           3.48,
           3.46,
           3.44,
           3.46,
           3.6,
           3.62,
           3.66,
           3.66,
           3.63,
           3.63,
           3.62,
           3.57,
           3.57,
           3.53,
           3.48,
           3.43,
           3.38,
           3.28,
           3.43,
           3.48,
           3.63,
           3.7,
           3.8
          ],
          "coloraxis": "coloraxis"
         },
         "name": "",
         "offsetgroup": "",
         "orientation": "v",
         "showlegend": false,
         "textposition": "auto",
         "type": "bar",
         "x": [
          "2020-04-15T00:00:00",
          "2020-04-16T00:00:00",
          "2020-04-17T00:00:00",
          "2020-04-18T00:00:00",
          "2020-04-19T00:00:00",
          "2020-04-20T00:00:00",
          "2020-04-21T00:00:00",
          "2020-04-22T00:00:00",
          "2020-04-23T00:00:00",
          "2020-04-24T00:00:00",
          "2020-04-25T00:00:00",
          "2020-04-26T00:00:00",
          "2020-04-27T00:00:00",
          "2020-04-28T00:00:00",
          "2020-04-29T00:00:00",
          "2020-04-30T00:00:00",
          "2020-05-01T00:00:00",
          "2020-05-02T00:00:00",
          "2020-05-03T00:00:00",
          "2020-05-04T00:00:00",
          "2020-05-05T00:00:00",
          "2020-05-06T00:00:00",
          "2020-05-07T00:00:00",
          "2020-05-08T00:00:00",
          "2020-05-09T00:00:00",
          "2020-05-10T00:00:00",
          "2020-05-11T00:00:00",
          "2020-05-12T00:00:00",
          "2020-05-13T00:00:00",
          "2020-05-14T00:00:00",
          "2020-05-15T00:00:00",
          "2020-05-16T00:00:00",
          "2020-05-17T00:00:00",
          "2020-05-18T00:00:00",
          "2020-05-19T00:00:00",
          "2020-05-20T00:00:00",
          "2020-05-21T00:00:00",
          "2020-05-22T00:00:00",
          "2020-05-23T00:00:00",
          "2020-05-24T00:00:00",
          "2020-05-25T00:00:00",
          "2020-05-26T00:00:00",
          "2020-05-27T00:00:00",
          "2020-05-28T00:00:00",
          "2020-05-29T00:00:00",
          "2020-05-30T00:00:00",
          "2020-05-31T00:00:00",
          "2020-06-01T00:00:00",
          "2020-06-02T00:00:00",
          "2020-06-03T00:00:00",
          "2020-06-04T00:00:00",
          "2020-06-05T00:00:00",
          "2020-06-06T00:00:00",
          "2020-06-07T00:00:00",
          "2020-06-08T00:00:00",
          "2020-06-09T00:00:00",
          "2020-06-10T00:00:00",
          "2020-06-11T00:00:00",
          "2020-06-12T00:00:00",
          "2020-06-13T00:00:00",
          "2020-06-14T00:00:00",
          "2020-06-15T00:00:00",
          "2020-06-16T00:00:00",
          "2020-06-17T00:00:00",
          "2020-06-18T00:00:00",
          "2020-06-19T00:00:00",
          "2020-06-20T00:00:00",
          "2020-06-21T00:00:00",
          "2020-06-22T00:00:00",
          "2020-06-23T00:00:00",
          "2020-06-24T00:00:00",
          "2020-06-25T00:00:00",
          "2020-06-26T00:00:00",
          "2020-06-27T00:00:00",
          "2020-06-28T00:00:00",
          "2020-06-29T00:00:00",
          "2020-06-30T00:00:00",
          "2020-07-01T00:00:00",
          "2020-07-02T00:00:00",
          "2020-07-03T00:00:00",
          "2020-07-04T00:00:00",
          "2020-07-05T00:00:00",
          "2020-07-06T00:00:00",
          "2020-07-07T00:00:00",
          "2020-07-08T00:00:00",
          "2020-07-09T00:00:00",
          "2020-07-10T00:00:00",
          "2020-07-11T00:00:00",
          "2020-07-12T00:00:00",
          "2020-07-13T00:00:00",
          "2020-07-14T00:00:00",
          "2020-07-15T00:00:00",
          "2020-07-16T00:00:00",
          "2020-07-17T00:00:00",
          "2020-07-18T00:00:00",
          "2020-07-19T00:00:00",
          "2020-07-20T00:00:00",
          "2020-07-21T00:00:00",
          "2020-07-22T00:00:00",
          "2020-07-23T00:00:00",
          "2020-07-24T00:00:00",
          "2020-07-25T00:00:00",
          "2020-07-26T00:00:00",
          "2020-07-27T00:00:00",
          "2020-07-28T00:00:00",
          "2020-07-29T00:00:00",
          "2020-07-30T00:00:00",
          "2020-07-31T00:00:00",
          "2020-08-01T00:00:00",
          "2020-08-02T00:00:00",
          "2020-08-03T00:00:00",
          "2020-08-04T00:00:00",
          "2020-08-05T00:00:00",
          "2020-08-06T00:00:00",
          "2020-08-07T00:00:00",
          "2020-08-08T00:00:00",
          "2020-08-09T00:00:00",
          "2020-08-10T00:00:00",
          "2020-08-11T00:00:00",
          "2020-08-12T00:00:00",
          "2020-08-13T00:00:00",
          "2020-08-14T00:00:00",
          "2020-08-15T00:00:00",
          "2020-08-16T00:00:00",
          "2020-08-17T00:00:00",
          "2020-08-18T00:00:00",
          "2020-08-19T00:00:00",
          "2020-08-20T00:00:00",
          "2020-08-21T00:00:00",
          "2020-08-22T00:00:00",
          "2020-08-23T00:00:00",
          "2020-08-24T00:00:00",
          "2020-08-25T00:00:00",
          "2020-08-26T00:00:00",
          "2020-08-27T00:00:00",
          "2020-08-28T00:00:00",
          "2020-08-29T00:00:00",
          "2020-08-30T00:00:00",
          "2020-08-31T00:00:00",
          "2020-09-01T00:00:00",
          "2020-09-02T00:00:00",
          "2020-09-03T00:00:00",
          "2020-09-04T00:00:00",
          "2020-09-05T00:00:00",
          "2020-09-06T00:00:00",
          "2020-09-07T00:00:00",
          "2020-09-08T00:00:00",
          "2020-09-09T00:00:00",
          "2020-09-10T00:00:00",
          "2020-09-11T00:00:00",
          "2020-09-12T00:00:00",
          "2020-09-13T00:00:00",
          "2020-09-14T00:00:00",
          "2020-09-15T00:00:00",
          "2020-09-16T00:00:00",
          "2020-09-17T00:00:00",
          "2020-09-18T00:00:00",
          "2020-09-19T00:00:00",
          "2020-09-20T00:00:00",
          "2020-09-21T00:00:00",
          "2020-09-22T00:00:00",
          "2020-09-23T00:00:00",
          "2020-09-24T00:00:00",
          "2020-09-25T00:00:00",
          "2020-09-26T00:00:00",
          "2020-09-27T00:00:00",
          "2020-09-28T00:00:00",
          "2020-09-29T00:00:00",
          "2020-09-30T00:00:00",
          "2020-10-01T00:00:00",
          "2020-10-02T00:00:00",
          "2020-10-03T00:00:00",
          "2020-10-04T00:00:00",
          "2020-10-05T00:00:00",
          "2020-10-06T00:00:00",
          "2020-10-07T00:00:00",
          "2020-10-08T00:00:00",
          "2020-10-09T00:00:00",
          "2020-10-10T00:00:00",
          "2020-10-11T00:00:00",
          "2020-10-12T00:00:00",
          "2020-10-13T00:00:00",
          "2020-10-14T00:00:00",
          "2020-10-15T00:00:00",
          "2020-10-16T00:00:00",
          "2020-10-17T00:00:00",
          "2020-10-18T00:00:00",
          "2020-10-19T00:00:00",
          "2020-10-20T00:00:00",
          "2020-10-21T00:00:00",
          "2020-10-22T00:00:00",
          "2020-10-23T00:00:00",
          "2020-10-24T00:00:00",
          "2020-10-25T00:00:00",
          "2020-10-26T00:00:00",
          "2020-10-27T00:00:00",
          "2020-10-28T00:00:00",
          "2020-10-29T00:00:00",
          "2020-10-30T00:00:00",
          "2020-10-31T00:00:00",
          "2020-11-01T00:00:00",
          "2020-11-02T00:00:00",
          "2020-11-03T00:00:00",
          "2020-11-04T00:00:00",
          "2020-11-05T00:00:00",
          "2020-11-06T00:00:00",
          "2020-11-07T00:00:00",
          "2020-11-08T00:00:00",
          "2020-11-09T00:00:00",
          "2020-11-10T00:00:00",
          "2020-11-11T00:00:00",
          "2020-11-12T00:00:00",
          "2020-11-13T00:00:00",
          "2020-11-14T00:00:00",
          "2020-11-15T00:00:00",
          "2020-11-16T00:00:00",
          "2020-11-17T00:00:00",
          "2020-11-18T00:00:00",
          "2020-11-19T00:00:00",
          "2020-11-20T00:00:00",
          "2020-11-21T00:00:00",
          "2020-11-22T00:00:00",
          "2020-11-23T00:00:00",
          "2020-11-24T00:00:00",
          "2020-11-25T00:00:00",
          "2020-11-26T00:00:00",
          "2020-11-27T00:00:00",
          "2020-11-28T00:00:00",
          "2020-11-29T00:00:00",
          "2020-11-30T00:00:00",
          "2020-12-01T00:00:00",
          "2020-12-02T00:00:00",
          "2020-12-03T00:00:00",
          "2020-12-04T00:00:00",
          "2020-12-05T00:00:00",
          "2020-12-06T00:00:00",
          "2020-12-07T00:00:00",
          "2020-12-08T00:00:00",
          "2020-12-09T00:00:00",
          "2020-12-10T00:00:00",
          "2020-12-11T00:00:00",
          "2020-12-12T00:00:00",
          "2020-12-13T00:00:00",
          "2020-12-14T00:00:00",
          "2020-12-15T00:00:00",
          "2020-12-16T00:00:00",
          "2020-12-17T00:00:00",
          "2020-12-18T00:00:00",
          "2020-12-19T00:00:00"
         ],
         "xaxis": "x",
         "y": [
          6010,
          9001,
          8899,
          9462,
          9643,
          8743,
          9330,
          10361,
          10214,
          12295,
          10578,
          12020,
          12550,
          10852,
          11554,
          12928,
          16532,
          16305,
          17146,
          14555,
          10654,
          12961,
          15179,
          16295,
          19227,
          17618,
          13970,
          11957,
          15137,
          17429,
          18354,
          17768,
          16217,
          9155,
          5813,
          7382,
          10506,
          11276,
          11028,
          11383,
          8170,
          9875,
          15133,
          17615,
          18525,
          20640,
          17014,
          14379,
          15244,
          17537,
          20822,
          22730,
          23105,
          19374,
          15357,
          13509,
          19941,
          24341,
          28335,
          27456,
          23278,
          21751,
          21724,
          24205,
          25278,
          27225,
          27387,
          23408,
          21900,
          16189,
          23207,
          27511,
          30780,
          33492,
          28633,
          27127,
          23759,
          26056,
          24322,
          24194,
          21425,
          23792,
          17303,
          15112,
          22832,
          26326,
          27484,
          29522,
          25726,
          20896,
          16744,
          23769,
          26492,
          31163,
          28849,
          26890,
          20913,
          22974,
          23990,
          26001,
          28809,
          29904,
          26144,
          24664,
          17334,
          27308,
          27676,
          30033,
          33282,
          30443,
          23021,
          19169,
          17229,
          26181,
          25136,
          26008,
          27771,
          22275,
          21581,
          24572,
          29626,
          30137,
          30436,
          23813,
          25567,
          23067,
          25642,
          25917,
          28073,
          28656,
          23384,
          18790,
          20013,
          21960,
          28625,
          31823,
          32106,
          24970,
          25098,
          23545,
          24004,
          26298,
          28591,
          28672,
          28955,
          23725,
          20929,
          17605,
          24669,
          32501,
          35618,
          31143,
          29540,
          27664,
          28761,
          35134,
          35826,
          38940,
          40127,
          31753,
          34201,
          35436,
          30634,
          41865,
          43238,
          42509,
          41111,
          38375,
          35753,
          39646,
          40093,
          46254,
          39661,
          38196,
          42031,
          43277,
          48488,
          44914,
          44298,
          44138,
          36473,
          31233,
          32206,
          39961,
          38507,
          44722,
          40850,
          31864,
          24049,
          32646,
          38860,
          40019,
          44151,
          38769,
          28652,
          23945,
          30010,
          35621,
          41008,
          41920,
          37133,
          27908,
          25279,
          28567,
          35754,
          41268,
          39165,
          37577,
          28401,
          29125,
          36707,
          39559,
          40509,
          44837,
          42206,
          33351,
          26468,
          33440,
          41838,
          48173,
          46671,
          46389,
          37471,
          27053,
          36076,
          47576,
          58037,
          55086,
          53959,
          39406,
          34640,
          44226,
          52873,
          56001,
          59399,
          59251,
          45283,
          39198,
          48546,
          61809,
          63051,
          65260,
          58190,
          57091,
          39566,
          49189,
          58178,
          68246,
          67207
         ],
         "yaxis": "y"
        },
        {
         "line": {
          "color": "#1E90FF",
          "dash": "solid"
         },
         "mode": "lines",
         "name": "7d Avg",
         "type": "scatter",
         "x": [
          "2020-04-15T00:00:00",
          "2020-04-16T00:00:00",
          "2020-04-17T00:00:00",
          "2020-04-18T00:00:00",
          "2020-04-19T00:00:00",
          "2020-04-20T00:00:00",
          "2020-04-21T00:00:00",
          "2020-04-22T00:00:00",
          "2020-04-23T00:00:00",
          "2020-04-24T00:00:00",
          "2020-04-25T00:00:00",
          "2020-04-26T00:00:00",
          "2020-04-27T00:00:00",
          "2020-04-28T00:00:00",
          "2020-04-29T00:00:00",
          "2020-04-30T00:00:00",
          "2020-05-01T00:00:00",
          "2020-05-02T00:00:00",
          "2020-05-03T00:00:00",
          "2020-05-04T00:00:00",
          "2020-05-05T00:00:00",
          "2020-05-06T00:00:00",
          "2020-05-07T00:00:00",
          "2020-05-08T00:00:00",
          "2020-05-09T00:00:00",
          "2020-05-10T00:00:00",
          "2020-05-11T00:00:00",
          "2020-05-12T00:00:00",
          "2020-05-13T00:00:00",
          "2020-05-14T00:00:00",
          "2020-05-15T00:00:00",
          "2020-05-16T00:00:00",
          "2020-05-17T00:00:00",
          "2020-05-18T00:00:00",
          "2020-05-19T00:00:00",
          "2020-05-20T00:00:00",
          "2020-05-21T00:00:00",
          "2020-05-22T00:00:00",
          "2020-05-23T00:00:00",
          "2020-05-24T00:00:00",
          "2020-05-25T00:00:00",
          "2020-05-26T00:00:00",
          "2020-05-27T00:00:00",
          "2020-05-28T00:00:00",
          "2020-05-29T00:00:00",
          "2020-05-30T00:00:00",
          "2020-05-31T00:00:00",
          "2020-06-01T00:00:00",
          "2020-06-02T00:00:00",
          "2020-06-03T00:00:00",
          "2020-06-04T00:00:00",
          "2020-06-05T00:00:00",
          "2020-06-06T00:00:00",
          "2020-06-07T00:00:00",
          "2020-06-08T00:00:00",
          "2020-06-09T00:00:00",
          "2020-06-10T00:00:00",
          "2020-06-11T00:00:00",
          "2020-06-12T00:00:00",
          "2020-06-13T00:00:00",
          "2020-06-14T00:00:00",
          "2020-06-15T00:00:00",
          "2020-06-16T00:00:00",
          "2020-06-17T00:00:00",
          "2020-06-18T00:00:00",
          "2020-06-19T00:00:00",
          "2020-06-20T00:00:00",
          "2020-06-21T00:00:00",
          "2020-06-22T00:00:00",
          "2020-06-23T00:00:00",
          "2020-06-24T00:00:00",
          "2020-06-25T00:00:00",
          "2020-06-26T00:00:00",
          "2020-06-27T00:00:00",
          "2020-06-28T00:00:00",
          "2020-06-29T00:00:00",
          "2020-06-30T00:00:00",
          "2020-07-01T00:00:00",
          "2020-07-02T00:00:00",
          "2020-07-03T00:00:00",
          "2020-07-04T00:00:00",
          "2020-07-05T00:00:00",
          "2020-07-06T00:00:00",
          "2020-07-07T00:00:00",
          "2020-07-08T00:00:00",
          "2020-07-09T00:00:00",
          "2020-07-10T00:00:00",
          "2020-07-11T00:00:00",
          "2020-07-12T00:00:00",
          "2020-07-13T00:00:00",
          "2020-07-14T00:00:00",
          "2020-07-15T00:00:00",
          "2020-07-16T00:00:00",
          "2020-07-17T00:00:00",
          "2020-07-18T00:00:00",
          "2020-07-19T00:00:00",
          "2020-07-20T00:00:00",
          "2020-07-21T00:00:00",
          "2020-07-22T00:00:00",
          "2020-07-23T00:00:00",
          "2020-07-24T00:00:00",
          "2020-07-25T00:00:00",
          "2020-07-26T00:00:00",
          "2020-07-27T00:00:00",
          "2020-07-28T00:00:00",
          "2020-07-29T00:00:00",
          "2020-07-30T00:00:00",
          "2020-07-31T00:00:00",
          "2020-08-01T00:00:00",
          "2020-08-02T00:00:00",
          "2020-08-03T00:00:00",
          "2020-08-04T00:00:00",
          "2020-08-05T00:00:00",
          "2020-08-06T00:00:00",
          "2020-08-07T00:00:00",
          "2020-08-08T00:00:00",
          "2020-08-09T00:00:00",
          "2020-08-10T00:00:00",
          "2020-08-11T00:00:00",
          "2020-08-12T00:00:00",
          "2020-08-13T00:00:00",
          "2020-08-14T00:00:00",
          "2020-08-15T00:00:00",
          "2020-08-16T00:00:00",
          "2020-08-17T00:00:00",
          "2020-08-18T00:00:00",
          "2020-08-19T00:00:00",
          "2020-08-20T00:00:00",
          "2020-08-21T00:00:00",
          "2020-08-22T00:00:00",
          "2020-08-23T00:00:00",
          "2020-08-24T00:00:00",
          "2020-08-25T00:00:00",
          "2020-08-26T00:00:00",
          "2020-08-27T00:00:00",
          "2020-08-28T00:00:00",
          "2020-08-29T00:00:00",
          "2020-08-30T00:00:00",
          "2020-08-31T00:00:00",
          "2020-09-01T00:00:00",
          "2020-09-02T00:00:00",
          "2020-09-03T00:00:00",
          "2020-09-04T00:00:00",
          "2020-09-05T00:00:00",
          "2020-09-06T00:00:00",
          "2020-09-07T00:00:00",
          "2020-09-08T00:00:00",
          "2020-09-09T00:00:00",
          "2020-09-10T00:00:00",
          "2020-09-11T00:00:00",
          "2020-09-12T00:00:00",
          "2020-09-13T00:00:00",
          "2020-09-14T00:00:00",
          "2020-09-15T00:00:00",
          "2020-09-16T00:00:00",
          "2020-09-17T00:00:00",
          "2020-09-18T00:00:00",
          "2020-09-19T00:00:00",
          "2020-09-20T00:00:00",
          "2020-09-21T00:00:00",
          "2020-09-22T00:00:00",
          "2020-09-23T00:00:00",
          "2020-09-24T00:00:00",
          "2020-09-25T00:00:00",
          "2020-09-26T00:00:00",
          "2020-09-27T00:00:00",
          "2020-09-28T00:00:00",
          "2020-09-29T00:00:00",
          "2020-09-30T00:00:00",
          "2020-10-01T00:00:00",
          "2020-10-02T00:00:00",
          "2020-10-03T00:00:00",
          "2020-10-04T00:00:00",
          "2020-10-05T00:00:00",
          "2020-10-06T00:00:00",
          "2020-10-07T00:00:00",
          "2020-10-08T00:00:00",
          "2020-10-09T00:00:00",
          "2020-10-10T00:00:00",
          "2020-10-11T00:00:00",
          "2020-10-12T00:00:00",
          "2020-10-13T00:00:00",
          "2020-10-14T00:00:00",
          "2020-10-15T00:00:00",
          "2020-10-16T00:00:00",
          "2020-10-17T00:00:00",
          "2020-10-18T00:00:00",
          "2020-10-19T00:00:00",
          "2020-10-20T00:00:00",
          "2020-10-21T00:00:00",
          "2020-10-22T00:00:00",
          "2020-10-23T00:00:00",
          "2020-10-24T00:00:00",
          "2020-10-25T00:00:00",
          "2020-10-26T00:00:00",
          "2020-10-27T00:00:00",
          "2020-10-28T00:00:00",
          "2020-10-29T00:00:00",
          "2020-10-30T00:00:00",
          "2020-10-31T00:00:00",
          "2020-11-01T00:00:00",
          "2020-11-02T00:00:00",
          "2020-11-03T00:00:00",
          "2020-11-04T00:00:00",
          "2020-11-05T00:00:00",
          "2020-11-06T00:00:00",
          "2020-11-07T00:00:00",
          "2020-11-08T00:00:00",
          "2020-11-09T00:00:00",
          "2020-11-10T00:00:00",
          "2020-11-11T00:00:00",
          "2020-11-12T00:00:00",
          "2020-11-13T00:00:00",
          "2020-11-14T00:00:00",
          "2020-11-15T00:00:00",
          "2020-11-16T00:00:00",
          "2020-11-17T00:00:00",
          "2020-11-18T00:00:00",
          "2020-11-19T00:00:00",
          "2020-11-20T00:00:00",
          "2020-11-21T00:00:00",
          "2020-11-22T00:00:00",
          "2020-11-23T00:00:00",
          "2020-11-24T00:00:00",
          "2020-11-25T00:00:00",
          "2020-11-26T00:00:00",
          "2020-11-27T00:00:00",
          "2020-11-28T00:00:00",
          "2020-11-29T00:00:00",
          "2020-11-30T00:00:00",
          "2020-12-01T00:00:00",
          "2020-12-02T00:00:00",
          "2020-12-03T00:00:00",
          "2020-12-04T00:00:00",
          "2020-12-05T00:00:00",
          "2020-12-06T00:00:00",
          "2020-12-07T00:00:00",
          "2020-12-08T00:00:00",
          "2020-12-09T00:00:00",
          "2020-12-10T00:00:00",
          "2020-12-11T00:00:00",
          "2020-12-12T00:00:00",
          "2020-12-13T00:00:00",
          "2020-12-14T00:00:00",
          "2020-12-15T00:00:00",
          "2020-12-16T00:00:00",
          "2020-12-17T00:00:00",
          "2020-12-18T00:00:00",
          "2020-12-19T00:00:00"
         ],
         "y": [
          859,
          2144,
          3416,
          4767,
          6145,
          7394,
          8727,
          9348,
          9522,
          10007,
          10166,
          10506,
          11050,
          11267,
          11438,
          11825,
          12431,
          13249,
          13981,
          14267,
          14239,
          14440,
          14762,
          14728,
          15145,
          15213,
          15129,
          15315,
          15626,
          15948,
          16242,
          16033,
          15833,
          15145,
          14268,
          13160,
          12171,
          11160,
          10197,
          9506,
          9365,
          9946,
          11053,
          12069,
          13104,
          14477,
          15282,
          16169,
          16936,
          17279,
          17737,
          18338,
          18690,
          19027,
          19167,
          18919,
          19263,
          19765,
          20566,
          21188,
          21745,
          22659,
          23832,
          24441,
          24575,
          24417,
          24407,
          24425,
          24447,
          23656,
          23513,
          23832,
          24340,
          25212,
          25959,
          26706,
          27787,
          28194,
          27738,
          26798,
          25074,
          24382,
          22979,
          21743,
          21283,
          21569,
          22039,
          23196,
          23472,
          23985,
          24219,
          24352,
          24376,
          24902,
          24806,
          24972,
          24974,
          25864,
          25896,
          25826,
          25489,
          25640,
          25534,
          26069,
          25264,
          25738,
          25977,
          26152,
          26634,
          27249,
          27014,
          27276,
          25836,
          25623,
          24923,
          23884,
          23502,
          23396,
          23740,
          24789,
          25281,
          25996,
          26628,
          26063,
          26533,
          26745,
          26898,
          26368,
          26074,
          25819,
          25758,
          24790,
          24354,
          23828,
          24214,
          24750,
          25243,
          25470,
          26371,
          26875,
          27167,
          26835,
          26373,
          25883,
          26452,
          26256,
          25882,
          24968,
          24735,
          25294,
          26286,
          26599,
          27429,
          28391,
          29985,
          31480,
          31955,
          32430,
          33713,
          34029,
          34963,
          35917,
          35274,
          36137,
          36751,
          37091,
          38428,
          39024,
          39069,
          40357,
          40104,
          40534,
          40128,
          39711,
          40233,
          41308,
          42571,
          43260,
          42981,
          43620,
          43374,
          41832,
          40250,
          39032,
          38117,
          38177,
          37707,
          37049,
          36023,
          36086,
          35928,
          36144,
          36063,
          35765,
          35307,
          35292,
          34915,
          34452,
          34594,
          34275,
          34041,
          33935,
          34126,
          33919,
          33938,
          33976,
          33582,
          33645,
          33716,
          34265,
          35428,
          35972,
          35863,
          36674,
          37335,
          38042,
          37662,
          37196,
          37521,
          38616,
          38878,
          39476,
          40064,
          40148,
          40524,
          41344,
          42753,
          43955,
          45037,
          45313,
          46397,
          47561,
          48318,
          48027,
          48643,
          49399,
          50239,
          50890,
          51507,
          52784,
          53791,
          54628,
          54477,
          56164,
          56216,
          56308,
          55789,
          56531,
          56810
         ]
        }
       ],
       "layout": {
        "bargap": 0,
        "barmode": "relative",
        "coloraxis": {
         "cmax": 8,
         "cmin": 0,
         "colorbar": {
          "ticks": "outside",
          "ticksuffix": "",
          "title": {
           "text": "% Positivity Rate"
          },
          "x": 1,
          "y": 1,
          "yanchor": "top"
         },
         "colorscale": [
          [
           0,
           "rgb(2,4,25)"
          ],
          [
           0.0625,
           "rgb(24,15,41)"
          ],
          [
           0.125,
           "rgb(47,23,57)"
          ],
          [
           0.1875,
           "rgb(71,28,72)"
          ],
          [
           0.25,
           "rgb(97,30,82)"
          ],
          [
           0.3125,
           "rgb(123,30,89)"
          ],
          [
           0.375,
           "rgb(150,27,91)"
          ],
          [
           0.4375,
           "rgb(177,22,88)"
          ],
          [
           0.5,
           "rgb(203,26,79)"
          ],
          [
           0.5625,
           "rgb(223,47,67)"
          ],
          [
           0.625,
           "rgb(236,76,61)"
          ],
          [
           0.6875,
           "rgb(242,107,73)"
          ],
          [
           0.75,
           "rgb(244,135,95)"
          ],
          [
           0.8125,
           "rgb(245,162,122)"
          ],
          [
           0.875,
           "rgb(246,188,153)"
          ],
          [
           0.9375,
           "rgb(247,212,187)"
          ],
          [
           1,
           "rgb(250,234,220)"
          ]
         ]
        },
        "legend": {
         "orientation": "h",
         "tracegroupgap": 0,
         "x": 1,
         "xanchor": "right",
         "y": 1.02,
         "yanchor": "bottom"
        },
        "template": {
         "data": {
          "bar": [
           {
            "error_x": {
             "color": "rgb(36,36,36)"
            },
            "error_y": {
             "color": "rgb(36,36,36)"
            },
            "marker": {
             "line": {
              "color": "rgb(234,234,242)",
              "width": 0.5
             }
            },
            "type": "bar"
           }
          ],
          "barpolar": [
           {
            "marker": {
             "line": {
              "color": "rgb(234,234,242)",
              "width": 0.5
             }
            },
            "type": "barpolar"
           }
          ],
          "carpet": [
           {
            "aaxis": {
             "endlinecolor": "rgb(36,36,36)",
             "gridcolor": "white",
             "linecolor": "white",
             "minorgridcolor": "white",
             "startlinecolor": "rgb(36,36,36)"
            },
            "baxis": {
             "endlinecolor": "rgb(36,36,36)",
             "gridcolor": "white",
             "linecolor": "white",
             "minorgridcolor": "white",
             "startlinecolor": "rgb(36,36,36)"
            },
            "type": "carpet"
           }
          ],
          "choropleth": [
           {
            "colorbar": {
             "outlinewidth": 0,
             "tickcolor": "rgb(36,36,36)",
             "ticklen": 8,
             "ticks": "outside",
             "tickwidth": 2
            },
            "type": "choropleth"
           }
          ],
          "contour": [
           {
            "colorbar": {
             "outlinewidth": 0,
             "tickcolor": "rgb(36,36,36)",
             "ticklen": 8,
             "ticks": "outside",
             "tickwidth": 2
            },
            "colorscale": [
             [
              0,
              "rgb(2,4,25)"
             ],
             [
              0.06274509803921569,
              "rgb(24,15,41)"
             ],
             [
              0.12549019607843137,
              "rgb(47,23,57)"
             ],
             [
              0.18823529411764706,
              "rgb(71,28,72)"
             ],
             [
              0.25098039215686274,
              "rgb(97,30,82)"
             ],
             [
              0.3137254901960784,
              "rgb(123,30,89)"
             ],
             [
              0.3764705882352941,
              "rgb(150,27,91)"
             ],
             [
              0.4392156862745098,
              "rgb(177,22,88)"
             ],
             [
              0.5019607843137255,
              "rgb(203,26,79)"
             ],
             [
              0.5647058823529412,
              "rgb(223,47,67)"
             ],
             [
              0.6274509803921569,
              "rgb(236,76,61)"
             ],
             [
              0.6901960784313725,
              "rgb(242,107,73)"
             ],
             [
              0.7529411764705882,
              "rgb(244,135,95)"
             ],
             [
              0.8156862745098039,
              "rgb(245,162,122)"
             ],
             [
              0.8784313725490196,
              "rgb(246,188,153)"
             ],
             [
              0.9411764705882353,
              "rgb(247,212,187)"
             ],
             [
              1,
              "rgb(250,234,220)"
             ]
            ],
            "type": "contour"
           }
          ],
          "contourcarpet": [
           {
            "colorbar": {
             "outlinewidth": 0,
             "tickcolor": "rgb(36,36,36)",
             "ticklen": 8,
             "ticks": "outside",
             "tickwidth": 2
            },
            "type": "contourcarpet"
           }
          ],
          "heatmap": [
           {
            "colorbar": {
             "outlinewidth": 0,
             "tickcolor": "rgb(36,36,36)",
             "ticklen": 8,
             "ticks": "outside",
             "tickwidth": 2
            },
            "colorscale": [
             [
              0,
              "rgb(2,4,25)"
             ],
             [
              0.06274509803921569,
              "rgb(24,15,41)"
             ],
             [
              0.12549019607843137,
              "rgb(47,23,57)"
             ],
             [
              0.18823529411764706,
              "rgb(71,28,72)"
             ],
             [
              0.25098039215686274,
              "rgb(97,30,82)"
             ],
             [
              0.3137254901960784,
              "rgb(123,30,89)"
             ],
             [
              0.3764705882352941,
              "rgb(150,27,91)"
             ],
             [
              0.4392156862745098,
              "rgb(177,22,88)"
             ],
             [
              0.5019607843137255,
              "rgb(203,26,79)"
             ],
             [
              0.5647058823529412,
              "rgb(223,47,67)"
             ],
             [
              0.6274509803921569,
              "rgb(236,76,61)"
             ],
             [
              0.6901960784313725,
              "rgb(242,107,73)"
             ],
             [
              0.7529411764705882,
              "rgb(244,135,95)"
             ],
             [
              0.8156862745098039,
              "rgb(245,162,122)"
             ],
             [
              0.8784313725490196,
              "rgb(246,188,153)"
             ],
             [
              0.9411764705882353,
              "rgb(247,212,187)"
             ],
             [
              1,
              "rgb(250,234,220)"
             ]
            ],
            "type": "heatmap"
           }
          ],
          "heatmapgl": [
           {
            "colorbar": {
             "outlinewidth": 0,
             "tickcolor": "rgb(36,36,36)",
             "ticklen": 8,
             "ticks": "outside",
             "tickwidth": 2
            },
            "colorscale": [
             [
              0,
              "rgb(2,4,25)"
             ],
             [
              0.06274509803921569,
              "rgb(24,15,41)"
             ],
             [
              0.12549019607843137,
              "rgb(47,23,57)"
             ],
             [
              0.18823529411764706,
              "rgb(71,28,72)"
             ],
             [
              0.25098039215686274,
              "rgb(97,30,82)"
             ],
             [
              0.3137254901960784,
              "rgb(123,30,89)"
             ],
             [
              0.3764705882352941,
              "rgb(150,27,91)"
             ],
             [
              0.4392156862745098,
              "rgb(177,22,88)"
             ],
             [
              0.5019607843137255,
              "rgb(203,26,79)"
             ],
             [
              0.5647058823529412,
              "rgb(223,47,67)"
             ],
             [
              0.6274509803921569,
              "rgb(236,76,61)"
             ],
             [
              0.6901960784313725,
              "rgb(242,107,73)"
             ],
             [
              0.7529411764705882,
              "rgb(244,135,95)"
             ],
             [
              0.8156862745098039,
              "rgb(245,162,122)"
             ],
             [
              0.8784313725490196,
              "rgb(246,188,153)"
             ],
             [
              0.9411764705882353,
              "rgb(247,212,187)"
             ],
             [
              1,
              "rgb(250,234,220)"
             ]
            ],
            "type": "heatmapgl"
           }
          ],
          "histogram": [
           {
            "marker": {
             "colorbar": {
              "outlinewidth": 0,
              "tickcolor": "rgb(36,36,36)",
              "ticklen": 8,
              "ticks": "outside",
              "tickwidth": 2
             }
            },
            "type": "histogram"
           }
          ],
          "histogram2d": [
           {
            "colorbar": {
             "outlinewidth": 0,
             "tickcolor": "rgb(36,36,36)",
             "ticklen": 8,
             "ticks": "outside",
             "tickwidth": 2
            },
            "colorscale": [
             [
              0,
              "rgb(2,4,25)"
             ],
             [
              0.06274509803921569,
              "rgb(24,15,41)"
             ],
             [
              0.12549019607843137,
              "rgb(47,23,57)"
             ],
             [
              0.18823529411764706,
              "rgb(71,28,72)"
             ],
             [
              0.25098039215686274,
              "rgb(97,30,82)"
             ],
             [
              0.3137254901960784,
              "rgb(123,30,89)"
             ],
             [
              0.3764705882352941,
              "rgb(150,27,91)"
             ],
             [
              0.4392156862745098,
              "rgb(177,22,88)"
             ],
             [
              0.5019607843137255,
              "rgb(203,26,79)"
             ],
             [
              0.5647058823529412,
              "rgb(223,47,67)"
             ],
             [
              0.6274509803921569,
              "rgb(236,76,61)"
             ],
             [
              0.6901960784313725,
              "rgb(242,107,73)"
             ],
             [
              0.7529411764705882,
              "rgb(244,135,95)"
             ],
             [
              0.8156862745098039,
              "rgb(245,162,122)"
             ],
             [
              0.8784313725490196,
              "rgb(246,188,153)"
             ],
             [
              0.9411764705882353,
              "rgb(247,212,187)"
             ],
             [
              1,
              "rgb(250,234,220)"
             ]
            ],
            "type": "histogram2d"
           }
          ],
          "histogram2dcontour": [
           {
            "colorbar": {
             "outlinewidth": 0,
             "tickcolor": "rgb(36,36,36)",
             "ticklen": 8,
             "ticks": "outside",
             "tickwidth": 2
            },
            "colorscale": [
             [
              0,
              "rgb(2,4,25)"
             ],
             [
              0.06274509803921569,
              "rgb(24,15,41)"
             ],
             [
              0.12549019607843137,
              "rgb(47,23,57)"
             ],
             [
              0.18823529411764706,
              "rgb(71,28,72)"
             ],
             [
              0.25098039215686274,
              "rgb(97,30,82)"
             ],
             [
              0.3137254901960784,
              "rgb(123,30,89)"
             ],
             [
              0.3764705882352941,
              "rgb(150,27,91)"
             ],
             [
              0.4392156862745098,
              "rgb(177,22,88)"
             ],
             [
              0.5019607843137255,
              "rgb(203,26,79)"
             ],
             [
              0.5647058823529412,
              "rgb(223,47,67)"
             ],
             [
              0.6274509803921569,
              "rgb(236,76,61)"
             ],
             [
              0.6901960784313725,
              "rgb(242,107,73)"
             ],
             [
              0.7529411764705882,
              "rgb(244,135,95)"
             ],
             [
              0.8156862745098039,
              "rgb(245,162,122)"
             ],
             [
              0.8784313725490196,
              "rgb(246,188,153)"
             ],
             [
              0.9411764705882353,
              "rgb(247,212,187)"
             ],
             [
              1,
              "rgb(250,234,220)"
             ]
            ],
            "type": "histogram2dcontour"
           }
          ],
          "mesh3d": [
           {
            "colorbar": {
             "outlinewidth": 0,
             "tickcolor": "rgb(36,36,36)",
             "ticklen": 8,
             "ticks": "outside",
             "tickwidth": 2
            },
            "type": "mesh3d"
           }
          ],
          "parcoords": [
           {
            "line": {
             "colorbar": {
              "outlinewidth": 0,
              "tickcolor": "rgb(36,36,36)",
              "ticklen": 8,
              "ticks": "outside",
              "tickwidth": 2
             }
            },
            "type": "parcoords"
           }
          ],
          "pie": [
           {
            "automargin": true,
            "type": "pie"
           }
          ],
          "scatter": [
           {
            "marker": {
             "colorbar": {
              "outlinewidth": 0,
              "tickcolor": "rgb(36,36,36)",
              "ticklen": 8,
              "ticks": "outside",
              "tickwidth": 2
             }
            },
            "type": "scatter"
           }
          ],
          "scatter3d": [
           {
            "line": {
             "colorbar": {
              "outlinewidth": 0,
              "tickcolor": "rgb(36,36,36)",
              "ticklen": 8,
              "ticks": "outside",
              "tickwidth": 2
             }
            },
            "marker": {
             "colorbar": {
              "outlinewidth": 0,
              "tickcolor": "rgb(36,36,36)",
              "ticklen": 8,
              "ticks": "outside",
              "tickwidth": 2
             }
            },
            "type": "scatter3d"
           }
          ],
          "scattercarpet": [
           {
            "marker": {
             "colorbar": {
              "outlinewidth": 0,
              "tickcolor": "rgb(36,36,36)",
              "ticklen": 8,
              "ticks": "outside",
              "tickwidth": 2
             }
            },
            "type": "scattercarpet"
           }
          ],
          "scattergeo": [
           {
            "marker": {
             "colorbar": {
              "outlinewidth": 0,
              "tickcolor": "rgb(36,36,36)",
              "ticklen": 8,
              "ticks": "outside",
              "tickwidth": 2
             }
            },
            "type": "scattergeo"
           }
          ],
          "scattergl": [
           {
            "marker": {
             "colorbar": {
              "outlinewidth": 0,
              "tickcolor": "rgb(36,36,36)",
              "ticklen": 8,
              "ticks": "outside",
              "tickwidth": 2
             }
            },
            "type": "scattergl"
           }
          ],
          "scattermapbox": [
           {
            "marker": {
             "colorbar": {
              "outlinewidth": 0,
              "tickcolor": "rgb(36,36,36)",
              "ticklen": 8,
              "ticks": "outside",
              "tickwidth": 2
             }
            },
            "type": "scattermapbox"
           }
          ],
          "scatterpolar": [
           {
            "marker": {
             "colorbar": {
              "outlinewidth": 0,
              "tickcolor": "rgb(36,36,36)",
              "ticklen": 8,
              "ticks": "outside",
              "tickwidth": 2
             }
            },
            "type": "scatterpolar"
           }
          ],
          "scatterpolargl": [
           {
            "marker": {
             "colorbar": {
              "outlinewidth": 0,
              "tickcolor": "rgb(36,36,36)",
              "ticklen": 8,
              "ticks": "outside",
              "tickwidth": 2
             }
            },
            "type": "scatterpolargl"
           }
          ],
          "scatterternary": [
           {
            "marker": {
             "colorbar": {
              "outlinewidth": 0,
              "tickcolor": "rgb(36,36,36)",
              "ticklen": 8,
              "ticks": "outside",
              "tickwidth": 2
             }
            },
            "type": "scatterternary"
           }
          ],
          "surface": [
           {
            "colorbar": {
             "outlinewidth": 0,
             "tickcolor": "rgb(36,36,36)",
             "ticklen": 8,
             "ticks": "outside",
             "tickwidth": 2
            },
            "colorscale": [
             [
              0,
              "rgb(2,4,25)"
             ],
             [
              0.06274509803921569,
              "rgb(24,15,41)"
             ],
             [
              0.12549019607843137,
              "rgb(47,23,57)"
             ],
             [
              0.18823529411764706,
              "rgb(71,28,72)"
             ],
             [
              0.25098039215686274,
              "rgb(97,30,82)"
             ],
             [
              0.3137254901960784,
              "rgb(123,30,89)"
             ],
             [
              0.3764705882352941,
              "rgb(150,27,91)"
             ],
             [
              0.4392156862745098,
              "rgb(177,22,88)"
             ],
             [
              0.5019607843137255,
              "rgb(203,26,79)"
             ],
             [
              0.5647058823529412,
              "rgb(223,47,67)"
             ],
             [
              0.6274509803921569,
              "rgb(236,76,61)"
             ],
             [
              0.6901960784313725,
              "rgb(242,107,73)"
             ],
             [
              0.7529411764705882,
              "rgb(244,135,95)"
             ],
             [
              0.8156862745098039,
              "rgb(245,162,122)"
             ],
             [
              0.8784313725490196,
              "rgb(246,188,153)"
             ],
             [
              0.9411764705882353,
              "rgb(247,212,187)"
             ],
             [
              1,
              "rgb(250,234,220)"
             ]
            ],
            "type": "surface"
           }
          ],
          "table": [
           {
            "cells": {
             "fill": {
              "color": "rgb(231,231,240)"
             },
             "line": {
              "color": "white"
             }
            },
            "header": {
             "fill": {
              "color": "rgb(183,183,191)"
             },
             "line": {
              "color": "white"
             }
            },
            "type": "table"
           }
          ]
         },
         "layout": {
          "annotationdefaults": {
           "arrowcolor": "rgb(67,103,167)"
          },
          "coloraxis": {
           "colorbar": {
            "outlinewidth": 0,
            "tickcolor": "rgb(36,36,36)",
            "ticklen": 8,
            "ticks": "outside",
            "tickwidth": 2
           }
          },
          "colorscale": {
           "sequential": [
            [
             0,
             "rgb(2,4,25)"
            ],
            [
             0.06274509803921569,
             "rgb(24,15,41)"
            ],
            [
             0.12549019607843137,
             "rgb(47,23,57)"
            ],
            [
             0.18823529411764706,
             "rgb(71,28,72)"
            ],
            [
             0.25098039215686274,
             "rgb(97,30,82)"
            ],
            [
             0.3137254901960784,
             "rgb(123,30,89)"
            ],
            [
             0.3764705882352941,
             "rgb(150,27,91)"
            ],
            [
             0.4392156862745098,
             "rgb(177,22,88)"
            ],
            [
             0.5019607843137255,
             "rgb(203,26,79)"
            ],
            [
             0.5647058823529412,
             "rgb(223,47,67)"
            ],
            [
             0.6274509803921569,
             "rgb(236,76,61)"
            ],
            [
             0.6901960784313725,
             "rgb(242,107,73)"
            ],
            [
             0.7529411764705882,
             "rgb(244,135,95)"
            ],
            [
             0.8156862745098039,
             "rgb(245,162,122)"
            ],
            [
             0.8784313725490196,
             "rgb(246,188,153)"
            ],
            [
             0.9411764705882353,
             "rgb(247,212,187)"
            ],
            [
             1,
             "rgb(250,234,220)"
            ]
           ],
           "sequentialminus": [
            [
             0,
             "rgb(2,4,25)"
            ],
            [
             0.06274509803921569,
             "rgb(24,15,41)"
            ],
            [
             0.12549019607843137,
             "rgb(47,23,57)"
            ],
            [
             0.18823529411764706,
             "rgb(71,28,72)"
            ],
            [
             0.25098039215686274,
             "rgb(97,30,82)"
            ],
            [
             0.3137254901960784,
             "rgb(123,30,89)"
            ],
            [
             0.3764705882352941,
             "rgb(150,27,91)"
            ],
            [
             0.4392156862745098,
             "rgb(177,22,88)"
            ],
            [
             0.5019607843137255,
             "rgb(203,26,79)"
            ],
            [
             0.5647058823529412,
             "rgb(223,47,67)"
            ],
            [
             0.6274509803921569,
             "rgb(236,76,61)"
            ],
            [
             0.6901960784313725,
             "rgb(242,107,73)"
            ],
            [
             0.7529411764705882,
             "rgb(244,135,95)"
            ],
            [
             0.8156862745098039,
             "rgb(245,162,122)"
            ],
            [
             0.8784313725490196,
             "rgb(246,188,153)"
            ],
            [
             0.9411764705882353,
             "rgb(247,212,187)"
            ],
            [
             1,
             "rgb(250,234,220)"
            ]
           ]
          },
          "colorway": [
           "rgb(76,114,176)",
           "rgb(221,132,82)",
           "rgb(85,168,104)",
           "rgb(196,78,82)",
           "rgb(129,114,179)",
           "rgb(147,120,96)",
           "rgb(218,139,195)",
           "rgb(140,140,140)",
           "rgb(204,185,116)",
           "rgb(100,181,205)"
          ],
          "font": {
           "color": "rgb(36,36,36)"
          },
          "geo": {
           "bgcolor": "white",
           "lakecolor": "white",
           "landcolor": "rgb(234,234,242)",
           "showlakes": true,
           "showland": true,
           "subunitcolor": "white"
          },
          "hoverlabel": {
           "align": "left"
          },
          "hovermode": "closest",
          "paper_bgcolor": "white",
          "plot_bgcolor": "rgb(234,234,242)",
          "polar": {
           "angularaxis": {
            "gridcolor": "white",
            "linecolor": "white",
            "showgrid": true,
            "ticks": ""
           },
           "bgcolor": "rgb(234,234,242)",
           "radialaxis": {
            "gridcolor": "white",
            "linecolor": "white",
            "showgrid": true,
            "ticks": ""
           }
          },
          "scene": {
           "xaxis": {
            "backgroundcolor": "rgb(234,234,242)",
            "gridcolor": "white",
            "gridwidth": 2,
            "linecolor": "white",
            "showbackground": true,
            "showgrid": true,
            "ticks": "",
            "zerolinecolor": "white"
           },
           "yaxis": {
            "backgroundcolor": "rgb(234,234,242)",
            "gridcolor": "white",
            "gridwidth": 2,
            "linecolor": "white",
            "showbackground": true,
            "showgrid": true,
            "ticks": "",
            "zerolinecolor": "white"
           },
           "zaxis": {
            "backgroundcolor": "rgb(234,234,242)",
            "gridcolor": "white",
            "gridwidth": 2,
            "linecolor": "white",
            "showbackground": true,
            "showgrid": true,
            "ticks": "",
            "zerolinecolor": "white"
           }
          },
          "shapedefaults": {
           "fillcolor": "rgb(67,103,167)",
           "line": {
            "width": 0
           },
           "opacity": 0.5
          },
          "ternary": {
           "aaxis": {
            "gridcolor": "white",
            "linecolor": "white",
            "showgrid": true,
            "ticks": ""
           },
           "baxis": {
            "gridcolor": "white",
            "linecolor": "white",
            "showgrid": true,
            "ticks": ""
           },
           "bgcolor": "rgb(234,234,242)",
           "caxis": {
            "gridcolor": "white",
            "linecolor": "white",
            "showgrid": true,
            "ticks": ""
           }
          },
          "xaxis": {
           "automargin": true,
           "gridcolor": "white",
           "linecolor": "white",
           "showgrid": true,
           "ticks": "",
           "title": {
            "standoff": 15
           },
           "zerolinecolor": "white"
          },
          "yaxis": {
           "automargin": true,
           "gridcolor": "white",
           "linecolor": "white",
           "showgrid": true,
           "ticks": "",
           "title": {
            "standoff": 15
           },
           "zerolinecolor": "white"
          }
         }
        },
        "title": {
         "text": "Ontario Testing with % Positivity Rate and 7-Day Rolling Average"
        },
        "xaxis": {
         "anchor": "y",
         "domain": [
          0,
          1
         ],
         "title": {
          "text": "Reported Date"
         }
        },
        "yaxis": {
         "anchor": "x",
         "domain": [
          0,
          1
         ],
         "title": {
          "text": "Tests Completed"
         }
        }
       }
      }
     },
     "metadata": {}
    }
   ],
   "source": [
    "#hide_input\n",
    "\n",
    "# report tests completed\n",
    "\n",
    "# testing data does not exist prior to April 15, 2020\n",
    "df_test = df_testing[(df_testing[\"Total tests completed in the last day\"].notnull()) & (df_testing[\"Total tests completed in the last day\"] != 0)]\n",
    "\n",
    "fig_test = px.bar(df_test,\n",
    "              x='Reported Date',\n",
    "              y='Total tests completed in the last day',\n",
    "              template='seaborn',\n",
    "              color='7 Day Avg Percent Positivity', range_color=[0,8],\n",
    "              title='Ontario Testing with % Positivity Rate and 7-Day Rolling Average',\n",
    "              labels={'7 Day Avg Percent Positivity': '% Positivity Rate',\n",
    "                      'Total tests completed in the last day': 'Tests Completed'},\n",
    " )           \n",
    "fig_test.update_layout(bargap=0)\n",
    "\n",
    "fig_test.update_layout(coloraxis_colorbar=dict(yanchor=\"top\", y=1, x=1,\n",
    "                                          ticks=\"outside\",\n",
    "                                          ticksuffix=\"\"))\n",
    "\n",
    "fig_test.add_trace(go.Scatter(\n",
    "    x=df_test['Reported Date'],\n",
    "    y=df_test['New Tests 7 Day Average'],\n",
    "    mode='lines',\n",
    "    name='7d Avg',\n",
    "    line=dict(color=\"#1E90FF\", dash=\"solid\")\n",
    "    ))\n",
    "\n",
    "fig_test.update_layout(legend=dict(\n",
    "    orientation=\"h\",\n",
    "    yanchor=\"bottom\",\n",
    "    y=1.02,\n",
    "    xanchor=\"right\",\n",
    "    x=1,))"
   ]
  },
  {
   "cell_type": "code",
   "execution_count": 20,
   "metadata": {
    "colab": {
     "base_uri": "https://localhost:8080/",
     "height": 35
    },
    "executionInfo": {
     "elapsed": 5881,
     "status": "ok",
     "timestamp": 1608260151070,
     "user": {
      "displayName": "Vijay S",
      "photoUrl": "https://lh4.googleusercontent.com/-Y3kqresK7tQ/AAAAAAAAAAI/AAAAAAAAIow/dmSWQoFZ3gU/s64/photo.jpg",
      "userId": "09127601101212446573"
     },
     "user_tz": 300
    },
    "id": "TfmibrrqMeCu",
    "outputId": "c665e5b3-15c6-440c-a478-4769409ea637"
   },
   "outputs": [
    {
     "output_type": "display_data",
     "data": {
      "text/plain": "<IPython.core.display.HTML object>",
      "text/html": "<div style='text-Align: right; margin-right: 10%;'> <span style='text-align: right'> **Note that testing data is not available prior to April 15, 2020. </span> </div>"
     },
     "metadata": {}
    }
   ],
   "source": [
    "#hide_input\n",
    "display(HTML(\"<div style='text-Align: right; margin-right: 10%;'> <span style='text-align: right'> **Note that testing data is not available prior to April 15, 2020. </span> </div>\"))"
   ]
  },
  {
   "cell_type": "markdown",
   "metadata": {
    "id": "k7PMpw2jI-8g"
   },
   "source": [
    "## Infection Rate Compared to Notable Public Events & Announcements"
   ]
  },
  {
   "cell_type": "code",
   "execution_count": 21,
   "metadata": {
    "executionInfo": {
     "elapsed": 5873,
     "status": "ok",
     "timestamp": 1608260151071,
     "user": {
      "displayName": "Vijay S",
      "photoUrl": "https://lh4.googleusercontent.com/-Y3kqresK7tQ/AAAAAAAAAAI/AAAAAAAAIow/dmSWQoFZ3gU/s64/photo.jpg",
      "userId": "09127601101212446573"
     },
     "user_tz": 300
    },
    "id": "-5TiqozVpb6j"
   },
   "outputs": [],
   "source": [
    "#hide\n",
    "\n",
    "# todo: webscrape Canadian website for holidays and dates for automation\n",
    "\n",
    "public_events = [\n",
    "{\"name\": \"Easter Weekend\", \"date\": \"2020-04-10\"},\n",
    "{\"name\": \"Mother's Day\", \"date\": \"2020-05-10\", \"ay\" : 60},\n",
    "{\"name\": \"Victoria Day\", \"date\": \"2020-05-18\"},\n",
    "{\"name\": \"Trinity Bellwoods<br>Park Weekend\", \"date\": \"2020-05-23\", \"ay\": -100, \"ax\": 80},\n",
    "{\"name\": \"Father's Day\", \"date\": \"2020-06-21\", \"ay\": 40},\n",
    "{\"name\": \"Canada Day\", \"date\": \"2020-07-01\"},\n",
    "{\"name\": \"Civic Holiday\", \"date\": \"2020-08-03\"},\n",
    "{\"name\": \"Schools reopen<br>for 2020-21\", \"date\": \"2020-09-08\"},\n",
    "{\"name\": \"Thanksgiving<br>Weekend\", \"date\": \"2020-10-12\", \"ax\": -40, \"ay\": -50},\n",
    "{\"name\": \"Halloween\", \"date\": \"2020-10-31\", \"ax\": -20},\n",
    "{\"name\": \"Diwali\", \"date\": \"2020-11-14\", \"ax\": -60, \"ay\": -25},\n",
    "{\"name\": \"Black Friday\", \"date\": \"2020-11-27\", \"ax\": -20},\n",
    "{\"name\": \"Vaccine Rollout\", \"date\": \"2020-12-15\"}\n",
    "# {\"name\": \"Christmas\", \"date\": \"2020-12-25\"},\n",
    "# {\"name\": \"Boxing Week<br> begins\", \"date\": \"2020-12-26\"},\n",
    "# {\"name\": \"New Year's Day\", \"date\": \"2021-01-01\"},\n",
    "]\n",
    "\n",
    "government_events = [\n",
    "{\"name\": \"Ontario Lockdown #1\", \"date\": \"2020-03-23\",\"ax\": -20, \"ay\": -80},\n",
    "#{\"name\": \"Some regions enter stage 2\", \"date\": \"2020-06-08\"},\n",
    "{\"name\": \"Ontario in Stage 2\", \"date\": \"2020-06-24\", \"ay\": -40},\n",
    "{\"name\": \"Ontario in Stage 3\", \"date\": \"2020-07-31\", \"ay\": -30},\n",
    "{\"name\": \"Schools reopen<br>for 2020-21\", \"date\": \"2020-09-08\", \"ax\": -40, \"ay\": -80},\n",
    "{\"name\": \"Second Wave confirmed\", \"date\": \"2020-09-28\", \"ax\": -40, \"ay\": -80},\n",
    "{\"name\": \"Peel/Toronto/Ottawa<br>revert to<br>modified Stage 2\", \"date\": \"2020-10-12\",\"ax\":30, \"ay\": 100},\n",
    "{\"name\": \"Peel/Ottawa<br>in Orange Zone\", \"date\": \"2020-11-07\",\"ax\": 25, \"ay\": 60},\n",
    "{\"name\": \"Peel/Toronto<br>in Red Zone\", \"date\": \"2020-11-12\", \"ax\": -80, \"ay\": -30},\n",
    "{\"name\": \"Halton in Red Zone\", \"date\": \"2020-11-16\", \"ax\": -50},\n",
    "{\"name\": \"Peel/Toronto in<br>Lockdown<br>#2\", \"date\": \"2020-11-23\", \"ay\": -80},\n",
    "{\"name\": \"York/Windsor<br>in Lockdown<br>#2\", \"date\": \"2020-12-14\", \"ay\": 80},\n",
    "{\"name\": \"Vaccine Rollout\", \"date\": \"2020-12-15\"}          \n",
    "]\n",
    "\n",
    "other_events = [\n",
    "{\"name\": \"GoodLife email request to lobby MPPs\", \"date\": \"2020-10-28\"},          \n",
    "]\n",
    "\n",
    "# Sources:\n",
    "# https://www.peelschools.org/schools/reopening/Pages/default.aspx\n",
    "# https://globalnews.ca/news/6859636/ontario-coronavirus-timeline/"
   ]
  },
  {
   "cell_type": "code",
   "execution_count": 22,
   "metadata": {
    "colab": {
     "base_uri": "https://localhost:8080/"
    },
    "executionInfo": {
     "elapsed": 5865,
     "status": "ok",
     "timestamp": 1608260151072,
     "user": {
      "displayName": "Vijay S",
      "photoUrl": "https://lh4.googleusercontent.com/-Y3kqresK7tQ/AAAAAAAAAAI/AAAAAAAAIow/dmSWQoFZ3gU/s64/photo.jpg",
      "userId": "09127601101212446573"
     },
     "user_tz": 300
    },
    "id": "n-GySBJ7sUvu",
    "outputId": "2f4dd2bc-71ea-498b-9de3-22972fff72c0"
   },
   "outputs": [
    {
     "output_type": "execute_result",
     "data": {
      "text/plain": [
       "{'x': '2020-03-23',\n",
       " 'y': 58.0,\n",
       " 'xref': 'x',\n",
       " 'yref': 'y',\n",
       " 'text': 'Ontario Lockdown #1',\n",
       " 'showarrow': True,\n",
       " 'arrowhead': 3,\n",
       " 'ax': -20,\n",
       " 'ay': -80}"
      ]
     },
     "metadata": {},
     "execution_count": 22
    }
   ],
   "source": [
    "#hide\n",
    "\n",
    "# append events to an annotation dictionary\n",
    "\n",
    "public_dates_annot = []\n",
    "\n",
    "for event in public_events:\n",
    "      if event[\"date\"]:\n",
    "        ax = event.get(\"ax\")\n",
    "        if ax is None:\n",
    "            ax = 0\n",
    "        ay = event.get(\"ay\")\n",
    "        if ay is None:\n",
    "            ay = -60\n",
    "        public_dates_annot.append(dict(\n",
    "                  x=event[\"date\"],\n",
    "                  y=df_testing[df_testing[\"Reported Date\"] == event[\"date\"]][\"New Cases 5 Day Average\"].values[0],\n",
    "                  xref=\"x\",\n",
    "                  yref=\"y\",\n",
    "                  text=event[\"name\"],\n",
    "                  showarrow=True,\n",
    "                  arrowhead=3,\n",
    "                  ax=ax,\n",
    "                  ay=ay\n",
    "        ))\n",
    "\n",
    "government_dates_annot = []\n",
    "\n",
    "for event in government_events:\n",
    "      if event[\"date\"]:\n",
    "        ax = event.get(\"ax\")\n",
    "        if ax is None:\n",
    "            ax = 0\n",
    "        ay = event.get(\"ay\")\n",
    "        if ay is None:\n",
    "            ay = -60\n",
    "        government_dates_annot.append(dict(\n",
    "                  x=event[\"date\"],\n",
    "                  y=df_testing[df_testing[\"Reported Date\"] == event[\"date\"]][\"New Cases 5 Day Average\"].values[0],\n",
    "                  xref=\"x\",\n",
    "                  yref=\"y\",\n",
    "                  text=event[\"name\"],\n",
    "                  showarrow=True,\n",
    "                  arrowhead=3,\n",
    "                  ax=ax,\n",
    "                  ay=ay\n",
    "        ))\n",
    "\n",
    "government_dates_annot[0]"
   ]
  },
  {
   "cell_type": "code",
   "execution_count": 23,
   "metadata": {
    "colab": {
     "base_uri": "https://localhost:8080/",
     "height": 542
    },
    "executionInfo": {
     "elapsed": 6019,
     "status": "ok",
     "timestamp": 1608260151237,
     "user": {
      "displayName": "Vijay S",
      "photoUrl": "https://lh4.googleusercontent.com/-Y3kqresK7tQ/AAAAAAAAAAI/AAAAAAAAIow/dmSWQoFZ3gU/s64/photo.jpg",
      "userId": "09127601101212446573"
     },
     "user_tz": 300
    },
    "id": "BTt9vr2Qulqs",
    "outputId": "73eb52dc-78df-49ab-81f1-e4f2806973ca"
   },
   "outputs": [
    {
     "output_type": "display_data",
     "data": {
      "application/vnd.plotly.v1+json": {
       "config": {
        "plotlyServerURL": "https://plot.ly"
       },
       "data": [
        {
         "mode": "lines",
         "name": "5d Rolling Avg",
         "showlegend": true,
         "type": "scatter",
         "x": [
          "2020-01-26T00:00:00",
          "2020-01-27T00:00:00",
          "2020-01-28T00:00:00",
          "2020-01-30T00:00:00",
          "2020-01-31T00:00:00",
          "2020-02-03T00:00:00",
          "2020-02-04T00:00:00",
          "2020-02-05T00:00:00",
          "2020-02-06T00:00:00",
          "2020-02-08T00:00:00",
          "2020-02-10T00:00:00",
          "2020-02-11T00:00:00",
          "2020-02-12T00:00:00",
          "2020-02-13T00:00:00",
          "2020-02-14T00:00:00",
          "2020-02-17T00:00:00",
          "2020-02-18T00:00:00",
          "2020-02-19T00:00:00",
          "2020-02-20T00:00:00",
          "2020-02-21T00:00:00",
          "2020-02-24T00:00:00",
          "2020-02-25T00:00:00",
          "2020-02-26T00:00:00",
          "2020-02-27T00:00:00",
          "2020-02-28T00:00:00",
          "2020-03-02T00:00:00",
          "2020-03-03T00:00:00",
          "2020-03-04T00:00:00",
          "2020-03-05T00:00:00",
          "2020-03-06T00:00:00",
          "2020-03-07T00:00:00",
          "2020-03-08T00:00:00",
          "2020-03-09T00:00:00",
          "2020-03-10T00:00:00",
          "2020-03-11T00:00:00",
          "2020-03-12T00:00:00",
          "2020-03-13T00:00:00",
          "2020-03-14T00:00:00",
          "2020-03-15T00:00:00",
          "2020-03-16T00:00:00",
          "2020-03-17T00:00:00",
          "2020-03-18T00:00:00",
          "2020-03-19T00:00:00",
          "2020-03-20T00:00:00",
          "2020-03-21T00:00:00",
          "2020-03-22T00:00:00",
          "2020-03-23T00:00:00",
          "2020-03-24T00:00:00",
          "2020-03-25T00:00:00",
          "2020-03-26T00:00:00",
          "2020-03-27T00:00:00",
          "2020-03-28T00:00:00",
          "2020-03-29T00:00:00",
          "2020-03-30T00:00:00",
          "2020-03-31T00:00:00",
          "2020-04-01T00:00:00",
          "2020-04-02T00:00:00",
          "2020-04-03T00:00:00",
          "2020-04-04T00:00:00",
          "2020-04-05T00:00:00",
          "2020-04-06T00:00:00",
          "2020-04-07T00:00:00",
          "2020-04-08T00:00:00",
          "2020-04-09T00:00:00",
          "2020-04-10T00:00:00",
          "2020-04-11T00:00:00",
          "2020-04-12T00:00:00",
          "2020-04-13T00:00:00",
          "2020-04-14T00:00:00",
          "2020-04-15T00:00:00",
          "2020-04-16T00:00:00",
          "2020-04-17T00:00:00",
          "2020-04-18T00:00:00",
          "2020-04-19T00:00:00",
          "2020-04-20T00:00:00",
          "2020-04-21T00:00:00",
          "2020-04-22T00:00:00",
          "2020-04-23T00:00:00",
          "2020-04-24T00:00:00",
          "2020-04-25T00:00:00",
          "2020-04-26T00:00:00",
          "2020-04-27T00:00:00",
          "2020-04-28T00:00:00",
          "2020-04-29T00:00:00",
          "2020-04-30T00:00:00",
          "2020-05-01T00:00:00",
          "2020-05-02T00:00:00",
          "2020-05-03T00:00:00",
          "2020-05-04T00:00:00",
          "2020-05-05T00:00:00",
          "2020-05-06T00:00:00",
          "2020-05-07T00:00:00",
          "2020-05-08T00:00:00",
          "2020-05-09T00:00:00",
          "2020-05-10T00:00:00",
          "2020-05-11T00:00:00",
          "2020-05-12T00:00:00",
          "2020-05-13T00:00:00",
          "2020-05-14T00:00:00",
          "2020-05-15T00:00:00",
          "2020-05-16T00:00:00",
          "2020-05-17T00:00:00",
          "2020-05-18T00:00:00",
          "2020-05-19T00:00:00",
          "2020-05-20T00:00:00",
          "2020-05-21T00:00:00",
          "2020-05-22T00:00:00",
          "2020-05-23T00:00:00",
          "2020-05-24T00:00:00",
          "2020-05-25T00:00:00",
          "2020-05-26T00:00:00",
          "2020-05-27T00:00:00",
          "2020-05-28T00:00:00",
          "2020-05-29T00:00:00",
          "2020-05-30T00:00:00",
          "2020-05-31T00:00:00",
          "2020-06-01T00:00:00",
          "2020-06-02T00:00:00",
          "2020-06-03T00:00:00",
          "2020-06-04T00:00:00",
          "2020-06-05T00:00:00",
          "2020-06-06T00:00:00",
          "2020-06-07T00:00:00",
          "2020-06-08T00:00:00",
          "2020-06-09T00:00:00",
          "2020-06-10T00:00:00",
          "2020-06-11T00:00:00",
          "2020-06-12T00:00:00",
          "2020-06-13T00:00:00",
          "2020-06-14T00:00:00",
          "2020-06-15T00:00:00",
          "2020-06-16T00:00:00",
          "2020-06-17T00:00:00",
          "2020-06-18T00:00:00",
          "2020-06-19T00:00:00",
          "2020-06-20T00:00:00",
          "2020-06-21T00:00:00",
          "2020-06-22T00:00:00",
          "2020-06-23T00:00:00",
          "2020-06-24T00:00:00",
          "2020-06-25T00:00:00",
          "2020-06-26T00:00:00",
          "2020-06-27T00:00:00",
          "2020-06-28T00:00:00",
          "2020-06-29T00:00:00",
          "2020-06-30T00:00:00",
          "2020-07-01T00:00:00",
          "2020-07-02T00:00:00",
          "2020-07-03T00:00:00",
          "2020-07-04T00:00:00",
          "2020-07-05T00:00:00",
          "2020-07-06T00:00:00",
          "2020-07-07T00:00:00",
          "2020-07-08T00:00:00",
          "2020-07-09T00:00:00",
          "2020-07-10T00:00:00",
          "2020-07-11T00:00:00",
          "2020-07-12T00:00:00",
          "2020-07-13T00:00:00",
          "2020-07-14T00:00:00",
          "2020-07-15T00:00:00",
          "2020-07-16T00:00:00",
          "2020-07-17T00:00:00",
          "2020-07-18T00:00:00",
          "2020-07-19T00:00:00",
          "2020-07-20T00:00:00",
          "2020-07-21T00:00:00",
          "2020-07-22T00:00:00",
          "2020-07-23T00:00:00",
          "2020-07-24T00:00:00",
          "2020-07-25T00:00:00",
          "2020-07-26T00:00:00",
          "2020-07-27T00:00:00",
          "2020-07-28T00:00:00",
          "2020-07-29T00:00:00",
          "2020-07-30T00:00:00",
          "2020-07-31T00:00:00",
          "2020-08-01T00:00:00",
          "2020-08-02T00:00:00",
          "2020-08-03T00:00:00",
          "2020-08-04T00:00:00",
          "2020-08-05T00:00:00",
          "2020-08-06T00:00:00",
          "2020-08-07T00:00:00",
          "2020-08-08T00:00:00",
          "2020-08-09T00:00:00",
          "2020-08-10T00:00:00",
          "2020-08-11T00:00:00",
          "2020-08-12T00:00:00",
          "2020-08-13T00:00:00",
          "2020-08-14T00:00:00",
          "2020-08-15T00:00:00",
          "2020-08-16T00:00:00",
          "2020-08-17T00:00:00",
          "2020-08-18T00:00:00",
          "2020-08-19T00:00:00",
          "2020-08-20T00:00:00",
          "2020-08-21T00:00:00",
          "2020-08-22T00:00:00",
          "2020-08-23T00:00:00",
          "2020-08-24T00:00:00",
          "2020-08-25T00:00:00",
          "2020-08-26T00:00:00",
          "2020-08-27T00:00:00",
          "2020-08-28T00:00:00",
          "2020-08-29T00:00:00",
          "2020-08-30T00:00:00",
          "2020-08-31T00:00:00",
          "2020-09-01T00:00:00",
          "2020-09-02T00:00:00",
          "2020-09-03T00:00:00",
          "2020-09-04T00:00:00",
          "2020-09-05T00:00:00",
          "2020-09-06T00:00:00",
          "2020-09-07T00:00:00",
          "2020-09-08T00:00:00",
          "2020-09-09T00:00:00",
          "2020-09-10T00:00:00",
          "2020-09-11T00:00:00",
          "2020-09-12T00:00:00",
          "2020-09-13T00:00:00",
          "2020-09-14T00:00:00",
          "2020-09-15T00:00:00",
          "2020-09-16T00:00:00",
          "2020-09-17T00:00:00",
          "2020-09-18T00:00:00",
          "2020-09-19T00:00:00",
          "2020-09-20T00:00:00",
          "2020-09-21T00:00:00",
          "2020-09-22T00:00:00",
          "2020-09-23T00:00:00",
          "2020-09-24T00:00:00",
          "2020-09-25T00:00:00",
          "2020-09-26T00:00:00",
          "2020-09-27T00:00:00",
          "2020-09-28T00:00:00",
          "2020-09-29T00:00:00",
          "2020-09-30T00:00:00",
          "2020-10-01T00:00:00",
          "2020-10-02T00:00:00",
          "2020-10-03T00:00:00",
          "2020-10-04T00:00:00",
          "2020-10-05T00:00:00",
          "2020-10-06T00:00:00",
          "2020-10-07T00:00:00",
          "2020-10-08T00:00:00",
          "2020-10-09T00:00:00",
          "2020-10-10T00:00:00",
          "2020-10-11T00:00:00",
          "2020-10-12T00:00:00",
          "2020-10-13T00:00:00",
          "2020-10-14T00:00:00",
          "2020-10-15T00:00:00",
          "2020-10-16T00:00:00",
          "2020-10-17T00:00:00",
          "2020-10-18T00:00:00",
          "2020-10-19T00:00:00",
          "2020-10-20T00:00:00",
          "2020-10-21T00:00:00",
          "2020-10-22T00:00:00",
          "2020-10-23T00:00:00",
          "2020-10-24T00:00:00",
          "2020-10-25T00:00:00",
          "2020-10-26T00:00:00",
          "2020-10-27T00:00:00",
          "2020-10-28T00:00:00",
          "2020-10-29T00:00:00",
          "2020-10-30T00:00:00",
          "2020-10-31T00:00:00",
          "2020-11-01T00:00:00",
          "2020-11-02T00:00:00",
          "2020-11-03T00:00:00",
          "2020-11-04T00:00:00",
          "2020-11-05T00:00:00",
          "2020-11-06T00:00:00",
          "2020-11-07T00:00:00",
          "2020-11-08T00:00:00",
          "2020-11-09T00:00:00",
          "2020-11-10T00:00:00",
          "2020-11-11T00:00:00",
          "2020-11-12T00:00:00",
          "2020-11-13T00:00:00",
          "2020-11-14T00:00:00",
          "2020-11-15T00:00:00",
          "2020-11-16T00:00:00",
          "2020-11-17T00:00:00",
          "2020-11-18T00:00:00",
          "2020-11-19T00:00:00",
          "2020-11-20T00:00:00",
          "2020-11-21T00:00:00",
          "2020-11-22T00:00:00",
          "2020-11-23T00:00:00",
          "2020-11-24T00:00:00",
          "2020-11-25T00:00:00",
          "2020-11-26T00:00:00",
          "2020-11-27T00:00:00",
          "2020-11-28T00:00:00",
          "2020-11-29T00:00:00",
          "2020-11-30T00:00:00",
          "2020-12-01T00:00:00",
          "2020-12-02T00:00:00",
          "2020-12-03T00:00:00",
          "2020-12-04T00:00:00",
          "2020-12-05T00:00:00",
          "2020-12-06T00:00:00",
          "2020-12-07T00:00:00",
          "2020-12-08T00:00:00",
          "2020-12-09T00:00:00",
          "2020-12-10T00:00:00",
          "2020-12-11T00:00:00",
          "2020-12-12T00:00:00",
          "2020-12-13T00:00:00",
          "2020-12-14T00:00:00",
          "2020-12-15T00:00:00",
          "2020-12-16T00:00:00",
          "2020-12-17T00:00:00",
          "2020-12-18T00:00:00",
          "2020-12-19T00:00:00"
         ],
         "y": [
          null,
          null,
          null,
          null,
          null,
          1,
          1,
          0,
          0,
          0,
          0,
          0,
          0,
          0,
          0,
          0,
          0,
          0,
          0,
          0,
          0,
          0,
          0,
          0,
          1,
          3,
          3,
          3,
          3,
          4,
          2,
          2,
          3,
          3,
          3,
          6,
          10,
          14,
          22,
          27,
          26,
          27,
          31,
          35,
          40,
          47,
          58,
          66,
          74,
          96,
          114,
          128,
          153,
          204,
          222,
          280,
          330,
          380,
          385,
          414,
          391,
          387,
          404,
          426,
          440,
          460,
          465,
          439,
          439,
          442,
          463,
          495,
          508,
          525,
          547,
          555,
          544,
          574,
          588,
          562,
          539,
          522,
          500,
          442,
          438,
          435,
          453,
          434,
          439,
          425,
          423,
          400,
          409,
          404,
          386,
          365,
          357,
          328,
          327,
          337,
          353,
          349,
          344,
          361,
          370,
          375,
          395,
          417,
          423,
          426,
          401,
          371,
          365,
          342,
          326,
          334,
          356,
          369,
          367,
          374,
          378,
          388,
          382,
          363,
          337,
          319,
          268,
          222,
          226,
          220,
          206,
          202,
          204,
          185,
          181,
          186,
          184,
          179,
          187,
          184,
          181,
          168,
          168,
          160,
          179,
          173,
          180,
          179,
          176,
          149,
          145,
          146,
          138,
          129,
          138,
          134,
          129,
          133,
          132,
          120,
          118,
          114,
          110,
          120,
          131,
          137,
          156,
          167,
          154,
          160,
          161,
          148,
          138,
          140,
          116,
          106,
          106,
          107,
          108,
          110,
          111,
          101,
          95,
          90,
          86,
          84,
          89,
          77,
          78,
          80,
          83,
          81,
          90,
          91,
          101,
          103,
          97,
          107,
          108,
          106,
          107,
          112,
          103,
          105,
          107,
          115,
          118,
          123,
          122,
          124,
          121,
          128,
          139,
          148,
          159,
          170,
          170,
          170,
          181,
          190,
          194,
          226,
          243,
          263,
          275,
          315,
          333,
          356,
          378,
          415,
          402,
          402,
          411,
          413,
          416,
          489,
          518,
          561,
          582,
          630,
          620,
          623,
          621,
          623,
          593,
          622,
          696,
          735,
          755,
          800,
          790,
          746,
          741,
          754,
          753,
          736,
          732,
          740,
          756,
          763,
          796,
          851,
          895,
          908,
          905,
          906,
          898,
          868,
          901,
          931,
          954,
          977,
          995,
          992,
          997,
          1034,
          1090,
          1141,
          1219,
          1303,
          1392,
          1405,
          1473,
          1445,
          1457,
          1392,
          1396,
          1322,
          1356,
          1376,
          1433,
          1468,
          1428,
          1419,
          1397,
          1461,
          1507,
          1647,
          1722,
          1768,
          1741,
          1742,
          1756,
          1779,
          1822,
          1862,
          1833,
          1855,
          1880,
          1864,
          1854,
          1854,
          1864,
          1923,
          1981,
          2093,
          2215,
          2299
         ]
        }
       ],
       "layout": {
        "annotations": [
         {
          "arrowhead": 3,
          "ax": 0,
          "ay": -60,
          "showarrow": true,
          "text": "Easter Weekend",
          "x": "2020-04-10",
          "xref": "x",
          "y": 440,
          "yref": "y"
         },
         {
          "arrowhead": 3,
          "ax": 0,
          "ay": 60,
          "showarrow": true,
          "text": "Mother's Day",
          "x": "2020-05-10",
          "xref": "x",
          "y": 386,
          "yref": "y"
         },
         {
          "arrowhead": 3,
          "ax": 0,
          "ay": -60,
          "showarrow": true,
          "text": "Victoria Day",
          "x": "2020-05-18",
          "xref": "x",
          "y": 344,
          "yref": "y"
         },
         {
          "arrowhead": 3,
          "ax": 80,
          "ay": -100,
          "showarrow": true,
          "text": "Trinity Bellwoods<br>Park Weekend",
          "x": "2020-05-23",
          "xref": "x",
          "y": 417,
          "yref": "y"
         },
         {
          "arrowhead": 3,
          "ax": 0,
          "ay": 40,
          "showarrow": true,
          "text": "Father's Day",
          "x": "2020-06-21",
          "xref": "x",
          "y": 184,
          "yref": "y"
         },
         {
          "arrowhead": 3,
          "ax": 0,
          "ay": -60,
          "showarrow": true,
          "text": "Canada Day",
          "x": "2020-07-01",
          "xref": "x",
          "y": 180,
          "yref": "y"
         },
         {
          "arrowhead": 3,
          "ax": 0,
          "ay": -60,
          "showarrow": true,
          "text": "Civic Holiday",
          "x": "2020-08-03",
          "xref": "x",
          "y": 110,
          "yref": "y"
         },
         {
          "arrowhead": 3,
          "ax": 0,
          "ay": -60,
          "showarrow": true,
          "text": "Schools reopen<br>for 2020-21",
          "x": "2020-09-08",
          "xref": "x",
          "y": 170,
          "yref": "y"
         },
         {
          "arrowhead": 3,
          "ax": -40,
          "ay": -50,
          "showarrow": true,
          "text": "Thanksgiving<br>Weekend",
          "x": "2020-10-12",
          "xref": "x",
          "y": 800,
          "yref": "y"
         },
         {
          "arrowhead": 3,
          "ax": -20,
          "ay": -60,
          "showarrow": true,
          "text": "Halloween",
          "x": "2020-10-31",
          "xref": "x",
          "y": 901,
          "yref": "y"
         },
         {
          "arrowhead": 3,
          "ax": -60,
          "ay": -25,
          "showarrow": true,
          "text": "Diwali",
          "x": "2020-11-14",
          "xref": "x",
          "y": 1473,
          "yref": "y"
         },
         {
          "arrowhead": 3,
          "ax": -20,
          "ay": -60,
          "showarrow": true,
          "text": "Black Friday",
          "x": "2020-11-27",
          "xref": "x",
          "y": 1461,
          "yref": "y"
         },
         {
          "arrowhead": 3,
          "ax": 0,
          "ay": -60,
          "showarrow": true,
          "text": "Vaccine Rollout",
          "x": "2020-12-15",
          "xref": "x",
          "y": 1923,
          "yref": "y"
         }
        ],
        "legend": {
         "orientation": "h",
         "x": 1,
         "xanchor": "right",
         "y": 1.02,
         "yanchor": "bottom"
        },
        "template": {
         "data": {
          "bar": [
           {
            "error_x": {
             "color": "rgb(51,51,51)"
            },
            "error_y": {
             "color": "rgb(51,51,51)"
            },
            "marker": {
             "line": {
              "color": "rgb(237,237,237)",
              "width": 0.5
             }
            },
            "type": "bar"
           }
          ],
          "barpolar": [
           {
            "marker": {
             "line": {
              "color": "rgb(237,237,237)",
              "width": 0.5
             }
            },
            "type": "barpolar"
           }
          ],
          "carpet": [
           {
            "aaxis": {
             "endlinecolor": "rgb(51,51,51)",
             "gridcolor": "white",
             "linecolor": "white",
             "minorgridcolor": "white",
             "startlinecolor": "rgb(51,51,51)"
            },
            "baxis": {
             "endlinecolor": "rgb(51,51,51)",
             "gridcolor": "white",
             "linecolor": "white",
             "minorgridcolor": "white",
             "startlinecolor": "rgb(51,51,51)"
            },
            "type": "carpet"
           }
          ],
          "choropleth": [
           {
            "colorbar": {
             "outlinewidth": 0,
             "tickcolor": "rgb(237,237,237)",
             "ticklen": 6,
             "ticks": "inside"
            },
            "type": "choropleth"
           }
          ],
          "contour": [
           {
            "colorbar": {
             "outlinewidth": 0,
             "tickcolor": "rgb(237,237,237)",
             "ticklen": 6,
             "ticks": "inside"
            },
            "colorscale": [
             [
              0,
              "rgb(20,44,66)"
             ],
             [
              1,
              "rgb(90,179,244)"
             ]
            ],
            "type": "contour"
           }
          ],
          "contourcarpet": [
           {
            "colorbar": {
             "outlinewidth": 0,
             "tickcolor": "rgb(237,237,237)",
             "ticklen": 6,
             "ticks": "inside"
            },
            "type": "contourcarpet"
           }
          ],
          "heatmap": [
           {
            "colorbar": {
             "outlinewidth": 0,
             "tickcolor": "rgb(237,237,237)",
             "ticklen": 6,
             "ticks": "inside"
            },
            "colorscale": [
             [
              0,
              "rgb(20,44,66)"
             ],
             [
              1,
              "rgb(90,179,244)"
             ]
            ],
            "type": "heatmap"
           }
          ],
          "heatmapgl": [
           {
            "colorbar": {
             "outlinewidth": 0,
             "tickcolor": "rgb(237,237,237)",
             "ticklen": 6,
             "ticks": "inside"
            },
            "colorscale": [
             [
              0,
              "rgb(20,44,66)"
             ],
             [
              1,
              "rgb(90,179,244)"
             ]
            ],
            "type": "heatmapgl"
           }
          ],
          "histogram": [
           {
            "marker": {
             "colorbar": {
              "outlinewidth": 0,
              "tickcolor": "rgb(237,237,237)",
              "ticklen": 6,
              "ticks": "inside"
             }
            },
            "type": "histogram"
           }
          ],
          "histogram2d": [
           {
            "colorbar": {
             "outlinewidth": 0,
             "tickcolor": "rgb(237,237,237)",
             "ticklen": 6,
             "ticks": "inside"
            },
            "colorscale": [
             [
              0,
              "rgb(20,44,66)"
             ],
             [
              1,
              "rgb(90,179,244)"
             ]
            ],
            "type": "histogram2d"
           }
          ],
          "histogram2dcontour": [
           {
            "colorbar": {
             "outlinewidth": 0,
             "tickcolor": "rgb(237,237,237)",
             "ticklen": 6,
             "ticks": "inside"
            },
            "colorscale": [
             [
              0,
              "rgb(20,44,66)"
             ],
             [
              1,
              "rgb(90,179,244)"
             ]
            ],
            "type": "histogram2dcontour"
           }
          ],
          "mesh3d": [
           {
            "colorbar": {
             "outlinewidth": 0,
             "tickcolor": "rgb(237,237,237)",
             "ticklen": 6,
             "ticks": "inside"
            },
            "type": "mesh3d"
           }
          ],
          "parcoords": [
           {
            "line": {
             "colorbar": {
              "outlinewidth": 0,
              "tickcolor": "rgb(237,237,237)",
              "ticklen": 6,
              "ticks": "inside"
             }
            },
            "type": "parcoords"
           }
          ],
          "pie": [
           {
            "automargin": true,
            "type": "pie"
           }
          ],
          "scatter": [
           {
            "marker": {
             "colorbar": {
              "outlinewidth": 0,
              "tickcolor": "rgb(237,237,237)",
              "ticklen": 6,
              "ticks": "inside"
             }
            },
            "type": "scatter"
           }
          ],
          "scatter3d": [
           {
            "line": {
             "colorbar": {
              "outlinewidth": 0,
              "tickcolor": "rgb(237,237,237)",
              "ticklen": 6,
              "ticks": "inside"
             }
            },
            "marker": {
             "colorbar": {
              "outlinewidth": 0,
              "tickcolor": "rgb(237,237,237)",
              "ticklen": 6,
              "ticks": "inside"
             }
            },
            "type": "scatter3d"
           }
          ],
          "scattercarpet": [
           {
            "marker": {
             "colorbar": {
              "outlinewidth": 0,
              "tickcolor": "rgb(237,237,237)",
              "ticklen": 6,
              "ticks": "inside"
             }
            },
            "type": "scattercarpet"
           }
          ],
          "scattergeo": [
           {
            "marker": {
             "colorbar": {
              "outlinewidth": 0,
              "tickcolor": "rgb(237,237,237)",
              "ticklen": 6,
              "ticks": "inside"
             }
            },
            "type": "scattergeo"
           }
          ],
          "scattergl": [
           {
            "marker": {
             "colorbar": {
              "outlinewidth": 0,
              "tickcolor": "rgb(237,237,237)",
              "ticklen": 6,
              "ticks": "inside"
             }
            },
            "type": "scattergl"
           }
          ],
          "scattermapbox": [
           {
            "marker": {
             "colorbar": {
              "outlinewidth": 0,
              "tickcolor": "rgb(237,237,237)",
              "ticklen": 6,
              "ticks": "inside"
             }
            },
            "type": "scattermapbox"
           }
          ],
          "scatterpolar": [
           {
            "marker": {
             "colorbar": {
              "outlinewidth": 0,
              "tickcolor": "rgb(237,237,237)",
              "ticklen": 6,
              "ticks": "inside"
             }
            },
            "type": "scatterpolar"
           }
          ],
          "scatterpolargl": [
           {
            "marker": {
             "colorbar": {
              "outlinewidth": 0,
              "tickcolor": "rgb(237,237,237)",
              "ticklen": 6,
              "ticks": "inside"
             }
            },
            "type": "scatterpolargl"
           }
          ],
          "scatterternary": [
           {
            "marker": {
             "colorbar": {
              "outlinewidth": 0,
              "tickcolor": "rgb(237,237,237)",
              "ticklen": 6,
              "ticks": "inside"
             }
            },
            "type": "scatterternary"
           }
          ],
          "surface": [
           {
            "colorbar": {
             "outlinewidth": 0,
             "tickcolor": "rgb(237,237,237)",
             "ticklen": 6,
             "ticks": "inside"
            },
            "colorscale": [
             [
              0,
              "rgb(20,44,66)"
             ],
             [
              1,
              "rgb(90,179,244)"
             ]
            ],
            "type": "surface"
           }
          ],
          "table": [
           {
            "cells": {
             "fill": {
              "color": "rgb(237,237,237)"
             },
             "line": {
              "color": "white"
             }
            },
            "header": {
             "fill": {
              "color": "rgb(217,217,217)"
             },
             "line": {
              "color": "white"
             }
            },
            "type": "table"
           }
          ]
         },
         "layout": {
          "annotationdefaults": {
           "arrowhead": 0,
           "arrowwidth": 1
          },
          "coloraxis": {
           "colorbar": {
            "outlinewidth": 0,
            "tickcolor": "rgb(237,237,237)",
            "ticklen": 6,
            "ticks": "inside"
           }
          },
          "colorscale": {
           "sequential": [
            [
             0,
             "rgb(20,44,66)"
            ],
            [
             1,
             "rgb(90,179,244)"
            ]
           ],
           "sequentialminus": [
            [
             0,
             "rgb(20,44,66)"
            ],
            [
             1,
             "rgb(90,179,244)"
            ]
           ]
          },
          "colorway": [
           "#F8766D",
           "#A3A500",
           "#00BF7D",
           "#00B0F6",
           "#E76BF3"
          ],
          "font": {
           "color": "rgb(51,51,51)"
          },
          "geo": {
           "bgcolor": "white",
           "lakecolor": "white",
           "landcolor": "rgb(237,237,237)",
           "showlakes": true,
           "showland": true,
           "subunitcolor": "white"
          },
          "hoverlabel": {
           "align": "left"
          },
          "hovermode": "closest",
          "paper_bgcolor": "white",
          "plot_bgcolor": "rgb(237,237,237)",
          "polar": {
           "angularaxis": {
            "gridcolor": "white",
            "linecolor": "white",
            "showgrid": true,
            "tickcolor": "rgb(51,51,51)",
            "ticks": "outside"
           },
           "bgcolor": "rgb(237,237,237)",
           "radialaxis": {
            "gridcolor": "white",
            "linecolor": "white",
            "showgrid": true,
            "tickcolor": "rgb(51,51,51)",
            "ticks": "outside"
           }
          },
          "scene": {
           "xaxis": {
            "backgroundcolor": "rgb(237,237,237)",
            "gridcolor": "white",
            "gridwidth": 2,
            "linecolor": "white",
            "showbackground": true,
            "showgrid": true,
            "tickcolor": "rgb(51,51,51)",
            "ticks": "outside",
            "zerolinecolor": "white"
           },
           "yaxis": {
            "backgroundcolor": "rgb(237,237,237)",
            "gridcolor": "white",
            "gridwidth": 2,
            "linecolor": "white",
            "showbackground": true,
            "showgrid": true,
            "tickcolor": "rgb(51,51,51)",
            "ticks": "outside",
            "zerolinecolor": "white"
           },
           "zaxis": {
            "backgroundcolor": "rgb(237,237,237)",
            "gridcolor": "white",
            "gridwidth": 2,
            "linecolor": "white",
            "showbackground": true,
            "showgrid": true,
            "tickcolor": "rgb(51,51,51)",
            "ticks": "outside",
            "zerolinecolor": "white"
           }
          },
          "shapedefaults": {
           "fillcolor": "black",
           "line": {
            "width": 0
           },
           "opacity": 0.3
          },
          "ternary": {
           "aaxis": {
            "gridcolor": "white",
            "linecolor": "white",
            "showgrid": true,
            "tickcolor": "rgb(51,51,51)",
            "ticks": "outside"
           },
           "baxis": {
            "gridcolor": "white",
            "linecolor": "white",
            "showgrid": true,
            "tickcolor": "rgb(51,51,51)",
            "ticks": "outside"
           },
           "bgcolor": "rgb(237,237,237)",
           "caxis": {
            "gridcolor": "white",
            "linecolor": "white",
            "showgrid": true,
            "tickcolor": "rgb(51,51,51)",
            "ticks": "outside"
           }
          },
          "xaxis": {
           "automargin": true,
           "gridcolor": "white",
           "linecolor": "white",
           "showgrid": true,
           "tickcolor": "rgb(51,51,51)",
           "ticks": "outside",
           "title": {
            "standoff": 15
           },
           "zerolinecolor": "white"
          },
          "yaxis": {
           "automargin": true,
           "gridcolor": "white",
           "linecolor": "white",
           "showgrid": true,
           "tickcolor": "rgb(51,51,51)",
           "ticks": "outside",
           "title": {
            "standoff": 15
           },
           "zerolinecolor": "white"
          }
         }
        },
        "title": {
         "text": "Infection Rate Compared to Key Public Events"
        },
        "width": 1000,
        "xaxis": {
         "title": {
          "text": "Reported Date"
         }
        },
        "yaxis": {
         "title": {
          "text": "Confirmed Cases"
         }
        }
       }
      }
     },
     "metadata": {}
    }
   ],
   "source": [
    "#hide_input\n",
    "\n",
    "fig_public = go.Figure()\n",
    "fig_public.add_trace(go.Scatter(x=df_testing['Reported Date'],\n",
    "                               y=df_testing['New Cases 5 Day Average'],\n",
    "                               mode=\"lines\",\n",
    "                               #line=dict(color=\"maroon\", dash=\"dot\"),\n",
    "                               name='5d Rolling Avg',\n",
    "                               showlegend=True\n",
    "))\n",
    "\n",
    "fig_public.update_layout(annotations=public_dates_annot,\n",
    "                        title=\"Infection Rate Compared to Key Public Events\",\n",
    "                        template='ggplot2',\n",
    "                        width=1000,\n",
    "                        xaxis_title=\"Reported Date\",\n",
    "                        yaxis_title=\"Confirmed Cases\")\n",
    "\n",
    "fig_public.update_layout(legend=dict(\n",
    "    orientation=\"h\",\n",
    "    yanchor=\"bottom\",\n",
    "    y=1.02,\n",
    "    xanchor=\"right\",\n",
    "    x=1,))"
   ]
  },
  {
   "cell_type": "code",
   "execution_count": 24,
   "metadata": {
    "colab": {
     "base_uri": "https://localhost:8080/",
     "height": 542
    },
    "executionInfo": {
     "elapsed": 6851,
     "status": "ok",
     "timestamp": 1608260152081,
     "user": {
      "displayName": "Vijay S",
      "photoUrl": "https://lh4.googleusercontent.com/-Y3kqresK7tQ/AAAAAAAAAAI/AAAAAAAAIow/dmSWQoFZ3gU/s64/photo.jpg",
      "userId": "09127601101212446573"
     },
     "user_tz": 300
    },
    "id": "AtnYbuTh184o",
    "outputId": "2e710313-fe75-44c3-c61c-4450a3234336"
   },
   "outputs": [
    {
     "output_type": "display_data",
     "data": {
      "application/vnd.plotly.v1+json": {
       "config": {
        "plotlyServerURL": "https://plot.ly"
       },
       "data": [
        {
         "mode": "lines",
         "name": "5d Rolling Avg",
         "showlegend": true,
         "type": "scatter",
         "x": [
          "2020-01-26T00:00:00",
          "2020-01-27T00:00:00",
          "2020-01-28T00:00:00",
          "2020-01-30T00:00:00",
          "2020-01-31T00:00:00",
          "2020-02-03T00:00:00",
          "2020-02-04T00:00:00",
          "2020-02-05T00:00:00",
          "2020-02-06T00:00:00",
          "2020-02-08T00:00:00",
          "2020-02-10T00:00:00",
          "2020-02-11T00:00:00",
          "2020-02-12T00:00:00",
          "2020-02-13T00:00:00",
          "2020-02-14T00:00:00",
          "2020-02-17T00:00:00",
          "2020-02-18T00:00:00",
          "2020-02-19T00:00:00",
          "2020-02-20T00:00:00",
          "2020-02-21T00:00:00",
          "2020-02-24T00:00:00",
          "2020-02-25T00:00:00",
          "2020-02-26T00:00:00",
          "2020-02-27T00:00:00",
          "2020-02-28T00:00:00",
          "2020-03-02T00:00:00",
          "2020-03-03T00:00:00",
          "2020-03-04T00:00:00",
          "2020-03-05T00:00:00",
          "2020-03-06T00:00:00",
          "2020-03-07T00:00:00",
          "2020-03-08T00:00:00",
          "2020-03-09T00:00:00",
          "2020-03-10T00:00:00",
          "2020-03-11T00:00:00",
          "2020-03-12T00:00:00",
          "2020-03-13T00:00:00",
          "2020-03-14T00:00:00",
          "2020-03-15T00:00:00",
          "2020-03-16T00:00:00",
          "2020-03-17T00:00:00",
          "2020-03-18T00:00:00",
          "2020-03-19T00:00:00",
          "2020-03-20T00:00:00",
          "2020-03-21T00:00:00",
          "2020-03-22T00:00:00",
          "2020-03-23T00:00:00",
          "2020-03-24T00:00:00",
          "2020-03-25T00:00:00",
          "2020-03-26T00:00:00",
          "2020-03-27T00:00:00",
          "2020-03-28T00:00:00",
          "2020-03-29T00:00:00",
          "2020-03-30T00:00:00",
          "2020-03-31T00:00:00",
          "2020-04-01T00:00:00",
          "2020-04-02T00:00:00",
          "2020-04-03T00:00:00",
          "2020-04-04T00:00:00",
          "2020-04-05T00:00:00",
          "2020-04-06T00:00:00",
          "2020-04-07T00:00:00",
          "2020-04-08T00:00:00",
          "2020-04-09T00:00:00",
          "2020-04-10T00:00:00",
          "2020-04-11T00:00:00",
          "2020-04-12T00:00:00",
          "2020-04-13T00:00:00",
          "2020-04-14T00:00:00",
          "2020-04-15T00:00:00",
          "2020-04-16T00:00:00",
          "2020-04-17T00:00:00",
          "2020-04-18T00:00:00",
          "2020-04-19T00:00:00",
          "2020-04-20T00:00:00",
          "2020-04-21T00:00:00",
          "2020-04-22T00:00:00",
          "2020-04-23T00:00:00",
          "2020-04-24T00:00:00",
          "2020-04-25T00:00:00",
          "2020-04-26T00:00:00",
          "2020-04-27T00:00:00",
          "2020-04-28T00:00:00",
          "2020-04-29T00:00:00",
          "2020-04-30T00:00:00",
          "2020-05-01T00:00:00",
          "2020-05-02T00:00:00",
          "2020-05-03T00:00:00",
          "2020-05-04T00:00:00",
          "2020-05-05T00:00:00",
          "2020-05-06T00:00:00",
          "2020-05-07T00:00:00",
          "2020-05-08T00:00:00",
          "2020-05-09T00:00:00",
          "2020-05-10T00:00:00",
          "2020-05-11T00:00:00",
          "2020-05-12T00:00:00",
          "2020-05-13T00:00:00",
          "2020-05-14T00:00:00",
          "2020-05-15T00:00:00",
          "2020-05-16T00:00:00",
          "2020-05-17T00:00:00",
          "2020-05-18T00:00:00",
          "2020-05-19T00:00:00",
          "2020-05-20T00:00:00",
          "2020-05-21T00:00:00",
          "2020-05-22T00:00:00",
          "2020-05-23T00:00:00",
          "2020-05-24T00:00:00",
          "2020-05-25T00:00:00",
          "2020-05-26T00:00:00",
          "2020-05-27T00:00:00",
          "2020-05-28T00:00:00",
          "2020-05-29T00:00:00",
          "2020-05-30T00:00:00",
          "2020-05-31T00:00:00",
          "2020-06-01T00:00:00",
          "2020-06-02T00:00:00",
          "2020-06-03T00:00:00",
          "2020-06-04T00:00:00",
          "2020-06-05T00:00:00",
          "2020-06-06T00:00:00",
          "2020-06-07T00:00:00",
          "2020-06-08T00:00:00",
          "2020-06-09T00:00:00",
          "2020-06-10T00:00:00",
          "2020-06-11T00:00:00",
          "2020-06-12T00:00:00",
          "2020-06-13T00:00:00",
          "2020-06-14T00:00:00",
          "2020-06-15T00:00:00",
          "2020-06-16T00:00:00",
          "2020-06-17T00:00:00",
          "2020-06-18T00:00:00",
          "2020-06-19T00:00:00",
          "2020-06-20T00:00:00",
          "2020-06-21T00:00:00",
          "2020-06-22T00:00:00",
          "2020-06-23T00:00:00",
          "2020-06-24T00:00:00",
          "2020-06-25T00:00:00",
          "2020-06-26T00:00:00",
          "2020-06-27T00:00:00",
          "2020-06-28T00:00:00",
          "2020-06-29T00:00:00",
          "2020-06-30T00:00:00",
          "2020-07-01T00:00:00",
          "2020-07-02T00:00:00",
          "2020-07-03T00:00:00",
          "2020-07-04T00:00:00",
          "2020-07-05T00:00:00",
          "2020-07-06T00:00:00",
          "2020-07-07T00:00:00",
          "2020-07-08T00:00:00",
          "2020-07-09T00:00:00",
          "2020-07-10T00:00:00",
          "2020-07-11T00:00:00",
          "2020-07-12T00:00:00",
          "2020-07-13T00:00:00",
          "2020-07-14T00:00:00",
          "2020-07-15T00:00:00",
          "2020-07-16T00:00:00",
          "2020-07-17T00:00:00",
          "2020-07-18T00:00:00",
          "2020-07-19T00:00:00",
          "2020-07-20T00:00:00",
          "2020-07-21T00:00:00",
          "2020-07-22T00:00:00",
          "2020-07-23T00:00:00",
          "2020-07-24T00:00:00",
          "2020-07-25T00:00:00",
          "2020-07-26T00:00:00",
          "2020-07-27T00:00:00",
          "2020-07-28T00:00:00",
          "2020-07-29T00:00:00",
          "2020-07-30T00:00:00",
          "2020-07-31T00:00:00",
          "2020-08-01T00:00:00",
          "2020-08-02T00:00:00",
          "2020-08-03T00:00:00",
          "2020-08-04T00:00:00",
          "2020-08-05T00:00:00",
          "2020-08-06T00:00:00",
          "2020-08-07T00:00:00",
          "2020-08-08T00:00:00",
          "2020-08-09T00:00:00",
          "2020-08-10T00:00:00",
          "2020-08-11T00:00:00",
          "2020-08-12T00:00:00",
          "2020-08-13T00:00:00",
          "2020-08-14T00:00:00",
          "2020-08-15T00:00:00",
          "2020-08-16T00:00:00",
          "2020-08-17T00:00:00",
          "2020-08-18T00:00:00",
          "2020-08-19T00:00:00",
          "2020-08-20T00:00:00",
          "2020-08-21T00:00:00",
          "2020-08-22T00:00:00",
          "2020-08-23T00:00:00",
          "2020-08-24T00:00:00",
          "2020-08-25T00:00:00",
          "2020-08-26T00:00:00",
          "2020-08-27T00:00:00",
          "2020-08-28T00:00:00",
          "2020-08-29T00:00:00",
          "2020-08-30T00:00:00",
          "2020-08-31T00:00:00",
          "2020-09-01T00:00:00",
          "2020-09-02T00:00:00",
          "2020-09-03T00:00:00",
          "2020-09-04T00:00:00",
          "2020-09-05T00:00:00",
          "2020-09-06T00:00:00",
          "2020-09-07T00:00:00",
          "2020-09-08T00:00:00",
          "2020-09-09T00:00:00",
          "2020-09-10T00:00:00",
          "2020-09-11T00:00:00",
          "2020-09-12T00:00:00",
          "2020-09-13T00:00:00",
          "2020-09-14T00:00:00",
          "2020-09-15T00:00:00",
          "2020-09-16T00:00:00",
          "2020-09-17T00:00:00",
          "2020-09-18T00:00:00",
          "2020-09-19T00:00:00",
          "2020-09-20T00:00:00",
          "2020-09-21T00:00:00",
          "2020-09-22T00:00:00",
          "2020-09-23T00:00:00",
          "2020-09-24T00:00:00",
          "2020-09-25T00:00:00",
          "2020-09-26T00:00:00",
          "2020-09-27T00:00:00",
          "2020-09-28T00:00:00",
          "2020-09-29T00:00:00",
          "2020-09-30T00:00:00",
          "2020-10-01T00:00:00",
          "2020-10-02T00:00:00",
          "2020-10-03T00:00:00",
          "2020-10-04T00:00:00",
          "2020-10-05T00:00:00",
          "2020-10-06T00:00:00",
          "2020-10-07T00:00:00",
          "2020-10-08T00:00:00",
          "2020-10-09T00:00:00",
          "2020-10-10T00:00:00",
          "2020-10-11T00:00:00",
          "2020-10-12T00:00:00",
          "2020-10-13T00:00:00",
          "2020-10-14T00:00:00",
          "2020-10-15T00:00:00",
          "2020-10-16T00:00:00",
          "2020-10-17T00:00:00",
          "2020-10-18T00:00:00",
          "2020-10-19T00:00:00",
          "2020-10-20T00:00:00",
          "2020-10-21T00:00:00",
          "2020-10-22T00:00:00",
          "2020-10-23T00:00:00",
          "2020-10-24T00:00:00",
          "2020-10-25T00:00:00",
          "2020-10-26T00:00:00",
          "2020-10-27T00:00:00",
          "2020-10-28T00:00:00",
          "2020-10-29T00:00:00",
          "2020-10-30T00:00:00",
          "2020-10-31T00:00:00",
          "2020-11-01T00:00:00",
          "2020-11-02T00:00:00",
          "2020-11-03T00:00:00",
          "2020-11-04T00:00:00",
          "2020-11-05T00:00:00",
          "2020-11-06T00:00:00",
          "2020-11-07T00:00:00",
          "2020-11-08T00:00:00",
          "2020-11-09T00:00:00",
          "2020-11-10T00:00:00",
          "2020-11-11T00:00:00",
          "2020-11-12T00:00:00",
          "2020-11-13T00:00:00",
          "2020-11-14T00:00:00",
          "2020-11-15T00:00:00",
          "2020-11-16T00:00:00",
          "2020-11-17T00:00:00",
          "2020-11-18T00:00:00",
          "2020-11-19T00:00:00",
          "2020-11-20T00:00:00",
          "2020-11-21T00:00:00",
          "2020-11-22T00:00:00",
          "2020-11-23T00:00:00",
          "2020-11-24T00:00:00",
          "2020-11-25T00:00:00",
          "2020-11-26T00:00:00",
          "2020-11-27T00:00:00",
          "2020-11-28T00:00:00",
          "2020-11-29T00:00:00",
          "2020-11-30T00:00:00",
          "2020-12-01T00:00:00",
          "2020-12-02T00:00:00",
          "2020-12-03T00:00:00",
          "2020-12-04T00:00:00",
          "2020-12-05T00:00:00",
          "2020-12-06T00:00:00",
          "2020-12-07T00:00:00",
          "2020-12-08T00:00:00",
          "2020-12-09T00:00:00",
          "2020-12-10T00:00:00",
          "2020-12-11T00:00:00",
          "2020-12-12T00:00:00",
          "2020-12-13T00:00:00",
          "2020-12-14T00:00:00",
          "2020-12-15T00:00:00",
          "2020-12-16T00:00:00",
          "2020-12-17T00:00:00",
          "2020-12-18T00:00:00",
          "2020-12-19T00:00:00"
         ],
         "y": [
          null,
          null,
          null,
          null,
          null,
          1,
          1,
          0,
          0,
          0,
          0,
          0,
          0,
          0,
          0,
          0,
          0,
          0,
          0,
          0,
          0,
          0,
          0,
          0,
          1,
          3,
          3,
          3,
          3,
          4,
          2,
          2,
          3,
          3,
          3,
          6,
          10,
          14,
          22,
          27,
          26,
          27,
          31,
          35,
          40,
          47,
          58,
          66,
          74,
          96,
          114,
          128,
          153,
          204,
          222,
          280,
          330,
          380,
          385,
          414,
          391,
          387,
          404,
          426,
          440,
          460,
          465,
          439,
          439,
          442,
          463,
          495,
          508,
          525,
          547,
          555,
          544,
          574,
          588,
          562,
          539,
          522,
          500,
          442,
          438,
          435,
          453,
          434,
          439,
          425,
          423,
          400,
          409,
          404,
          386,
          365,
          357,
          328,
          327,
          337,
          353,
          349,
          344,
          361,
          370,
          375,
          395,
          417,
          423,
          426,
          401,
          371,
          365,
          342,
          326,
          334,
          356,
          369,
          367,
          374,
          378,
          388,
          382,
          363,
          337,
          319,
          268,
          222,
          226,
          220,
          206,
          202,
          204,
          185,
          181,
          186,
          184,
          179,
          187,
          184,
          181,
          168,
          168,
          160,
          179,
          173,
          180,
          179,
          176,
          149,
          145,
          146,
          138,
          129,
          138,
          134,
          129,
          133,
          132,
          120,
          118,
          114,
          110,
          120,
          131,
          137,
          156,
          167,
          154,
          160,
          161,
          148,
          138,
          140,
          116,
          106,
          106,
          107,
          108,
          110,
          111,
          101,
          95,
          90,
          86,
          84,
          89,
          77,
          78,
          80,
          83,
          81,
          90,
          91,
          101,
          103,
          97,
          107,
          108,
          106,
          107,
          112,
          103,
          105,
          107,
          115,
          118,
          123,
          122,
          124,
          121,
          128,
          139,
          148,
          159,
          170,
          170,
          170,
          181,
          190,
          194,
          226,
          243,
          263,
          275,
          315,
          333,
          356,
          378,
          415,
          402,
          402,
          411,
          413,
          416,
          489,
          518,
          561,
          582,
          630,
          620,
          623,
          621,
          623,
          593,
          622,
          696,
          735,
          755,
          800,
          790,
          746,
          741,
          754,
          753,
          736,
          732,
          740,
          756,
          763,
          796,
          851,
          895,
          908,
          905,
          906,
          898,
          868,
          901,
          931,
          954,
          977,
          995,
          992,
          997,
          1034,
          1090,
          1141,
          1219,
          1303,
          1392,
          1405,
          1473,
          1445,
          1457,
          1392,
          1396,
          1322,
          1356,
          1376,
          1433,
          1468,
          1428,
          1419,
          1397,
          1461,
          1507,
          1647,
          1722,
          1768,
          1741,
          1742,
          1756,
          1779,
          1822,
          1862,
          1833,
          1855,
          1880,
          1864,
          1854,
          1854,
          1864,
          1923,
          1981,
          2093,
          2215,
          2299
         ]
        }
       ],
       "layout": {
        "annotations": [
         {
          "arrowhead": 3,
          "ax": -20,
          "ay": -80,
          "showarrow": true,
          "text": "Ontario Lockdown #1",
          "x": "2020-03-23",
          "xref": "x",
          "y": 58,
          "yref": "y"
         },
         {
          "arrowhead": 3,
          "ax": 0,
          "ay": -40,
          "showarrow": true,
          "text": "Ontario in Stage 2",
          "x": "2020-06-24",
          "xref": "x",
          "y": 184,
          "yref": "y"
         },
         {
          "arrowhead": 3,
          "ax": 0,
          "ay": -30,
          "showarrow": true,
          "text": "Ontario in Stage 3",
          "x": "2020-07-31",
          "xref": "x",
          "y": 106,
          "yref": "y"
         },
         {
          "arrowhead": 3,
          "ax": -40,
          "ay": -80,
          "showarrow": true,
          "text": "Schools reopen<br>for 2020-21",
          "x": "2020-09-08",
          "xref": "x",
          "y": 170,
          "yref": "y"
         },
         {
          "arrowhead": 3,
          "ax": -40,
          "ay": -80,
          "showarrow": true,
          "text": "Second Wave confirmed",
          "x": "2020-09-28",
          "xref": "x",
          "y": 489,
          "yref": "y"
         },
         {
          "arrowhead": 3,
          "ax": 30,
          "ay": 100,
          "showarrow": true,
          "text": "Peel/Toronto/Ottawa<br>revert to<br>modified Stage 2",
          "x": "2020-10-12",
          "xref": "x",
          "y": 800,
          "yref": "y"
         },
         {
          "arrowhead": 3,
          "ax": 25,
          "ay": 60,
          "showarrow": true,
          "text": "Peel/Ottawa<br>in Orange Zone",
          "x": "2020-11-07",
          "xref": "x",
          "y": 1034,
          "yref": "y"
         },
         {
          "arrowhead": 3,
          "ax": -80,
          "ay": -30,
          "showarrow": true,
          "text": "Peel/Toronto<br>in Red Zone",
          "x": "2020-11-12",
          "xref": "x",
          "y": 1392,
          "yref": "y"
         },
         {
          "arrowhead": 3,
          "ax": -50,
          "ay": -60,
          "showarrow": true,
          "text": "Halton in Red Zone",
          "x": "2020-11-16",
          "xref": "x",
          "y": 1457,
          "yref": "y"
         },
         {
          "arrowhead": 3,
          "ax": 0,
          "ay": -80,
          "showarrow": true,
          "text": "Peel/Toronto in<br>Lockdown<br>#2",
          "x": "2020-11-23",
          "xref": "x",
          "y": 1468,
          "yref": "y"
         },
         {
          "arrowhead": 3,
          "ax": 0,
          "ay": 80,
          "showarrow": true,
          "text": "York/Windsor<br>in Lockdown<br>#2",
          "x": "2020-12-14",
          "xref": "x",
          "y": 1864,
          "yref": "y"
         },
         {
          "arrowhead": 3,
          "ax": 0,
          "ay": -60,
          "showarrow": true,
          "text": "Vaccine Rollout",
          "x": "2020-12-15",
          "xref": "x",
          "y": 1923,
          "yref": "y"
         }
        ],
        "legend": {
         "orientation": "h",
         "x": 1,
         "xanchor": "right",
         "y": 1.02,
         "yanchor": "bottom"
        },
        "template": {
         "data": {
          "bar": [
           {
            "error_x": {
             "color": "rgb(36,36,36)"
            },
            "error_y": {
             "color": "rgb(36,36,36)"
            },
            "marker": {
             "line": {
              "color": "rgb(234,234,242)",
              "width": 0.5
             }
            },
            "type": "bar"
           }
          ],
          "barpolar": [
           {
            "marker": {
             "line": {
              "color": "rgb(234,234,242)",
              "width": 0.5
             }
            },
            "type": "barpolar"
           }
          ],
          "carpet": [
           {
            "aaxis": {
             "endlinecolor": "rgb(36,36,36)",
             "gridcolor": "white",
             "linecolor": "white",
             "minorgridcolor": "white",
             "startlinecolor": "rgb(36,36,36)"
            },
            "baxis": {
             "endlinecolor": "rgb(36,36,36)",
             "gridcolor": "white",
             "linecolor": "white",
             "minorgridcolor": "white",
             "startlinecolor": "rgb(36,36,36)"
            },
            "type": "carpet"
           }
          ],
          "choropleth": [
           {
            "colorbar": {
             "outlinewidth": 0,
             "tickcolor": "rgb(36,36,36)",
             "ticklen": 8,
             "ticks": "outside",
             "tickwidth": 2
            },
            "type": "choropleth"
           }
          ],
          "contour": [
           {
            "colorbar": {
             "outlinewidth": 0,
             "tickcolor": "rgb(36,36,36)",
             "ticklen": 8,
             "ticks": "outside",
             "tickwidth": 2
            },
            "colorscale": [
             [
              0,
              "rgb(2,4,25)"
             ],
             [
              0.06274509803921569,
              "rgb(24,15,41)"
             ],
             [
              0.12549019607843137,
              "rgb(47,23,57)"
             ],
             [
              0.18823529411764706,
              "rgb(71,28,72)"
             ],
             [
              0.25098039215686274,
              "rgb(97,30,82)"
             ],
             [
              0.3137254901960784,
              "rgb(123,30,89)"
             ],
             [
              0.3764705882352941,
              "rgb(150,27,91)"
             ],
             [
              0.4392156862745098,
              "rgb(177,22,88)"
             ],
             [
              0.5019607843137255,
              "rgb(203,26,79)"
             ],
             [
              0.5647058823529412,
              "rgb(223,47,67)"
             ],
             [
              0.6274509803921569,
              "rgb(236,76,61)"
             ],
             [
              0.6901960784313725,
              "rgb(242,107,73)"
             ],
             [
              0.7529411764705882,
              "rgb(244,135,95)"
             ],
             [
              0.8156862745098039,
              "rgb(245,162,122)"
             ],
             [
              0.8784313725490196,
              "rgb(246,188,153)"
             ],
             [
              0.9411764705882353,
              "rgb(247,212,187)"
             ],
             [
              1,
              "rgb(250,234,220)"
             ]
            ],
            "type": "contour"
           }
          ],
          "contourcarpet": [
           {
            "colorbar": {
             "outlinewidth": 0,
             "tickcolor": "rgb(36,36,36)",
             "ticklen": 8,
             "ticks": "outside",
             "tickwidth": 2
            },
            "type": "contourcarpet"
           }
          ],
          "heatmap": [
           {
            "colorbar": {
             "outlinewidth": 0,
             "tickcolor": "rgb(36,36,36)",
             "ticklen": 8,
             "ticks": "outside",
             "tickwidth": 2
            },
            "colorscale": [
             [
              0,
              "rgb(2,4,25)"
             ],
             [
              0.06274509803921569,
              "rgb(24,15,41)"
             ],
             [
              0.12549019607843137,
              "rgb(47,23,57)"
             ],
             [
              0.18823529411764706,
              "rgb(71,28,72)"
             ],
             [
              0.25098039215686274,
              "rgb(97,30,82)"
             ],
             [
              0.3137254901960784,
              "rgb(123,30,89)"
             ],
             [
              0.3764705882352941,
              "rgb(150,27,91)"
             ],
             [
              0.4392156862745098,
              "rgb(177,22,88)"
             ],
             [
              0.5019607843137255,
              "rgb(203,26,79)"
             ],
             [
              0.5647058823529412,
              "rgb(223,47,67)"
             ],
             [
              0.6274509803921569,
              "rgb(236,76,61)"
             ],
             [
              0.6901960784313725,
              "rgb(242,107,73)"
             ],
             [
              0.7529411764705882,
              "rgb(244,135,95)"
             ],
             [
              0.8156862745098039,
              "rgb(245,162,122)"
             ],
             [
              0.8784313725490196,
              "rgb(246,188,153)"
             ],
             [
              0.9411764705882353,
              "rgb(247,212,187)"
             ],
             [
              1,
              "rgb(250,234,220)"
             ]
            ],
            "type": "heatmap"
           }
          ],
          "heatmapgl": [
           {
            "colorbar": {
             "outlinewidth": 0,
             "tickcolor": "rgb(36,36,36)",
             "ticklen": 8,
             "ticks": "outside",
             "tickwidth": 2
            },
            "colorscale": [
             [
              0,
              "rgb(2,4,25)"
             ],
             [
              0.06274509803921569,
              "rgb(24,15,41)"
             ],
             [
              0.12549019607843137,
              "rgb(47,23,57)"
             ],
             [
              0.18823529411764706,
              "rgb(71,28,72)"
             ],
             [
              0.25098039215686274,
              "rgb(97,30,82)"
             ],
             [
              0.3137254901960784,
              "rgb(123,30,89)"
             ],
             [
              0.3764705882352941,
              "rgb(150,27,91)"
             ],
             [
              0.4392156862745098,
              "rgb(177,22,88)"
             ],
             [
              0.5019607843137255,
              "rgb(203,26,79)"
             ],
             [
              0.5647058823529412,
              "rgb(223,47,67)"
             ],
             [
              0.6274509803921569,
              "rgb(236,76,61)"
             ],
             [
              0.6901960784313725,
              "rgb(242,107,73)"
             ],
             [
              0.7529411764705882,
              "rgb(244,135,95)"
             ],
             [
              0.8156862745098039,
              "rgb(245,162,122)"
             ],
             [
              0.8784313725490196,
              "rgb(246,188,153)"
             ],
             [
              0.9411764705882353,
              "rgb(247,212,187)"
             ],
             [
              1,
              "rgb(250,234,220)"
             ]
            ],
            "type": "heatmapgl"
           }
          ],
          "histogram": [
           {
            "marker": {
             "colorbar": {
              "outlinewidth": 0,
              "tickcolor": "rgb(36,36,36)",
              "ticklen": 8,
              "ticks": "outside",
              "tickwidth": 2
             }
            },
            "type": "histogram"
           }
          ],
          "histogram2d": [
           {
            "colorbar": {
             "outlinewidth": 0,
             "tickcolor": "rgb(36,36,36)",
             "ticklen": 8,
             "ticks": "outside",
             "tickwidth": 2
            },
            "colorscale": [
             [
              0,
              "rgb(2,4,25)"
             ],
             [
              0.06274509803921569,
              "rgb(24,15,41)"
             ],
             [
              0.12549019607843137,
              "rgb(47,23,57)"
             ],
             [
              0.18823529411764706,
              "rgb(71,28,72)"
             ],
             [
              0.25098039215686274,
              "rgb(97,30,82)"
             ],
             [
              0.3137254901960784,
              "rgb(123,30,89)"
             ],
             [
              0.3764705882352941,
              "rgb(150,27,91)"
             ],
             [
              0.4392156862745098,
              "rgb(177,22,88)"
             ],
             [
              0.5019607843137255,
              "rgb(203,26,79)"
             ],
             [
              0.5647058823529412,
              "rgb(223,47,67)"
             ],
             [
              0.6274509803921569,
              "rgb(236,76,61)"
             ],
             [
              0.6901960784313725,
              "rgb(242,107,73)"
             ],
             [
              0.7529411764705882,
              "rgb(244,135,95)"
             ],
             [
              0.8156862745098039,
              "rgb(245,162,122)"
             ],
             [
              0.8784313725490196,
              "rgb(246,188,153)"
             ],
             [
              0.9411764705882353,
              "rgb(247,212,187)"
             ],
             [
              1,
              "rgb(250,234,220)"
             ]
            ],
            "type": "histogram2d"
           }
          ],
          "histogram2dcontour": [
           {
            "colorbar": {
             "outlinewidth": 0,
             "tickcolor": "rgb(36,36,36)",
             "ticklen": 8,
             "ticks": "outside",
             "tickwidth": 2
            },
            "colorscale": [
             [
              0,
              "rgb(2,4,25)"
             ],
             [
              0.06274509803921569,
              "rgb(24,15,41)"
             ],
             [
              0.12549019607843137,
              "rgb(47,23,57)"
             ],
             [
              0.18823529411764706,
              "rgb(71,28,72)"
             ],
             [
              0.25098039215686274,
              "rgb(97,30,82)"
             ],
             [
              0.3137254901960784,
              "rgb(123,30,89)"
             ],
             [
              0.3764705882352941,
              "rgb(150,27,91)"
             ],
             [
              0.4392156862745098,
              "rgb(177,22,88)"
             ],
             [
              0.5019607843137255,
              "rgb(203,26,79)"
             ],
             [
              0.5647058823529412,
              "rgb(223,47,67)"
             ],
             [
              0.6274509803921569,
              "rgb(236,76,61)"
             ],
             [
              0.6901960784313725,
              "rgb(242,107,73)"
             ],
             [
              0.7529411764705882,
              "rgb(244,135,95)"
             ],
             [
              0.8156862745098039,
              "rgb(245,162,122)"
             ],
             [
              0.8784313725490196,
              "rgb(246,188,153)"
             ],
             [
              0.9411764705882353,
              "rgb(247,212,187)"
             ],
             [
              1,
              "rgb(250,234,220)"
             ]
            ],
            "type": "histogram2dcontour"
           }
          ],
          "mesh3d": [
           {
            "colorbar": {
             "outlinewidth": 0,
             "tickcolor": "rgb(36,36,36)",
             "ticklen": 8,
             "ticks": "outside",
             "tickwidth": 2
            },
            "type": "mesh3d"
           }
          ],
          "parcoords": [
           {
            "line": {
             "colorbar": {
              "outlinewidth": 0,
              "tickcolor": "rgb(36,36,36)",
              "ticklen": 8,
              "ticks": "outside",
              "tickwidth": 2
             }
            },
            "type": "parcoords"
           }
          ],
          "pie": [
           {
            "automargin": true,
            "type": "pie"
           }
          ],
          "scatter": [
           {
            "marker": {
             "colorbar": {
              "outlinewidth": 0,
              "tickcolor": "rgb(36,36,36)",
              "ticklen": 8,
              "ticks": "outside",
              "tickwidth": 2
             }
            },
            "type": "scatter"
           }
          ],
          "scatter3d": [
           {
            "line": {
             "colorbar": {
              "outlinewidth": 0,
              "tickcolor": "rgb(36,36,36)",
              "ticklen": 8,
              "ticks": "outside",
              "tickwidth": 2
             }
            },
            "marker": {
             "colorbar": {
              "outlinewidth": 0,
              "tickcolor": "rgb(36,36,36)",
              "ticklen": 8,
              "ticks": "outside",
              "tickwidth": 2
             }
            },
            "type": "scatter3d"
           }
          ],
          "scattercarpet": [
           {
            "marker": {
             "colorbar": {
              "outlinewidth": 0,
              "tickcolor": "rgb(36,36,36)",
              "ticklen": 8,
              "ticks": "outside",
              "tickwidth": 2
             }
            },
            "type": "scattercarpet"
           }
          ],
          "scattergeo": [
           {
            "marker": {
             "colorbar": {
              "outlinewidth": 0,
              "tickcolor": "rgb(36,36,36)",
              "ticklen": 8,
              "ticks": "outside",
              "tickwidth": 2
             }
            },
            "type": "scattergeo"
           }
          ],
          "scattergl": [
           {
            "marker": {
             "colorbar": {
              "outlinewidth": 0,
              "tickcolor": "rgb(36,36,36)",
              "ticklen": 8,
              "ticks": "outside",
              "tickwidth": 2
             }
            },
            "type": "scattergl"
           }
          ],
          "scattermapbox": [
           {
            "marker": {
             "colorbar": {
              "outlinewidth": 0,
              "tickcolor": "rgb(36,36,36)",
              "ticklen": 8,
              "ticks": "outside",
              "tickwidth": 2
             }
            },
            "type": "scattermapbox"
           }
          ],
          "scatterpolar": [
           {
            "marker": {
             "colorbar": {
              "outlinewidth": 0,
              "tickcolor": "rgb(36,36,36)",
              "ticklen": 8,
              "ticks": "outside",
              "tickwidth": 2
             }
            },
            "type": "scatterpolar"
           }
          ],
          "scatterpolargl": [
           {
            "marker": {
             "colorbar": {
              "outlinewidth": 0,
              "tickcolor": "rgb(36,36,36)",
              "ticklen": 8,
              "ticks": "outside",
              "tickwidth": 2
             }
            },
            "type": "scatterpolargl"
           }
          ],
          "scatterternary": [
           {
            "marker": {
             "colorbar": {
              "outlinewidth": 0,
              "tickcolor": "rgb(36,36,36)",
              "ticklen": 8,
              "ticks": "outside",
              "tickwidth": 2
             }
            },
            "type": "scatterternary"
           }
          ],
          "surface": [
           {
            "colorbar": {
             "outlinewidth": 0,
             "tickcolor": "rgb(36,36,36)",
             "ticklen": 8,
             "ticks": "outside",
             "tickwidth": 2
            },
            "colorscale": [
             [
              0,
              "rgb(2,4,25)"
             ],
             [
              0.06274509803921569,
              "rgb(24,15,41)"
             ],
             [
              0.12549019607843137,
              "rgb(47,23,57)"
             ],
             [
              0.18823529411764706,
              "rgb(71,28,72)"
             ],
             [
              0.25098039215686274,
              "rgb(97,30,82)"
             ],
             [
              0.3137254901960784,
              "rgb(123,30,89)"
             ],
             [
              0.3764705882352941,
              "rgb(150,27,91)"
             ],
             [
              0.4392156862745098,
              "rgb(177,22,88)"
             ],
             [
              0.5019607843137255,
              "rgb(203,26,79)"
             ],
             [
              0.5647058823529412,
              "rgb(223,47,67)"
             ],
             [
              0.6274509803921569,
              "rgb(236,76,61)"
             ],
             [
              0.6901960784313725,
              "rgb(242,107,73)"
             ],
             [
              0.7529411764705882,
              "rgb(244,135,95)"
             ],
             [
              0.8156862745098039,
              "rgb(245,162,122)"
             ],
             [
              0.8784313725490196,
              "rgb(246,188,153)"
             ],
             [
              0.9411764705882353,
              "rgb(247,212,187)"
             ],
             [
              1,
              "rgb(250,234,220)"
             ]
            ],
            "type": "surface"
           }
          ],
          "table": [
           {
            "cells": {
             "fill": {
              "color": "rgb(231,231,240)"
             },
             "line": {
              "color": "white"
             }
            },
            "header": {
             "fill": {
              "color": "rgb(183,183,191)"
             },
             "line": {
              "color": "white"
             }
            },
            "type": "table"
           }
          ]
         },
         "layout": {
          "annotationdefaults": {
           "arrowcolor": "rgb(67,103,167)"
          },
          "coloraxis": {
           "colorbar": {
            "outlinewidth": 0,
            "tickcolor": "rgb(36,36,36)",
            "ticklen": 8,
            "ticks": "outside",
            "tickwidth": 2
           }
          },
          "colorscale": {
           "sequential": [
            [
             0,
             "rgb(2,4,25)"
            ],
            [
             0.06274509803921569,
             "rgb(24,15,41)"
            ],
            [
             0.12549019607843137,
             "rgb(47,23,57)"
            ],
            [
             0.18823529411764706,
             "rgb(71,28,72)"
            ],
            [
             0.25098039215686274,
             "rgb(97,30,82)"
            ],
            [
             0.3137254901960784,
             "rgb(123,30,89)"
            ],
            [
             0.3764705882352941,
             "rgb(150,27,91)"
            ],
            [
             0.4392156862745098,
             "rgb(177,22,88)"
            ],
            [
             0.5019607843137255,
             "rgb(203,26,79)"
            ],
            [
             0.5647058823529412,
             "rgb(223,47,67)"
            ],
            [
             0.6274509803921569,
             "rgb(236,76,61)"
            ],
            [
             0.6901960784313725,
             "rgb(242,107,73)"
            ],
            [
             0.7529411764705882,
             "rgb(244,135,95)"
            ],
            [
             0.8156862745098039,
             "rgb(245,162,122)"
            ],
            [
             0.8784313725490196,
             "rgb(246,188,153)"
            ],
            [
             0.9411764705882353,
             "rgb(247,212,187)"
            ],
            [
             1,
             "rgb(250,234,220)"
            ]
           ],
           "sequentialminus": [
            [
             0,
             "rgb(2,4,25)"
            ],
            [
             0.06274509803921569,
             "rgb(24,15,41)"
            ],
            [
             0.12549019607843137,
             "rgb(47,23,57)"
            ],
            [
             0.18823529411764706,
             "rgb(71,28,72)"
            ],
            [
             0.25098039215686274,
             "rgb(97,30,82)"
            ],
            [
             0.3137254901960784,
             "rgb(123,30,89)"
            ],
            [
             0.3764705882352941,
             "rgb(150,27,91)"
            ],
            [
             0.4392156862745098,
             "rgb(177,22,88)"
            ],
            [
             0.5019607843137255,
             "rgb(203,26,79)"
            ],
            [
             0.5647058823529412,
             "rgb(223,47,67)"
            ],
            [
             0.6274509803921569,
             "rgb(236,76,61)"
            ],
            [
             0.6901960784313725,
             "rgb(242,107,73)"
            ],
            [
             0.7529411764705882,
             "rgb(244,135,95)"
            ],
            [
             0.8156862745098039,
             "rgb(245,162,122)"
            ],
            [
             0.8784313725490196,
             "rgb(246,188,153)"
            ],
            [
             0.9411764705882353,
             "rgb(247,212,187)"
            ],
            [
             1,
             "rgb(250,234,220)"
            ]
           ]
          },
          "colorway": [
           "rgb(76,114,176)",
           "rgb(221,132,82)",
           "rgb(85,168,104)",
           "rgb(196,78,82)",
           "rgb(129,114,179)",
           "rgb(147,120,96)",
           "rgb(218,139,195)",
           "rgb(140,140,140)",
           "rgb(204,185,116)",
           "rgb(100,181,205)"
          ],
          "font": {
           "color": "rgb(36,36,36)"
          },
          "geo": {
           "bgcolor": "white",
           "lakecolor": "white",
           "landcolor": "rgb(234,234,242)",
           "showlakes": true,
           "showland": true,
           "subunitcolor": "white"
          },
          "hoverlabel": {
           "align": "left"
          },
          "hovermode": "closest",
          "paper_bgcolor": "white",
          "plot_bgcolor": "rgb(234,234,242)",
          "polar": {
           "angularaxis": {
            "gridcolor": "white",
            "linecolor": "white",
            "showgrid": true,
            "ticks": ""
           },
           "bgcolor": "rgb(234,234,242)",
           "radialaxis": {
            "gridcolor": "white",
            "linecolor": "white",
            "showgrid": true,
            "ticks": ""
           }
          },
          "scene": {
           "xaxis": {
            "backgroundcolor": "rgb(234,234,242)",
            "gridcolor": "white",
            "gridwidth": 2,
            "linecolor": "white",
            "showbackground": true,
            "showgrid": true,
            "ticks": "",
            "zerolinecolor": "white"
           },
           "yaxis": {
            "backgroundcolor": "rgb(234,234,242)",
            "gridcolor": "white",
            "gridwidth": 2,
            "linecolor": "white",
            "showbackground": true,
            "showgrid": true,
            "ticks": "",
            "zerolinecolor": "white"
           },
           "zaxis": {
            "backgroundcolor": "rgb(234,234,242)",
            "gridcolor": "white",
            "gridwidth": 2,
            "linecolor": "white",
            "showbackground": true,
            "showgrid": true,
            "ticks": "",
            "zerolinecolor": "white"
           }
          },
          "shapedefaults": {
           "fillcolor": "rgb(67,103,167)",
           "line": {
            "width": 0
           },
           "opacity": 0.5
          },
          "ternary": {
           "aaxis": {
            "gridcolor": "white",
            "linecolor": "white",
            "showgrid": true,
            "ticks": ""
           },
           "baxis": {
            "gridcolor": "white",
            "linecolor": "white",
            "showgrid": true,
            "ticks": ""
           },
           "bgcolor": "rgb(234,234,242)",
           "caxis": {
            "gridcolor": "white",
            "linecolor": "white",
            "showgrid": true,
            "ticks": ""
           }
          },
          "xaxis": {
           "automargin": true,
           "gridcolor": "white",
           "linecolor": "white",
           "showgrid": true,
           "ticks": "",
           "title": {
            "standoff": 15
           },
           "zerolinecolor": "white"
          },
          "yaxis": {
           "automargin": true,
           "gridcolor": "white",
           "linecolor": "white",
           "showgrid": true,
           "ticks": "",
           "title": {
            "standoff": 15
           },
           "zerolinecolor": "white"
          }
         }
        },
        "title": {
         "text": "Infection Rate Compared to Governement Announcements"
        },
        "width": 1000,
        "xaxis": {
         "title": {
          "text": "Reported Date"
         }
        },
        "yaxis": {
         "title": {
          "text": "Confirmed Cases"
         }
        }
       }
      }
     },
     "metadata": {}
    }
   ],
   "source": [
    "#hide_input\n",
    "\n",
    "fig_gov = go.Figure()\n",
    "fig_gov.add_trace(go.Scatter(x=df_testing['Reported Date'],\n",
    "                             y=df_testing['New Cases 5 Day Average'],\n",
    "                             mode=\"lines\",\n",
    "                             #line=dict(color=\"blue\", dash=\"dot\"),\n",
    "                             showlegend=True,\n",
    "                             name='5d Rolling Avg',\n",
    " \n",
    "))\n",
    "\n",
    "fig_gov.update_layout(annotations=government_dates_annot,\n",
    "                        title=\"Infection Rate Compared to Governement Announcements\",\n",
    "                        template='seaborn',\n",
    "                        width=1000,\n",
    "                        xaxis_title=\"Reported Date\",\n",
    "                        yaxis_title=\"Confirmed Cases\",)\n",
    "\n",
    "fig_gov.update_layout(legend=dict(\n",
    "    orientation=\"h\",\n",
    "    yanchor=\"bottom\",\n",
    "    y=1.02,\n",
    "    xanchor=\"right\",\n",
    "    x=1,))"
   ]
  },
  {
   "cell_type": "markdown",
   "metadata": {
    "id": "nWq77VdaFwL-"
   },
   "source": [
    "# Deaths"
   ]
  },
  {
   "cell_type": "markdown",
   "metadata": {
    "id": "fF52E_s1F3B7"
   },
   "source": [
    "## Overview of Fatalities by Age Group"
   ]
  },
  {
   "cell_type": "code",
   "execution_count": 25,
   "metadata": {
    "colab": {
     "base_uri": "https://localhost:8080/",
     "height": 226
    },
    "executionInfo": {
     "elapsed": 6838,
     "status": "ok",
     "timestamp": 1608260152082,
     "user": {
      "displayName": "Vijay S",
      "photoUrl": "https://lh4.googleusercontent.com/-Y3kqresK7tQ/AAAAAAAAAAI/AAAAAAAAIow/dmSWQoFZ3gU/s64/photo.jpg",
      "userId": "09127601101212446573"
     },
     "user_tz": 300
    },
    "id": "HYIhzUWnJ8dL",
    "outputId": "5c39ecbf-558c-4d22-8f38-28c04381a348"
   },
   "outputs": [
    {
     "output_type": "execute_result",
     "data": {
      "text/plain": [
       "<pandas.io.formats.style.Styler at 0x1e4cc9f0250>"
      ],
      "text/html": "<style  type=\"text/css\" >\n#T_94294852_426c_11eb_bf9e_a92236ef45f8row0_col0,#T_94294852_426c_11eb_bf9e_a92236ef45f8row1_col0,#T_94294852_426c_11eb_bf9e_a92236ef45f8row2_col0,#T_94294852_426c_11eb_bf9e_a92236ef45f8row3_col0,#T_94294852_426c_11eb_bf9e_a92236ef45f8row4_col0,#T_94294852_426c_11eb_bf9e_a92236ef45f8row5_col0,#T_94294852_426c_11eb_bf9e_a92236ef45f8row6_col0,#T_94294852_426c_11eb_bf9e_a92236ef45f8row7_col0,#T_94294852_426c_11eb_bf9e_a92236ef45f8row8_col0{\n            text-align:  center;\n        }#T_94294852_426c_11eb_bf9e_a92236ef45f8row0_col1,#T_94294852_426c_11eb_bf9e_a92236ef45f8row0_col2,#T_94294852_426c_11eb_bf9e_a92236ef45f8row1_col1,#T_94294852_426c_11eb_bf9e_a92236ef45f8row1_col2,#T_94294852_426c_11eb_bf9e_a92236ef45f8row2_col2,#T_94294852_426c_11eb_bf9e_a92236ef45f8row3_col2{\n            background-color:  #fff5f0;\n            color:  #000000;\n            text-align:  center;\n        }#T_94294852_426c_11eb_bf9e_a92236ef45f8row0_col3,#T_94294852_426c_11eb_bf9e_a92236ef45f8row1_col3,#T_94294852_426c_11eb_bf9e_a92236ef45f8row2_col3,#T_94294852_426c_11eb_bf9e_a92236ef45f8row3_col3{\n            background-color:  #00441b;\n            color:  #f1f1f1;\n            text-align:  center;\n        }#T_94294852_426c_11eb_bf9e_a92236ef45f8row2_col1{\n            background-color:  #fff4ef;\n            color:  #000000;\n            text-align:  center;\n        }#T_94294852_426c_11eb_bf9e_a92236ef45f8row3_col1{\n            background-color:  #fff2eb;\n            color:  #000000;\n            text-align:  center;\n        }#T_94294852_426c_11eb_bf9e_a92236ef45f8row4_col1{\n            background-color:  #fee7db;\n            color:  #000000;\n            text-align:  center;\n        }#T_94294852_426c_11eb_bf9e_a92236ef45f8row4_col2{\n            background-color:  #fff3ed;\n            color:  #000000;\n            text-align:  center;\n        }#T_94294852_426c_11eb_bf9e_a92236ef45f8row4_col3{\n            background-color:  #00481d;\n            color:  #f1f1f1;\n            text-align:  center;\n        }#T_94294852_426c_11eb_bf9e_a92236ef45f8row5_col1{\n            background-color:  #fcbfa7;\n            color:  #000000;\n            text-align:  center;\n        }#T_94294852_426c_11eb_bf9e_a92236ef45f8row5_col2{\n            background-color:  #ffebe2;\n            color:  #000000;\n            text-align:  center;\n        }#T_94294852_426c_11eb_bf9e_a92236ef45f8row5_col3{\n            background-color:  #005723;\n            color:  #f1f1f1;\n            text-align:  center;\n        }#T_94294852_426c_11eb_bf9e_a92236ef45f8row6_col1{\n            background-color:  #fb7151;\n            color:  #000000;\n            text-align:  center;\n        }#T_94294852_426c_11eb_bf9e_a92236ef45f8row6_col2{\n            background-color:  #fcbca2;\n            color:  #000000;\n            text-align:  center;\n        }#T_94294852_426c_11eb_bf9e_a92236ef45f8row6_col3{\n            background-color:  #228a44;\n            color:  #000000;\n            text-align:  center;\n        }#T_94294852_426c_11eb_bf9e_a92236ef45f8row7_col1,#T_94294852_426c_11eb_bf9e_a92236ef45f8row8_col2{\n            background-color:  #67000d;\n            color:  #f1f1f1;\n            text-align:  center;\n        }#T_94294852_426c_11eb_bf9e_a92236ef45f8row7_col2{\n            background-color:  #e93529;\n            color:  #f1f1f1;\n            text-align:  center;\n        }#T_94294852_426c_11eb_bf9e_a92236ef45f8row7_col3{\n            background-color:  #a8dca2;\n            color:  #000000;\n            text-align:  center;\n        }#T_94294852_426c_11eb_bf9e_a92236ef45f8row8_col1{\n            background-color:  #9a0c14;\n            color:  #f1f1f1;\n            text-align:  center;\n        }#T_94294852_426c_11eb_bf9e_a92236ef45f8row8_col3{\n            background-color:  #f7fcf5;\n            color:  #000000;\n            text-align:  center;\n        }</style><table id=\"T_94294852_426c_11eb_bf9e_a92236ef45f8\" ><thead>    <tr>        <th class=\"col_heading level0 col0\" >Age Group</th>        <th class=\"col_heading level0 col1\" >Deaths</th>        <th class=\"col_heading level0 col2\" >Death Rate</th>        <th class=\"col_heading level0 col3\" >Survival Rate</th>    </tr></thead><tbody>\n                <tr>\n                                <td id=\"T_94294852_426c_11eb_bf9e_a92236ef45f8row0_col0\" class=\"data row0 col0\" >0-19</td>\n                        <td id=\"T_94294852_426c_11eb_bf9e_a92236ef45f8row0_col1\" class=\"data row0 col1\" >1</td>\n                        <td id=\"T_94294852_426c_11eb_bf9e_a92236ef45f8row0_col2\" class=\"data row0 col2\" >0.01%</td>\n                        <td id=\"T_94294852_426c_11eb_bf9e_a92236ef45f8row0_col3\" class=\"data row0 col3\" >99.99%</td>\n            </tr>\n            <tr>\n                                <td id=\"T_94294852_426c_11eb_bf9e_a92236ef45f8row1_col0\" class=\"data row1 col0\" >20s</td>\n                        <td id=\"T_94294852_426c_11eb_bf9e_a92236ef45f8row1_col1\" class=\"data row1 col1\" >6</td>\n                        <td id=\"T_94294852_426c_11eb_bf9e_a92236ef45f8row1_col2\" class=\"data row1 col2\" >0.02%</td>\n                        <td id=\"T_94294852_426c_11eb_bf9e_a92236ef45f8row1_col3\" class=\"data row1 col3\" >99.98%</td>\n            </tr>\n            <tr>\n                                <td id=\"T_94294852_426c_11eb_bf9e_a92236ef45f8row2_col0\" class=\"data row2 col0\" >30s</td>\n                        <td id=\"T_94294852_426c_11eb_bf9e_a92236ef45f8row2_col1\" class=\"data row2 col1\" >10</td>\n                        <td id=\"T_94294852_426c_11eb_bf9e_a92236ef45f8row2_col2\" class=\"data row2 col2\" >0.04%</td>\n                        <td id=\"T_94294852_426c_11eb_bf9e_a92236ef45f8row2_col3\" class=\"data row2 col3\" >99.96%</td>\n            </tr>\n            <tr>\n                                <td id=\"T_94294852_426c_11eb_bf9e_a92236ef45f8row3_col0\" class=\"data row3 col0\" >40s</td>\n                        <td id=\"T_94294852_426c_11eb_bf9e_a92236ef45f8row3_col1\" class=\"data row3 col1\" >33</td>\n                        <td id=\"T_94294852_426c_11eb_bf9e_a92236ef45f8row3_col2\" class=\"data row3 col2\" >0.15%</td>\n                        <td id=\"T_94294852_426c_11eb_bf9e_a92236ef45f8row3_col3\" class=\"data row3 col3\" >99.85%</td>\n            </tr>\n            <tr>\n                                <td id=\"T_94294852_426c_11eb_bf9e_a92236ef45f8row4_col0\" class=\"data row4 col0\" >50s</td>\n                        <td id=\"T_94294852_426c_11eb_bf9e_a92236ef45f8row4_col1\" class=\"data row4 col1\" >132</td>\n                        <td id=\"T_94294852_426c_11eb_bf9e_a92236ef45f8row4_col2\" class=\"data row4 col2\" >0.60%</td>\n                        <td id=\"T_94294852_426c_11eb_bf9e_a92236ef45f8row4_col3\" class=\"data row4 col3\" >99.40%</td>\n            </tr>\n            <tr>\n                                <td id=\"T_94294852_426c_11eb_bf9e_a92236ef45f8row5_col0\" class=\"data row5 col0\" >60s</td>\n                        <td id=\"T_94294852_426c_11eb_bf9e_a92236ef45f8row5_col1\" class=\"data row5 col1\" >358</td>\n                        <td id=\"T_94294852_426c_11eb_bf9e_a92236ef45f8row5_col2\" class=\"data row5 col2\" >2.57%</td>\n                        <td id=\"T_94294852_426c_11eb_bf9e_a92236ef45f8row5_col3\" class=\"data row5 col3\" >97.43%</td>\n            </tr>\n            <tr>\n                                <td id=\"T_94294852_426c_11eb_bf9e_a92236ef45f8row6_col0\" class=\"data row6 col0\" >70s</td>\n                        <td id=\"T_94294852_426c_11eb_bf9e_a92236ef45f8row6_col1\" class=\"data row6 col1\" >725</td>\n                        <td id=\"T_94294852_426c_11eb_bf9e_a92236ef45f8row6_col2\" class=\"data row6 col2\" >10.37%</td>\n                        <td id=\"T_94294852_426c_11eb_bf9e_a92236ef45f8row6_col3\" class=\"data row6 col3\" >89.63%</td>\n            </tr>\n            <tr>\n                                <td id=\"T_94294852_426c_11eb_bf9e_a92236ef45f8row7_col0\" class=\"data row7 col0\" >80s</td>\n                        <td id=\"T_94294852_426c_11eb_bf9e_a92236ef45f8row7_col1\" class=\"data row7 col1\" >1509</td>\n                        <td id=\"T_94294852_426c_11eb_bf9e_a92236ef45f8row7_col2\" class=\"data row7 col2\" >26.91%</td>\n                        <td id=\"T_94294852_426c_11eb_bf9e_a92236ef45f8row7_col3\" class=\"data row7 col3\" >73.09%</td>\n            </tr>\n            <tr>\n                                <td id=\"T_94294852_426c_11eb_bf9e_a92236ef45f8row8_col0\" class=\"data row8 col0\" >90s</td>\n                        <td id=\"T_94294852_426c_11eb_bf9e_a92236ef45f8row8_col1\" class=\"data row8 col1\" >1351</td>\n                        <td id=\"T_94294852_426c_11eb_bf9e_a92236ef45f8row8_col2\" class=\"data row8 col2\" >41.58%</td>\n                        <td id=\"T_94294852_426c_11eb_bf9e_a92236ef45f8row8_col3\" class=\"data row8 col3\" >58.42%</td>\n            </tr>\n    </tbody></table>"
     },
     "metadata": {},
     "execution_count": 25
    }
   ],
   "source": [
    "#hide_input\n",
    "\n",
    "df_deaths = src_conpos[src_conpos['Outcome1'] == 'Fatal'].groupby(['Age_Group']).count()[\"Row_ID\"] \\\n",
    ".reset_index().iloc[:,[0,1]].rename(columns={'Row_ID': 'Deaths'})\n",
    "\n",
    "df_res = src_conpos[src_conpos['Outcome1'] == 'Resolved'].groupby(['Age_Group']).count()[\"Row_ID\"] \\\n",
    ".reset_index().iloc[:,[0,1]].rename(columns={'Row_ID': 'Resolved'})\n",
    "\n",
    "df_nres = src_conpos[src_conpos['Outcome1'] == 'Not Resolved'].groupby(['Age_Group']).count()[\"Row_ID\"] \\\n",
    ".reset_index().iloc[:,[0,1]].rename(columns={'Row_ID': 'Not Resolved'})\n",
    "\n",
    "# merge dataframes together and clean up\n",
    "\n",
    "df_age = df_deaths.merge(df_res, on='Age_Group').merge(df_nres, on='Age_Group').replace('<20', '0-19') \\\n",
    ".rename(columns={'Age_Group': 'Age Group'}).sort_values('Age Group')\n",
    "\n",
    "del [df_deaths, df_res, df_nres]\n",
    "\n",
    "# include percentages\n",
    "df_age['Death Rate'] = (df_age['Deaths'] / (df_age['Resolved'] + df_age['Not Resolved']))\n",
    "df_age['Survival Rate'] = (1 - df_age['Death Rate'])\n",
    "\n",
    "x = df_age \\\n",
    ".drop(columns=['Resolved', 'Not Resolved']) \\\n",
    ".style.format({\"Death Rate\": \"{:.2%}\",\n",
    "                     \"Survival Rate\": \"{:.2%}\"}) \\\n",
    "                     .background_gradient(cmap='Reds', subset=['Deaths', 'Death Rate']) \\\n",
    "                     .background_gradient(cmap='Greens', subset=['Survival Rate']) \\\n",
    "                     .hide_index()\n",
    "\n",
    "x.set_properties(**{'text-align': 'center'}).hide_index()"
   ]
  },
  {
   "cell_type": "code",
   "execution_count": 26,
   "metadata": {
    "colab": {
     "base_uri": "https://localhost:8080/",
     "height": 542
    },
    "executionInfo": {
     "elapsed": 6975,
     "status": "ok",
     "timestamp": 1608260152231,
     "user": {
      "displayName": "Vijay S",
      "photoUrl": "https://lh4.googleusercontent.com/-Y3kqresK7tQ/AAAAAAAAAAI/AAAAAAAAIow/dmSWQoFZ3gU/s64/photo.jpg",
      "userId": "09127601101212446573"
     },
     "user_tz": 300
    },
    "id": "olh1iT_4FpOI",
    "outputId": "a48b9ef5-9f58-41b4-a2a7-69eb458c6d13"
   },
   "outputs": [
    {
     "output_type": "display_data",
     "data": {
      "application/vnd.plotly.v1+json": {
       "config": {
        "plotlyServerURL": "https://plot.ly"
       },
       "data": [
        {
         "alignmentgroup": "True",
         "hovertemplate": "Age Group=80s<br>Reported Date=%{x}<br>Deaths=%{y}<extra></extra>",
         "legendgroup": "80s",
         "marker": {
          "color": "rgb(102,194,165)"
         },
         "name": "80s",
         "offsetgroup": "80s",
         "orientation": "v",
         "showlegend": true,
         "textposition": "auto",
         "type": "bar",
         "x": [
          "2020-03-08T00:00:00",
          "2020-03-12T00:00:00",
          "2020-03-17T00:00:00",
          "2020-03-18T00:00:00",
          "2020-03-20T00:00:00",
          "2020-03-21T00:00:00",
          "2020-03-23T00:00:00",
          "2020-03-24T00:00:00",
          "2020-03-25T00:00:00",
          "2020-03-26T00:00:00",
          "2020-03-27T00:00:00",
          "2020-03-28T00:00:00",
          "2020-03-29T00:00:00",
          "2020-03-30T00:00:00",
          "2020-03-31T00:00:00",
          "2020-04-01T00:00:00",
          "2020-04-02T00:00:00",
          "2020-04-03T00:00:00",
          "2020-04-04T00:00:00",
          "2020-04-05T00:00:00",
          "2020-04-06T00:00:00",
          "2020-04-07T00:00:00",
          "2020-04-08T00:00:00",
          "2020-04-09T00:00:00",
          "2020-04-10T00:00:00",
          "2020-04-11T00:00:00",
          "2020-04-12T00:00:00",
          "2020-04-13T00:00:00",
          "2020-04-14T00:00:00",
          "2020-04-15T00:00:00",
          "2020-04-16T00:00:00",
          "2020-04-17T00:00:00",
          "2020-04-18T00:00:00",
          "2020-04-19T00:00:00",
          "2020-04-20T00:00:00",
          "2020-04-21T00:00:00",
          "2020-04-22T00:00:00",
          "2020-04-23T00:00:00",
          "2020-04-24T00:00:00",
          "2020-04-25T00:00:00",
          "2020-04-26T00:00:00",
          "2020-04-27T00:00:00",
          "2020-04-28T00:00:00",
          "2020-04-29T00:00:00",
          "2020-04-30T00:00:00",
          "2020-05-01T00:00:00",
          "2020-05-02T00:00:00",
          "2020-05-03T00:00:00",
          "2020-05-04T00:00:00",
          "2020-05-05T00:00:00",
          "2020-05-06T00:00:00",
          "2020-05-07T00:00:00",
          "2020-05-08T00:00:00",
          "2020-05-09T00:00:00",
          "2020-05-10T00:00:00",
          "2020-05-11T00:00:00",
          "2020-05-12T00:00:00",
          "2020-05-13T00:00:00",
          "2020-05-14T00:00:00",
          "2020-05-15T00:00:00",
          "2020-05-16T00:00:00",
          "2020-05-17T00:00:00",
          "2020-05-18T00:00:00",
          "2020-05-19T00:00:00",
          "2020-05-20T00:00:00",
          "2020-05-21T00:00:00",
          "2020-05-22T00:00:00",
          "2020-05-23T00:00:00",
          "2020-05-24T00:00:00",
          "2020-05-25T00:00:00",
          "2020-05-26T00:00:00",
          "2020-05-27T00:00:00",
          "2020-05-28T00:00:00",
          "2020-05-29T00:00:00",
          "2020-05-30T00:00:00",
          "2020-05-31T00:00:00",
          "2020-06-01T00:00:00",
          "2020-06-02T00:00:00",
          "2020-06-03T00:00:00",
          "2020-06-04T00:00:00",
          "2020-06-05T00:00:00",
          "2020-06-06T00:00:00",
          "2020-06-08T00:00:00",
          "2020-06-09T00:00:00",
          "2020-06-10T00:00:00",
          "2020-06-11T00:00:00",
          "2020-06-12T00:00:00",
          "2020-06-13T00:00:00",
          "2020-06-15T00:00:00",
          "2020-06-16T00:00:00",
          "2020-06-17T00:00:00",
          "2020-06-18T00:00:00",
          "2020-06-19T00:00:00",
          "2020-06-21T00:00:00",
          "2020-06-23T00:00:00",
          "2020-06-25T00:00:00",
          "2020-06-26T00:00:00",
          "2020-06-27T00:00:00",
          "2020-06-28T00:00:00",
          "2020-07-02T00:00:00",
          "2020-07-07T00:00:00",
          "2020-07-08T00:00:00",
          "2020-07-10T00:00:00",
          "2020-07-16T00:00:00",
          "2020-07-22T00:00:00",
          "2020-07-26T00:00:00",
          "2020-07-27T00:00:00",
          "2020-07-29T00:00:00",
          "2020-08-23T00:00:00",
          "2020-08-26T00:00:00",
          "2020-09-04T00:00:00",
          "2020-09-05T00:00:00",
          "2020-09-06T00:00:00",
          "2020-09-07T00:00:00",
          "2020-09-11T00:00:00",
          "2020-09-12T00:00:00",
          "2020-09-15T00:00:00",
          "2020-09-18T00:00:00",
          "2020-09-19T00:00:00",
          "2020-09-21T00:00:00",
          "2020-09-22T00:00:00",
          "2020-09-23T00:00:00",
          "2020-09-24T00:00:00",
          "2020-09-25T00:00:00",
          "2020-09-26T00:00:00",
          "2020-09-27T00:00:00",
          "2020-09-29T00:00:00",
          "2020-09-30T00:00:00",
          "2020-10-01T00:00:00",
          "2020-10-02T00:00:00",
          "2020-10-03T00:00:00",
          "2020-10-04T00:00:00",
          "2020-10-05T00:00:00",
          "2020-10-06T00:00:00",
          "2020-10-07T00:00:00",
          "2020-10-08T00:00:00",
          "2020-10-09T00:00:00",
          "2020-10-10T00:00:00",
          "2020-10-11T00:00:00",
          "2020-10-12T00:00:00",
          "2020-10-13T00:00:00",
          "2020-10-14T00:00:00",
          "2020-10-15T00:00:00",
          "2020-10-16T00:00:00",
          "2020-10-17T00:00:00",
          "2020-10-18T00:00:00",
          "2020-10-19T00:00:00",
          "2020-10-20T00:00:00",
          "2020-10-21T00:00:00",
          "2020-10-22T00:00:00",
          "2020-10-23T00:00:00",
          "2020-10-24T00:00:00",
          "2020-10-25T00:00:00",
          "2020-10-26T00:00:00",
          "2020-10-27T00:00:00",
          "2020-10-28T00:00:00",
          "2020-10-29T00:00:00",
          "2020-10-30T00:00:00",
          "2020-10-31T00:00:00",
          "2020-11-01T00:00:00",
          "2020-11-02T00:00:00",
          "2020-11-03T00:00:00",
          "2020-11-04T00:00:00",
          "2020-11-05T00:00:00",
          "2020-11-06T00:00:00",
          "2020-11-07T00:00:00",
          "2020-11-08T00:00:00",
          "2020-11-09T00:00:00",
          "2020-11-10T00:00:00",
          "2020-11-11T00:00:00",
          "2020-11-12T00:00:00",
          "2020-11-13T00:00:00",
          "2020-11-14T00:00:00",
          "2020-11-15T00:00:00",
          "2020-11-16T00:00:00",
          "2020-11-17T00:00:00",
          "2020-11-18T00:00:00",
          "2020-11-19T00:00:00",
          "2020-11-20T00:00:00",
          "2020-11-21T00:00:00",
          "2020-11-22T00:00:00",
          "2020-11-23T00:00:00",
          "2020-11-24T00:00:00",
          "2020-11-25T00:00:00",
          "2020-11-26T00:00:00",
          "2020-11-27T00:00:00",
          "2020-11-28T00:00:00",
          "2020-11-29T00:00:00",
          "2020-11-30T00:00:00",
          "2020-12-01T00:00:00",
          "2020-12-02T00:00:00",
          "2020-12-03T00:00:00",
          "2020-12-04T00:00:00",
          "2020-12-05T00:00:00",
          "2020-12-06T00:00:00",
          "2020-12-07T00:00:00",
          "2020-12-08T00:00:00",
          "2020-12-09T00:00:00",
          "2020-12-10T00:00:00",
          "2020-12-11T00:00:00",
          "2020-12-12T00:00:00",
          "2020-12-13T00:00:00",
          "2020-12-14T00:00:00",
          "2020-12-17T00:00:00"
         ],
         "xaxis": "x",
         "y": [
          1,
          1,
          1,
          1,
          1,
          2,
          3,
          4,
          3,
          5,
          7,
          7,
          9,
          7,
          8,
          19,
          17,
          31,
          12,
          12,
          28,
          27,
          25,
          28,
          31,
          23,
          33,
          33,
          23,
          43,
          31,
          47,
          25,
          27,
          24,
          24,
          19,
          23,
          17,
          19,
          12,
          21,
          17,
          15,
          16,
          16,
          11,
          6,
          7,
          11,
          14,
          8,
          6,
          6,
          16,
          6,
          11,
          7,
          7,
          11,
          7,
          15,
          6,
          7,
          8,
          4,
          7,
          3,
          3,
          7,
          5,
          3,
          4,
          3,
          2,
          5,
          3,
          1,
          3,
          1,
          2,
          2,
          3,
          2,
          2,
          1,
          1,
          1,
          2,
          1,
          1,
          1,
          1,
          1,
          1,
          1,
          2,
          2,
          1,
          2,
          3,
          3,
          1,
          2,
          1,
          1,
          1,
          1,
          1,
          1,
          2,
          1,
          2,
          1,
          1,
          1,
          1,
          4,
          2,
          2,
          2,
          2,
          2,
          2,
          4,
          1,
          4,
          2,
          3,
          2,
          2,
          2,
          3,
          2,
          4,
          2,
          6,
          1,
          2,
          1,
          3,
          3,
          2,
          5,
          4,
          3,
          5,
          3,
          3,
          9,
          8,
          4,
          4,
          3,
          4,
          4,
          9,
          8,
          6,
          3,
          7,
          10,
          5,
          8,
          14,
          6,
          3,
          8,
          5,
          6,
          6,
          7,
          10,
          3,
          3,
          11,
          2,
          7,
          7,
          6,
          6,
          8,
          6,
          9,
          12,
          9,
          12,
          4,
          14,
          13,
          4,
          1,
          11,
          7,
          6,
          3,
          6,
          2,
          4,
          1,
          5,
          1,
          3,
          2
         ],
         "yaxis": "y"
        },
        {
         "alignmentgroup": "True",
         "hovertemplate": "Age Group=60s<br>Reported Date=%{x}<br>Deaths=%{y}<extra></extra>",
         "legendgroup": "60s",
         "marker": {
          "color": "rgb(252,141,98)"
         },
         "name": "60s",
         "offsetgroup": "60s",
         "orientation": "v",
         "showlegend": true,
         "textposition": "auto",
         "type": "bar",
         "x": [
          "2020-03-13T00:00:00",
          "2020-03-17T00:00:00",
          "2020-03-21T00:00:00",
          "2020-03-22T00:00:00",
          "2020-03-25T00:00:00",
          "2020-03-26T00:00:00",
          "2020-03-27T00:00:00",
          "2020-03-28T00:00:00",
          "2020-03-29T00:00:00",
          "2020-03-30T00:00:00",
          "2020-03-31T00:00:00",
          "2020-04-01T00:00:00",
          "2020-04-02T00:00:00",
          "2020-04-03T00:00:00",
          "2020-04-04T00:00:00",
          "2020-04-05T00:00:00",
          "2020-04-06T00:00:00",
          "2020-04-07T00:00:00",
          "2020-04-08T00:00:00",
          "2020-04-09T00:00:00",
          "2020-04-10T00:00:00",
          "2020-04-11T00:00:00",
          "2020-04-12T00:00:00",
          "2020-04-13T00:00:00",
          "2020-04-14T00:00:00",
          "2020-04-15T00:00:00",
          "2020-04-16T00:00:00",
          "2020-04-17T00:00:00",
          "2020-04-18T00:00:00",
          "2020-04-19T00:00:00",
          "2020-04-20T00:00:00",
          "2020-04-21T00:00:00",
          "2020-04-22T00:00:00",
          "2020-04-23T00:00:00",
          "2020-04-24T00:00:00",
          "2020-04-25T00:00:00",
          "2020-04-26T00:00:00",
          "2020-04-27T00:00:00",
          "2020-04-28T00:00:00",
          "2020-04-29T00:00:00",
          "2020-04-30T00:00:00",
          "2020-05-01T00:00:00",
          "2020-05-02T00:00:00",
          "2020-05-03T00:00:00",
          "2020-05-04T00:00:00",
          "2020-05-05T00:00:00",
          "2020-05-06T00:00:00",
          "2020-05-08T00:00:00",
          "2020-05-09T00:00:00",
          "2020-05-10T00:00:00",
          "2020-05-11T00:00:00",
          "2020-05-12T00:00:00",
          "2020-05-13T00:00:00",
          "2020-05-14T00:00:00",
          "2020-05-15T00:00:00",
          "2020-05-16T00:00:00",
          "2020-05-17T00:00:00",
          "2020-05-18T00:00:00",
          "2020-05-21T00:00:00",
          "2020-05-22T00:00:00",
          "2020-05-23T00:00:00",
          "2020-05-24T00:00:00",
          "2020-05-25T00:00:00",
          "2020-05-28T00:00:00",
          "2020-05-29T00:00:00",
          "2020-05-30T00:00:00",
          "2020-05-31T00:00:00",
          "2020-06-01T00:00:00",
          "2020-06-03T00:00:00",
          "2020-06-04T00:00:00",
          "2020-06-08T00:00:00",
          "2020-06-09T00:00:00",
          "2020-06-11T00:00:00",
          "2020-06-19T00:00:00",
          "2020-06-20T00:00:00",
          "2020-06-22T00:00:00",
          "2020-06-26T00:00:00",
          "2020-06-28T00:00:00",
          "2020-06-29T00:00:00",
          "2020-07-02T00:00:00",
          "2020-07-04T00:00:00",
          "2020-07-09T00:00:00",
          "2020-07-10T00:00:00",
          "2020-07-12T00:00:00",
          "2020-07-31T00:00:00",
          "2020-08-09T00:00:00",
          "2020-08-17T00:00:00",
          "2020-08-24T00:00:00",
          "2020-09-05T00:00:00",
          "2020-09-06T00:00:00",
          "2020-09-11T00:00:00",
          "2020-09-15T00:00:00",
          "2020-09-20T00:00:00",
          "2020-09-22T00:00:00",
          "2020-09-23T00:00:00",
          "2020-09-25T00:00:00",
          "2020-09-28T00:00:00",
          "2020-09-29T00:00:00",
          "2020-09-30T00:00:00",
          "2020-10-04T00:00:00",
          "2020-10-07T00:00:00",
          "2020-10-09T00:00:00",
          "2020-10-11T00:00:00",
          "2020-10-13T00:00:00",
          "2020-10-15T00:00:00",
          "2020-10-16T00:00:00",
          "2020-10-19T00:00:00",
          "2020-10-21T00:00:00",
          "2020-10-22T00:00:00",
          "2020-10-24T00:00:00",
          "2020-10-26T00:00:00",
          "2020-10-27T00:00:00",
          "2020-10-28T00:00:00",
          "2020-10-29T00:00:00",
          "2020-10-30T00:00:00",
          "2020-10-31T00:00:00",
          "2020-11-02T00:00:00",
          "2020-11-03T00:00:00",
          "2020-11-04T00:00:00",
          "2020-11-06T00:00:00",
          "2020-11-08T00:00:00",
          "2020-11-09T00:00:00",
          "2020-11-10T00:00:00",
          "2020-11-11T00:00:00",
          "2020-11-13T00:00:00",
          "2020-11-15T00:00:00",
          "2020-11-16T00:00:00",
          "2020-11-17T00:00:00",
          "2020-11-19T00:00:00",
          "2020-11-21T00:00:00",
          "2020-11-22T00:00:00",
          "2020-11-23T00:00:00",
          "2020-11-24T00:00:00",
          "2020-11-26T00:00:00",
          "2020-11-27T00:00:00",
          "2020-11-28T00:00:00",
          "2020-11-30T00:00:00",
          "2020-12-01T00:00:00",
          "2020-12-02T00:00:00",
          "2020-12-03T00:00:00",
          "2020-12-04T00:00:00",
          "2020-12-06T00:00:00",
          "2020-12-07T00:00:00",
          "2020-12-08T00:00:00",
          "2020-12-11T00:00:00",
          "2020-12-12T00:00:00",
          "2020-12-16T00:00:00"
         ],
         "xaxis": "x",
         "y": [
          1,
          1,
          2,
          1,
          1,
          3,
          4,
          2,
          5,
          1,
          4,
          3,
          5,
          5,
          4,
          5,
          6,
          5,
          1,
          5,
          5,
          5,
          4,
          7,
          6,
          6,
          5,
          7,
          9,
          2,
          7,
          4,
          5,
          4,
          5,
          10,
          2,
          4,
          4,
          7,
          5,
          8,
          2,
          2,
          3,
          3,
          1,
          1,
          1,
          3,
          3,
          1,
          1,
          7,
          4,
          1,
          2,
          2,
          2,
          2,
          2,
          1,
          2,
          2,
          3,
          2,
          2,
          3,
          1,
          1,
          2,
          1,
          3,
          1,
          1,
          1,
          1,
          1,
          2,
          1,
          1,
          1,
          1,
          1,
          1,
          1,
          1,
          1,
          1,
          1,
          1,
          2,
          1,
          1,
          1,
          1,
          1,
          1,
          5,
          1,
          2,
          1,
          1,
          1,
          1,
          1,
          4,
          1,
          1,
          1,
          1,
          2,
          2,
          1,
          1,
          1,
          3,
          1,
          1,
          1,
          1,
          3,
          3,
          2,
          2,
          2,
          2,
          2,
          2,
          2,
          1,
          1,
          1,
          2,
          4,
          2,
          1,
          1,
          1,
          2,
          1,
          1,
          1,
          2,
          2,
          1,
          1
         ],
         "yaxis": "y"
        },
        {
         "alignmentgroup": "True",
         "hovertemplate": "Age Group=70s<br>Reported Date=%{x}<br>Deaths=%{y}<extra></extra>",
         "legendgroup": "70s",
         "marker": {
          "color": "rgb(141,160,203)"
         },
         "name": "70s",
         "offsetgroup": "70s",
         "orientation": "v",
         "showlegend": true,
         "textposition": "auto",
         "type": "bar",
         "x": [
          "2020-03-13T00:00:00",
          "2020-03-16T00:00:00",
          "2020-03-19T00:00:00",
          "2020-03-20T00:00:00",
          "2020-03-21T00:00:00",
          "2020-03-22T00:00:00",
          "2020-03-23T00:00:00",
          "2020-03-24T00:00:00",
          "2020-03-25T00:00:00",
          "2020-03-26T00:00:00",
          "2020-03-27T00:00:00",
          "2020-03-28T00:00:00",
          "2020-03-29T00:00:00",
          "2020-03-30T00:00:00",
          "2020-03-31T00:00:00",
          "2020-04-01T00:00:00",
          "2020-04-02T00:00:00",
          "2020-04-03T00:00:00",
          "2020-04-04T00:00:00",
          "2020-04-05T00:00:00",
          "2020-04-06T00:00:00",
          "2020-04-07T00:00:00",
          "2020-04-08T00:00:00",
          "2020-04-09T00:00:00",
          "2020-04-10T00:00:00",
          "2020-04-11T00:00:00",
          "2020-04-12T00:00:00",
          "2020-04-13T00:00:00",
          "2020-04-14T00:00:00",
          "2020-04-15T00:00:00",
          "2020-04-16T00:00:00",
          "2020-04-17T00:00:00",
          "2020-04-18T00:00:00",
          "2020-04-19T00:00:00",
          "2020-04-20T00:00:00",
          "2020-04-21T00:00:00",
          "2020-04-22T00:00:00",
          "2020-04-23T00:00:00",
          "2020-04-24T00:00:00",
          "2020-04-25T00:00:00",
          "2020-04-26T00:00:00",
          "2020-04-27T00:00:00",
          "2020-04-28T00:00:00",
          "2020-04-29T00:00:00",
          "2020-04-30T00:00:00",
          "2020-05-01T00:00:00",
          "2020-05-02T00:00:00",
          "2020-05-03T00:00:00",
          "2020-05-04T00:00:00",
          "2020-05-05T00:00:00",
          "2020-05-06T00:00:00",
          "2020-05-07T00:00:00",
          "2020-05-08T00:00:00",
          "2020-05-09T00:00:00",
          "2020-05-10T00:00:00",
          "2020-05-11T00:00:00",
          "2020-05-12T00:00:00",
          "2020-05-13T00:00:00",
          "2020-05-14T00:00:00",
          "2020-05-15T00:00:00",
          "2020-05-16T00:00:00",
          "2020-05-17T00:00:00",
          "2020-05-18T00:00:00",
          "2020-05-19T00:00:00",
          "2020-05-20T00:00:00",
          "2020-05-21T00:00:00",
          "2020-05-22T00:00:00",
          "2020-05-23T00:00:00",
          "2020-05-24T00:00:00",
          "2020-05-25T00:00:00",
          "2020-05-26T00:00:00",
          "2020-05-27T00:00:00",
          "2020-05-28T00:00:00",
          "2020-05-29T00:00:00",
          "2020-05-30T00:00:00",
          "2020-05-31T00:00:00",
          "2020-06-01T00:00:00",
          "2020-06-02T00:00:00",
          "2020-06-04T00:00:00",
          "2020-06-06T00:00:00",
          "2020-06-09T00:00:00",
          "2020-06-10T00:00:00",
          "2020-06-11T00:00:00",
          "2020-06-12T00:00:00",
          "2020-06-16T00:00:00",
          "2020-06-18T00:00:00",
          "2020-06-21T00:00:00",
          "2020-06-23T00:00:00",
          "2020-06-26T00:00:00",
          "2020-07-07T00:00:00",
          "2020-07-11T00:00:00",
          "2020-07-16T00:00:00",
          "2020-07-20T00:00:00",
          "2020-07-22T00:00:00",
          "2020-07-30T00:00:00",
          "2020-08-13T00:00:00",
          "2020-08-23T00:00:00",
          "2020-09-06T00:00:00",
          "2020-09-14T00:00:00",
          "2020-09-19T00:00:00",
          "2020-09-22T00:00:00",
          "2020-09-24T00:00:00",
          "2020-09-25T00:00:00",
          "2020-09-26T00:00:00",
          "2020-09-27T00:00:00",
          "2020-09-28T00:00:00",
          "2020-09-29T00:00:00",
          "2020-09-30T00:00:00",
          "2020-10-01T00:00:00",
          "2020-10-03T00:00:00",
          "2020-10-06T00:00:00",
          "2020-10-07T00:00:00",
          "2020-10-08T00:00:00",
          "2020-10-09T00:00:00",
          "2020-10-10T00:00:00",
          "2020-10-11T00:00:00",
          "2020-10-12T00:00:00",
          "2020-10-14T00:00:00",
          "2020-10-15T00:00:00",
          "2020-10-16T00:00:00",
          "2020-10-17T00:00:00",
          "2020-10-18T00:00:00",
          "2020-10-19T00:00:00",
          "2020-10-21T00:00:00",
          "2020-10-22T00:00:00",
          "2020-10-23T00:00:00",
          "2020-10-24T00:00:00",
          "2020-10-25T00:00:00",
          "2020-10-26T00:00:00",
          "2020-10-27T00:00:00",
          "2020-10-28T00:00:00",
          "2020-10-29T00:00:00",
          "2020-10-30T00:00:00",
          "2020-10-31T00:00:00",
          "2020-11-01T00:00:00",
          "2020-11-02T00:00:00",
          "2020-11-03T00:00:00",
          "2020-11-04T00:00:00",
          "2020-11-05T00:00:00",
          "2020-11-06T00:00:00",
          "2020-11-07T00:00:00",
          "2020-11-08T00:00:00",
          "2020-11-09T00:00:00",
          "2020-11-10T00:00:00",
          "2020-11-11T00:00:00",
          "2020-11-12T00:00:00",
          "2020-11-13T00:00:00",
          "2020-11-14T00:00:00",
          "2020-11-15T00:00:00",
          "2020-11-16T00:00:00",
          "2020-11-17T00:00:00",
          "2020-11-18T00:00:00",
          "2020-11-20T00:00:00",
          "2020-11-21T00:00:00",
          "2020-11-22T00:00:00",
          "2020-11-23T00:00:00",
          "2020-11-24T00:00:00",
          "2020-11-25T00:00:00",
          "2020-11-26T00:00:00",
          "2020-11-27T00:00:00",
          "2020-11-28T00:00:00",
          "2020-11-29T00:00:00",
          "2020-11-30T00:00:00",
          "2020-12-01T00:00:00",
          "2020-12-02T00:00:00",
          "2020-12-03T00:00:00",
          "2020-12-04T00:00:00",
          "2020-12-05T00:00:00",
          "2020-12-06T00:00:00",
          "2020-12-08T00:00:00",
          "2020-12-09T00:00:00",
          "2020-12-10T00:00:00",
          "2020-12-11T00:00:00",
          "2020-12-12T00:00:00",
          "2020-12-13T00:00:00",
          "2020-12-15T00:00:00"
         ],
         "xaxis": "x",
         "y": [
          1,
          1,
          2,
          3,
          2,
          2,
          3,
          2,
          3,
          1,
          6,
          3,
          6,
          4,
          12,
          5,
          14,
          10,
          10,
          11,
          20,
          14,
          16,
          2,
          7,
          7,
          5,
          11,
          11,
          6,
          12,
          18,
          22,
          8,
          5,
          10,
          10,
          17,
          7,
          8,
          9,
          6,
          5,
          11,
          9,
          5,
          5,
          6,
          5,
          7,
          8,
          5,
          6,
          8,
          7,
          5,
          9,
          5,
          4,
          4,
          3,
          2,
          5,
          3,
          5,
          4,
          2,
          6,
          3,
          3,
          2,
          1,
          1,
          2,
          4,
          2,
          1,
          1,
          1,
          2,
          2,
          1,
          1,
          1,
          1,
          3,
          2,
          1,
          1,
          1,
          1,
          1,
          1,
          1,
          1,
          1,
          1,
          2,
          2,
          1,
          1,
          1,
          1,
          1,
          3,
          1,
          2,
          2,
          2,
          1,
          2,
          3,
          1,
          4,
          1,
          4,
          1,
          3,
          1,
          3,
          2,
          2,
          1,
          5,
          3,
          2,
          1,
          1,
          1,
          1,
          3,
          2,
          3,
          1,
          1,
          3,
          2,
          2,
          6,
          3,
          2,
          2,
          10,
          2,
          1,
          3,
          6,
          5,
          2,
          2,
          1,
          3,
          1,
          4,
          6,
          1,
          4,
          3,
          2,
          3,
          3,
          1,
          18,
          2,
          2,
          2,
          5,
          3,
          2,
          2,
          1,
          4,
          2,
          5,
          1,
          1
         ],
         "yaxis": "y"
        },
        {
         "alignmentgroup": "True",
         "hovertemplate": "Age Group=50s<br>Reported Date=%{x}<br>Deaths=%{y}<extra></extra>",
         "legendgroup": "50s",
         "marker": {
          "color": "rgb(231,138,195)"
         },
         "name": "50s",
         "offsetgroup": "50s",
         "orientation": "v",
         "showlegend": true,
         "textposition": "auto",
         "type": "bar",
         "x": [
          "2020-03-18T00:00:00",
          "2020-03-25T00:00:00",
          "2020-03-26T00:00:00",
          "2020-03-28T00:00:00",
          "2020-03-29T00:00:00",
          "2020-03-30T00:00:00",
          "2020-03-31T00:00:00",
          "2020-04-01T00:00:00",
          "2020-04-02T00:00:00",
          "2020-04-03T00:00:00",
          "2020-04-05T00:00:00",
          "2020-04-06T00:00:00",
          "2020-04-07T00:00:00",
          "2020-04-08T00:00:00",
          "2020-04-09T00:00:00",
          "2020-04-10T00:00:00",
          "2020-04-11T00:00:00",
          "2020-04-12T00:00:00",
          "2020-04-13T00:00:00",
          "2020-04-14T00:00:00",
          "2020-04-15T00:00:00",
          "2020-04-16T00:00:00",
          "2020-04-17T00:00:00",
          "2020-04-18T00:00:00",
          "2020-04-19T00:00:00",
          "2020-04-20T00:00:00",
          "2020-04-21T00:00:00",
          "2020-04-23T00:00:00",
          "2020-04-26T00:00:00",
          "2020-04-29T00:00:00",
          "2020-04-30T00:00:00",
          "2020-05-01T00:00:00",
          "2020-05-02T00:00:00",
          "2020-05-05T00:00:00",
          "2020-05-08T00:00:00",
          "2020-05-09T00:00:00",
          "2020-05-10T00:00:00",
          "2020-05-13T00:00:00",
          "2020-05-14T00:00:00",
          "2020-05-15T00:00:00",
          "2020-05-18T00:00:00",
          "2020-05-20T00:00:00",
          "2020-05-22T00:00:00",
          "2020-05-24T00:00:00",
          "2020-05-26T00:00:00",
          "2020-05-30T00:00:00",
          "2020-05-31T00:00:00",
          "2020-06-04T00:00:00",
          "2020-06-07T00:00:00",
          "2020-06-10T00:00:00",
          "2020-06-11T00:00:00",
          "2020-07-02T00:00:00",
          "2020-07-16T00:00:00",
          "2020-09-02T00:00:00",
          "2020-10-07T00:00:00",
          "2020-10-08T00:00:00",
          "2020-10-11T00:00:00",
          "2020-10-14T00:00:00",
          "2020-10-16T00:00:00",
          "2020-10-17T00:00:00",
          "2020-10-19T00:00:00",
          "2020-10-22T00:00:00",
          "2020-10-24T00:00:00",
          "2020-10-30T00:00:00",
          "2020-10-31T00:00:00",
          "2020-11-02T00:00:00",
          "2020-11-03T00:00:00",
          "2020-11-12T00:00:00",
          "2020-11-13T00:00:00",
          "2020-11-14T00:00:00",
          "2020-11-17T00:00:00",
          "2020-11-18T00:00:00",
          "2020-11-19T00:00:00",
          "2020-11-23T00:00:00",
          "2020-11-25T00:00:00",
          "2020-11-26T00:00:00",
          "2020-11-30T00:00:00",
          "2020-12-01T00:00:00",
          "2020-12-03T00:00:00",
          "2020-12-04T00:00:00",
          "2020-12-06T00:00:00",
          "2020-12-07T00:00:00",
          "2020-12-09T00:00:00",
          "2020-12-11T00:00:00"
         ],
         "xaxis": "x",
         "y": [
          1,
          1,
          3,
          2,
          4,
          2,
          2,
          1,
          1,
          1,
          1,
          1,
          3,
          2,
          2,
          4,
          1,
          5,
          4,
          1,
          2,
          3,
          2,
          2,
          3,
          2,
          2,
          1,
          3,
          2,
          2,
          2,
          1,
          1,
          4,
          1,
          2,
          1,
          1,
          1,
          1,
          2,
          3,
          1,
          1,
          1,
          1,
          1,
          1,
          1,
          2,
          1,
          1,
          1,
          1,
          1,
          1,
          2,
          1,
          1,
          1,
          2,
          1,
          1,
          1,
          1,
          1,
          1,
          1,
          1,
          1,
          1,
          1,
          1,
          1,
          2,
          1,
          2,
          1,
          1,
          1,
          1,
          1,
          1
         ],
         "yaxis": "y"
        },
        {
         "alignmentgroup": "True",
         "hovertemplate": "Age Group=30s<br>Reported Date=%{x}<br>Deaths=%{y}<extra></extra>",
         "legendgroup": "30s",
         "marker": {
          "color": "rgb(166,216,84)"
         },
         "name": "30s",
         "offsetgroup": "30s",
         "orientation": "v",
         "showlegend": true,
         "textposition": "auto",
         "type": "bar",
         "x": [
          "2020-03-21T00:00:00",
          "2020-04-03T00:00:00",
          "2020-04-04T00:00:00",
          "2020-04-07T00:00:00",
          "2020-04-13T00:00:00",
          "2020-05-10T00:00:00",
          "2020-05-23T00:00:00",
          "2020-11-24T00:00:00",
          "2020-12-02T00:00:00",
          "2020-12-06T00:00:00"
         ],
         "xaxis": "x",
         "y": [
          1,
          1,
          1,
          1,
          1,
          1,
          1,
          1,
          1,
          1
         ],
         "yaxis": "y"
        },
        {
         "alignmentgroup": "True",
         "hovertemplate": "Age Group=40s<br>Reported Date=%{x}<br>Deaths=%{y}<extra></extra>",
         "legendgroup": "40s",
         "marker": {
          "color": "rgb(255,217,47)"
         },
         "name": "40s",
         "offsetgroup": "40s",
         "orientation": "v",
         "showlegend": true,
         "textposition": "auto",
         "type": "bar",
         "x": [
          "2020-03-21T00:00:00",
          "2020-03-22T00:00:00",
          "2020-03-26T00:00:00",
          "2020-03-27T00:00:00",
          "2020-03-28T00:00:00",
          "2020-04-02T00:00:00",
          "2020-04-03T00:00:00",
          "2020-04-06T00:00:00",
          "2020-04-07T00:00:00",
          "2020-04-09T00:00:00",
          "2020-04-11T00:00:00",
          "2020-04-12T00:00:00",
          "2020-04-22T00:00:00",
          "2020-04-23T00:00:00",
          "2020-05-09T00:00:00",
          "2020-05-13T00:00:00",
          "2020-05-16T00:00:00",
          "2020-05-18T00:00:00",
          "2020-05-21T00:00:00",
          "2020-06-19T00:00:00",
          "2020-07-04T00:00:00",
          "2020-07-09T00:00:00",
          "2020-07-19T00:00:00",
          "2020-07-20T00:00:00",
          "2020-11-08T00:00:00",
          "2020-11-10T00:00:00",
          "2020-11-20T00:00:00",
          "2020-12-02T00:00:00",
          "2020-12-14T00:00:00",
          "2020-12-16T00:00:00"
         ],
         "xaxis": "x",
         "y": [
          1,
          1,
          1,
          1,
          2,
          1,
          1,
          1,
          1,
          1,
          2,
          1,
          2,
          1,
          1,
          1,
          1,
          1,
          1,
          1,
          1,
          1,
          1,
          1,
          1,
          1,
          1,
          1,
          1,
          1
         ],
         "yaxis": "y"
        },
        {
         "alignmentgroup": "True",
         "hovertemplate": "Age Group=90s<br>Reported Date=%{x}<br>Deaths=%{y}<extra></extra>",
         "legendgroup": "90s",
         "marker": {
          "color": "rgb(229,196,148)"
         },
         "name": "90s",
         "offsetgroup": "90s",
         "orientation": "v",
         "showlegend": true,
         "textposition": "auto",
         "type": "bar",
         "x": [
          "2020-03-21T00:00:00",
          "2020-03-22T00:00:00",
          "2020-03-23T00:00:00",
          "2020-03-24T00:00:00",
          "2020-03-25T00:00:00",
          "2020-03-27T00:00:00",
          "2020-03-28T00:00:00",
          "2020-03-29T00:00:00",
          "2020-03-30T00:00:00",
          "2020-03-31T00:00:00",
          "2020-04-01T00:00:00",
          "2020-04-02T00:00:00",
          "2020-04-03T00:00:00",
          "2020-04-04T00:00:00",
          "2020-04-05T00:00:00",
          "2020-04-06T00:00:00",
          "2020-04-07T00:00:00",
          "2020-04-08T00:00:00",
          "2020-04-09T00:00:00",
          "2020-04-10T00:00:00",
          "2020-04-11T00:00:00",
          "2020-04-12T00:00:00",
          "2020-04-13T00:00:00",
          "2020-04-14T00:00:00",
          "2020-04-15T00:00:00",
          "2020-04-16T00:00:00",
          "2020-04-17T00:00:00",
          "2020-04-18T00:00:00",
          "2020-04-19T00:00:00",
          "2020-04-20T00:00:00",
          "2020-04-21T00:00:00",
          "2020-04-22T00:00:00",
          "2020-04-23T00:00:00",
          "2020-04-24T00:00:00",
          "2020-04-25T00:00:00",
          "2020-04-26T00:00:00",
          "2020-04-27T00:00:00",
          "2020-04-28T00:00:00",
          "2020-04-29T00:00:00",
          "2020-04-30T00:00:00",
          "2020-05-01T00:00:00",
          "2020-05-02T00:00:00",
          "2020-05-03T00:00:00",
          "2020-05-04T00:00:00",
          "2020-05-05T00:00:00",
          "2020-05-06T00:00:00",
          "2020-05-07T00:00:00",
          "2020-05-08T00:00:00",
          "2020-05-09T00:00:00",
          "2020-05-10T00:00:00",
          "2020-05-11T00:00:00",
          "2020-05-12T00:00:00",
          "2020-05-13T00:00:00",
          "2020-05-14T00:00:00",
          "2020-05-15T00:00:00",
          "2020-05-16T00:00:00",
          "2020-05-17T00:00:00",
          "2020-05-18T00:00:00",
          "2020-05-19T00:00:00",
          "2020-05-20T00:00:00",
          "2020-05-21T00:00:00",
          "2020-05-22T00:00:00",
          "2020-05-23T00:00:00",
          "2020-05-24T00:00:00",
          "2020-05-25T00:00:00",
          "2020-05-26T00:00:00",
          "2020-05-27T00:00:00",
          "2020-05-28T00:00:00",
          "2020-05-29T00:00:00",
          "2020-05-30T00:00:00",
          "2020-05-31T00:00:00",
          "2020-06-01T00:00:00",
          "2020-06-02T00:00:00",
          "2020-06-03T00:00:00",
          "2020-06-04T00:00:00",
          "2020-06-05T00:00:00",
          "2020-06-06T00:00:00",
          "2020-06-08T00:00:00",
          "2020-06-10T00:00:00",
          "2020-06-13T00:00:00",
          "2020-06-16T00:00:00",
          "2020-06-17T00:00:00",
          "2020-06-18T00:00:00",
          "2020-06-21T00:00:00",
          "2020-06-22T00:00:00",
          "2020-06-24T00:00:00",
          "2020-06-25T00:00:00",
          "2020-06-26T00:00:00",
          "2020-06-28T00:00:00",
          "2020-06-30T00:00:00",
          "2020-07-01T00:00:00",
          "2020-07-07T00:00:00",
          "2020-07-09T00:00:00",
          "2020-07-14T00:00:00",
          "2020-07-16T00:00:00",
          "2020-08-02T00:00:00",
          "2020-08-14T00:00:00",
          "2020-08-19T00:00:00",
          "2020-08-20T00:00:00",
          "2020-08-23T00:00:00",
          "2020-09-02T00:00:00",
          "2020-09-19T00:00:00",
          "2020-09-21T00:00:00",
          "2020-09-22T00:00:00",
          "2020-09-23T00:00:00",
          "2020-09-24T00:00:00",
          "2020-09-25T00:00:00",
          "2020-09-26T00:00:00",
          "2020-09-27T00:00:00",
          "2020-09-28T00:00:00",
          "2020-09-29T00:00:00",
          "2020-09-30T00:00:00",
          "2020-10-01T00:00:00",
          "2020-10-02T00:00:00",
          "2020-10-03T00:00:00",
          "2020-10-04T00:00:00",
          "2020-10-05T00:00:00",
          "2020-10-06T00:00:00",
          "2020-10-07T00:00:00",
          "2020-10-08T00:00:00",
          "2020-10-09T00:00:00",
          "2020-10-11T00:00:00",
          "2020-10-12T00:00:00",
          "2020-10-13T00:00:00",
          "2020-10-14T00:00:00",
          "2020-10-15T00:00:00",
          "2020-10-16T00:00:00",
          "2020-10-17T00:00:00",
          "2020-10-18T00:00:00",
          "2020-10-19T00:00:00",
          "2020-10-20T00:00:00",
          "2020-10-21T00:00:00",
          "2020-10-22T00:00:00",
          "2020-10-23T00:00:00",
          "2020-10-24T00:00:00",
          "2020-10-25T00:00:00",
          "2020-10-26T00:00:00",
          "2020-10-27T00:00:00",
          "2020-10-28T00:00:00",
          "2020-10-29T00:00:00",
          "2020-10-30T00:00:00",
          "2020-10-31T00:00:00",
          "2020-11-01T00:00:00",
          "2020-11-02T00:00:00",
          "2020-11-03T00:00:00",
          "2020-11-04T00:00:00",
          "2020-11-05T00:00:00",
          "2020-11-06T00:00:00",
          "2020-11-07T00:00:00",
          "2020-11-08T00:00:00",
          "2020-11-09T00:00:00",
          "2020-11-10T00:00:00",
          "2020-11-11T00:00:00",
          "2020-11-12T00:00:00",
          "2020-11-13T00:00:00",
          "2020-11-14T00:00:00",
          "2020-11-15T00:00:00",
          "2020-11-16T00:00:00",
          "2020-11-17T00:00:00",
          "2020-11-18T00:00:00",
          "2020-11-19T00:00:00",
          "2020-11-20T00:00:00",
          "2020-11-21T00:00:00",
          "2020-11-22T00:00:00",
          "2020-11-23T00:00:00",
          "2020-11-24T00:00:00",
          "2020-11-25T00:00:00",
          "2020-11-26T00:00:00",
          "2020-11-27T00:00:00",
          "2020-11-28T00:00:00",
          "2020-11-29T00:00:00",
          "2020-11-30T00:00:00",
          "2020-12-01T00:00:00",
          "2020-12-02T00:00:00",
          "2020-12-03T00:00:00",
          "2020-12-04T00:00:00",
          "2020-12-05T00:00:00",
          "2020-12-06T00:00:00",
          "2020-12-07T00:00:00",
          "2020-12-08T00:00:00",
          "2020-12-09T00:00:00",
          "2020-12-10T00:00:00",
          "2020-12-11T00:00:00",
          "2020-12-12T00:00:00",
          "2020-12-13T00:00:00",
          "2020-12-14T00:00:00",
          "2020-12-15T00:00:00",
          "2020-12-16T00:00:00"
         ],
         "xaxis": "x",
         "y": [
          1,
          1,
          3,
          1,
          3,
          1,
          3,
          2,
          8,
          8,
          3,
          16,
          31,
          13,
          15,
          23,
          21,
          21,
          16,
          15,
          29,
          40,
          25,
          39,
          37,
          40,
          49,
          27,
          23,
          14,
          24,
          33,
          24,
          15,
          19,
          15,
          18,
          18,
          11,
          9,
          13,
          9,
          11,
          6,
          6,
          11,
          7,
          6,
          9,
          7,
          3,
          6,
          10,
          10,
          8,
          6,
          4,
          8,
          7,
          6,
          3,
          8,
          7,
          3,
          3,
          2,
          2,
          5,
          7,
          2,
          1,
          2,
          1,
          5,
          2,
          2,
          3,
          1,
          1,
          2,
          2,
          2,
          2,
          2,
          1,
          2,
          1,
          1,
          3,
          1,
          2,
          2,
          1,
          2,
          1,
          1,
          1,
          1,
          1,
          1,
          3,
          1,
          1,
          1,
          1,
          2,
          1,
          1,
          1,
          1,
          1,
          1,
          5,
          2,
          3,
          2,
          3,
          2,
          2,
          4,
          3,
          2,
          1,
          6,
          2,
          3,
          2,
          4,
          1,
          3,
          6,
          3,
          9,
          4,
          5,
          7,
          5,
          4,
          5,
          11,
          6,
          4,
          2,
          10,
          5,
          7,
          6,
          17,
          11,
          6,
          16,
          14,
          9,
          1,
          5,
          8,
          1,
          1,
          6,
          8,
          6,
          5,
          5,
          4,
          4,
          4,
          3,
          13,
          3,
          10,
          6,
          5,
          5,
          2,
          5,
          8,
          6,
          4,
          6,
          5,
          4,
          2,
          4,
          1,
          1,
          2,
          1,
          1
         ],
         "yaxis": "y"
        },
        {
         "alignmentgroup": "True",
         "hovertemplate": "Age Group=20s<br>Reported Date=%{x}<br>Deaths=%{y}<extra></extra>",
         "legendgroup": "20s",
         "marker": {
          "color": "rgb(179,179,179)"
         },
         "name": "20s",
         "offsetgroup": "20s",
         "orientation": "v",
         "showlegend": true,
         "textposition": "auto",
         "type": "bar",
         "x": [
          "2020-04-06T00:00:00",
          "2020-05-06T00:00:00",
          "2020-05-29T00:00:00",
          "2020-12-02T00:00:00",
          "2020-12-06T00:00:00"
         ],
         "xaxis": "x",
         "y": [
          2,
          1,
          1,
          1,
          1
         ],
         "yaxis": "y"
        },
        {
         "alignmentgroup": "True",
         "hovertemplate": "Age Group=<20<br>Reported Date=%{x}<br>Deaths=%{y}<extra></extra>",
         "legendgroup": "<20",
         "marker": {
          "color": "rgb(102,194,165)"
         },
         "name": "<20",
         "offsetgroup": "<20",
         "orientation": "v",
         "showlegend": true,
         "textposition": "auto",
         "type": "bar",
         "x": [
          "2020-06-20T00:00:00"
         ],
         "xaxis": "x",
         "y": [
          1
         ],
         "yaxis": "y"
        }
       ],
       "layout": {
        "barmode": "relative",
        "legend": {
         "title": {
          "text": "Age Group"
         },
         "tracegroupgap": 0
        },
        "template": {
         "data": {
          "bar": [
           {
            "error_x": {
             "color": "#2a3f5f"
            },
            "error_y": {
             "color": "#2a3f5f"
            },
            "marker": {
             "line": {
              "color": "#E5ECF6",
              "width": 0.5
             }
            },
            "type": "bar"
           }
          ],
          "barpolar": [
           {
            "marker": {
             "line": {
              "color": "#E5ECF6",
              "width": 0.5
             }
            },
            "type": "barpolar"
           }
          ],
          "carpet": [
           {
            "aaxis": {
             "endlinecolor": "#2a3f5f",
             "gridcolor": "white",
             "linecolor": "white",
             "minorgridcolor": "white",
             "startlinecolor": "#2a3f5f"
            },
            "baxis": {
             "endlinecolor": "#2a3f5f",
             "gridcolor": "white",
             "linecolor": "white",
             "minorgridcolor": "white",
             "startlinecolor": "#2a3f5f"
            },
            "type": "carpet"
           }
          ],
          "choropleth": [
           {
            "colorbar": {
             "outlinewidth": 0,
             "ticks": ""
            },
            "type": "choropleth"
           }
          ],
          "contour": [
           {
            "colorbar": {
             "outlinewidth": 0,
             "ticks": ""
            },
            "colorscale": [
             [
              0,
              "#0d0887"
             ],
             [
              0.1111111111111111,
              "#46039f"
             ],
             [
              0.2222222222222222,
              "#7201a8"
             ],
             [
              0.3333333333333333,
              "#9c179e"
             ],
             [
              0.4444444444444444,
              "#bd3786"
             ],
             [
              0.5555555555555556,
              "#d8576b"
             ],
             [
              0.6666666666666666,
              "#ed7953"
             ],
             [
              0.7777777777777778,
              "#fb9f3a"
             ],
             [
              0.8888888888888888,
              "#fdca26"
             ],
             [
              1,
              "#f0f921"
             ]
            ],
            "type": "contour"
           }
          ],
          "contourcarpet": [
           {
            "colorbar": {
             "outlinewidth": 0,
             "ticks": ""
            },
            "type": "contourcarpet"
           }
          ],
          "heatmap": [
           {
            "colorbar": {
             "outlinewidth": 0,
             "ticks": ""
            },
            "colorscale": [
             [
              0,
              "#0d0887"
             ],
             [
              0.1111111111111111,
              "#46039f"
             ],
             [
              0.2222222222222222,
              "#7201a8"
             ],
             [
              0.3333333333333333,
              "#9c179e"
             ],
             [
              0.4444444444444444,
              "#bd3786"
             ],
             [
              0.5555555555555556,
              "#d8576b"
             ],
             [
              0.6666666666666666,
              "#ed7953"
             ],
             [
              0.7777777777777778,
              "#fb9f3a"
             ],
             [
              0.8888888888888888,
              "#fdca26"
             ],
             [
              1,
              "#f0f921"
             ]
            ],
            "type": "heatmap"
           }
          ],
          "heatmapgl": [
           {
            "colorbar": {
             "outlinewidth": 0,
             "ticks": ""
            },
            "colorscale": [
             [
              0,
              "#0d0887"
             ],
             [
              0.1111111111111111,
              "#46039f"
             ],
             [
              0.2222222222222222,
              "#7201a8"
             ],
             [
              0.3333333333333333,
              "#9c179e"
             ],
             [
              0.4444444444444444,
              "#bd3786"
             ],
             [
              0.5555555555555556,
              "#d8576b"
             ],
             [
              0.6666666666666666,
              "#ed7953"
             ],
             [
              0.7777777777777778,
              "#fb9f3a"
             ],
             [
              0.8888888888888888,
              "#fdca26"
             ],
             [
              1,
              "#f0f921"
             ]
            ],
            "type": "heatmapgl"
           }
          ],
          "histogram": [
           {
            "marker": {
             "colorbar": {
              "outlinewidth": 0,
              "ticks": ""
             }
            },
            "type": "histogram"
           }
          ],
          "histogram2d": [
           {
            "colorbar": {
             "outlinewidth": 0,
             "ticks": ""
            },
            "colorscale": [
             [
              0,
              "#0d0887"
             ],
             [
              0.1111111111111111,
              "#46039f"
             ],
             [
              0.2222222222222222,
              "#7201a8"
             ],
             [
              0.3333333333333333,
              "#9c179e"
             ],
             [
              0.4444444444444444,
              "#bd3786"
             ],
             [
              0.5555555555555556,
              "#d8576b"
             ],
             [
              0.6666666666666666,
              "#ed7953"
             ],
             [
              0.7777777777777778,
              "#fb9f3a"
             ],
             [
              0.8888888888888888,
              "#fdca26"
             ],
             [
              1,
              "#f0f921"
             ]
            ],
            "type": "histogram2d"
           }
          ],
          "histogram2dcontour": [
           {
            "colorbar": {
             "outlinewidth": 0,
             "ticks": ""
            },
            "colorscale": [
             [
              0,
              "#0d0887"
             ],
             [
              0.1111111111111111,
              "#46039f"
             ],
             [
              0.2222222222222222,
              "#7201a8"
             ],
             [
              0.3333333333333333,
              "#9c179e"
             ],
             [
              0.4444444444444444,
              "#bd3786"
             ],
             [
              0.5555555555555556,
              "#d8576b"
             ],
             [
              0.6666666666666666,
              "#ed7953"
             ],
             [
              0.7777777777777778,
              "#fb9f3a"
             ],
             [
              0.8888888888888888,
              "#fdca26"
             ],
             [
              1,
              "#f0f921"
             ]
            ],
            "type": "histogram2dcontour"
           }
          ],
          "mesh3d": [
           {
            "colorbar": {
             "outlinewidth": 0,
             "ticks": ""
            },
            "type": "mesh3d"
           }
          ],
          "parcoords": [
           {
            "line": {
             "colorbar": {
              "outlinewidth": 0,
              "ticks": ""
             }
            },
            "type": "parcoords"
           }
          ],
          "pie": [
           {
            "automargin": true,
            "type": "pie"
           }
          ],
          "scatter": [
           {
            "marker": {
             "colorbar": {
              "outlinewidth": 0,
              "ticks": ""
             }
            },
            "type": "scatter"
           }
          ],
          "scatter3d": [
           {
            "line": {
             "colorbar": {
              "outlinewidth": 0,
              "ticks": ""
             }
            },
            "marker": {
             "colorbar": {
              "outlinewidth": 0,
              "ticks": ""
             }
            },
            "type": "scatter3d"
           }
          ],
          "scattercarpet": [
           {
            "marker": {
             "colorbar": {
              "outlinewidth": 0,
              "ticks": ""
             }
            },
            "type": "scattercarpet"
           }
          ],
          "scattergeo": [
           {
            "marker": {
             "colorbar": {
              "outlinewidth": 0,
              "ticks": ""
             }
            },
            "type": "scattergeo"
           }
          ],
          "scattergl": [
           {
            "marker": {
             "colorbar": {
              "outlinewidth": 0,
              "ticks": ""
             }
            },
            "type": "scattergl"
           }
          ],
          "scattermapbox": [
           {
            "marker": {
             "colorbar": {
              "outlinewidth": 0,
              "ticks": ""
             }
            },
            "type": "scattermapbox"
           }
          ],
          "scatterpolar": [
           {
            "marker": {
             "colorbar": {
              "outlinewidth": 0,
              "ticks": ""
             }
            },
            "type": "scatterpolar"
           }
          ],
          "scatterpolargl": [
           {
            "marker": {
             "colorbar": {
              "outlinewidth": 0,
              "ticks": ""
             }
            },
            "type": "scatterpolargl"
           }
          ],
          "scatterternary": [
           {
            "marker": {
             "colorbar": {
              "outlinewidth": 0,
              "ticks": ""
             }
            },
            "type": "scatterternary"
           }
          ],
          "surface": [
           {
            "colorbar": {
             "outlinewidth": 0,
             "ticks": ""
            },
            "colorscale": [
             [
              0,
              "#0d0887"
             ],
             [
              0.1111111111111111,
              "#46039f"
             ],
             [
              0.2222222222222222,
              "#7201a8"
             ],
             [
              0.3333333333333333,
              "#9c179e"
             ],
             [
              0.4444444444444444,
              "#bd3786"
             ],
             [
              0.5555555555555556,
              "#d8576b"
             ],
             [
              0.6666666666666666,
              "#ed7953"
             ],
             [
              0.7777777777777778,
              "#fb9f3a"
             ],
             [
              0.8888888888888888,
              "#fdca26"
             ],
             [
              1,
              "#f0f921"
             ]
            ],
            "type": "surface"
           }
          ],
          "table": [
           {
            "cells": {
             "fill": {
              "color": "#EBF0F8"
             },
             "line": {
              "color": "white"
             }
            },
            "header": {
             "fill": {
              "color": "#C8D4E3"
             },
             "line": {
              "color": "white"
             }
            },
            "type": "table"
           }
          ]
         },
         "layout": {
          "annotationdefaults": {
           "arrowcolor": "#2a3f5f",
           "arrowhead": 0,
           "arrowwidth": 1
          },
          "coloraxis": {
           "colorbar": {
            "outlinewidth": 0,
            "ticks": ""
           }
          },
          "colorscale": {
           "diverging": [
            [
             0,
             "#8e0152"
            ],
            [
             0.1,
             "#c51b7d"
            ],
            [
             0.2,
             "#de77ae"
            ],
            [
             0.3,
             "#f1b6da"
            ],
            [
             0.4,
             "#fde0ef"
            ],
            [
             0.5,
             "#f7f7f7"
            ],
            [
             0.6,
             "#e6f5d0"
            ],
            [
             0.7,
             "#b8e186"
            ],
            [
             0.8,
             "#7fbc41"
            ],
            [
             0.9,
             "#4d9221"
            ],
            [
             1,
             "#276419"
            ]
           ],
           "sequential": [
            [
             0,
             "#0d0887"
            ],
            [
             0.1111111111111111,
             "#46039f"
            ],
            [
             0.2222222222222222,
             "#7201a8"
            ],
            [
             0.3333333333333333,
             "#9c179e"
            ],
            [
             0.4444444444444444,
             "#bd3786"
            ],
            [
             0.5555555555555556,
             "#d8576b"
            ],
            [
             0.6666666666666666,
             "#ed7953"
            ],
            [
             0.7777777777777778,
             "#fb9f3a"
            ],
            [
             0.8888888888888888,
             "#fdca26"
            ],
            [
             1,
             "#f0f921"
            ]
           ],
           "sequentialminus": [
            [
             0,
             "#0d0887"
            ],
            [
             0.1111111111111111,
             "#46039f"
            ],
            [
             0.2222222222222222,
             "#7201a8"
            ],
            [
             0.3333333333333333,
             "#9c179e"
            ],
            [
             0.4444444444444444,
             "#bd3786"
            ],
            [
             0.5555555555555556,
             "#d8576b"
            ],
            [
             0.6666666666666666,
             "#ed7953"
            ],
            [
             0.7777777777777778,
             "#fb9f3a"
            ],
            [
             0.8888888888888888,
             "#fdca26"
            ],
            [
             1,
             "#f0f921"
            ]
           ]
          },
          "colorway": [
           "#636efa",
           "#EF553B",
           "#00cc96",
           "#ab63fa",
           "#FFA15A",
           "#19d3f3",
           "#FF6692",
           "#B6E880",
           "#FF97FF",
           "#FECB52"
          ],
          "font": {
           "color": "#2a3f5f"
          },
          "geo": {
           "bgcolor": "white",
           "lakecolor": "white",
           "landcolor": "#E5ECF6",
           "showlakes": true,
           "showland": true,
           "subunitcolor": "white"
          },
          "hoverlabel": {
           "align": "left"
          },
          "hovermode": "closest",
          "mapbox": {
           "style": "light"
          },
          "paper_bgcolor": "white",
          "plot_bgcolor": "#E5ECF6",
          "polar": {
           "angularaxis": {
            "gridcolor": "white",
            "linecolor": "white",
            "ticks": ""
           },
           "bgcolor": "#E5ECF6",
           "radialaxis": {
            "gridcolor": "white",
            "linecolor": "white",
            "ticks": ""
           }
          },
          "scene": {
           "xaxis": {
            "backgroundcolor": "#E5ECF6",
            "gridcolor": "white",
            "gridwidth": 2,
            "linecolor": "white",
            "showbackground": true,
            "ticks": "",
            "zerolinecolor": "white"
           },
           "yaxis": {
            "backgroundcolor": "#E5ECF6",
            "gridcolor": "white",
            "gridwidth": 2,
            "linecolor": "white",
            "showbackground": true,
            "ticks": "",
            "zerolinecolor": "white"
           },
           "zaxis": {
            "backgroundcolor": "#E5ECF6",
            "gridcolor": "white",
            "gridwidth": 2,
            "linecolor": "white",
            "showbackground": true,
            "ticks": "",
            "zerolinecolor": "white"
           }
          },
          "shapedefaults": {
           "line": {
            "color": "#2a3f5f"
           }
          },
          "ternary": {
           "aaxis": {
            "gridcolor": "white",
            "linecolor": "white",
            "ticks": ""
           },
           "baxis": {
            "gridcolor": "white",
            "linecolor": "white",
            "ticks": ""
           },
           "bgcolor": "#E5ECF6",
           "caxis": {
            "gridcolor": "white",
            "linecolor": "white",
            "ticks": ""
           }
          },
          "title": {
           "x": 0.05
          },
          "xaxis": {
           "automargin": true,
           "gridcolor": "white",
           "linecolor": "white",
           "ticks": "",
           "title": {
            "standoff": 15
           },
           "zerolinecolor": "white",
           "zerolinewidth": 2
          },
          "yaxis": {
           "automargin": true,
           "gridcolor": "white",
           "linecolor": "white",
           "ticks": "",
           "title": {
            "standoff": 15
           },
           "zerolinecolor": "white",
           "zerolinewidth": 2
          }
         }
        },
        "title": {
         "text": "Ontario Covid-19 Deaths by Age Group"
        },
        "xaxis": {
         "anchor": "y",
         "domain": [
          0,
          1
         ],
         "title": {
          "text": "Reported Date"
         }
        },
        "yaxis": {
         "anchor": "x",
         "domain": [
          0,
          1
         ],
         "title": {
          "text": "Deaths"
         }
        }
       }
      }
     },
     "metadata": {}
    }
   ],
   "source": [
    "#hide_input\n",
    "\n",
    "df_deathts = src_conpos[src_conpos['Outcome1'] == 'Fatal'].groupby(['Case_Reported_Date', 'Age_Group']).count()['Row_ID'] \\\n",
    ".reset_index().rename(columns={\"Row_ID\": \"Cases\"})\n",
    "\n",
    "fig_deaths = px.bar(df_deathts,\n",
    "                    y='Cases',\n",
    "                    x='Case_Reported_Date',\n",
    "                    color='Age_Group',\n",
    "                    labels={\"Case_Reported_Date\" : \"Reported Date\", \"Age_Group\" : \"Age Group\", \"Cases\" : \"Deaths\"},\n",
    "                    color_discrete_sequence=px.colors.qualitative.Set2,\n",
    "                    title = \"Ontario Covid-19 Deaths by Age Group\"\n",
    ")\n",
    "\n",
    "fig_deaths.show()"
   ]
  },
  {
   "cell_type": "code",
   "execution_count": 27,
   "metadata": {
    "colab": {
     "base_uri": "https://localhost:8080/",
     "height": 202
    },
    "executionInfo": {
     "elapsed": 7337,
     "status": "ok",
     "timestamp": 1608260152604,
     "user": {
      "displayName": "Vijay S",
      "photoUrl": "https://lh4.googleusercontent.com/-Y3kqresK7tQ/AAAAAAAAAAI/AAAAAAAAIow/dmSWQoFZ3gU/s64/photo.jpg",
      "userId": "09127601101212446573"
     },
     "user_tz": 300
    },
    "id": "s2AERuYYUJEA",
    "outputId": "807737d2-ccfc-4275-aa80-b8112528b608"
   },
   "outputs": [
    {
     "output_type": "execute_result",
     "data": {
      "text/plain": [
       "  Reporting_PHU Case_AcquisitionInfo  Cases             Acquisition  Total\n",
       "0   Timiskaming                   CC     14           Close Contact     30\n",
       "1   Timiskaming                   OB      8  Institutional Outbreak     30\n",
       "2   Timiskaming  MISSING INFORMATION      2     MISSING INFORMATION     30\n",
       "3   Timiskaming    NO KNOWN EPI LINK      6       NO KNOWN EPI LINK     30\n",
       "4        Algoma                   CC     20           Close Contact     63"
      ],
      "text/html": "<div>\n<style scoped>\n    .dataframe tbody tr th:only-of-type {\n        vertical-align: middle;\n    }\n\n    .dataframe tbody tr th {\n        vertical-align: top;\n    }\n\n    .dataframe thead th {\n        text-align: right;\n    }\n</style>\n<table border=\"1\" class=\"dataframe\">\n  <thead>\n    <tr style=\"text-align: right;\">\n      <th></th>\n      <th>Reporting_PHU</th>\n      <th>Case_AcquisitionInfo</th>\n      <th>Cases</th>\n      <th>Acquisition</th>\n      <th>Total</th>\n    </tr>\n  </thead>\n  <tbody>\n    <tr>\n      <th>0</th>\n      <td>Timiskaming</td>\n      <td>CC</td>\n      <td>14</td>\n      <td>Close Contact</td>\n      <td>30</td>\n    </tr>\n    <tr>\n      <th>1</th>\n      <td>Timiskaming</td>\n      <td>OB</td>\n      <td>8</td>\n      <td>Institutional Outbreak</td>\n      <td>30</td>\n    </tr>\n    <tr>\n      <th>2</th>\n      <td>Timiskaming</td>\n      <td>MISSING INFORMATION</td>\n      <td>2</td>\n      <td>MISSING INFORMATION</td>\n      <td>30</td>\n    </tr>\n    <tr>\n      <th>3</th>\n      <td>Timiskaming</td>\n      <td>NO KNOWN EPI LINK</td>\n      <td>6</td>\n      <td>NO KNOWN EPI LINK</td>\n      <td>30</td>\n    </tr>\n    <tr>\n      <th>4</th>\n      <td>Algoma</td>\n      <td>CC</td>\n      <td>20</td>\n      <td>Close Contact</td>\n      <td>63</td>\n    </tr>\n  </tbody>\n</table>\n</div>"
     },
     "metadata": {},
     "execution_count": 27
    }
   ],
   "source": [
    "#hide\n",
    "\n",
    "def acquisition(acq):\n",
    "    if acq == 'CC':\n",
    "        return 'Close Contact'\n",
    "    elif acq == 'OB':\n",
    "        return 'Institutional Outbreak'\n",
    "    elif acq == 'No known epi link':\n",
    "        return 'Community Spread'\n",
    "    else:\n",
    "        return acq\n",
    "\n",
    "df_cases = src_conpos.groupby(['Reporting_PHU', 'Case_AcquisitionInfo']).count()['Row_ID'].reset_index() \\\n",
    "    .rename(columns={'Row_ID': 'Cases'})\n",
    "\n",
    "# df_cases['Acquisition'] = df_cases['Case_AcquisitionInfo'].apply(aquisition)\n",
    "\n",
    "df_cases['Acquisition'] = df_cases.apply(lambda x: acquisition(x['Case_AcquisitionInfo']), axis=1)\n",
    "\n",
    "df_phucount = src_conpos.groupby(['Reporting_PHU']).count()['Row_ID'].reset_index().rename(columns={'Row_ID': 'Total'})\n",
    "\n",
    "df_cases = pd.merge(df_cases, df_phucount, how='left', on='Reporting_PHU')\n",
    "\n",
    "df_cases['Reporting_PHU'] = df_cases['Reporting_PHU'].str.replace(' Public Health', '').str.replace(' Health Unit', '') \\\n",
    "    .str.replace(' Unit', '').str.replace(',', '')\n",
    "\n",
    "df_cases = df_cases.sort_values(['Total', 'Acquisition'], ascending=[True, True]).reset_index(drop=True)\n",
    "\n",
    "df_cases.head()"
   ]
  },
  {
   "cell_type": "code",
   "execution_count": 28,
   "metadata": {
    "colab": {
     "base_uri": "https://localhost:8080/",
     "height": 817
    },
    "executionInfo": {
     "elapsed": 7545,
     "status": "ok",
     "timestamp": 1608260152824,
     "user": {
      "displayName": "Vijay S",
      "photoUrl": "https://lh4.googleusercontent.com/-Y3kqresK7tQ/AAAAAAAAAAI/AAAAAAAAIow/dmSWQoFZ3gU/s64/photo.jpg",
      "userId": "09127601101212446573"
     },
     "user_tz": 300
    },
    "id": "tZU9MkN7UJEB",
    "outputId": "02798cf3-1817-4c5d-afc2-de0f791800fc"
   },
   "outputs": [
    {
     "output_type": "display_data",
     "data": {
      "application/vnd.plotly.v1+json": {
       "config": {
        "plotlyServerURL": "https://plot.ly"
       },
       "data": [
        {
         "alignmentgroup": "True",
         "hovertemplate": "Link=Close Contact<br>Cases=%{x}<br>Region=%{y}<extra></extra>",
         "legendgroup": "Close Contact",
         "marker": {
          "color": "rgb(76,114,176)"
         },
         "name": "Close Contact",
         "offsetgroup": "Close Contact",
         "orientation": "h",
         "showlegend": true,
         "textposition": "auto",
         "type": "bar",
         "x": [
          14,
          20,
          49,
          50,
          41,
          78,
          110,
          143,
          90,
          175,
          184,
          258,
          154,
          181,
          235,
          309,
          192,
          203,
          374,
          428,
          533,
          842,
          997,
          1030,
          1384,
          2119,
          1890,
          2070,
          1696,
          2532,
          3625,
          7286,
          20278,
          13095
         ],
         "xaxis": "x",
         "y": [
          "Timiskaming",
          "Algoma",
          "North Bay Parry Sound District",
          "Porcupine",
          "Northwestern",
          "Renfrew County and District",
          "Hastings and Prince Edward Counties",
          "Sudbury & District",
          "Peterborough",
          "Grey Bruce",
          "Haliburton Kawartha Pine Ridge District",
          "Kingston Frontenac and Lennox & Addington",
          "Thunder Bay District",
          "Lambton",
          "Huron Perth District",
          "Chatham-Kent",
          "Leeds Grenville and Lanark District",
          "Haldimand-Norfolk",
          "Brant County",
          "Southwestern",
          "Eastern Ontario",
          "Wellington-Dufferin-Guelph",
          "Middlesex-London",
          "Niagara Region Department",
          "Simcoe Muskoka District",
          "Halton Region Health Department",
          "Hamilton Services",
          "Region of Waterloo",
          "Windsor-Essex County",
          "Durham Region Health Department",
          "Ottawa",
          "York Region Services",
          "Peel",
          "Toronto"
         ],
         "yaxis": "y"
        },
        {
         "alignmentgroup": "True",
         "hovertemplate": "Link=Institutional Outbreak<br>Cases=%{x}<br>Region=%{y}<extra></extra>",
         "legendgroup": "Institutional Outbreak",
         "marker": {
          "color": "rgb(221,132,82)"
         },
         "name": "Institutional Outbreak",
         "offsetgroup": "Institutional Outbreak",
         "orientation": "h",
         "showlegend": true,
         "textposition": "auto",
         "type": "bar",
         "x": [
          8,
          7,
          15,
          19,
          23,
          89,
          63,
          33,
          53,
          54,
          123,
          92,
          223,
          133,
          119,
          178,
          316,
          390,
          133,
          181,
          331,
          480,
          534,
          1150,
          575,
          808,
          1307,
          1117,
          2161,
          1738,
          2770,
          2251,
          3779,
          10085
         ],
         "xaxis": "x",
         "y": [
          "Timiskaming",
          "Algoma",
          "North Bay Parry Sound District",
          "Porcupine",
          "Northwestern",
          "Renfrew County and District",
          "Hastings and Prince Edward Counties",
          "Sudbury & District",
          "Peterborough",
          "Grey Bruce",
          "Haliburton Kawartha Pine Ridge District",
          "Kingston Frontenac and Lennox & Addington",
          "Thunder Bay District",
          "Lambton",
          "Huron Perth District",
          "Chatham-Kent",
          "Leeds Grenville and Lanark District",
          "Haldimand-Norfolk",
          "Brant County",
          "Southwestern",
          "Eastern Ontario",
          "Wellington-Dufferin-Guelph",
          "Middlesex-London",
          "Niagara Region Department",
          "Simcoe Muskoka District",
          "Halton Region Health Department",
          "Hamilton Services",
          "Region of Waterloo",
          "Windsor-Essex County",
          "Durham Region Health Department",
          "Ottawa",
          "York Region Services",
          "Peel",
          "Toronto"
         ],
         "yaxis": "y"
        },
        {
         "alignmentgroup": "True",
         "hovertemplate": "Link=MISSING INFORMATION<br>Cases=%{x}<br>Region=%{y}<extra></extra>",
         "legendgroup": "MISSING INFORMATION",
         "marker": {
          "color": "rgb(85,168,104)"
         },
         "name": "MISSING INFORMATION",
         "offsetgroup": "MISSING INFORMATION",
         "orientation": "h",
         "showlegend": true,
         "textposition": "auto",
         "type": "bar",
         "x": [
          2,
          1,
          2,
          3,
          5,
          5,
          3,
          9,
          28,
          27,
          7,
          12,
          18,
          31,
          6,
          1,
          12,
          36,
          108,
          98,
          78,
          105,
          249,
          182,
          166,
          733,
          396,
          115,
          559,
          226,
          1023,
          1013,
          993,
          19998
         ],
         "xaxis": "x",
         "y": [
          "Timiskaming",
          "Algoma",
          "North Bay Parry Sound District",
          "Porcupine",
          "Northwestern",
          "Renfrew County and District",
          "Hastings and Prince Edward Counties",
          "Sudbury & District",
          "Peterborough",
          "Grey Bruce",
          "Haliburton Kawartha Pine Ridge District",
          "Kingston Frontenac and Lennox & Addington",
          "Thunder Bay District",
          "Lambton",
          "Huron Perth District",
          "Chatham-Kent",
          "Leeds Grenville and Lanark District",
          "Haldimand-Norfolk",
          "Brant County",
          "Southwestern",
          "Eastern Ontario",
          "Wellington-Dufferin-Guelph",
          "Middlesex-London",
          "Niagara Region Department",
          "Simcoe Muskoka District",
          "Halton Region Health Department",
          "Hamilton Services",
          "Region of Waterloo",
          "Windsor-Essex County",
          "Durham Region Health Department",
          "Ottawa",
          "York Region Services",
          "Peel",
          "Toronto"
         ],
         "yaxis": "y"
        },
        {
         "alignmentgroup": "True",
         "hovertemplate": "Link=NO KNOWN EPI LINK<br>Cases=%{x}<br>Region=%{y}<extra></extra>",
         "legendgroup": "NO KNOWN EPI LINK",
         "marker": {
          "color": "rgb(196,78,82)"
         },
         "name": "NO KNOWN EPI LINK",
         "offsetgroup": "NO KNOWN EPI LINK",
         "orientation": "h",
         "showlegend": true,
         "textposition": "auto",
         "type": "bar",
         "x": [
          6,
          25,
          27,
          35,
          39,
          32,
          33,
          40,
          48,
          119,
          94,
          50,
          68,
          133,
          138,
          57,
          73,
          95,
          166,
          133,
          167,
          579,
          426,
          421,
          709,
          851,
          1064,
          1400,
          880,
          1473,
          1551,
          3358,
          8109,
          6750
         ],
         "xaxis": "x",
         "y": [
          "Timiskaming",
          "Algoma",
          "North Bay Parry Sound District",
          "Porcupine",
          "Northwestern",
          "Renfrew County and District",
          "Hastings and Prince Edward Counties",
          "Sudbury & District",
          "Peterborough",
          "Grey Bruce",
          "Haliburton Kawartha Pine Ridge District",
          "Kingston Frontenac and Lennox & Addington",
          "Thunder Bay District",
          "Lambton",
          "Huron Perth District",
          "Chatham-Kent",
          "Leeds Grenville and Lanark District",
          "Haldimand-Norfolk",
          "Brant County",
          "Southwestern",
          "Eastern Ontario",
          "Wellington-Dufferin-Guelph",
          "Middlesex-London",
          "Niagara Region Department",
          "Simcoe Muskoka District",
          "Halton Region Health Department",
          "Hamilton Services",
          "Region of Waterloo",
          "Windsor-Essex County",
          "Durham Region Health Department",
          "Ottawa",
          "York Region Services",
          "Peel",
          "Toronto"
         ],
         "yaxis": "y"
        },
        {
         "alignmentgroup": "True",
         "hovertemplate": "Link=TRAVEL<br>Cases=%{x}<br>Region=%{y}<extra></extra>",
         "legendgroup": "TRAVEL",
         "marker": {
          "color": "rgb(129,114,179)"
         },
         "name": "TRAVEL",
         "offsetgroup": "TRAVEL",
         "orientation": "h",
         "showlegend": true,
         "textposition": "auto",
         "type": "bar",
         "x": [
          10,
          11,
          12,
          26,
          6,
          28,
          24,
          38,
          19,
          30,
          35,
          20,
          15,
          18,
          31,
          36,
          24,
          31,
          43,
          50,
          48,
          114,
          130,
          108,
          145,
          133,
          120,
          251,
          127,
          325,
          299,
          677,
          816
         ],
         "xaxis": "x",
         "y": [
          "Algoma",
          "North Bay Parry Sound District",
          "Porcupine",
          "Northwestern",
          "Renfrew County and District",
          "Hastings and Prince Edward Counties",
          "Sudbury & District",
          "Peterborough",
          "Grey Bruce",
          "Haliburton Kawartha Pine Ridge District",
          "Kingston Frontenac and Lennox & Addington",
          "Thunder Bay District",
          "Lambton",
          "Huron Perth District",
          "Chatham-Kent",
          "Leeds Grenville and Lanark District",
          "Haldimand-Norfolk",
          "Brant County",
          "Southwestern",
          "Eastern Ontario",
          "Wellington-Dufferin-Guelph",
          "Middlesex-London",
          "Niagara Region Department",
          "Simcoe Muskoka District",
          "Halton Region Health Department",
          "Hamilton Services",
          "Region of Waterloo",
          "Windsor-Essex County",
          "Durham Region Health Department",
          "Ottawa",
          "York Region Services",
          "Peel",
          "Toronto"
         ],
         "yaxis": "y"
        },
        {
         "alignmentgroup": "True",
         "hovertemplate": "Link=UNSPECIFIED EPI LINK<br>Cases=%{x}<br>Region=%{y}<extra></extra>",
         "legendgroup": "UNSPECIFIED EPI LINK",
         "marker": {
          "color": "rgb(147,120,96)"
         },
         "name": "UNSPECIFIED EPI LINK",
         "offsetgroup": "UNSPECIFIED EPI LINK",
         "orientation": "h",
         "showlegend": true,
         "textposition": "auto",
         "type": "bar",
         "x": [
          3,
          1,
          3,
          1,
          1,
          1,
          1,
          1,
          1,
          8,
          1,
          14,
          8,
          4,
          11,
          7,
          2,
          38,
          5,
          2,
          6,
          130,
          163
         ],
         "xaxis": "x",
         "y": [
          "Northwestern",
          "Sudbury & District",
          "Peterborough",
          "Grey Bruce",
          "Thunder Bay District",
          "Lambton",
          "Leeds Grenville and Lanark District",
          "Haldimand-Norfolk",
          "Brant County",
          "Southwestern",
          "Eastern Ontario",
          "Wellington-Dufferin-Guelph",
          "Middlesex-London",
          "Niagara Region Department",
          "Simcoe Muskoka District",
          "Halton Region Health Department",
          "Hamilton Services",
          "Region of Waterloo",
          "Windsor-Essex County",
          "Durham Region Health Department",
          "Ottawa",
          "York Region Services",
          "Peel"
         ],
         "yaxis": "y"
        }
       ],
       "layout": {
        "barmode": "relative",
        "height": 800,
        "legend": {
         "title": {
          "text": "Link"
         },
         "tracegroupgap": 0
        },
        "template": {
         "data": {
          "bar": [
           {
            "error_x": {
             "color": "rgb(36,36,36)"
            },
            "error_y": {
             "color": "rgb(36,36,36)"
            },
            "marker": {
             "line": {
              "color": "rgb(234,234,242)",
              "width": 0.5
             }
            },
            "type": "bar"
           }
          ],
          "barpolar": [
           {
            "marker": {
             "line": {
              "color": "rgb(234,234,242)",
              "width": 0.5
             }
            },
            "type": "barpolar"
           }
          ],
          "carpet": [
           {
            "aaxis": {
             "endlinecolor": "rgb(36,36,36)",
             "gridcolor": "white",
             "linecolor": "white",
             "minorgridcolor": "white",
             "startlinecolor": "rgb(36,36,36)"
            },
            "baxis": {
             "endlinecolor": "rgb(36,36,36)",
             "gridcolor": "white",
             "linecolor": "white",
             "minorgridcolor": "white",
             "startlinecolor": "rgb(36,36,36)"
            },
            "type": "carpet"
           }
          ],
          "choropleth": [
           {
            "colorbar": {
             "outlinewidth": 0,
             "tickcolor": "rgb(36,36,36)",
             "ticklen": 8,
             "ticks": "outside",
             "tickwidth": 2
            },
            "type": "choropleth"
           }
          ],
          "contour": [
           {
            "colorbar": {
             "outlinewidth": 0,
             "tickcolor": "rgb(36,36,36)",
             "ticklen": 8,
             "ticks": "outside",
             "tickwidth": 2
            },
            "colorscale": [
             [
              0,
              "rgb(2,4,25)"
             ],
             [
              0.06274509803921569,
              "rgb(24,15,41)"
             ],
             [
              0.12549019607843137,
              "rgb(47,23,57)"
             ],
             [
              0.18823529411764706,
              "rgb(71,28,72)"
             ],
             [
              0.25098039215686274,
              "rgb(97,30,82)"
             ],
             [
              0.3137254901960784,
              "rgb(123,30,89)"
             ],
             [
              0.3764705882352941,
              "rgb(150,27,91)"
             ],
             [
              0.4392156862745098,
              "rgb(177,22,88)"
             ],
             [
              0.5019607843137255,
              "rgb(203,26,79)"
             ],
             [
              0.5647058823529412,
              "rgb(223,47,67)"
             ],
             [
              0.6274509803921569,
              "rgb(236,76,61)"
             ],
             [
              0.6901960784313725,
              "rgb(242,107,73)"
             ],
             [
              0.7529411764705882,
              "rgb(244,135,95)"
             ],
             [
              0.8156862745098039,
              "rgb(245,162,122)"
             ],
             [
              0.8784313725490196,
              "rgb(246,188,153)"
             ],
             [
              0.9411764705882353,
              "rgb(247,212,187)"
             ],
             [
              1,
              "rgb(250,234,220)"
             ]
            ],
            "type": "contour"
           }
          ],
          "contourcarpet": [
           {
            "colorbar": {
             "outlinewidth": 0,
             "tickcolor": "rgb(36,36,36)",
             "ticklen": 8,
             "ticks": "outside",
             "tickwidth": 2
            },
            "type": "contourcarpet"
           }
          ],
          "heatmap": [
           {
            "colorbar": {
             "outlinewidth": 0,
             "tickcolor": "rgb(36,36,36)",
             "ticklen": 8,
             "ticks": "outside",
             "tickwidth": 2
            },
            "colorscale": [
             [
              0,
              "rgb(2,4,25)"
             ],
             [
              0.06274509803921569,
              "rgb(24,15,41)"
             ],
             [
              0.12549019607843137,
              "rgb(47,23,57)"
             ],
             [
              0.18823529411764706,
              "rgb(71,28,72)"
             ],
             [
              0.25098039215686274,
              "rgb(97,30,82)"
             ],
             [
              0.3137254901960784,
              "rgb(123,30,89)"
             ],
             [
              0.3764705882352941,
              "rgb(150,27,91)"
             ],
             [
              0.4392156862745098,
              "rgb(177,22,88)"
             ],
             [
              0.5019607843137255,
              "rgb(203,26,79)"
             ],
             [
              0.5647058823529412,
              "rgb(223,47,67)"
             ],
             [
              0.6274509803921569,
              "rgb(236,76,61)"
             ],
             [
              0.6901960784313725,
              "rgb(242,107,73)"
             ],
             [
              0.7529411764705882,
              "rgb(244,135,95)"
             ],
             [
              0.8156862745098039,
              "rgb(245,162,122)"
             ],
             [
              0.8784313725490196,
              "rgb(246,188,153)"
             ],
             [
              0.9411764705882353,
              "rgb(247,212,187)"
             ],
             [
              1,
              "rgb(250,234,220)"
             ]
            ],
            "type": "heatmap"
           }
          ],
          "heatmapgl": [
           {
            "colorbar": {
             "outlinewidth": 0,
             "tickcolor": "rgb(36,36,36)",
             "ticklen": 8,
             "ticks": "outside",
             "tickwidth": 2
            },
            "colorscale": [
             [
              0,
              "rgb(2,4,25)"
             ],
             [
              0.06274509803921569,
              "rgb(24,15,41)"
             ],
             [
              0.12549019607843137,
              "rgb(47,23,57)"
             ],
             [
              0.18823529411764706,
              "rgb(71,28,72)"
             ],
             [
              0.25098039215686274,
              "rgb(97,30,82)"
             ],
             [
              0.3137254901960784,
              "rgb(123,30,89)"
             ],
             [
              0.3764705882352941,
              "rgb(150,27,91)"
             ],
             [
              0.4392156862745098,
              "rgb(177,22,88)"
             ],
             [
              0.5019607843137255,
              "rgb(203,26,79)"
             ],
             [
              0.5647058823529412,
              "rgb(223,47,67)"
             ],
             [
              0.6274509803921569,
              "rgb(236,76,61)"
             ],
             [
              0.6901960784313725,
              "rgb(242,107,73)"
             ],
             [
              0.7529411764705882,
              "rgb(244,135,95)"
             ],
             [
              0.8156862745098039,
              "rgb(245,162,122)"
             ],
             [
              0.8784313725490196,
              "rgb(246,188,153)"
             ],
             [
              0.9411764705882353,
              "rgb(247,212,187)"
             ],
             [
              1,
              "rgb(250,234,220)"
             ]
            ],
            "type": "heatmapgl"
           }
          ],
          "histogram": [
           {
            "marker": {
             "colorbar": {
              "outlinewidth": 0,
              "tickcolor": "rgb(36,36,36)",
              "ticklen": 8,
              "ticks": "outside",
              "tickwidth": 2
             }
            },
            "type": "histogram"
           }
          ],
          "histogram2d": [
           {
            "colorbar": {
             "outlinewidth": 0,
             "tickcolor": "rgb(36,36,36)",
             "ticklen": 8,
             "ticks": "outside",
             "tickwidth": 2
            },
            "colorscale": [
             [
              0,
              "rgb(2,4,25)"
             ],
             [
              0.06274509803921569,
              "rgb(24,15,41)"
             ],
             [
              0.12549019607843137,
              "rgb(47,23,57)"
             ],
             [
              0.18823529411764706,
              "rgb(71,28,72)"
             ],
             [
              0.25098039215686274,
              "rgb(97,30,82)"
             ],
             [
              0.3137254901960784,
              "rgb(123,30,89)"
             ],
             [
              0.3764705882352941,
              "rgb(150,27,91)"
             ],
             [
              0.4392156862745098,
              "rgb(177,22,88)"
             ],
             [
              0.5019607843137255,
              "rgb(203,26,79)"
             ],
             [
              0.5647058823529412,
              "rgb(223,47,67)"
             ],
             [
              0.6274509803921569,
              "rgb(236,76,61)"
             ],
             [
              0.6901960784313725,
              "rgb(242,107,73)"
             ],
             [
              0.7529411764705882,
              "rgb(244,135,95)"
             ],
             [
              0.8156862745098039,
              "rgb(245,162,122)"
             ],
             [
              0.8784313725490196,
              "rgb(246,188,153)"
             ],
             [
              0.9411764705882353,
              "rgb(247,212,187)"
             ],
             [
              1,
              "rgb(250,234,220)"
             ]
            ],
            "type": "histogram2d"
           }
          ],
          "histogram2dcontour": [
           {
            "colorbar": {
             "outlinewidth": 0,
             "tickcolor": "rgb(36,36,36)",
             "ticklen": 8,
             "ticks": "outside",
             "tickwidth": 2
            },
            "colorscale": [
             [
              0,
              "rgb(2,4,25)"
             ],
             [
              0.06274509803921569,
              "rgb(24,15,41)"
             ],
             [
              0.12549019607843137,
              "rgb(47,23,57)"
             ],
             [
              0.18823529411764706,
              "rgb(71,28,72)"
             ],
             [
              0.25098039215686274,
              "rgb(97,30,82)"
             ],
             [
              0.3137254901960784,
              "rgb(123,30,89)"
             ],
             [
              0.3764705882352941,
              "rgb(150,27,91)"
             ],
             [
              0.4392156862745098,
              "rgb(177,22,88)"
             ],
             [
              0.5019607843137255,
              "rgb(203,26,79)"
             ],
             [
              0.5647058823529412,
              "rgb(223,47,67)"
             ],
             [
              0.6274509803921569,
              "rgb(236,76,61)"
             ],
             [
              0.6901960784313725,
              "rgb(242,107,73)"
             ],
             [
              0.7529411764705882,
              "rgb(244,135,95)"
             ],
             [
              0.8156862745098039,
              "rgb(245,162,122)"
             ],
             [
              0.8784313725490196,
              "rgb(246,188,153)"
             ],
             [
              0.9411764705882353,
              "rgb(247,212,187)"
             ],
             [
              1,
              "rgb(250,234,220)"
             ]
            ],
            "type": "histogram2dcontour"
           }
          ],
          "mesh3d": [
           {
            "colorbar": {
             "outlinewidth": 0,
             "tickcolor": "rgb(36,36,36)",
             "ticklen": 8,
             "ticks": "outside",
             "tickwidth": 2
            },
            "type": "mesh3d"
           }
          ],
          "parcoords": [
           {
            "line": {
             "colorbar": {
              "outlinewidth": 0,
              "tickcolor": "rgb(36,36,36)",
              "ticklen": 8,
              "ticks": "outside",
              "tickwidth": 2
             }
            },
            "type": "parcoords"
           }
          ],
          "pie": [
           {
            "automargin": true,
            "type": "pie"
           }
          ],
          "scatter": [
           {
            "marker": {
             "colorbar": {
              "outlinewidth": 0,
              "tickcolor": "rgb(36,36,36)",
              "ticklen": 8,
              "ticks": "outside",
              "tickwidth": 2
             }
            },
            "type": "scatter"
           }
          ],
          "scatter3d": [
           {
            "line": {
             "colorbar": {
              "outlinewidth": 0,
              "tickcolor": "rgb(36,36,36)",
              "ticklen": 8,
              "ticks": "outside",
              "tickwidth": 2
             }
            },
            "marker": {
             "colorbar": {
              "outlinewidth": 0,
              "tickcolor": "rgb(36,36,36)",
              "ticklen": 8,
              "ticks": "outside",
              "tickwidth": 2
             }
            },
            "type": "scatter3d"
           }
          ],
          "scattercarpet": [
           {
            "marker": {
             "colorbar": {
              "outlinewidth": 0,
              "tickcolor": "rgb(36,36,36)",
              "ticklen": 8,
              "ticks": "outside",
              "tickwidth": 2
             }
            },
            "type": "scattercarpet"
           }
          ],
          "scattergeo": [
           {
            "marker": {
             "colorbar": {
              "outlinewidth": 0,
              "tickcolor": "rgb(36,36,36)",
              "ticklen": 8,
              "ticks": "outside",
              "tickwidth": 2
             }
            },
            "type": "scattergeo"
           }
          ],
          "scattergl": [
           {
            "marker": {
             "colorbar": {
              "outlinewidth": 0,
              "tickcolor": "rgb(36,36,36)",
              "ticklen": 8,
              "ticks": "outside",
              "tickwidth": 2
             }
            },
            "type": "scattergl"
           }
          ],
          "scattermapbox": [
           {
            "marker": {
             "colorbar": {
              "outlinewidth": 0,
              "tickcolor": "rgb(36,36,36)",
              "ticklen": 8,
              "ticks": "outside",
              "tickwidth": 2
             }
            },
            "type": "scattermapbox"
           }
          ],
          "scatterpolar": [
           {
            "marker": {
             "colorbar": {
              "outlinewidth": 0,
              "tickcolor": "rgb(36,36,36)",
              "ticklen": 8,
              "ticks": "outside",
              "tickwidth": 2
             }
            },
            "type": "scatterpolar"
           }
          ],
          "scatterpolargl": [
           {
            "marker": {
             "colorbar": {
              "outlinewidth": 0,
              "tickcolor": "rgb(36,36,36)",
              "ticklen": 8,
              "ticks": "outside",
              "tickwidth": 2
             }
            },
            "type": "scatterpolargl"
           }
          ],
          "scatterternary": [
           {
            "marker": {
             "colorbar": {
              "outlinewidth": 0,
              "tickcolor": "rgb(36,36,36)",
              "ticklen": 8,
              "ticks": "outside",
              "tickwidth": 2
             }
            },
            "type": "scatterternary"
           }
          ],
          "surface": [
           {
            "colorbar": {
             "outlinewidth": 0,
             "tickcolor": "rgb(36,36,36)",
             "ticklen": 8,
             "ticks": "outside",
             "tickwidth": 2
            },
            "colorscale": [
             [
              0,
              "rgb(2,4,25)"
             ],
             [
              0.06274509803921569,
              "rgb(24,15,41)"
             ],
             [
              0.12549019607843137,
              "rgb(47,23,57)"
             ],
             [
              0.18823529411764706,
              "rgb(71,28,72)"
             ],
             [
              0.25098039215686274,
              "rgb(97,30,82)"
             ],
             [
              0.3137254901960784,
              "rgb(123,30,89)"
             ],
             [
              0.3764705882352941,
              "rgb(150,27,91)"
             ],
             [
              0.4392156862745098,
              "rgb(177,22,88)"
             ],
             [
              0.5019607843137255,
              "rgb(203,26,79)"
             ],
             [
              0.5647058823529412,
              "rgb(223,47,67)"
             ],
             [
              0.6274509803921569,
              "rgb(236,76,61)"
             ],
             [
              0.6901960784313725,
              "rgb(242,107,73)"
             ],
             [
              0.7529411764705882,
              "rgb(244,135,95)"
             ],
             [
              0.8156862745098039,
              "rgb(245,162,122)"
             ],
             [
              0.8784313725490196,
              "rgb(246,188,153)"
             ],
             [
              0.9411764705882353,
              "rgb(247,212,187)"
             ],
             [
              1,
              "rgb(250,234,220)"
             ]
            ],
            "type": "surface"
           }
          ],
          "table": [
           {
            "cells": {
             "fill": {
              "color": "rgb(231,231,240)"
             },
             "line": {
              "color": "white"
             }
            },
            "header": {
             "fill": {
              "color": "rgb(183,183,191)"
             },
             "line": {
              "color": "white"
             }
            },
            "type": "table"
           }
          ]
         },
         "layout": {
          "annotationdefaults": {
           "arrowcolor": "rgb(67,103,167)"
          },
          "coloraxis": {
           "colorbar": {
            "outlinewidth": 0,
            "tickcolor": "rgb(36,36,36)",
            "ticklen": 8,
            "ticks": "outside",
            "tickwidth": 2
           }
          },
          "colorscale": {
           "sequential": [
            [
             0,
             "rgb(2,4,25)"
            ],
            [
             0.06274509803921569,
             "rgb(24,15,41)"
            ],
            [
             0.12549019607843137,
             "rgb(47,23,57)"
            ],
            [
             0.18823529411764706,
             "rgb(71,28,72)"
            ],
            [
             0.25098039215686274,
             "rgb(97,30,82)"
            ],
            [
             0.3137254901960784,
             "rgb(123,30,89)"
            ],
            [
             0.3764705882352941,
             "rgb(150,27,91)"
            ],
            [
             0.4392156862745098,
             "rgb(177,22,88)"
            ],
            [
             0.5019607843137255,
             "rgb(203,26,79)"
            ],
            [
             0.5647058823529412,
             "rgb(223,47,67)"
            ],
            [
             0.6274509803921569,
             "rgb(236,76,61)"
            ],
            [
             0.6901960784313725,
             "rgb(242,107,73)"
            ],
            [
             0.7529411764705882,
             "rgb(244,135,95)"
            ],
            [
             0.8156862745098039,
             "rgb(245,162,122)"
            ],
            [
             0.8784313725490196,
             "rgb(246,188,153)"
            ],
            [
             0.9411764705882353,
             "rgb(247,212,187)"
            ],
            [
             1,
             "rgb(250,234,220)"
            ]
           ],
           "sequentialminus": [
            [
             0,
             "rgb(2,4,25)"
            ],
            [
             0.06274509803921569,
             "rgb(24,15,41)"
            ],
            [
             0.12549019607843137,
             "rgb(47,23,57)"
            ],
            [
             0.18823529411764706,
             "rgb(71,28,72)"
            ],
            [
             0.25098039215686274,
             "rgb(97,30,82)"
            ],
            [
             0.3137254901960784,
             "rgb(123,30,89)"
            ],
            [
             0.3764705882352941,
             "rgb(150,27,91)"
            ],
            [
             0.4392156862745098,
             "rgb(177,22,88)"
            ],
            [
             0.5019607843137255,
             "rgb(203,26,79)"
            ],
            [
             0.5647058823529412,
             "rgb(223,47,67)"
            ],
            [
             0.6274509803921569,
             "rgb(236,76,61)"
            ],
            [
             0.6901960784313725,
             "rgb(242,107,73)"
            ],
            [
             0.7529411764705882,
             "rgb(244,135,95)"
            ],
            [
             0.8156862745098039,
             "rgb(245,162,122)"
            ],
            [
             0.8784313725490196,
             "rgb(246,188,153)"
            ],
            [
             0.9411764705882353,
             "rgb(247,212,187)"
            ],
            [
             1,
             "rgb(250,234,220)"
            ]
           ]
          },
          "colorway": [
           "rgb(76,114,176)",
           "rgb(221,132,82)",
           "rgb(85,168,104)",
           "rgb(196,78,82)",
           "rgb(129,114,179)",
           "rgb(147,120,96)",
           "rgb(218,139,195)",
           "rgb(140,140,140)",
           "rgb(204,185,116)",
           "rgb(100,181,205)"
          ],
          "font": {
           "color": "rgb(36,36,36)"
          },
          "geo": {
           "bgcolor": "white",
           "lakecolor": "white",
           "landcolor": "rgb(234,234,242)",
           "showlakes": true,
           "showland": true,
           "subunitcolor": "white"
          },
          "hoverlabel": {
           "align": "left"
          },
          "hovermode": "closest",
          "paper_bgcolor": "white",
          "plot_bgcolor": "rgb(234,234,242)",
          "polar": {
           "angularaxis": {
            "gridcolor": "white",
            "linecolor": "white",
            "showgrid": true,
            "ticks": ""
           },
           "bgcolor": "rgb(234,234,242)",
           "radialaxis": {
            "gridcolor": "white",
            "linecolor": "white",
            "showgrid": true,
            "ticks": ""
           }
          },
          "scene": {
           "xaxis": {
            "backgroundcolor": "rgb(234,234,242)",
            "gridcolor": "white",
            "gridwidth": 2,
            "linecolor": "white",
            "showbackground": true,
            "showgrid": true,
            "ticks": "",
            "zerolinecolor": "white"
           },
           "yaxis": {
            "backgroundcolor": "rgb(234,234,242)",
            "gridcolor": "white",
            "gridwidth": 2,
            "linecolor": "white",
            "showbackground": true,
            "showgrid": true,
            "ticks": "",
            "zerolinecolor": "white"
           },
           "zaxis": {
            "backgroundcolor": "rgb(234,234,242)",
            "gridcolor": "white",
            "gridwidth": 2,
            "linecolor": "white",
            "showbackground": true,
            "showgrid": true,
            "ticks": "",
            "zerolinecolor": "white"
           }
          },
          "shapedefaults": {
           "fillcolor": "rgb(67,103,167)",
           "line": {
            "width": 0
           },
           "opacity": 0.5
          },
          "ternary": {
           "aaxis": {
            "gridcolor": "white",
            "linecolor": "white",
            "showgrid": true,
            "ticks": ""
           },
           "baxis": {
            "gridcolor": "white",
            "linecolor": "white",
            "showgrid": true,
            "ticks": ""
           },
           "bgcolor": "rgb(234,234,242)",
           "caxis": {
            "gridcolor": "white",
            "linecolor": "white",
            "showgrid": true,
            "ticks": ""
           }
          },
          "xaxis": {
           "automargin": true,
           "gridcolor": "white",
           "linecolor": "white",
           "showgrid": true,
           "ticks": "",
           "title": {
            "standoff": 15
           },
           "zerolinecolor": "white"
          },
          "yaxis": {
           "automargin": true,
           "gridcolor": "white",
           "linecolor": "white",
           "showgrid": true,
           "ticks": "",
           "title": {
            "standoff": 15
           },
           "zerolinecolor": "white"
          }
         }
        },
        "title": {
         "text": "Breakdown of Cases per Region"
        },
        "xaxis": {
         "anchor": "y",
         "domain": [
          0,
          1
         ],
         "title": {
          "text": "Cases"
         }
        },
        "yaxis": {
         "anchor": "x",
         "domain": [
          0,
          1
         ],
         "title": {
          "text": "Region"
         }
        }
       }
      }
     },
     "metadata": {}
    }
   ],
   "source": [
    "#hide_input\n",
    "\n",
    "fig_phucases = px.bar(df_cases,\n",
    "y='Reporting_PHU',\n",
    "x='Cases',\n",
    "color='Acquisition',\n",
    "orientation='h',\n",
    "#color_discrete_sequence=px.colors.qualitative.Vivid,\n",
    "height=800,\n",
    "title='Breakdown of Cases per Region',\n",
    "labels={\"Total\" : \"Confirmed Cases\", \"Reporting_PHU\" : \"Region\", \"Acquisition\": \"Link\"},\n",
    "template='seaborn'\n",
    ")\n",
    "\n",
    "fig_phucases.show()"
   ]
  },
  {
   "cell_type": "code",
   "execution_count": 29,
   "metadata": {
    "colab": {
     "base_uri": "https://localhost:8080/",
     "height": 415
    },
    "executionInfo": {
     "elapsed": 7735,
     "status": "ok",
     "timestamp": 1608260153026,
     "user": {
      "displayName": "Vijay S",
      "photoUrl": "https://lh4.googleusercontent.com/-Y3kqresK7tQ/AAAAAAAAAAI/AAAAAAAAIow/dmSWQoFZ3gU/s64/photo.jpg",
      "userId": "09127601101212446573"
     },
     "user_tz": 300
    },
    "id": "KwLtODQYV6c0",
    "outputId": "ed2f25ce-c695-4e9f-f5c0-72c3685a3598"
   },
   "outputs": [
    {
     "output_type": "execute_result",
     "data": {
      "text/plain": [
       "     Case_Reported_Date                             Reporting_PHU  \\\n",
       "0            2020-01-23                     Toronto Public Health   \n",
       "1            2020-01-24              Middlesex-London Health Unit   \n",
       "2            2020-02-21                     Toronto Public Health   \n",
       "3            2020-02-25                     Toronto Public Health   \n",
       "4            2020-02-26                     Toronto Public Health   \n",
       "...                 ...                                       ...   \n",
       "7517         2020-12-18                     Toronto Public Health   \n",
       "7518         2020-12-18                     Toronto Public Health   \n",
       "7519         2020-12-18  Wellington-Dufferin-Guelph Public Health   \n",
       "7520         2020-12-18          Windsor-Essex County Health Unit   \n",
       "7521         2020-12-18        York Region Public Health Services   \n",
       "\n",
       "          Outcome1  Cases  \n",
       "0         Resolved      2  \n",
       "1         Resolved      1  \n",
       "2         Resolved      1  \n",
       "3         Resolved      1  \n",
       "4         Resolved      1  \n",
       "...            ...    ...  \n",
       "7517  Not Resolved     78  \n",
       "7518      Resolved      3  \n",
       "7519  Not Resolved     11  \n",
       "7520  Not Resolved     48  \n",
       "7521  Not Resolved     79  \n",
       "\n",
       "[7522 rows x 4 columns]"
      ],
      "text/html": "<div>\n<style scoped>\n    .dataframe tbody tr th:only-of-type {\n        vertical-align: middle;\n    }\n\n    .dataframe tbody tr th {\n        vertical-align: top;\n    }\n\n    .dataframe thead th {\n        text-align: right;\n    }\n</style>\n<table border=\"1\" class=\"dataframe\">\n  <thead>\n    <tr style=\"text-align: right;\">\n      <th></th>\n      <th>Case_Reported_Date</th>\n      <th>Reporting_PHU</th>\n      <th>Outcome1</th>\n      <th>Cases</th>\n    </tr>\n  </thead>\n  <tbody>\n    <tr>\n      <th>0</th>\n      <td>2020-01-23</td>\n      <td>Toronto Public Health</td>\n      <td>Resolved</td>\n      <td>2</td>\n    </tr>\n    <tr>\n      <th>1</th>\n      <td>2020-01-24</td>\n      <td>Middlesex-London Health Unit</td>\n      <td>Resolved</td>\n      <td>1</td>\n    </tr>\n    <tr>\n      <th>2</th>\n      <td>2020-02-21</td>\n      <td>Toronto Public Health</td>\n      <td>Resolved</td>\n      <td>1</td>\n    </tr>\n    <tr>\n      <th>3</th>\n      <td>2020-02-25</td>\n      <td>Toronto Public Health</td>\n      <td>Resolved</td>\n      <td>1</td>\n    </tr>\n    <tr>\n      <th>4</th>\n      <td>2020-02-26</td>\n      <td>Toronto Public Health</td>\n      <td>Resolved</td>\n      <td>1</td>\n    </tr>\n    <tr>\n      <th>...</th>\n      <td>...</td>\n      <td>...</td>\n      <td>...</td>\n      <td>...</td>\n    </tr>\n    <tr>\n      <th>7517</th>\n      <td>2020-12-18</td>\n      <td>Toronto Public Health</td>\n      <td>Not Resolved</td>\n      <td>78</td>\n    </tr>\n    <tr>\n      <th>7518</th>\n      <td>2020-12-18</td>\n      <td>Toronto Public Health</td>\n      <td>Resolved</td>\n      <td>3</td>\n    </tr>\n    <tr>\n      <th>7519</th>\n      <td>2020-12-18</td>\n      <td>Wellington-Dufferin-Guelph Public Health</td>\n      <td>Not Resolved</td>\n      <td>11</td>\n    </tr>\n    <tr>\n      <th>7520</th>\n      <td>2020-12-18</td>\n      <td>Windsor-Essex County Health Unit</td>\n      <td>Not Resolved</td>\n      <td>48</td>\n    </tr>\n    <tr>\n      <th>7521</th>\n      <td>2020-12-18</td>\n      <td>York Region Public Health Services</td>\n      <td>Not Resolved</td>\n      <td>79</td>\n    </tr>\n  </tbody>\n</table>\n<p>7522 rows × 4 columns</p>\n</div>"
     },
     "metadata": {},
     "execution_count": 29
    }
   ],
   "source": [
    "#hide\n",
    "src_conpos.groupby(['Case_Reported_Date', 'Reporting_PHU', 'Outcome1']).count()['Row_ID'].reset_index().rename(columns={'Row_ID': 'Cases'})"
   ]
  }
 ],
 "metadata": {
  "colab": {
   "collapsed_sections": [],
   "name": "2020-12-17-covid19-ontario.ipynb",
   "provenance": [
    {
     "file_id": "1XYSKnJmGBAtNDXss8faNSsb9F1uJ6hUv",
     "timestamp": 1608257022562
    }
   ]
  },
  "kernelspec": {
   "display_name": "Python 3",
   "language": "python",
   "name": "python3"
  },
  "language_info": {
   "codemirror_mode": {
    "name": "ipython",
    "version": 3
   },
   "file_extension": ".py",
   "mimetype": "text/x-python",
   "name": "python",
   "nbconvert_exporter": "python",
   "pygments_lexer": "ipython3",
   "version": "3.8.5-final"
  }
 },
 "nbformat": 4,
 "nbformat_minor": 4
}