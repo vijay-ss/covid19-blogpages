{
  "nbformat": 4,
  "nbformat_minor": 0,
  "metadata": {
    "kernelspec": {
      "display_name": "Python 3",
      "language": "python",
      "name": "python3"
    },
    "language_info": {
      "codemirror_mode": {
        "name": "ipython",
        "version": 3
      },
      "file_extension": ".py",
      "mimetype": "text/x-python",
      "name": "python",
      "nbconvert_exporter": "python",
      "pygments_lexer": "ipython3",
      "version": "3.8.5-final"
    },
    "colab": {
      "name": "2020-12-24-covid19-ltc.ipynb",
      "provenance": [],
      "collapsed_sections": []
    }
  },
  "cells": [
    {
      "cell_type": "markdown",
      "metadata": {
        "id": "7dMw06RUvnER"
      },
      "source": [
        "# Status of Ontario Long Term Care Homes\n",
        "> Tracking cases in Long Term Care homes in Ontario.\n",
        "\n",
        "- toc: true \n",
        "- badges: true\n",
        "- comments: true\n",
        "- categories: [jupyter]\n",
        "- image: images/test.png"
      ]
    },
    {
      "cell_type": "code",
      "metadata": {
        "colab": {
          "base_uri": "https://localhost:8080/"
        },
        "id": "j48Q5lomvnER",
        "outputId": "56275f93-842f-4782-c160-956cb8fe69f0"
      },
      "source": [
        "#hide\n",
        "# import urllib, json, os, time\n",
        "# import dateutil.parser\n",
        "# import re\n",
        "\n",
        "import pandas as pd\n",
        "import numpy as np\n",
        "\n",
        "import plotly.graph_objects as go\n",
        "import plotly.express as px\n",
        "import altair as alt\n",
        "\n",
        "from IPython.display import HTML, display\n",
        "import pytz\n",
        "\n",
        "import ipywidgets as widgets\n",
        "\n",
        "from datetime import datetime, timedelta, timezone\n",
        "\n",
        "print('Libraries successfully imported.')"
      ],
      "execution_count": 8,
      "outputs": [
        {
          "output_type": "stream",
          "text": [
            "Libraries successfully imported.\n"
          ],
          "name": "stdout"
        }
      ]
    },
    {
      "cell_type": "code",
      "metadata": {
        "colab": {
          "base_uri": "https://localhost:8080/"
        },
        "id": "FtEWcpj-vnES",
        "outputId": "923affbf-4d3b-4eec-fd45-2f85f6248808"
      },
      "source": [
        "#hide\n",
        "#%%time\n",
        "\n",
        "url = 'https://data.ontario.ca/dataset/f4112442-bdc8-45d2-be3c-12efae72fb27/resource/455fd63b-603d-4608-8216-7d8647f43350/download/conposcovidloc.csv'\n",
        "url_2 = 'https://data.ontario.ca/dataset/f4f86e54-872d-43f8-8a86-3892fd3cb5e6/resource/ed270bb8-340b-41f9-a7c6-e8ef587e6d11/download/covidtesting.csv'\n",
        "url_3 = 'https://data.ontario.ca/dataset/f4f86e54-872d-43f8-8a86-3892fd3cb5e6/resource/8a88fe6d-d8fb-41a3-9d04-f0550a44999f/download/daily_change_in_cases_by_phu.csv'\n",
        "url_4 = 'https://data.ontario.ca/dataset/42df36df-04a0-43a9-8ad4-fac5e0e22244/resource/0f8b343e-fc28-4ca5-9aab-c3a1d2c919f1/download/ltccovidsummary.csv'\n",
        "\n",
        "src_conpos = pd.read_csv(url, index_col=0, parse_dates=['Accurate_Episode_Date', 'Case_Reported_Date', 'Test_Reported_Date', 'Specimen_Date']).reset_index()\n",
        "src_testing = pd.read_csv(url_2, index_col=0, parse_dates=['Reported Date']).reset_index()\n",
        "src_daily = pd.read_csv(url_3, index_col=0, parse_dates=['Date']).reset_index()\n",
        "src_ltc = pd.read_csv(url_4, index_col=0, parse_dates=['Report_Data_Extracted']).reset_index()\n",
        "\n",
        "# duplicate entry for December 5th, 2020 causing error\n",
        "src_testing.drop_duplicates(inplace=True)\n",
        "\n",
        "print('Source files successfully loaded.')"
      ],
      "execution_count": 15,
      "outputs": [
        {
          "output_type": "stream",
          "text": [
            "Source files successfully loaded.\n"
          ],
          "name": "stdout"
        }
      ]
    },
    {
      "cell_type": "code",
      "metadata": {
        "id": "eq0ycIeZjwgY",
        "colab": {
          "base_uri": "https://localhost:8080/",
          "height": 35
        },
        "outputId": "52202c72-1c73-445b-df16-190c8989507f"
      },
      "source": [
        "#hide\n",
        "last_date = src_testing['Reported Date'].max()\n",
        "init_date = src_conpos['Accurate_Episode_Date'].min()\n",
        "display(HTML(\"Ontario data set last updated on: \" + last_date.strftime(\"%x\")))"
      ],
      "execution_count": 10,
      "outputs": [
        {
          "output_type": "display_data",
          "data": {
            "text/html": [
              "Ontario data set last updated on: 12/24/20"
            ],
            "text/plain": [
              "<IPython.core.display.HTML object>"
            ]
          },
          "metadata": {
            "tags": []
          }
        }
      ]
    },
    {
      "cell_type": "code",
      "metadata": {
        "colab": {
          "base_uri": "https://localhost:8080/",
          "height": 209
        },
        "id": "c68XFe3ziLrH",
        "outputId": "e8380a74-a3b7-42e0-e1a1-b0f8c5ac76dc"
      },
      "source": [
        "#hide_input\n",
        "src_testing[src_testing['Confirmed Negative'] > 0].tail() # no confirmed negatives after March 29th 2020\n",
        "\n",
        "testing_latest = src_testing[src_testing['Reported Date'] == src_testing['Reported Date'].max()]\n",
        "\n",
        "# get the previous day results\n",
        "testing_delta1 = src_testing[src_testing['Reported Date'] == src_testing['Reported Date'].max() - timedelta(days=1)]\n",
        "\n",
        "# get the daily percentage +/-\n",
        "dailypct = src_testing.join(src_testing[['Total Cases', 'Resolved', 'Confirmed Positive', 'Deaths']].pct_change().add_suffix('_pct'))\n",
        "\n",
        "dailypct = dailypct[dailypct['Reported Date'] == dailypct['Reported Date'].max()]\n",
        "\n",
        "# apply a percentage format; conventional formatting method throws an error\n",
        "def percentage_delta(raw):\n",
        "  # pctfmt = raw.map('{:+.2%}'.format)\n",
        "  # split = str(pctfmt).split()\n",
        "  formatted_pct = str(raw.map('{:+.2%}'.format)).split()[1]\n",
        "  return formatted_pct\n",
        "\n",
        "# original background colour code: #504e4e, secondary: #585858\n",
        "\n",
        "display(HTML(\n",
        "    \n",
        "    \"<div id='number-plate' style = 'background-color: #ececec; padding: 30px; text-align: center; marginTop: 1%; marginBottom: 1%;'>\" +\n",
        "\n",
        "    \"<p style='color: black; font-size: 32px'> Ontario Covid-19 Cases to Date</p>\"\n",
        "    \n",
        "    \"<div id='confirmed' style = 'display: inline-block'> <span style='color: black; font-size: 23px;'> Confirmed: \" +\n",
        "    str('{:,.0f}'.format(int(testing_latest['Total Cases']))) + \"</span>\" + \n",
        "    \"<br> <span style='color: black; font-size:15px; '> \" + \n",
        "    str('{0:+,d}'.format(int(testing_latest['Total Cases']) - (int(testing_delta1['Total Cases'])))) +\n",
        "    ' (' + percentage_delta(dailypct['Total Cases_pct']) + ')' +\n",
        "    \"</span>\" + \n",
        "    \"</div>\" +\n",
        "\n",
        "    \"<div id='resolved' style = 'display: inline-block'> <span style='color: #228b22; font-size: 23px; margin-left: 20px;'> Resolved: \" + \n",
        "    str('{:,.0f}'.format(int(testing_latest['Resolved']))) + \"</span>\" + \n",
        "    \"<br> <span style='color: black; font-size:15px; '>\" + \n",
        "    str('{0:+,d}'.format(int(testing_latest['Resolved']) - (int(testing_delta1['Resolved'])))) +\n",
        "    ' (' + percentage_delta(dailypct['Resolved_pct']) + ')' +\n",
        "    \"</span>\" + \n",
        "    \"</div>\" +\n",
        "\n",
        "    \"<div id='active' style = 'display: inline-block'> <span style='color: orange; font-size: 23px; margin-left: 20px;'> Active: \" + \n",
        "    str('{:,.0f}'.format(int(testing_latest['Confirmed Positive']))) +\"</span>\" + \n",
        "    \"<br> <span style='color: black; font-size:15px; '>\" + \n",
        "    str('{0:+,d}'.format(int(testing_latest['Confirmed Positive']) - (int(testing_delta1['Confirmed Positive'])))) +\n",
        "    ' (' + percentage_delta(dailypct['Confirmed Positive_pct']) + ')' +\n",
        "    \"</span>\" + \n",
        "    \"</div>\" +\n",
        "\n",
        "    \"<div id='deaths' style = 'display: inline-block'> <span style='color: red; font-size: 23px; margin-left: 20px;'> Deaths: \" + \n",
        "    str('{:,.0f}'.format(int(testing_latest['Deaths']))) + \"</span>\" + \n",
        "    \"<br> <span style='color: black; font-size:15px; '>\" + \n",
        "    str('{0:+,d}'.format(int(testing_latest['Deaths']) - (int(testing_delta1['Deaths'])))) +\n",
        "    ' (' + percentage_delta(dailypct['Deaths_pct']) + ')' +\n",
        "    \"</span>\" + \n",
        "    \"</div>\" +\n",
        "\n",
        "    \"<br><div id='rates' style = 'display: block; marginTop: 1%;'> \" +\n",
        "\n",
        "    \"<div id='deathrate' style = 'display: inline-block'> <span style='color: black;'> Current Death Rate: \" +\n",
        "    \"</span>\" +\n",
        "    \"<span style = 'color: red'>\" +\n",
        "    str((testing_latest['Deaths'] / testing_latest['Total Cases']).map('{:.2%}'.format)).split()[1] + \n",
        "    \"</span>\" +\n",
        "    \"</div>\" +\n",
        "\n",
        "    \"<div id='survivalrate' style = 'display:inline-block'> <span style='color: black; margin-left: 20px;'> Current Survival Rate: \" + \n",
        "    \"</span>\" +\n",
        "    \"<span style = 'color: #228b22'>\" +\n",
        "    str(((testing_latest['Total Cases'] - testing_latest['Deaths']) / testing_latest['Total Cases']).map('{:.2%}'.format)).split()[1] + \n",
        "    \"</span>\" +\n",
        "    \"</div>\" +\n",
        "\n",
        "    \"</div>\" +\n",
        "\n",
        "    \"<span style='color: black; font-size: 11px;'> Ontario data last updated: \" + \n",
        "    str(testing_latest['Reported Date'].max().strftime('%Y-%m-%d')) + \", Refreshed on: \" + datetime.now(pytz.timezone('America/New_York') ).strftime(\"%Y-%m-%d at %H:%M\") +\n",
        "    \"</span>\" +\n",
        "\n",
        "    \"</div>\"\n",
        "    \n",
        "    ))"
      ],
      "execution_count": 11,
      "outputs": [
        {
          "output_type": "display_data",
          "data": {
            "text/html": [
              "<div id='number-plate' style = 'background-color: #ececec; padding: 30px; text-align: center; marginTop: 1%; marginBottom: 1%;'><p style='color: black; font-size: 32px'> Ontario Covid-19 Cases to Date</p><div id='confirmed' style = 'display: inline-block'> <span style='color: black; font-size: 23px;'> Confirmed: 165,110</span><br> <span style='color: black; font-size:15px; '> +2,447 (+1.50%)</span></div><div id='resolved' style = 'display: inline-block'> <span style='color: #228b22; font-size: 23px; margin-left: 20px;'> Resolved: 141,023</span><br> <span style='color: black; font-size:15px; '>+2,013 (+1.45%)</span></div><div id='active' style = 'display: inline-block'> <span style='color: orange; font-size: 23px; margin-left: 20px;'> Active: 19,809</span><br> <span style='color: black; font-size:15px; '>+385 (+1.98%)</span></div><div id='deaths' style = 'display: inline-block'> <span style='color: red; font-size: 23px; margin-left: 20px;'> Deaths: 4,278</span><br> <span style='color: black; font-size:15px; '>+49 (+1.16%)</span></div><br><div id='rates' style = 'display: block; marginTop: 1%;'> <div id='deathrate' style = 'display: inline-block'> <span style='color: black;'> Current Death Rate: </span><span style = 'color: red'>2.59%</span></div><div id='survivalrate' style = 'display:inline-block'> <span style='color: black; margin-left: 20px;'> Current Survival Rate: </span><span style = 'color: #228b22'>97.41%</span></div></div><span style='color: black; font-size: 11px;'> Ontario data last updated: 2020-12-24, Refreshed on: 2020-12-24 at 16:22</span></div>"
            ],
            "text/plain": [
              "<IPython.core.display.HTML object>"
            ]
          },
          "metadata": {
            "tags": []
          }
        }
      ]
    },
    {
      "cell_type": "code",
      "metadata": {
        "colab": {
          "base_uri": "https://localhost:8080/",
          "height": 435
        },
        "id": "DcaxeKz0p1HF",
        "outputId": "953c2752-7819-4283-ce9f-8508eeeeb0d0"
      },
      "source": [
        "#hide\r\n",
        "src_ltc"
      ],
      "execution_count": 18,
      "outputs": [
        {
          "output_type": "execute_result",
          "data": {
            "text/html": [
              "<div>\n",
              "<style scoped>\n",
              "    .dataframe tbody tr th:only-of-type {\n",
              "        vertical-align: middle;\n",
              "    }\n",
              "\n",
              "    .dataframe tbody tr th {\n",
              "        vertical-align: top;\n",
              "    }\n",
              "\n",
              "    .dataframe thead th {\n",
              "        text-align: right;\n",
              "    }\n",
              "</style>\n",
              "<table border=\"1\" class=\"dataframe\">\n",
              "  <thead>\n",
              "    <tr style=\"text-align: right;\">\n",
              "      <th></th>\n",
              "      <th>Report_Data_Extracted</th>\n",
              "      <th>LTC_Homes_with_Active_Outbreak</th>\n",
              "      <th>LTC_Homes_with_Resolved_Outbreak</th>\n",
              "      <th>Confirmed_Active_LTC_Resident_Cases</th>\n",
              "      <th>Confirmed_Active_LTC_HCW_Cases</th>\n",
              "      <th>Total_LTC_Resident_Deaths</th>\n",
              "      <th>Total_LTC_HCW_Deaths</th>\n",
              "    </tr>\n",
              "  </thead>\n",
              "  <tbody>\n",
              "    <tr>\n",
              "      <th>0</th>\n",
              "      <td>2020-04-24</td>\n",
              "      <td>145</td>\n",
              "      <td>31</td>\n",
              "      <td>2455.0</td>\n",
              "      <td>1120.0</td>\n",
              "      <td>625.0</td>\n",
              "      <td>1.0</td>\n",
              "    </tr>\n",
              "    <tr>\n",
              "      <th>1</th>\n",
              "      <td>2020-04-25</td>\n",
              "      <td>147</td>\n",
              "      <td>31</td>\n",
              "      <td>2520.0</td>\n",
              "      <td>1161.0</td>\n",
              "      <td>654.0</td>\n",
              "      <td>1.0</td>\n",
              "    </tr>\n",
              "    <tr>\n",
              "      <th>2</th>\n",
              "      <td>2020-04-26</td>\n",
              "      <td>150</td>\n",
              "      <td>32</td>\n",
              "      <td>2523.0</td>\n",
              "      <td>1187.0</td>\n",
              "      <td>671.0</td>\n",
              "      <td>1.0</td>\n",
              "    </tr>\n",
              "    <tr>\n",
              "      <th>3</th>\n",
              "      <td>2020-04-27</td>\n",
              "      <td>154</td>\n",
              "      <td>34</td>\n",
              "      <td>2491.0</td>\n",
              "      <td>1205.0</td>\n",
              "      <td>705.0</td>\n",
              "      <td>1.0</td>\n",
              "    </tr>\n",
              "    <tr>\n",
              "      <th>4</th>\n",
              "      <td>2020-04-28</td>\n",
              "      <td>159</td>\n",
              "      <td>34</td>\n",
              "      <td>2632.0</td>\n",
              "      <td>1361.0</td>\n",
              "      <td>775.0</td>\n",
              "      <td>1.0</td>\n",
              "    </tr>\n",
              "    <tr>\n",
              "      <th>...</th>\n",
              "      <td>...</td>\n",
              "      <td>...</td>\n",
              "      <td>...</td>\n",
              "      <td>...</td>\n",
              "      <td>...</td>\n",
              "      <td>...</td>\n",
              "      <td>...</td>\n",
              "    </tr>\n",
              "    <tr>\n",
              "      <th>239</th>\n",
              "      <td>2020-12-19</td>\n",
              "      <td>154</td>\n",
              "      <td>284</td>\n",
              "      <td>931.0</td>\n",
              "      <td>900.0</td>\n",
              "      <td>2502.0</td>\n",
              "      <td>8.0</td>\n",
              "    </tr>\n",
              "    <tr>\n",
              "      <th>240</th>\n",
              "      <td>2020-12-20</td>\n",
              "      <td>160</td>\n",
              "      <td>280</td>\n",
              "      <td>965.0</td>\n",
              "      <td>959.0</td>\n",
              "      <td>2508.0</td>\n",
              "      <td>8.0</td>\n",
              "    </tr>\n",
              "    <tr>\n",
              "      <th>241</th>\n",
              "      <td>2020-12-21</td>\n",
              "      <td>159</td>\n",
              "      <td>285</td>\n",
              "      <td>963.0</td>\n",
              "      <td>972.0</td>\n",
              "      <td>2537.0</td>\n",
              "      <td>8.0</td>\n",
              "    </tr>\n",
              "    <tr>\n",
              "      <th>242</th>\n",
              "      <td>2020-12-22</td>\n",
              "      <td>161</td>\n",
              "      <td>286</td>\n",
              "      <td>1053.0</td>\n",
              "      <td>997.0</td>\n",
              "      <td>2555.0</td>\n",
              "      <td>8.0</td>\n",
              "    </tr>\n",
              "    <tr>\n",
              "      <th>243</th>\n",
              "      <td>2020-12-23</td>\n",
              "      <td>162</td>\n",
              "      <td>286</td>\n",
              "      <td>1075.0</td>\n",
              "      <td>976.0</td>\n",
              "      <td>2578.0</td>\n",
              "      <td>8.0</td>\n",
              "    </tr>\n",
              "  </tbody>\n",
              "</table>\n",
              "<p>244 rows × 7 columns</p>\n",
              "</div>"
            ],
            "text/plain": [
              "    Report_Data_Extracted  ...  Total_LTC_HCW_Deaths\n",
              "0              2020-04-24  ...                   1.0\n",
              "1              2020-04-25  ...                   1.0\n",
              "2              2020-04-26  ...                   1.0\n",
              "3              2020-04-27  ...                   1.0\n",
              "4              2020-04-28  ...                   1.0\n",
              "..                    ...  ...                   ...\n",
              "239            2020-12-19  ...                   8.0\n",
              "240            2020-12-20  ...                   8.0\n",
              "241            2020-12-21  ...                   8.0\n",
              "242            2020-12-22  ...                   8.0\n",
              "243            2020-12-23  ...                   8.0\n",
              "\n",
              "[244 rows x 7 columns]"
            ]
          },
          "metadata": {
            "tags": []
          },
          "execution_count": 18
        }
      ]
    },
    {
      "cell_type": "code",
      "metadata": {
        "colab": {
          "base_uri": "https://localhost:8080/",
          "height": 35
        },
        "id": "tSUBepKbp2EF",
        "outputId": "3d179bbf-bcd4-4d73-baf1-47555676a62d"
      },
      "source": [
        "#hide\r\n",
        "\"\"\"\r\n",
        "What am I trying to show?\r\n",
        "\r\n",
        "- LTC deaths relative to overall deaths\r\n",
        "- Cases coming from LTC vs public\r\n",
        "- HCW deaths and cases\r\n",
        "\r\n",
        "\"\"\""
      ],
      "execution_count": 19,
      "outputs": [
        {
          "output_type": "execute_result",
          "data": {
            "application/vnd.google.colaboratory.intrinsic+json": {
              "type": "string"
            },
            "text/plain": [
              "'\\nWhat am I trying to show?\\n\\n- LTC deaths relative to overall deaths\\n- Cases coming from LTC vs public\\n- HCW deaths and cases\\n\\n'"
            ]
          },
          "metadata": {
            "tags": []
          },
          "execution_count": 19
        }
      ]
    },
    {
      "cell_type": "code",
      "metadata": {
        "id": "ptLddn-Tstuc"
      },
      "source": [
        ""
      ],
      "execution_count": null,
      "outputs": []
    }
  ]
}