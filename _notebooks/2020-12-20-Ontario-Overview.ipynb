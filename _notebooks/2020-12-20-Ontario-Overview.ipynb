{
 "cells": [
  {
   "cell_type": "markdown",
   "metadata": {},
   "source": [
    "# Overview of Ontario's Covid-19 Spread\n",
    "> Insights into the Covid-19 spread in Ontario, Canada.\n",
    "\n",
    "- toc: true \n",
    "- badges: true\n",
    "- comments: true\n",
    "- categories: [jupyter]\n",
    "- image: images/test.png"
   ]
  },
  {
   "cell_type": "code",
   "execution_count": 1,
   "metadata": {},
   "outputs": [
    {
     "name": "stdout",
     "output_type": "stream",
     "text": [
      "Libraries successfully imported.\n"
     ]
    }
   ],
   "source": [
    "#hide\n",
    "\n",
    "import pandas as pd\n",
    "import numpy as np\n",
    "\n",
    "import plotly.graph_objects as go\n",
    "import plotly.express as px\n",
    "import altair as alt\n",
    "\n",
    "from IPython.display import HTML, display\n",
    "import pytz\n",
    "\n",
    "import ipywidgets as widgets\n",
    "\n",
    "from datetime import datetime, timedelta, timezone\n",
    "\n",
    "print('Libraries successfully imported.')"
   ]
  },
  {
   "cell_type": "code",
   "execution_count": 3,
   "metadata": {},
   "outputs": [
    {
     "name": "stdout",
     "output_type": "stream",
     "text": [
      "Source files successfully loaded.\n"
     ]
    }
   ],
   "source": [
    "#hide\n",
    "#%%time\n",
    "\n",
    "url = 'https://data.ontario.ca/dataset/f4112442-bdc8-45d2-be3c-12efae72fb27/resource/455fd63b-603d-4608-8216-7d8647f43350/download/conposcovidloc.csv'\n",
    "url_2 = 'https://data.ontario.ca/dataset/f4f86e54-872d-43f8-8a86-3892fd3cb5e6/resource/ed270bb8-340b-41f9-a7c6-e8ef587e6d11/download/covidtesting.csv'\n",
    "url_3 = 'https://data.ontario.ca/dataset/f4f86e54-872d-43f8-8a86-3892fd3cb5e6/resource/8a88fe6d-d8fb-41a3-9d04-f0550a44999f/download/daily_change_in_cases_by_phu.csv'\n",
    "\n",
    "#geo = gpd.read_file('https://data.ontario.ca/dataset/f4112442-bdc8-45d2-be3c-12efae72fb27/resource/4f39b02b-47fe-4e66-95b6-e6da879c6910/download/conposcovidloc.geojson') \n",
    "\n",
    "src_conpos = pd.read_csv(url, index_col=0, parse_dates=['Accurate_Episode_Date', 'Case_Reported_Date', 'Test_Reported_Date', 'Specimen_Date']).reset_index()\n",
    "src_testing = pd.read_csv(url_2, index_col=0, parse_dates=['Reported Date']).reset_index()\n",
    "src_daily = pd.read_csv(url_3, index_col=0, parse_dates=['Date']).reset_index()\n",
    "\n",
    "# duplicate entry for December 5th, 2020 causing error\n",
    "src_testing.drop_duplicates(inplace=True)\n",
    "\n",
    "print('Source files successfully loaded.')"
   ]
  },
  {
   "cell_type": "code",
   "execution_count": 4,
   "metadata": {},
   "outputs": [
    {
     "data": {
      "text/html": [
       "Ontario data set last updated on: 12/19/20"
      ],
      "text/plain": [
       "<IPython.core.display.HTML object>"
      ]
     },
     "metadata": {},
     "output_type": "display_data"
    }
   ],
   "source": [
    "#hide\n",
    "last_date = src_testing['Reported Date'].max()\n",
    "init_date = src_conpos['Accurate_Episode_Date'].min()\n",
    "display(HTML(\"Ontario data set last updated on: \" + last_date.strftime(\"%x\")))"
   ]
  },
  {
   "cell_type": "code",
   "execution_count": 5,
   "metadata": {},
   "outputs": [
    {
     "data": {
      "text/html": [
       "<div id='number-plate' style = 'background-color: #ececec; padding: 30px; text-align: center; marginTop: 1%; marginBottom: 1%;'><p style='color: black; font-size: 32px'> Ontario Covid-19 Cases to Date</p><div id='confirmed' style = 'display: inline-block'> <span style='color: black; font-size: 23px;'> Confirmed: 153,614</span><br> <span style='color: black; font-size:15px; '> +2,357 (+1.56%)</span></div><div id='resolved' style = 'display: inline-block'> <span style='color: #228b22; font-size: 23px; margin-left: 20px;'> Resolved: 131,282</span><br> <span style='color: black; font-size:15px; '>+1,865 (+1.44%)</span></div><div id='active' style = 'display: inline-block'> <span style='color: orange; font-size: 23px; margin-left: 20px;'> Active: 18,207</span><br> <span style='color: black; font-size:15px; '>+465 (+2.62%)</span></div><div id='deaths' style = 'display: inline-block'> <span style='color: red; font-size: 23px; margin-left: 20px;'> Deaths: 4,125</span><br> <span style='color: black; font-size:15px; '>+27 (+0.66%)</span></div><br><div id='rates' style = 'display: block; marginTop: 1%;'> <div id='deathrate' style = 'display: inline-block'> <span style='color: black;'> Current Death Rate: </span><span style = 'color: red'>2.69%</span></div><div id='survivalrate' style = 'display:inline-block'> <span style='color: black; margin-left: 20px;'> Current Survival Rate: </span><span style = 'color: #228b22'>97.31%</span></div></div><span style='color: black; font-size: 11px;'> Ontario data last updated: 2020-12-19, Refreshed on: 2020-12-19 at 22:40</span></div>"
      ],
      "text/plain": [
       "<IPython.core.display.HTML object>"
      ]
     },
     "metadata": {},
     "output_type": "display_data"
    }
   ],
   "source": [
    "#hide_input\n",
    "src_testing[src_testing['Confirmed Negative'] > 0].tail() # no confirmed negatives after March 29th 2020\n",
    "\n",
    "testing_latest = src_testing[src_testing['Reported Date'] == src_testing['Reported Date'].max()]\n",
    "\n",
    "# get the previous day results\n",
    "testing_delta1 = src_testing[src_testing['Reported Date'] == src_testing['Reported Date'].max() - timedelta(days=1)]\n",
    "\n",
    "# get the daily percentage +/-\n",
    "dailypct = src_testing.join(src_testing[['Total Cases', 'Resolved', 'Confirmed Positive', 'Deaths']].pct_change().add_suffix('_pct'))\n",
    "\n",
    "dailypct = dailypct[dailypct['Reported Date'] == dailypct['Reported Date'].max()]\n",
    "\n",
    "# apply a percentage format; conventional formatting method throws an error\n",
    "def percentage_delta(raw):\n",
    "  # pctfmt = raw.map('{:+.2%}'.format)\n",
    "  # split = str(pctfmt).split()\n",
    "  formatted_pct = str(raw.map('{:+.2%}'.format)).split()[1]\n",
    "  return formatted_pct\n",
    "\n",
    "# original background colour code: #504e4e, secondary: #585858\n",
    "\n",
    "display(HTML(\n",
    "    \n",
    "    \"<div id='number-plate' style = 'background-color: #ececec; padding: 30px; text-align: center; marginTop: 1%; marginBottom: 1%;'>\" +\n",
    "\n",
    "    \"<p style='color: black; font-size: 32px'> Ontario Covid-19 Cases to Date</p>\"\n",
    "    \n",
    "    \"<div id='confirmed' style = 'display: inline-block'> <span style='color: black; font-size: 23px;'> Confirmed: \" +\n",
    "    str('{:,.0f}'.format(int(testing_latest['Total Cases']))) + \"</span>\" + \n",
    "    \"<br> <span style='color: black; font-size:15px; '> \" + \n",
    "    str('{0:+,d}'.format(int(testing_latest['Total Cases']) - (int(testing_delta1['Total Cases'])))) +\n",
    "    ' (' + percentage_delta(dailypct['Total Cases_pct']) + ')' +\n",
    "    \"</span>\" + \n",
    "    \"</div>\" +\n",
    "\n",
    "    \"<div id='resolved' style = 'display: inline-block'> <span style='color: #228b22; font-size: 23px; margin-left: 20px;'> Resolved: \" + \n",
    "    str('{:,.0f}'.format(int(testing_latest['Resolved']))) + \"</span>\" + \n",
    "    \"<br> <span style='color: black; font-size:15px; '>\" + \n",
    "    str('{0:+,d}'.format(int(testing_latest['Resolved']) - (int(testing_delta1['Resolved'])))) +\n",
    "    ' (' + percentage_delta(dailypct['Resolved_pct']) + ')' +\n",
    "    \"</span>\" + \n",
    "    \"</div>\" +\n",
    "\n",
    "    \"<div id='active' style = 'display: inline-block'> <span style='color: orange; font-size: 23px; margin-left: 20px;'> Active: \" + \n",
    "    str('{:,.0f}'.format(int(testing_latest['Confirmed Positive']))) +\"</span>\" + \n",
    "    \"<br> <span style='color: black; font-size:15px; '>\" + \n",
    "    str('{0:+,d}'.format(int(testing_latest['Confirmed Positive']) - (int(testing_delta1['Confirmed Positive'])))) +\n",
    "    ' (' + percentage_delta(dailypct['Confirmed Positive_pct']) + ')' +\n",
    "    \"</span>\" + \n",
    "    \"</div>\" +\n",
    "\n",
    "    \"<div id='deaths' style = 'display: inline-block'> <span style='color: red; font-size: 23px; margin-left: 20px;'> Deaths: \" + \n",
    "    str('{:,.0f}'.format(int(testing_latest['Deaths']))) + \"</span>\" + \n",
    "    \"<br> <span style='color: black; font-size:15px; '>\" + \n",
    "    str('{0:+,d}'.format(int(testing_latest['Deaths']) - (int(testing_delta1['Deaths'])))) +\n",
    "    ' (' + percentage_delta(dailypct['Deaths_pct']) + ')' +\n",
    "    \"</span>\" + \n",
    "    \"</div>\" +\n",
    "\n",
    "    \"<br><div id='rates' style = 'display: block; marginTop: 1%;'> \" +\n",
    "\n",
    "    \"<div id='deathrate' style = 'display: inline-block'> <span style='color: black;'> Current Death Rate: \" +\n",
    "    \"</span>\" +\n",
    "    \"<span style = 'color: red'>\" +\n",
    "    str((testing_latest['Deaths'] / testing_latest['Total Cases']).map('{:.2%}'.format)).split()[1] + \n",
    "    \"</span>\" +\n",
    "    \"</div>\" +\n",
    "\n",
    "    \"<div id='survivalrate' style = 'display:inline-block'> <span style='color: black; margin-left: 20px;'> Current Survival Rate: \" + \n",
    "    \"</span>\" +\n",
    "    \"<span style = 'color: #228b22'>\" +\n",
    "    str(((testing_latest['Total Cases'] - testing_latest['Deaths']) / testing_latest['Total Cases']).map('{:.2%}'.format)).split()[1] + \n",
    "    \"</span>\" +\n",
    "    \"</div>\" +\n",
    "\n",
    "    \"</div>\" +\n",
    "\n",
    "    \"<span style='color: black; font-size: 11px;'> Ontario data last updated: \" + \n",
    "    str(testing_latest['Reported Date'].max().strftime('%Y-%m-%d')) + \", Refreshed on: \" + datetime.now(pytz.timezone('America/New_York') ).strftime(\"%Y-%m-%d at %H:%M\") +\n",
    "    \"</span>\" +\n",
    "\n",
    "    \"</div>\"\n",
    "    \n",
    "    ))"
   ]
  },
  {
   "cell_type": "code",
   "execution_count": null,
   "metadata": {},
   "outputs": [],
   "source": []
  }
 ],
 "metadata": {
  "kernelspec": {
   "display_name": "Python 3",
   "language": "python",
   "name": "python3"
  },
  "language_info": {
   "codemirror_mode": {
    "name": "ipython",
    "version": 3
   },
   "file_extension": ".py",
   "mimetype": "text/x-python",
   "name": "python",
   "nbconvert_exporter": "python",
   "pygments_lexer": "ipython3",
   "version": "3.8.5"
  }
 },
 "nbformat": 4,
 "nbformat_minor": 4
}
