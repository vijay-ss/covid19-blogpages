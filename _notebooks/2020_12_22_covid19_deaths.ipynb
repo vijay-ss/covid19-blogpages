{
  "nbformat": 4,
  "nbformat_minor": 0,
  "metadata": {
    "kernelspec": {
      "display_name": "Python 3",
      "language": "python",
      "name": "python3"
    },
    "language_info": {
      "codemirror_mode": {
        "name": "ipython",
        "version": 3
      },
      "file_extension": ".py",
      "mimetype": "text/x-python",
      "name": "python",
      "nbconvert_exporter": "python",
      "pygments_lexer": "ipython3",
      "version": "3.8.5-final"
    },
    "colab": {
      "name": "2020-12-22-covid19-deaths.ipynb",
      "provenance": [],
      "collapsed_sections": []
    }
  },
  "cells": [
    {
      "cell_type": "markdown",
      "metadata": {
        "id": "7dMw06RUvnER"
      },
      "source": [
        "# Analysis of Ontario Death Rates\n",
        "> Investigating the Covid-19 deaths across the province.\n",
        "\n",
        "- toc: true \n",
        "- badges: true\n",
        "- comments: true\n",
        "- categories: [jupyter]\n",
        "- image: images/deaths.png"
      ]
    },
    {
      "cell_type": "code",
      "metadata": {
        "colab": {
          "base_uri": "https://localhost:8080/"
        },
        "id": "j48Q5lomvnER",
        "outputId": "5ab8b464-c8ec-44ff-fce8-80ad9683c7dd"
      },
      "source": [
        "#hide\n",
        "# import urllib, json, os, time\n",
        "# import dateutil.parser\n",
        "# import re\n",
        "\n",
        "import pandas as pd\n",
        "import numpy as np\n",
        "\n",
        "import plotly.graph_objects as go\n",
        "import plotly.express as px\n",
        "import altair as alt\n",
        "\n",
        "from IPython.display import HTML, display\n",
        "import pytz\n",
        "\n",
        "import ipywidgets as widgets\n",
        "\n",
        "from datetime import datetime, timedelta, timezone\n",
        "\n",
        "# import geopandas as gpd\n",
        "# import sweetviz as sv\n",
        "\n",
        "print('Libraries successfully imported.')"
      ],
      "execution_count": 1,
      "outputs": [
        {
          "output_type": "stream",
          "text": [
            "Libraries successfully imported.\n"
          ],
          "name": "stdout"
        }
      ]
    },
    {
      "cell_type": "code",
      "metadata": {
        "colab": {
          "base_uri": "https://localhost:8080/"
        },
        "id": "FtEWcpj-vnES",
        "outputId": "664ef862-5561-44c9-b7bf-2ac4f2c30f82"
      },
      "source": [
        "#hide\n",
        "#%%time\n",
        "\n",
        "url = 'https://data.ontario.ca/dataset/f4112442-bdc8-45d2-be3c-12efae72fb27/resource/455fd63b-603d-4608-8216-7d8647f43350/download/conposcovidloc.csv'\n",
        "url_2 = 'https://data.ontario.ca/dataset/f4f86e54-872d-43f8-8a86-3892fd3cb5e6/resource/ed270bb8-340b-41f9-a7c6-e8ef587e6d11/download/covidtesting.csv'\n",
        "url_3 = 'https://data.ontario.ca/dataset/f4f86e54-872d-43f8-8a86-3892fd3cb5e6/resource/8a88fe6d-d8fb-41a3-9d04-f0550a44999f/download/daily_change_in_cases_by_phu.csv'\n",
        "\n",
        "#geo = gpd.read_file('https://data.ontario.ca/dataset/f4112442-bdc8-45d2-be3c-12efae72fb27/resource/4f39b02b-47fe-4e66-95b6-e6da879c6910/download/conposcovidloc.geojson') \n",
        "\n",
        "src_conpos = pd.read_csv(url, index_col=0, parse_dates=['Accurate_Episode_Date', 'Case_Reported_Date', 'Test_Reported_Date', 'Specimen_Date']).reset_index()\n",
        "src_testing = pd.read_csv(url_2, index_col=0, parse_dates=['Reported Date']).reset_index()\n",
        "src_daily = pd.read_csv(url_3, index_col=0, parse_dates=['Date']).reset_index()\n",
        "\n",
        "# duplicate entry for December 5th, 2020 causing error\n",
        "src_testing.drop_duplicates(inplace=True)\n",
        "\n",
        "refreshtime = datetime.now()\n",
        "cached=False\n",
        "\n",
        "print('Source files successfully loaded.')"
      ],
      "execution_count": 2,
      "outputs": [
        {
          "output_type": "stream",
          "text": [
            "Source files successfully loaded.\n"
          ],
          "name": "stdout"
        }
      ]
    },
    {
      "cell_type": "code",
      "metadata": {
        "id": "eq0ycIeZjwgY",
        "colab": {
          "base_uri": "https://localhost:8080/",
          "height": 35
        },
        "outputId": "cd6186ca-6650-40b6-acdd-949da3489e18"
      },
      "source": [
        "#hide\n",
        "last_date = src_testing['Reported Date'].max()\n",
        "init_date = src_conpos['Accurate_Episode_Date'].min()\n",
        "display(HTML(\"Ontario data set last updated on: \" + last_date.strftime(\"%x\")))"
      ],
      "execution_count": 3,
      "outputs": [
        {
          "output_type": "display_data",
          "data": {
            "text/html": [
              "Ontario data set last updated on: 02/26/21"
            ],
            "text/plain": [
              "<IPython.core.display.HTML object>"
            ]
          },
          "metadata": {
            "tags": []
          }
        }
      ]
    },
    {
      "cell_type": "code",
      "metadata": {
        "colab": {
          "base_uri": "https://localhost:8080/",
          "height": 209
        },
        "id": "c68XFe3ziLrH",
        "outputId": "af86e83c-5e77-4f0c-93ed-616125743a15"
      },
      "source": [
        "#hide_input\n",
        "src_testing[src_testing['Confirmed Negative'] > 0].tail() # no confirmed negatives after March 29th 2020\n",
        "\n",
        "testing_latest = src_testing[src_testing['Reported Date'] == src_testing['Reported Date'].max()]\n",
        "\n",
        "# get the previous day results\n",
        "testing_delta1 = src_testing[src_testing['Reported Date'] == src_testing['Reported Date'].max() - timedelta(days=1)]\n",
        "\n",
        "# get the daily percentage +/-\n",
        "dailypct = src_testing.join(src_testing[['Total Cases', 'Resolved', 'Confirmed Positive', 'Deaths']].pct_change().add_suffix('_pct'))\n",
        "\n",
        "dailypct = dailypct[dailypct['Reported Date'] == dailypct['Reported Date'].max()]\n",
        "\n",
        "# apply a percentage format; conventional formatting method throws an error\n",
        "def percentage_delta(raw):\n",
        "  # pctfmt = raw.map('{:+.2%}'.format)\n",
        "  # split = str(pctfmt).split()\n",
        "  formatted_pct = str(raw.map('{:+.2%}'.format)).split()[1]\n",
        "  return formatted_pct\n",
        "\n",
        "# original background colour code: #504e4e, secondary: #585858\n",
        "\n",
        "display(HTML(\n",
        "    \n",
        "    \"<div id='number-plate' style = 'background-color: #ececec; padding: 30px; text-align: center; marginTop: 1%; marginBottom: 1%;'>\" +\n",
        "\n",
        "    \"<p style='color: black; font-size: 32px'> Ontario Covid-19 Cases to Date</p>\"\n",
        "    \n",
        "    \"<div id='confirmed' style = 'display: inline-block'> <span style='color: black; font-size: 23px;'> Confirmed: \" +\n",
        "    str('{:,.0f}'.format(int(testing_latest['Total Cases']))) + \"</span>\" + \n",
        "    \"<br> <span style='color: black; font-size:15px; '> \" + \n",
        "    str('{0:+,d}'.format(int(testing_latest['Total Cases']) - (int(testing_delta1['Total Cases'])))) +\n",
        "    ' (' + percentage_delta(dailypct['Total Cases_pct']) + ')' +\n",
        "    \"</span>\" + \n",
        "    \"</div>\" +\n",
        "\n",
        "    \"<div id='resolved' style = 'display: inline-block'> <span style='color: #228b22; font-size: 23px; margin-left: 20px;'> Resolved: \" + \n",
        "    str('{:,.0f}'.format(int(testing_latest['Resolved']))) + \"</span>\" + \n",
        "    \"<br> <span style='color: black; font-size:15px; '>\" + \n",
        "    str('{0:+,d}'.format(int(testing_latest['Resolved']) - (int(testing_delta1['Resolved'])))) +\n",
        "    ' (' + percentage_delta(dailypct['Resolved_pct']) + ')' +\n",
        "    \"</span>\" + \n",
        "    \"</div>\" +\n",
        "\n",
        "    \"<div id='active' style = 'display: inline-block'> <span style='color: orange; font-size: 23px; margin-left: 20px;'> Active: \" + \n",
        "    str('{:,.0f}'.format(int(testing_latest['Confirmed Positive']))) +\"</span>\" + \n",
        "    \"<br> <span style='color: black; font-size:15px; '>\" + \n",
        "    str('{0:+,d}'.format(int(testing_latest['Confirmed Positive']) - (int(testing_delta1['Confirmed Positive'])))) +\n",
        "    ' (' + percentage_delta(dailypct['Confirmed Positive_pct']) + ')' +\n",
        "    \"</span>\" + \n",
        "    \"</div>\" +\n",
        "\n",
        "    \"<div id='deaths' style = 'display: inline-block'> <span style='color: red; font-size: 23px; margin-left: 20px;'> Deaths: \" + \n",
        "    str('{:,.0f}'.format(int(testing_latest['Deaths']))) + \"</span>\" + \n",
        "    \"<br> <span style='color: black; font-size:15px; '>\" + \n",
        "    str('{0:+,d}'.format(int(testing_latest['Deaths']) - (int(testing_delta1['Deaths'])))) +\n",
        "    ' (' + percentage_delta(dailypct['Deaths_pct']) + ')' +\n",
        "    \"</span>\" + \n",
        "    \"</div>\" +\n",
        "\n",
        "    \"<br><div id='rates' style = 'display: block; marginTop: 1%;'> \" +\n",
        "\n",
        "    \"<div id='deathrate' style = 'display: inline-block'> <span style='color: black;'> Current Death Rate: \" +\n",
        "    \"</span>\" +\n",
        "    \"<span style = 'color: red'>\" +\n",
        "    str((testing_latest['Deaths'] / testing_latest['Total Cases']).map('{:.2%}'.format)).split()[1] + \n",
        "    \"</span>\" +\n",
        "    \"</div>\" +\n",
        "\n",
        "    \"<div id='survivalrate' style = 'display:inline-block'> <span style='color: black; margin-left: 20px;'> Current Survival Rate: \" + \n",
        "    \"</span>\" +\n",
        "    \"<span style = 'color: #228b22'>\" +\n",
        "    str(((testing_latest['Total Cases'] - testing_latest['Deaths']) / testing_latest['Total Cases']).map('{:.2%}'.format)).split()[1] + \n",
        "    \"</span>\" +\n",
        "    \"</div>\" +\n",
        "\n",
        "    \"</div>\" +\n",
        "\n",
        "    \"<span style='color: black; font-size: 11px;'> Ontario data last updated: \" + \n",
        "    str(testing_latest['Reported Date'].max().strftime('%Y-%m-%d')) + \", Refreshed on: \" + datetime.now(pytz.timezone('America/New_York') ).strftime(\"%Y-%m-%d at %H:%M\") +\n",
        "    \"</span>\" +\n",
        "\n",
        "    \"</div>\"\n",
        "    \n",
        "    ))"
      ],
      "execution_count": 4,
      "outputs": [
        {
          "output_type": "display_data",
          "data": {
            "text/html": [
              "<div id='number-plate' style = 'background-color: #ececec; padding: 30px; text-align: center; marginTop: 1%; marginBottom: 1%;'><p style='color: black; font-size: 32px'> Ontario Covid-19 Cases to Date</p><div id='confirmed' style = 'display: inline-block'> <span style='color: black; font-size: 23px;'> Confirmed: 298,569</span><br> <span style='color: black; font-size:15px; '> +1,258 (+0.42%)</span></div><div id='resolved' style = 'display: inline-block'> <span style='color: #228b22; font-size: 23px; margin-left: 20px;'> Resolved: 281,331</span><br> <span style='color: black; font-size:15px; '>+1,007 (+0.36%)</span></div><div id='active' style = 'display: inline-block'> <span style='color: orange; font-size: 23px; margin-left: 20px;'> Active: 10,294</span><br> <span style='color: black; font-size:15px; '>+223 (+2.21%)</span></div><div id='deaths' style = 'display: inline-block'> <span style='color: red; font-size: 23px; margin-left: 20px;'> Deaths: 6,944</span><br> <span style='color: black; font-size:15px; '>+28 (+0.40%)</span></div><br><div id='rates' style = 'display: block; marginTop: 1%;'> <div id='deathrate' style = 'display: inline-block'> <span style='color: black;'> Current Death Rate: </span><span style = 'color: red'>2.33%</span></div><div id='survivalrate' style = 'display:inline-block'> <span style='color: black; margin-left: 20px;'> Current Survival Rate: </span><span style = 'color: #228b22'>97.67%</span></div></div><span style='color: black; font-size: 11px;'> Ontario data last updated: 2021-02-26, Refreshed on: 2021-02-26 at 20:53</span></div>"
            ],
            "text/plain": [
              "<IPython.core.display.HTML object>"
            ]
          },
          "metadata": {
            "tags": []
          }
        }
      ]
    },
    {
      "cell_type": "markdown",
      "metadata": {
        "id": "nWq77VdaFwL-"
      },
      "source": [
        "# Deaths"
      ]
    },
    {
      "cell_type": "markdown",
      "metadata": {
        "id": "fF52E_s1F3B7"
      },
      "source": [
        "## Overview of Fatalities by Age Group"
      ]
    },
    {
      "cell_type": "code",
      "metadata": {
        "colab": {
          "base_uri": "https://localhost:8080/",
          "height": 247
        },
        "id": "HYIhzUWnJ8dL",
        "outputId": "bf137ad5-e925-4e37-cf00-c7d2ada9ff56"
      },
      "source": [
        "#hide_input\n",
        "\n",
        "df_deaths = src_conpos[src_conpos['Outcome1'] == 'Fatal'].groupby(['Age_Group']).count()[\"Row_ID\"] \\\n",
        ".reset_index().iloc[:,[0,1]].rename(columns={'Row_ID': 'Deaths'})\n",
        "\n",
        "df_res = src_conpos[src_conpos['Outcome1'] == 'Resolved'].groupby(['Age_Group']).count()[\"Row_ID\"] \\\n",
        ".reset_index().iloc[:,[0,1]].rename(columns={'Row_ID': 'Resolved'})\n",
        "\n",
        "df_nres = src_conpos[src_conpos['Outcome1'] == 'Not Resolved'].groupby(['Age_Group']).count()[\"Row_ID\"] \\\n",
        ".reset_index().iloc[:,[0,1]].rename(columns={'Row_ID': 'Not Resolved'})\n",
        "\n",
        "# merge dataframes together and clean up\n",
        "\n",
        "df_age = df_deaths.merge(df_res, on='Age_Group').merge(df_nres, on='Age_Group').replace('<20', '0-19') \\\n",
        ".rename(columns={'Age_Group': 'Age Group'}).sort_values('Age Group')\n",
        "\n",
        "del [df_deaths, df_res, df_nres]\n",
        "\n",
        "# include percentages\n",
        "df_age['Death Rate'] = (df_age['Deaths'] / (df_age['Resolved'] + df_age['Not Resolved']))\n",
        "df_age['Survival Rate'] = (1 - df_age['Death Rate'])\n",
        "\n",
        "x = df_age \\\n",
        ".drop(columns=['Resolved', 'Not Resolved']) \\\n",
        ".style.format({\"Death Rate\": \"{:.2%}\",\n",
        "                     \"Survival Rate\": \"{:.2%}\"}) \\\n",
        "                     .background_gradient(cmap='Reds', subset=['Deaths', 'Death Rate']) \\\n",
        "                     .background_gradient(cmap='Greens', subset=['Survival Rate']) \\\n",
        "                     .hide_index()\n",
        "\n",
        "x.set_properties(**{'text-align': 'center'}).hide_index()"
      ],
      "execution_count": 5,
      "outputs": [
        {
          "output_type": "execute_result",
          "data": {
            "text/html": [
              "<style  type=\"text/css\" >\n",
              "#T_9af0e774_789e_11eb_ae97_0242ac1c0002row0_col0,#T_9af0e774_789e_11eb_ae97_0242ac1c0002row1_col0,#T_9af0e774_789e_11eb_ae97_0242ac1c0002row2_col0,#T_9af0e774_789e_11eb_ae97_0242ac1c0002row3_col0,#T_9af0e774_789e_11eb_ae97_0242ac1c0002row4_col0,#T_9af0e774_789e_11eb_ae97_0242ac1c0002row5_col0,#T_9af0e774_789e_11eb_ae97_0242ac1c0002row6_col0,#T_9af0e774_789e_11eb_ae97_0242ac1c0002row7_col0,#T_9af0e774_789e_11eb_ae97_0242ac1c0002row8_col0,#T_9af0e774_789e_11eb_ae97_0242ac1c0002row9_col0{\n",
              "            text-align:  center;\n",
              "        }#T_9af0e774_789e_11eb_ae97_0242ac1c0002row0_col1,#T_9af0e774_789e_11eb_ae97_0242ac1c0002row0_col2,#T_9af0e774_789e_11eb_ae97_0242ac1c0002row1_col1,#T_9af0e774_789e_11eb_ae97_0242ac1c0002row1_col2,#T_9af0e774_789e_11eb_ae97_0242ac1c0002row2_col2,#T_9af0e774_789e_11eb_ae97_0242ac1c0002row3_col2,#T_9af0e774_789e_11eb_ae97_0242ac1c0002row9_col1{\n",
              "            background-color:  #fff5f0;\n",
              "            color:  #000000;\n",
              "            text-align:  center;\n",
              "        }#T_9af0e774_789e_11eb_ae97_0242ac1c0002row0_col3,#T_9af0e774_789e_11eb_ae97_0242ac1c0002row1_col3,#T_9af0e774_789e_11eb_ae97_0242ac1c0002row2_col3,#T_9af0e774_789e_11eb_ae97_0242ac1c0002row3_col3{\n",
              "            background-color:  #00441b;\n",
              "            color:  #f1f1f1;\n",
              "            text-align:  center;\n",
              "        }#T_9af0e774_789e_11eb_ae97_0242ac1c0002row2_col1{\n",
              "            background-color:  #fff4ef;\n",
              "            color:  #000000;\n",
              "            text-align:  center;\n",
              "        }#T_9af0e774_789e_11eb_ae97_0242ac1c0002row3_col1{\n",
              "            background-color:  #fff2eb;\n",
              "            color:  #000000;\n",
              "            text-align:  center;\n",
              "        }#T_9af0e774_789e_11eb_ae97_0242ac1c0002row4_col1{\n",
              "            background-color:  #fee7db;\n",
              "            color:  #000000;\n",
              "            text-align:  center;\n",
              "        }#T_9af0e774_789e_11eb_ae97_0242ac1c0002row4_col2{\n",
              "            background-color:  #fff3ed;\n",
              "            color:  #000000;\n",
              "            text-align:  center;\n",
              "        }#T_9af0e774_789e_11eb_ae97_0242ac1c0002row4_col3{\n",
              "            background-color:  #00481d;\n",
              "            color:  #f1f1f1;\n",
              "            text-align:  center;\n",
              "        }#T_9af0e774_789e_11eb_ae97_0242ac1c0002row5_col1,#T_9af0e774_789e_11eb_ae97_0242ac1c0002row6_col2{\n",
              "            background-color:  #fcc1a8;\n",
              "            color:  #000000;\n",
              "            text-align:  center;\n",
              "        }#T_9af0e774_789e_11eb_ae97_0242ac1c0002row5_col2{\n",
              "            background-color:  #ffece4;\n",
              "            color:  #000000;\n",
              "            text-align:  center;\n",
              "        }#T_9af0e774_789e_11eb_ae97_0242ac1c0002row5_col3{\n",
              "            background-color:  #005522;\n",
              "            color:  #f1f1f1;\n",
              "            text-align:  center;\n",
              "        }#T_9af0e774_789e_11eb_ae97_0242ac1c0002row6_col1{\n",
              "            background-color:  #fa6547;\n",
              "            color:  #000000;\n",
              "            text-align:  center;\n",
              "        }#T_9af0e774_789e_11eb_ae97_0242ac1c0002row6_col3{\n",
              "            background-color:  #1e8741;\n",
              "            color:  #000000;\n",
              "            text-align:  center;\n",
              "        }#T_9af0e774_789e_11eb_ae97_0242ac1c0002row7_col1,#T_9af0e774_789e_11eb_ae97_0242ac1c0002row8_col2{\n",
              "            background-color:  #67000d;\n",
              "            color:  #f1f1f1;\n",
              "            text-align:  center;\n",
              "        }#T_9af0e774_789e_11eb_ae97_0242ac1c0002row7_col2{\n",
              "            background-color:  #f03f2e;\n",
              "            color:  #f1f1f1;\n",
              "            text-align:  center;\n",
              "        }#T_9af0e774_789e_11eb_ae97_0242ac1c0002row7_col3{\n",
              "            background-color:  #9ed798;\n",
              "            color:  #000000;\n",
              "            text-align:  center;\n",
              "        }#T_9af0e774_789e_11eb_ae97_0242ac1c0002row8_col1{\n",
              "            background-color:  #a81016;\n",
              "            color:  #f1f1f1;\n",
              "            text-align:  center;\n",
              "        }#T_9af0e774_789e_11eb_ae97_0242ac1c0002row8_col3{\n",
              "            background-color:  #f7fcf5;\n",
              "            color:  #000000;\n",
              "            text-align:  center;\n",
              "        }#T_9af0e774_789e_11eb_ae97_0242ac1c0002row9_col2{\n",
              "            background-color:  #ffefe8;\n",
              "            color:  #000000;\n",
              "            text-align:  center;\n",
              "        }#T_9af0e774_789e_11eb_ae97_0242ac1c0002row9_col3{\n",
              "            background-color:  #005020;\n",
              "            color:  #f1f1f1;\n",
              "            text-align:  center;\n",
              "        }</style><table id=\"T_9af0e774_789e_11eb_ae97_0242ac1c0002\" ><thead>    <tr>        <th class=\"col_heading level0 col0\" >Age Group</th>        <th class=\"col_heading level0 col1\" >Deaths</th>        <th class=\"col_heading level0 col2\" >Death Rate</th>        <th class=\"col_heading level0 col3\" >Survival Rate</th>    </tr></thead><tbody>\n",
              "                <tr>\n",
              "                                <td id=\"T_9af0e774_789e_11eb_ae97_0242ac1c0002row0_col0\" class=\"data row0 col0\" >0-19</td>\n",
              "                        <td id=\"T_9af0e774_789e_11eb_ae97_0242ac1c0002row0_col1\" class=\"data row0 col1\" >2</td>\n",
              "                        <td id=\"T_9af0e774_789e_11eb_ae97_0242ac1c0002row0_col2\" class=\"data row0 col2\" >0.01%</td>\n",
              "                        <td id=\"T_9af0e774_789e_11eb_ae97_0242ac1c0002row0_col3\" class=\"data row0 col3\" >99.99%</td>\n",
              "            </tr>\n",
              "            <tr>\n",
              "                                <td id=\"T_9af0e774_789e_11eb_ae97_0242ac1c0002row1_col0\" class=\"data row1 col0\" >20s</td>\n",
              "                        <td id=\"T_9af0e774_789e_11eb_ae97_0242ac1c0002row1_col1\" class=\"data row1 col1\" >9</td>\n",
              "                        <td id=\"T_9af0e774_789e_11eb_ae97_0242ac1c0002row1_col2\" class=\"data row1 col2\" >0.01%</td>\n",
              "                        <td id=\"T_9af0e774_789e_11eb_ae97_0242ac1c0002row1_col3\" class=\"data row1 col3\" >99.99%</td>\n",
              "            </tr>\n",
              "            <tr>\n",
              "                                <td id=\"T_9af0e774_789e_11eb_ae97_0242ac1c0002row2_col0\" class=\"data row2 col0\" >30s</td>\n",
              "                        <td id=\"T_9af0e774_789e_11eb_ae97_0242ac1c0002row2_col1\" class=\"data row2 col1\" >20</td>\n",
              "                        <td id=\"T_9af0e774_789e_11eb_ae97_0242ac1c0002row2_col2\" class=\"data row2 col2\" >0.04%</td>\n",
              "                        <td id=\"T_9af0e774_789e_11eb_ae97_0242ac1c0002row2_col3\" class=\"data row2 col3\" >99.96%</td>\n",
              "            </tr>\n",
              "            <tr>\n",
              "                                <td id=\"T_9af0e774_789e_11eb_ae97_0242ac1c0002row3_col0\" class=\"data row3 col0\" >40s</td>\n",
              "                        <td id=\"T_9af0e774_789e_11eb_ae97_0242ac1c0002row3_col1\" class=\"data row3 col1\" >57</td>\n",
              "                        <td id=\"T_9af0e774_789e_11eb_ae97_0242ac1c0002row3_col2\" class=\"data row3 col2\" >0.13%</td>\n",
              "                        <td id=\"T_9af0e774_789e_11eb_ae97_0242ac1c0002row3_col3\" class=\"data row3 col3\" >99.87%</td>\n",
              "            </tr>\n",
              "            <tr>\n",
              "                                <td id=\"T_9af0e774_789e_11eb_ae97_0242ac1c0002row4_col0\" class=\"data row4 col0\" >50s</td>\n",
              "                        <td id=\"T_9af0e774_789e_11eb_ae97_0242ac1c0002row4_col1\" class=\"data row4 col1\" >223</td>\n",
              "                        <td id=\"T_9af0e774_789e_11eb_ae97_0242ac1c0002row4_col2\" class=\"data row4 col2\" >0.51%</td>\n",
              "                        <td id=\"T_9af0e774_789e_11eb_ae97_0242ac1c0002row4_col3\" class=\"data row4 col3\" >99.49%</td>\n",
              "            </tr>\n",
              "            <tr>\n",
              "                                <td id=\"T_9af0e774_789e_11eb_ae97_0242ac1c0002row5_col0\" class=\"data row5 col0\" >60s</td>\n",
              "                        <td id=\"T_9af0e774_789e_11eb_ae97_0242ac1c0002row5_col1\" class=\"data row5 col1\" >594</td>\n",
              "                        <td id=\"T_9af0e774_789e_11eb_ae97_0242ac1c0002row5_col2\" class=\"data row5 col2\" >2.17%</td>\n",
              "                        <td id=\"T_9af0e774_789e_11eb_ae97_0242ac1c0002row5_col3\" class=\"data row5 col3\" >97.83%</td>\n",
              "            </tr>\n",
              "            <tr>\n",
              "                                <td id=\"T_9af0e774_789e_11eb_ae97_0242ac1c0002row6_col0\" class=\"data row6 col0\" >70s</td>\n",
              "                        <td id=\"T_9af0e774_789e_11eb_ae97_0242ac1c0002row6_col1\" class=\"data row6 col1\" >1303</td>\n",
              "                        <td id=\"T_9af0e774_789e_11eb_ae97_0242ac1c0002row6_col2\" class=\"data row6 col2\" >9.54%</td>\n",
              "                        <td id=\"T_9af0e774_789e_11eb_ae97_0242ac1c0002row6_col3\" class=\"data row6 col3\" >90.46%</td>\n",
              "            </tr>\n",
              "            <tr>\n",
              "                                <td id=\"T_9af0e774_789e_11eb_ae97_0242ac1c0002row7_col0\" class=\"data row7 col0\" >80s</td>\n",
              "                        <td id=\"T_9af0e774_789e_11eb_ae97_0242ac1c0002row7_col1\" class=\"data row7 col1\" >2538</td>\n",
              "                        <td id=\"T_9af0e774_789e_11eb_ae97_0242ac1c0002row7_col2\" class=\"data row7 col2\" >25.18%</td>\n",
              "                        <td id=\"T_9af0e774_789e_11eb_ae97_0242ac1c0002row7_col3\" class=\"data row7 col3\" >74.82%</td>\n",
              "            </tr>\n",
              "            <tr>\n",
              "                                <td id=\"T_9af0e774_789e_11eb_ae97_0242ac1c0002row8_col0\" class=\"data row8 col0\" >90+</td>\n",
              "                        <td id=\"T_9af0e774_789e_11eb_ae97_0242ac1c0002row8_col1\" class=\"data row8 col1\" >2197</td>\n",
              "                        <td id=\"T_9af0e774_789e_11eb_ae97_0242ac1c0002row8_col2\" class=\"data row8 col2\" >41.04%</td>\n",
              "                        <td id=\"T_9af0e774_789e_11eb_ae97_0242ac1c0002row8_col3\" class=\"data row8 col3\" >58.96%</td>\n",
              "            </tr>\n",
              "            <tr>\n",
              "                                <td id=\"T_9af0e774_789e_11eb_ae97_0242ac1c0002row9_col0\" class=\"data row9 col0\" >UNKNOWN</td>\n",
              "                        <td id=\"T_9af0e774_789e_11eb_ae97_0242ac1c0002row9_col1\" class=\"data row9 col1\" >1</td>\n",
              "                        <td id=\"T_9af0e774_789e_11eb_ae97_0242ac1c0002row9_col2\" class=\"data row9 col2\" >1.59%</td>\n",
              "                        <td id=\"T_9af0e774_789e_11eb_ae97_0242ac1c0002row9_col3\" class=\"data row9 col3\" >98.41%</td>\n",
              "            </tr>\n",
              "    </tbody></table>"
            ],
            "text/plain": [
              "<pandas.io.formats.style.Styler at 0x7f9166721650>"
            ]
          },
          "metadata": {
            "tags": []
          },
          "execution_count": 5
        }
      ]
    },
    {
      "cell_type": "code",
      "metadata": {
        "colab": {
          "base_uri": "https://localhost:8080/",
          "height": 542
        },
        "id": "olh1iT_4FpOI",
        "outputId": "089fec7a-b6af-42f6-a3ab-22717deec0f6"
      },
      "source": [
        "#hide_input\n",
        "\n",
        "df_deathts = src_conpos[src_conpos['Outcome1'] == 'Fatal'].groupby(['Case_Reported_Date', 'Age_Group']).count()['Row_ID'] \\\n",
        ".reset_index().rename(columns={\"Row_ID\": \"Cases\"})\n",
        "\n",
        "fig_deaths = px.bar(df_deathts,\n",
        "                    y='Cases',\n",
        "                    x='Case_Reported_Date',\n",
        "                    color='Age_Group',\n",
        "                    labels={\"Case_Reported_Date\" : \"Reported Date\", \"Age_Group\" : \"Age Group\", \"Cases\" : \"Deaths\"},\n",
        "                    color_discrete_sequence=px.colors.qualitative.Set2,\n",
        "                    title = \"Ontario Covid-19 Deaths by Age Group\"\n",
        ")\n",
        "\n",
        "fig_deaths.show()"
      ],
      "execution_count": 6,
      "outputs": [
        {
          "output_type": "display_data",
          "data": {
            "text/html": [
              "<html>\n",
              "<head><meta charset=\"utf-8\" /></head>\n",
              "<body>\n",
              "    <div>\n",
              "            <script src=\"https://cdnjs.cloudflare.com/ajax/libs/mathjax/2.7.5/MathJax.js?config=TeX-AMS-MML_SVG\"></script><script type=\"text/javascript\">if (window.MathJax) {MathJax.Hub.Config({SVG: {font: \"STIX-Web\"}});}</script>\n",
              "                <script type=\"text/javascript\">window.PlotlyConfig = {MathJaxConfig: 'local'};</script>\n",
              "        <script src=\"https://cdn.plot.ly/plotly-latest.min.js\"></script>    \n",
              "            <div id=\"dd274f93-465c-4f6f-9ebc-720b89222422\" class=\"plotly-graph-div\" style=\"height:525px; width:100%;\"></div>\n",
              "            <script type=\"text/javascript\">\n",
              "                \n",
              "                    window.PLOTLYENV=window.PLOTLYENV || {};\n",
              "                    \n",
              "                if (document.getElementById(\"dd274f93-465c-4f6f-9ebc-720b89222422\")) {\n",
              "                    Plotly.newPlot(\n",
              "                        'dd274f93-465c-4f6f-9ebc-720b89222422',\n",
              "                        [{\"alignmentgroup\": \"True\", \"hoverlabel\": {\"namelength\": 0}, \"hovertemplate\": \"Age Group=80s<br>Reported Date=%{x}<br>Deaths=%{y}\", \"legendgroup\": \"Age Group=80s\", \"marker\": {\"color\": \"rgb(102,194,165)\"}, \"name\": \"Age Group=80s\", \"offsetgroup\": \"Age Group=80s\", \"orientation\": \"v\", \"showlegend\": true, \"textposition\": \"auto\", \"type\": \"bar\", \"x\": [\"2020-03-08T00:00:00\", \"2020-03-12T00:00:00\", \"2020-03-17T00:00:00\", \"2020-03-18T00:00:00\", \"2020-03-20T00:00:00\", \"2020-03-21T00:00:00\", \"2020-03-23T00:00:00\", \"2020-03-24T00:00:00\", \"2020-03-25T00:00:00\", \"2020-03-26T00:00:00\", \"2020-03-27T00:00:00\", \"2020-03-28T00:00:00\", \"2020-03-29T00:00:00\", \"2020-03-30T00:00:00\", \"2020-03-31T00:00:00\", \"2020-04-01T00:00:00\", \"2020-04-02T00:00:00\", \"2020-04-03T00:00:00\", \"2020-04-04T00:00:00\", \"2020-04-05T00:00:00\", \"2020-04-06T00:00:00\", \"2020-04-07T00:00:00\", \"2020-04-08T00:00:00\", \"2020-04-09T00:00:00\", \"2020-04-10T00:00:00\", \"2020-04-11T00:00:00\", \"2020-04-12T00:00:00\", \"2020-04-13T00:00:00\", \"2020-04-14T00:00:00\", \"2020-04-15T00:00:00\", \"2020-04-16T00:00:00\", \"2020-04-17T00:00:00\", \"2020-04-18T00:00:00\", \"2020-04-19T00:00:00\", \"2020-04-20T00:00:00\", \"2020-04-21T00:00:00\", \"2020-04-22T00:00:00\", \"2020-04-23T00:00:00\", \"2020-04-24T00:00:00\", \"2020-04-25T00:00:00\", \"2020-04-26T00:00:00\", \"2020-04-27T00:00:00\", \"2020-04-28T00:00:00\", \"2020-04-29T00:00:00\", \"2020-04-30T00:00:00\", \"2020-05-01T00:00:00\", \"2020-05-02T00:00:00\", \"2020-05-03T00:00:00\", \"2020-05-04T00:00:00\", \"2020-05-05T00:00:00\", \"2020-05-06T00:00:00\", \"2020-05-07T00:00:00\", \"2020-05-08T00:00:00\", \"2020-05-09T00:00:00\", \"2020-05-10T00:00:00\", \"2020-05-11T00:00:00\", \"2020-05-12T00:00:00\", \"2020-05-13T00:00:00\", \"2020-05-14T00:00:00\", \"2020-05-15T00:00:00\", \"2020-05-16T00:00:00\", \"2020-05-17T00:00:00\", \"2020-05-18T00:00:00\", \"2020-05-19T00:00:00\", \"2020-05-20T00:00:00\", \"2020-05-21T00:00:00\", \"2020-05-22T00:00:00\", \"2020-05-23T00:00:00\", \"2020-05-24T00:00:00\", \"2020-05-25T00:00:00\", \"2020-05-26T00:00:00\", \"2020-05-27T00:00:00\", \"2020-05-28T00:00:00\", \"2020-05-29T00:00:00\", \"2020-05-30T00:00:00\", \"2020-05-31T00:00:00\", \"2020-06-01T00:00:00\", \"2020-06-02T00:00:00\", \"2020-06-03T00:00:00\", \"2020-06-04T00:00:00\", \"2020-06-05T00:00:00\", \"2020-06-06T00:00:00\", \"2020-06-08T00:00:00\", \"2020-06-09T00:00:00\", \"2020-06-10T00:00:00\", \"2020-06-11T00:00:00\", \"2020-06-12T00:00:00\", \"2020-06-13T00:00:00\", \"2020-06-15T00:00:00\", \"2020-06-16T00:00:00\", \"2020-06-17T00:00:00\", \"2020-06-18T00:00:00\", \"2020-06-19T00:00:00\", \"2020-06-21T00:00:00\", \"2020-06-23T00:00:00\", \"2020-06-25T00:00:00\", \"2020-06-26T00:00:00\", \"2020-06-27T00:00:00\", \"2020-06-28T00:00:00\", \"2020-07-02T00:00:00\", \"2020-07-07T00:00:00\", \"2020-07-08T00:00:00\", \"2020-07-10T00:00:00\", \"2020-07-16T00:00:00\", \"2020-07-22T00:00:00\", \"2020-07-26T00:00:00\", \"2020-07-27T00:00:00\", \"2020-07-29T00:00:00\", \"2020-08-23T00:00:00\", \"2020-08-26T00:00:00\", \"2020-09-04T00:00:00\", \"2020-09-05T00:00:00\", \"2020-09-06T00:00:00\", \"2020-09-07T00:00:00\", \"2020-09-11T00:00:00\", \"2020-09-12T00:00:00\", \"2020-09-15T00:00:00\", \"2020-09-16T00:00:00\", \"2020-09-18T00:00:00\", \"2020-09-19T00:00:00\", \"2020-09-21T00:00:00\", \"2020-09-22T00:00:00\", \"2020-09-23T00:00:00\", \"2020-09-24T00:00:00\", \"2020-09-25T00:00:00\", \"2020-09-26T00:00:00\", \"2020-09-27T00:00:00\", \"2020-09-29T00:00:00\", \"2020-09-30T00:00:00\", \"2020-10-01T00:00:00\", \"2020-10-02T00:00:00\", \"2020-10-03T00:00:00\", \"2020-10-04T00:00:00\", \"2020-10-05T00:00:00\", \"2020-10-06T00:00:00\", \"2020-10-07T00:00:00\", \"2020-10-08T00:00:00\", \"2020-10-09T00:00:00\", \"2020-10-10T00:00:00\", \"2020-10-11T00:00:00\", \"2020-10-12T00:00:00\", \"2020-10-13T00:00:00\", \"2020-10-14T00:00:00\", \"2020-10-15T00:00:00\", \"2020-10-16T00:00:00\", \"2020-10-17T00:00:00\", \"2020-10-18T00:00:00\", \"2020-10-19T00:00:00\", \"2020-10-20T00:00:00\", \"2020-10-21T00:00:00\", \"2020-10-22T00:00:00\", \"2020-10-23T00:00:00\", \"2020-10-24T00:00:00\", \"2020-10-25T00:00:00\", \"2020-10-26T00:00:00\", \"2020-10-27T00:00:00\", \"2020-10-28T00:00:00\", \"2020-10-29T00:00:00\", \"2020-10-30T00:00:00\", \"2020-10-31T00:00:00\", \"2020-11-01T00:00:00\", \"2020-11-02T00:00:00\", \"2020-11-03T00:00:00\", \"2020-11-04T00:00:00\", \"2020-11-05T00:00:00\", \"2020-11-06T00:00:00\", \"2020-11-07T00:00:00\", \"2020-11-08T00:00:00\", \"2020-11-09T00:00:00\", \"2020-11-10T00:00:00\", \"2020-11-11T00:00:00\", \"2020-11-12T00:00:00\", \"2020-11-13T00:00:00\", \"2020-11-14T00:00:00\", \"2020-11-15T00:00:00\", \"2020-11-16T00:00:00\", \"2020-11-17T00:00:00\", \"2020-11-18T00:00:00\", \"2020-11-19T00:00:00\", \"2020-11-20T00:00:00\", \"2020-11-21T00:00:00\", \"2020-11-22T00:00:00\", \"2020-11-23T00:00:00\", \"2020-11-24T00:00:00\", \"2020-11-25T00:00:00\", \"2020-11-26T00:00:00\", \"2020-11-27T00:00:00\", \"2020-11-28T00:00:00\", \"2020-11-29T00:00:00\", \"2020-11-30T00:00:00\", \"2020-12-01T00:00:00\", \"2020-12-02T00:00:00\", \"2020-12-03T00:00:00\", \"2020-12-04T00:00:00\", \"2020-12-05T00:00:00\", \"2020-12-06T00:00:00\", \"2020-12-07T00:00:00\", \"2020-12-08T00:00:00\", \"2020-12-09T00:00:00\", \"2020-12-10T00:00:00\", \"2020-12-11T00:00:00\", \"2020-12-12T00:00:00\", \"2020-12-13T00:00:00\", \"2020-12-14T00:00:00\", \"2020-12-15T00:00:00\", \"2020-12-16T00:00:00\", \"2020-12-17T00:00:00\", \"2020-12-18T00:00:00\", \"2020-12-19T00:00:00\", \"2020-12-20T00:00:00\", \"2020-12-21T00:00:00\", \"2020-12-22T00:00:00\", \"2020-12-23T00:00:00\", \"2020-12-24T00:00:00\", \"2020-12-25T00:00:00\", \"2020-12-26T00:00:00\", \"2020-12-27T00:00:00\", \"2020-12-28T00:00:00\", \"2020-12-29T00:00:00\", \"2020-12-30T00:00:00\", \"2020-12-31T00:00:00\", \"2021-01-01T00:00:00\", \"2021-01-02T00:00:00\", \"2021-01-03T00:00:00\", \"2021-01-04T00:00:00\", \"2021-01-05T00:00:00\", \"2021-01-06T00:00:00\", \"2021-01-07T00:00:00\", \"2021-01-08T00:00:00\", \"2021-01-09T00:00:00\", \"2021-01-10T00:00:00\", \"2021-01-11T00:00:00\", \"2021-01-12T00:00:00\", \"2021-01-13T00:00:00\", \"2021-01-14T00:00:00\", \"2021-01-15T00:00:00\", \"2021-01-16T00:00:00\", \"2021-01-17T00:00:00\", \"2021-01-18T00:00:00\", \"2021-01-19T00:00:00\", \"2021-01-20T00:00:00\", \"2021-01-21T00:00:00\", \"2021-01-22T00:00:00\", \"2021-01-23T00:00:00\", \"2021-01-24T00:00:00\", \"2021-01-25T00:00:00\", \"2021-01-26T00:00:00\", \"2021-01-27T00:00:00\", \"2021-01-28T00:00:00\", \"2021-01-29T00:00:00\", \"2021-01-30T00:00:00\", \"2021-01-31T00:00:00\", \"2021-02-01T00:00:00\", \"2021-02-02T00:00:00\", \"2021-02-03T00:00:00\", \"2021-02-04T00:00:00\", \"2021-02-05T00:00:00\", \"2021-02-06T00:00:00\", \"2021-02-07T00:00:00\", \"2021-02-08T00:00:00\", \"2021-02-09T00:00:00\", \"2021-02-10T00:00:00\", \"2021-02-11T00:00:00\", \"2021-02-12T00:00:00\", \"2021-02-13T00:00:00\", \"2021-02-15T00:00:00\", \"2021-02-16T00:00:00\", \"2021-02-17T00:00:00\", \"2021-02-18T00:00:00\", \"2021-02-19T00:00:00\", \"2021-02-24T00:00:00\", \"2021-02-25T00:00:00\"], \"xaxis\": \"x\", \"y\": [1, 1, 1, 1, 1, 2, 3, 4, 3, 5, 7, 7, 9, 7, 8, 19, 17, 31, 12, 12, 28, 27, 25, 28, 31, 23, 33, 33, 23, 43, 31, 47, 25, 27, 24, 23, 19, 23, 17, 19, 12, 21, 17, 15, 16, 16, 11, 6, 7, 11, 14, 8, 6, 6, 16, 6, 11, 7, 7, 11, 7, 15, 6, 7, 8, 4, 7, 3, 3, 7, 5, 3, 3, 3, 2, 5, 3, 1, 3, 1, 2, 2, 3, 2, 2, 1, 1, 1, 2, 1, 1, 1, 1, 2, 1, 1, 2, 2, 1, 2, 3, 3, 1, 2, 1, 1, 1, 1, 1, 1, 2, 1, 2, 1, 1, 1, 1, 1, 4, 2, 2, 2, 2, 2, 2, 4, 1, 4, 2, 3, 2, 2, 2, 3, 2, 4, 2, 7, 1, 3, 1, 3, 3, 2, 5, 4, 3, 5, 4, 3, 9, 9, 4, 4, 3, 4, 6, 9, 8, 6, 3, 8, 13, 5, 8, 14, 6, 3, 8, 6, 6, 6, 7, 11, 3, 3, 12, 4, 7, 7, 7, 7, 10, 7, 11, 16, 12, 13, 5, 18, 15, 5, 8, 12, 11, 9, 6, 12, 13, 15, 13, 18, 13, 7, 14, 19, 21, 26, 17, 18, 18, 17, 13, 24, 18, 17, 13, 12, 18, 18, 18, 22, 18, 27, 15, 23, 18, 24, 16, 25, 32, 21, 27, 22, 11, 26, 14, 17, 17, 14, 21, 14, 19, 11, 12, 11, 9, 12, 11, 12, 6, 7, 8, 4, 6, 8, 8, 3, 2, 5, 2, 3, 4, 1, 4, 3, 1, 1, 3, 2, 2, 1], \"yaxis\": \"y\"}, {\"alignmentgroup\": \"True\", \"hoverlabel\": {\"namelength\": 0}, \"hovertemplate\": \"Age Group=60s<br>Reported Date=%{x}<br>Deaths=%{y}\", \"legendgroup\": \"Age Group=60s\", \"marker\": {\"color\": \"rgb(252,141,98)\"}, \"name\": \"Age Group=60s\", \"offsetgroup\": \"Age Group=60s\", \"orientation\": \"v\", \"showlegend\": true, \"textposition\": \"auto\", \"type\": \"bar\", \"x\": [\"2020-03-13T00:00:00\", \"2020-03-17T00:00:00\", \"2020-03-21T00:00:00\", \"2020-03-22T00:00:00\", \"2020-03-25T00:00:00\", \"2020-03-26T00:00:00\", \"2020-03-27T00:00:00\", \"2020-03-28T00:00:00\", \"2020-03-29T00:00:00\", \"2020-03-30T00:00:00\", \"2020-03-31T00:00:00\", \"2020-04-01T00:00:00\", \"2020-04-02T00:00:00\", \"2020-04-03T00:00:00\", \"2020-04-04T00:00:00\", \"2020-04-05T00:00:00\", \"2020-04-06T00:00:00\", \"2020-04-07T00:00:00\", \"2020-04-08T00:00:00\", \"2020-04-09T00:00:00\", \"2020-04-10T00:00:00\", \"2020-04-11T00:00:00\", \"2020-04-12T00:00:00\", \"2020-04-13T00:00:00\", \"2020-04-14T00:00:00\", \"2020-04-15T00:00:00\", \"2020-04-16T00:00:00\", \"2020-04-17T00:00:00\", \"2020-04-18T00:00:00\", \"2020-04-19T00:00:00\", \"2020-04-20T00:00:00\", \"2020-04-21T00:00:00\", \"2020-04-22T00:00:00\", \"2020-04-23T00:00:00\", \"2020-04-24T00:00:00\", \"2020-04-25T00:00:00\", \"2020-04-26T00:00:00\", \"2020-04-27T00:00:00\", \"2020-04-28T00:00:00\", \"2020-04-29T00:00:00\", \"2020-04-30T00:00:00\", \"2020-05-01T00:00:00\", \"2020-05-02T00:00:00\", \"2020-05-03T00:00:00\", \"2020-05-04T00:00:00\", \"2020-05-05T00:00:00\", \"2020-05-06T00:00:00\", \"2020-05-08T00:00:00\", \"2020-05-09T00:00:00\", \"2020-05-10T00:00:00\", \"2020-05-11T00:00:00\", \"2020-05-12T00:00:00\", \"2020-05-13T00:00:00\", \"2020-05-14T00:00:00\", \"2020-05-15T00:00:00\", \"2020-05-16T00:00:00\", \"2020-05-17T00:00:00\", \"2020-05-18T00:00:00\", \"2020-05-21T00:00:00\", \"2020-05-22T00:00:00\", \"2020-05-23T00:00:00\", \"2020-05-24T00:00:00\", \"2020-05-25T00:00:00\", \"2020-05-28T00:00:00\", \"2020-05-29T00:00:00\", \"2020-05-30T00:00:00\", \"2020-05-31T00:00:00\", \"2020-06-01T00:00:00\", \"2020-06-03T00:00:00\", \"2020-06-04T00:00:00\", \"2020-06-08T00:00:00\", \"2020-06-09T00:00:00\", \"2020-06-11T00:00:00\", \"2020-06-19T00:00:00\", \"2020-06-20T00:00:00\", \"2020-06-22T00:00:00\", \"2020-06-26T00:00:00\", \"2020-06-28T00:00:00\", \"2020-06-29T00:00:00\", \"2020-07-02T00:00:00\", \"2020-07-04T00:00:00\", \"2020-07-09T00:00:00\", \"2020-07-10T00:00:00\", \"2020-07-12T00:00:00\", \"2020-07-31T00:00:00\", \"2020-08-09T00:00:00\", \"2020-08-17T00:00:00\", \"2020-08-24T00:00:00\", \"2020-09-05T00:00:00\", \"2020-09-06T00:00:00\", \"2020-09-11T00:00:00\", \"2020-09-15T00:00:00\", \"2020-09-20T00:00:00\", \"2020-09-22T00:00:00\", \"2020-09-23T00:00:00\", \"2020-09-25T00:00:00\", \"2020-09-28T00:00:00\", \"2020-09-29T00:00:00\", \"2020-09-30T00:00:00\", \"2020-10-04T00:00:00\", \"2020-10-07T00:00:00\", \"2020-10-09T00:00:00\", \"2020-10-11T00:00:00\", \"2020-10-13T00:00:00\", \"2020-10-15T00:00:00\", \"2020-10-16T00:00:00\", \"2020-10-19T00:00:00\", \"2020-10-21T00:00:00\", \"2020-10-22T00:00:00\", \"2020-10-24T00:00:00\", \"2020-10-26T00:00:00\", \"2020-10-27T00:00:00\", \"2020-10-28T00:00:00\", \"2020-10-29T00:00:00\", \"2020-10-30T00:00:00\", \"2020-10-31T00:00:00\", \"2020-11-01T00:00:00\", \"2020-11-02T00:00:00\", \"2020-11-03T00:00:00\", \"2020-11-04T00:00:00\", \"2020-11-06T00:00:00\", \"2020-11-07T00:00:00\", \"2020-11-08T00:00:00\", \"2020-11-09T00:00:00\", \"2020-11-10T00:00:00\", \"2020-11-11T00:00:00\", \"2020-11-13T00:00:00\", \"2020-11-15T00:00:00\", \"2020-11-16T00:00:00\", \"2020-11-17T00:00:00\", \"2020-11-19T00:00:00\", \"2020-11-21T00:00:00\", \"2020-11-22T00:00:00\", \"2020-11-23T00:00:00\", \"2020-11-24T00:00:00\", \"2020-11-25T00:00:00\", \"2020-11-26T00:00:00\", \"2020-11-27T00:00:00\", \"2020-11-28T00:00:00\", \"2020-11-29T00:00:00\", \"2020-11-30T00:00:00\", \"2020-12-01T00:00:00\", \"2020-12-02T00:00:00\", \"2020-12-03T00:00:00\", \"2020-12-04T00:00:00\", \"2020-12-06T00:00:00\", \"2020-12-07T00:00:00\", \"2020-12-08T00:00:00\", \"2020-12-09T00:00:00\", \"2020-12-10T00:00:00\", \"2020-12-11T00:00:00\", \"2020-12-12T00:00:00\", \"2020-12-13T00:00:00\", \"2020-12-14T00:00:00\", \"2020-12-15T00:00:00\", \"2020-12-16T00:00:00\", \"2020-12-17T00:00:00\", \"2020-12-18T00:00:00\", \"2020-12-19T00:00:00\", \"2020-12-20T00:00:00\", \"2020-12-21T00:00:00\", \"2020-12-22T00:00:00\", \"2020-12-23T00:00:00\", \"2020-12-24T00:00:00\", \"2020-12-25T00:00:00\", \"2020-12-26T00:00:00\", \"2020-12-27T00:00:00\", \"2020-12-28T00:00:00\", \"2020-12-29T00:00:00\", \"2020-12-30T00:00:00\", \"2020-12-31T00:00:00\", \"2021-01-01T00:00:00\", \"2021-01-02T00:00:00\", \"2021-01-03T00:00:00\", \"2021-01-04T00:00:00\", \"2021-01-05T00:00:00\", \"2021-01-06T00:00:00\", \"2021-01-07T00:00:00\", \"2021-01-08T00:00:00\", \"2021-01-09T00:00:00\", \"2021-01-10T00:00:00\", \"2021-01-11T00:00:00\", \"2021-01-12T00:00:00\", \"2021-01-13T00:00:00\", \"2021-01-14T00:00:00\", \"2021-01-15T00:00:00\", \"2021-01-16T00:00:00\", \"2021-01-17T00:00:00\", \"2021-01-18T00:00:00\", \"2021-01-19T00:00:00\", \"2021-01-20T00:00:00\", \"2021-01-21T00:00:00\", \"2021-01-23T00:00:00\", \"2021-01-25T00:00:00\", \"2021-01-26T00:00:00\", \"2021-01-27T00:00:00\", \"2021-01-28T00:00:00\", \"2021-01-29T00:00:00\", \"2021-01-30T00:00:00\", \"2021-01-31T00:00:00\", \"2021-02-01T00:00:00\", \"2021-02-02T00:00:00\", \"2021-02-08T00:00:00\", \"2021-02-09T00:00:00\", \"2021-02-12T00:00:00\", \"2021-02-14T00:00:00\", \"2021-02-15T00:00:00\", \"2021-02-19T00:00:00\"], \"xaxis\": \"x\", \"y\": [1, 1, 2, 1, 1, 3, 4, 2, 5, 1, 4, 3, 5, 5, 4, 5, 6, 5, 1, 5, 5, 5, 4, 7, 6, 6, 5, 7, 9, 2, 7, 4, 5, 4, 5, 10, 2, 4, 4, 7, 5, 8, 2, 2, 3, 3, 1, 1, 1, 3, 3, 1, 1, 7, 4, 1, 2, 2, 2, 2, 2, 1, 2, 2, 3, 2, 2, 3, 1, 1, 2, 1, 3, 1, 1, 1, 1, 1, 2, 1, 1, 1, 1, 1, 1, 1, 1, 1, 1, 1, 1, 2, 1, 1, 1, 1, 1, 1, 5, 1, 2, 1, 1, 1, 1, 1, 4, 1, 1, 1, 1, 2, 2, 1, 2, 1, 1, 3, 1, 1, 1, 2, 1, 3, 4, 2, 2, 2, 3, 2, 2, 2, 1, 2, 1, 2, 3, 5, 4, 2, 1, 1, 5, 4, 3, 3, 2, 4, 1, 3, 5, 2, 5, 3, 1, 5, 6, 4, 3, 4, 3, 1, 4, 2, 3, 4, 3, 6, 3, 5, 7, 2, 9, 8, 3, 6, 4, 8, 5, 7, 1, 3, 3, 2, 6, 4, 7, 2, 6, 4, 2, 5, 2, 3, 1, 2, 2, 4, 2, 2, 2, 2, 3, 1, 2, 1, 1, 2], \"yaxis\": \"y\"}, {\"alignmentgroup\": \"True\", \"hoverlabel\": {\"namelength\": 0}, \"hovertemplate\": \"Age Group=70s<br>Reported Date=%{x}<br>Deaths=%{y}\", \"legendgroup\": \"Age Group=70s\", \"marker\": {\"color\": \"rgb(141,160,203)\"}, \"name\": \"Age Group=70s\", \"offsetgroup\": \"Age Group=70s\", \"orientation\": \"v\", \"showlegend\": true, \"textposition\": \"auto\", \"type\": \"bar\", \"x\": [\"2020-03-13T00:00:00\", \"2020-03-16T00:00:00\", \"2020-03-19T00:00:00\", \"2020-03-20T00:00:00\", \"2020-03-21T00:00:00\", \"2020-03-22T00:00:00\", \"2020-03-23T00:00:00\", \"2020-03-24T00:00:00\", \"2020-03-25T00:00:00\", \"2020-03-26T00:00:00\", \"2020-03-27T00:00:00\", \"2020-03-28T00:00:00\", \"2020-03-29T00:00:00\", \"2020-03-30T00:00:00\", \"2020-03-31T00:00:00\", \"2020-04-01T00:00:00\", \"2020-04-02T00:00:00\", \"2020-04-03T00:00:00\", \"2020-04-04T00:00:00\", \"2020-04-05T00:00:00\", \"2020-04-06T00:00:00\", \"2020-04-07T00:00:00\", \"2020-04-08T00:00:00\", \"2020-04-09T00:00:00\", \"2020-04-10T00:00:00\", \"2020-04-11T00:00:00\", \"2020-04-12T00:00:00\", \"2020-04-13T00:00:00\", \"2020-04-14T00:00:00\", \"2020-04-15T00:00:00\", \"2020-04-16T00:00:00\", \"2020-04-17T00:00:00\", \"2020-04-18T00:00:00\", \"2020-04-19T00:00:00\", \"2020-04-20T00:00:00\", \"2020-04-21T00:00:00\", \"2020-04-22T00:00:00\", \"2020-04-23T00:00:00\", \"2020-04-24T00:00:00\", \"2020-04-25T00:00:00\", \"2020-04-26T00:00:00\", \"2020-04-27T00:00:00\", \"2020-04-28T00:00:00\", \"2020-04-29T00:00:00\", \"2020-04-30T00:00:00\", \"2020-05-01T00:00:00\", \"2020-05-02T00:00:00\", \"2020-05-03T00:00:00\", \"2020-05-04T00:00:00\", \"2020-05-05T00:00:00\", \"2020-05-06T00:00:00\", \"2020-05-07T00:00:00\", \"2020-05-08T00:00:00\", \"2020-05-09T00:00:00\", \"2020-05-10T00:00:00\", \"2020-05-11T00:00:00\", \"2020-05-12T00:00:00\", \"2020-05-13T00:00:00\", \"2020-05-14T00:00:00\", \"2020-05-15T00:00:00\", \"2020-05-16T00:00:00\", \"2020-05-17T00:00:00\", \"2020-05-18T00:00:00\", \"2020-05-19T00:00:00\", \"2020-05-20T00:00:00\", \"2020-05-21T00:00:00\", \"2020-05-22T00:00:00\", \"2020-05-23T00:00:00\", \"2020-05-24T00:00:00\", \"2020-05-25T00:00:00\", \"2020-05-26T00:00:00\", \"2020-05-27T00:00:00\", \"2020-05-28T00:00:00\", \"2020-05-29T00:00:00\", \"2020-05-30T00:00:00\", \"2020-05-31T00:00:00\", \"2020-06-01T00:00:00\", \"2020-06-02T00:00:00\", \"2020-06-04T00:00:00\", \"2020-06-06T00:00:00\", \"2020-06-09T00:00:00\", \"2020-06-10T00:00:00\", \"2020-06-11T00:00:00\", \"2020-06-12T00:00:00\", \"2020-06-16T00:00:00\", \"2020-06-18T00:00:00\", \"2020-06-21T00:00:00\", \"2020-06-23T00:00:00\", \"2020-06-26T00:00:00\", \"2020-07-07T00:00:00\", \"2020-07-11T00:00:00\", \"2020-07-16T00:00:00\", \"2020-07-20T00:00:00\", \"2020-07-22T00:00:00\", \"2020-07-30T00:00:00\", \"2020-08-13T00:00:00\", \"2020-08-20T00:00:00\", \"2020-08-23T00:00:00\", \"2020-08-25T00:00:00\", \"2020-09-06T00:00:00\", \"2020-09-07T00:00:00\", \"2020-09-14T00:00:00\", \"2020-09-19T00:00:00\", \"2020-09-22T00:00:00\", \"2020-09-24T00:00:00\", \"2020-09-25T00:00:00\", \"2020-09-26T00:00:00\", \"2020-09-27T00:00:00\", \"2020-09-28T00:00:00\", \"2020-09-29T00:00:00\", \"2020-09-30T00:00:00\", \"2020-10-01T00:00:00\", \"2020-10-03T00:00:00\", \"2020-10-06T00:00:00\", \"2020-10-07T00:00:00\", \"2020-10-08T00:00:00\", \"2020-10-09T00:00:00\", \"2020-10-10T00:00:00\", \"2020-10-11T00:00:00\", \"2020-10-12T00:00:00\", \"2020-10-14T00:00:00\", \"2020-10-15T00:00:00\", \"2020-10-16T00:00:00\", \"2020-10-17T00:00:00\", \"2020-10-18T00:00:00\", \"2020-10-19T00:00:00\", \"2020-10-21T00:00:00\", \"2020-10-22T00:00:00\", \"2020-10-23T00:00:00\", \"2020-10-24T00:00:00\", \"2020-10-25T00:00:00\", \"2020-10-26T00:00:00\", \"2020-10-27T00:00:00\", \"2020-10-28T00:00:00\", \"2020-10-29T00:00:00\", \"2020-10-30T00:00:00\", \"2020-10-31T00:00:00\", \"2020-11-01T00:00:00\", \"2020-11-02T00:00:00\", \"2020-11-03T00:00:00\", \"2020-11-04T00:00:00\", \"2020-11-05T00:00:00\", \"2020-11-06T00:00:00\", \"2020-11-07T00:00:00\", \"2020-11-08T00:00:00\", \"2020-11-09T00:00:00\", \"2020-11-10T00:00:00\", \"2020-11-11T00:00:00\", \"2020-11-12T00:00:00\", \"2020-11-13T00:00:00\", \"2020-11-14T00:00:00\", \"2020-11-15T00:00:00\", \"2020-11-16T00:00:00\", \"2020-11-17T00:00:00\", \"2020-11-18T00:00:00\", \"2020-11-20T00:00:00\", \"2020-11-21T00:00:00\", \"2020-11-22T00:00:00\", \"2020-11-23T00:00:00\", \"2020-11-24T00:00:00\", \"2020-11-25T00:00:00\", \"2020-11-26T00:00:00\", \"2020-11-27T00:00:00\", \"2020-11-28T00:00:00\", \"2020-11-29T00:00:00\", \"2020-11-30T00:00:00\", \"2020-12-01T00:00:00\", \"2020-12-02T00:00:00\", \"2020-12-03T00:00:00\", \"2020-12-04T00:00:00\", \"2020-12-05T00:00:00\", \"2020-12-06T00:00:00\", \"2020-12-07T00:00:00\", \"2020-12-08T00:00:00\", \"2020-12-09T00:00:00\", \"2020-12-10T00:00:00\", \"2020-12-11T00:00:00\", \"2020-12-12T00:00:00\", \"2020-12-13T00:00:00\", \"2020-12-14T00:00:00\", \"2020-12-15T00:00:00\", \"2020-12-16T00:00:00\", \"2020-12-17T00:00:00\", \"2020-12-18T00:00:00\", \"2020-12-19T00:00:00\", \"2020-12-20T00:00:00\", \"2020-12-21T00:00:00\", \"2020-12-22T00:00:00\", \"2020-12-23T00:00:00\", \"2020-12-24T00:00:00\", \"2020-12-25T00:00:00\", \"2020-12-26T00:00:00\", \"2020-12-27T00:00:00\", \"2020-12-28T00:00:00\", \"2020-12-29T00:00:00\", \"2020-12-30T00:00:00\", \"2020-12-31T00:00:00\", \"2021-01-01T00:00:00\", \"2021-01-02T00:00:00\", \"2021-01-03T00:00:00\", \"2021-01-04T00:00:00\", \"2021-01-05T00:00:00\", \"2021-01-06T00:00:00\", \"2021-01-07T00:00:00\", \"2021-01-08T00:00:00\", \"2021-01-09T00:00:00\", \"2021-01-10T00:00:00\", \"2021-01-11T00:00:00\", \"2021-01-12T00:00:00\", \"2021-01-13T00:00:00\", \"2021-01-14T00:00:00\", \"2021-01-15T00:00:00\", \"2021-01-16T00:00:00\", \"2021-01-17T00:00:00\", \"2021-01-18T00:00:00\", \"2021-01-19T00:00:00\", \"2021-01-20T00:00:00\", \"2021-01-21T00:00:00\", \"2021-01-22T00:00:00\", \"2021-01-23T00:00:00\", \"2021-01-24T00:00:00\", \"2021-01-25T00:00:00\", \"2021-01-26T00:00:00\", \"2021-01-27T00:00:00\", \"2021-01-28T00:00:00\", \"2021-01-29T00:00:00\", \"2021-01-30T00:00:00\", \"2021-01-31T00:00:00\", \"2021-02-01T00:00:00\", \"2021-02-02T00:00:00\", \"2021-02-03T00:00:00\", \"2021-02-04T00:00:00\", \"2021-02-05T00:00:00\", \"2021-02-06T00:00:00\", \"2021-02-07T00:00:00\", \"2021-02-09T00:00:00\", \"2021-02-10T00:00:00\", \"2021-02-12T00:00:00\", \"2021-02-13T00:00:00\", \"2021-02-16T00:00:00\", \"2021-02-17T00:00:00\", \"2021-02-18T00:00:00\"], \"xaxis\": \"x\", \"y\": [1, 1, 2, 3, 2, 2, 3, 2, 3, 1, 6, 3, 6, 4, 12, 5, 14, 10, 10, 11, 20, 14, 16, 2, 7, 7, 5, 11, 11, 6, 12, 18, 22, 8, 5, 10, 10, 17, 7, 8, 9, 6, 5, 11, 9, 5, 5, 6, 5, 7, 7, 5, 6, 8, 7, 5, 9, 5, 4, 4, 3, 2, 5, 3, 5, 4, 2, 6, 3, 3, 2, 1, 1, 2, 4, 2, 1, 1, 1, 2, 2, 1, 1, 1, 1, 3, 2, 1, 1, 1, 1, 1, 1, 1, 1, 1, 1, 1, 1, 2, 1, 2, 1, 1, 1, 2, 1, 3, 1, 2, 2, 2, 1, 2, 3, 1, 4, 1, 4, 1, 3, 1, 3, 2, 2, 1, 5, 3, 1, 1, 1, 1, 1, 3, 2, 4, 1, 1, 5, 2, 2, 7, 4, 2, 2, 10, 2, 1, 5, 6, 5, 2, 2, 3, 4, 2, 5, 7, 2, 5, 4, 2, 7, 6, 1, 21, 7, 4, 6, 9, 6, 5, 5, 7, 3, 8, 7, 13, 11, 7, 12, 6, 16, 17, 6, 13, 9, 12, 5, 5, 5, 10, 10, 8, 11, 7, 15, 5, 10, 11, 8, 15, 16, 10, 13, 11, 14, 12, 13, 4, 7, 7, 11, 9, 7, 10, 10, 14, 5, 5, 11, 4, 7, 6, 4, 8, 4, 7, 1, 2, 4, 6, 3, 4, 4, 4, 3, 2, 1, 1, 3, 1], \"yaxis\": \"y\"}, {\"alignmentgroup\": \"True\", \"hoverlabel\": {\"namelength\": 0}, \"hovertemplate\": \"Age Group=50s<br>Reported Date=%{x}<br>Deaths=%{y}\", \"legendgroup\": \"Age Group=50s\", \"marker\": {\"color\": \"rgb(231,138,195)\"}, \"name\": \"Age Group=50s\", \"offsetgroup\": \"Age Group=50s\", \"orientation\": \"v\", \"showlegend\": true, \"textposition\": \"auto\", \"type\": \"bar\", \"x\": [\"2020-03-18T00:00:00\", \"2020-03-25T00:00:00\", \"2020-03-26T00:00:00\", \"2020-03-28T00:00:00\", \"2020-03-29T00:00:00\", \"2020-03-30T00:00:00\", \"2020-03-31T00:00:00\", \"2020-04-01T00:00:00\", \"2020-04-02T00:00:00\", \"2020-04-03T00:00:00\", \"2020-04-05T00:00:00\", \"2020-04-06T00:00:00\", \"2020-04-07T00:00:00\", \"2020-04-08T00:00:00\", \"2020-04-09T00:00:00\", \"2020-04-10T00:00:00\", \"2020-04-11T00:00:00\", \"2020-04-12T00:00:00\", \"2020-04-13T00:00:00\", \"2020-04-14T00:00:00\", \"2020-04-15T00:00:00\", \"2020-04-16T00:00:00\", \"2020-04-17T00:00:00\", \"2020-04-18T00:00:00\", \"2020-04-19T00:00:00\", \"2020-04-20T00:00:00\", \"2020-04-21T00:00:00\", \"2020-04-23T00:00:00\", \"2020-04-26T00:00:00\", \"2020-04-29T00:00:00\", \"2020-04-30T00:00:00\", \"2020-05-01T00:00:00\", \"2020-05-02T00:00:00\", \"2020-05-05T00:00:00\", \"2020-05-08T00:00:00\", \"2020-05-09T00:00:00\", \"2020-05-10T00:00:00\", \"2020-05-13T00:00:00\", \"2020-05-14T00:00:00\", \"2020-05-15T00:00:00\", \"2020-05-16T00:00:00\", \"2020-05-18T00:00:00\", \"2020-05-20T00:00:00\", \"2020-05-22T00:00:00\", \"2020-05-24T00:00:00\", \"2020-05-26T00:00:00\", \"2020-05-30T00:00:00\", \"2020-05-31T00:00:00\", \"2020-06-04T00:00:00\", \"2020-06-07T00:00:00\", \"2020-06-10T00:00:00\", \"2020-06-11T00:00:00\", \"2020-07-02T00:00:00\", \"2020-07-16T00:00:00\", \"2020-09-02T00:00:00\", \"2020-10-07T00:00:00\", \"2020-10-08T00:00:00\", \"2020-10-11T00:00:00\", \"2020-10-14T00:00:00\", \"2020-10-16T00:00:00\", \"2020-10-17T00:00:00\", \"2020-10-19T00:00:00\", \"2020-10-22T00:00:00\", \"2020-10-24T00:00:00\", \"2020-10-30T00:00:00\", \"2020-10-31T00:00:00\", \"2020-11-02T00:00:00\", \"2020-11-03T00:00:00\", \"2020-11-08T00:00:00\", \"2020-11-12T00:00:00\", \"2020-11-13T00:00:00\", \"2020-11-14T00:00:00\", \"2020-11-17T00:00:00\", \"2020-11-18T00:00:00\", \"2020-11-19T00:00:00\", \"2020-11-23T00:00:00\", \"2020-11-24T00:00:00\", \"2020-11-25T00:00:00\", \"2020-11-26T00:00:00\", \"2020-11-29T00:00:00\", \"2020-11-30T00:00:00\", \"2020-12-01T00:00:00\", \"2020-12-03T00:00:00\", \"2020-12-04T00:00:00\", \"2020-12-05T00:00:00\", \"2020-12-06T00:00:00\", \"2020-12-07T00:00:00\", \"2020-12-09T00:00:00\", \"2020-12-11T00:00:00\", \"2020-12-12T00:00:00\", \"2020-12-14T00:00:00\", \"2020-12-15T00:00:00\", \"2020-12-16T00:00:00\", \"2020-12-19T00:00:00\", \"2020-12-20T00:00:00\", \"2020-12-21T00:00:00\", \"2020-12-22T00:00:00\", \"2020-12-23T00:00:00\", \"2020-12-24T00:00:00\", \"2020-12-25T00:00:00\", \"2020-12-26T00:00:00\", \"2020-12-29T00:00:00\", \"2020-12-30T00:00:00\", \"2020-12-31T00:00:00\", \"2021-01-01T00:00:00\", \"2021-01-02T00:00:00\", \"2021-01-03T00:00:00\", \"2021-01-04T00:00:00\", \"2021-01-06T00:00:00\", \"2021-01-07T00:00:00\", \"2021-01-08T00:00:00\", \"2021-01-10T00:00:00\", \"2021-01-12T00:00:00\", \"2021-01-13T00:00:00\", \"2021-01-14T00:00:00\", \"2021-01-15T00:00:00\", \"2021-01-16T00:00:00\", \"2021-01-18T00:00:00\", \"2021-01-19T00:00:00\", \"2021-01-20T00:00:00\", \"2021-01-21T00:00:00\", \"2021-01-23T00:00:00\", \"2021-01-24T00:00:00\", \"2021-01-25T00:00:00\", \"2021-01-26T00:00:00\", \"2021-01-27T00:00:00\", \"2021-01-28T00:00:00\", \"2021-01-29T00:00:00\", \"2021-01-30T00:00:00\", \"2021-02-01T00:00:00\", \"2021-02-03T00:00:00\", \"2021-02-05T00:00:00\", \"2021-02-15T00:00:00\", \"2021-02-20T00:00:00\"], \"xaxis\": \"x\", \"y\": [1, 1, 3, 2, 4, 2, 2, 1, 1, 1, 1, 1, 3, 2, 2, 4, 1, 5, 4, 1, 2, 3, 2, 2, 3, 2, 2, 1, 3, 2, 2, 2, 1, 1, 4, 1, 2, 1, 1, 1, 1, 2, 2, 3, 1, 1, 1, 1, 1, 1, 1, 2, 1, 1, 1, 1, 1, 1, 2, 1, 1, 1, 2, 1, 1, 1, 1, 1, 1, 1, 1, 1, 1, 1, 1, 1, 1, 1, 2, 1, 1, 2, 1, 3, 1, 2, 1, 2, 2, 2, 1, 3, 1, 2, 2, 1, 1, 1, 3, 1, 2, 1, 1, 2, 1, 1, 2, 3, 2, 4, 2, 1, 2, 1, 4, 2, 2, 2, 2, 3, 2, 2, 1, 2, 2, 2, 2, 2, 2, 1, 1, 1, 1, 1], \"yaxis\": \"y\"}, {\"alignmentgroup\": \"True\", \"hoverlabel\": {\"namelength\": 0}, \"hovertemplate\": \"Age Group=30s<br>Reported Date=%{x}<br>Deaths=%{y}\", \"legendgroup\": \"Age Group=30s\", \"marker\": {\"color\": \"rgb(166,216,84)\"}, \"name\": \"Age Group=30s\", \"offsetgroup\": \"Age Group=30s\", \"orientation\": \"v\", \"showlegend\": true, \"textposition\": \"auto\", \"type\": \"bar\", \"x\": [\"2020-03-21T00:00:00\", \"2020-04-03T00:00:00\", \"2020-04-04T00:00:00\", \"2020-04-07T00:00:00\", \"2020-04-13T00:00:00\", \"2020-05-10T00:00:00\", \"2020-05-23T00:00:00\", \"2020-09-16T00:00:00\", \"2020-11-24T00:00:00\", \"2020-12-02T00:00:00\", \"2020-12-06T00:00:00\", \"2020-12-18T00:00:00\", \"2020-12-26T00:00:00\", \"2021-01-01T00:00:00\", \"2021-01-14T00:00:00\", \"2021-01-15T00:00:00\", \"2021-01-23T00:00:00\", \"2021-01-24T00:00:00\", \"2021-01-31T00:00:00\", \"2021-02-16T00:00:00\"], \"xaxis\": \"x\", \"y\": [1, 1, 1, 1, 1, 1, 1, 1, 1, 1, 1, 1, 1, 1, 1, 1, 1, 1, 1, 1], \"yaxis\": \"y\"}, {\"alignmentgroup\": \"True\", \"hoverlabel\": {\"namelength\": 0}, \"hovertemplate\": \"Age Group=40s<br>Reported Date=%{x}<br>Deaths=%{y}\", \"legendgroup\": \"Age Group=40s\", \"marker\": {\"color\": \"rgb(255,217,47)\"}, \"name\": \"Age Group=40s\", \"offsetgroup\": \"Age Group=40s\", \"orientation\": \"v\", \"showlegend\": true, \"textposition\": \"auto\", \"type\": \"bar\", \"x\": [\"2020-03-21T00:00:00\", \"2020-03-22T00:00:00\", \"2020-03-26T00:00:00\", \"2020-03-27T00:00:00\", \"2020-03-28T00:00:00\", \"2020-04-02T00:00:00\", \"2020-04-03T00:00:00\", \"2020-04-06T00:00:00\", \"2020-04-07T00:00:00\", \"2020-04-09T00:00:00\", \"2020-04-11T00:00:00\", \"2020-04-12T00:00:00\", \"2020-04-22T00:00:00\", \"2020-04-23T00:00:00\", \"2020-05-09T00:00:00\", \"2020-05-13T00:00:00\", \"2020-05-16T00:00:00\", \"2020-05-18T00:00:00\", \"2020-05-21T00:00:00\", \"2020-06-19T00:00:00\", \"2020-07-04T00:00:00\", \"2020-07-09T00:00:00\", \"2020-07-19T00:00:00\", \"2020-07-20T00:00:00\", \"2020-11-08T00:00:00\", \"2020-11-10T00:00:00\", \"2020-11-20T00:00:00\", \"2020-12-02T00:00:00\", \"2020-12-11T00:00:00\", \"2020-12-14T00:00:00\", \"2020-12-16T00:00:00\", \"2020-12-20T00:00:00\", \"2020-12-23T00:00:00\", \"2020-12-26T00:00:00\", \"2020-12-27T00:00:00\", \"2020-12-30T00:00:00\", \"2021-01-01T00:00:00\", \"2021-01-07T00:00:00\", \"2021-01-10T00:00:00\", \"2021-01-12T00:00:00\", \"2021-01-15T00:00:00\", \"2021-01-22T00:00:00\", \"2021-01-24T00:00:00\", \"2021-01-25T00:00:00\", \"2021-01-28T00:00:00\", \"2021-01-29T00:00:00\", \"2021-02-07T00:00:00\", \"2021-02-13T00:00:00\", \"2021-02-23T00:00:00\"], \"xaxis\": \"x\", \"y\": [1, 1, 1, 1, 2, 1, 1, 1, 1, 1, 2, 1, 2, 1, 1, 1, 1, 1, 1, 1, 1, 1, 1, 1, 1, 1, 1, 2, 1, 2, 1, 1, 1, 1, 2, 1, 1, 1, 1, 2, 1, 1, 1, 2, 1, 1, 1, 1, 1], \"yaxis\": \"y\"}, {\"alignmentgroup\": \"True\", \"hoverlabel\": {\"namelength\": 0}, \"hovertemplate\": \"Age Group=90+<br>Reported Date=%{x}<br>Deaths=%{y}\", \"legendgroup\": \"Age Group=90+\", \"marker\": {\"color\": \"rgb(229,196,148)\"}, \"name\": \"Age Group=90+\", \"offsetgroup\": \"Age Group=90+\", \"orientation\": \"v\", \"showlegend\": true, \"textposition\": \"auto\", \"type\": \"bar\", \"x\": [\"2020-03-21T00:00:00\", \"2020-03-22T00:00:00\", \"2020-03-23T00:00:00\", \"2020-03-24T00:00:00\", \"2020-03-25T00:00:00\", \"2020-03-27T00:00:00\", \"2020-03-28T00:00:00\", \"2020-03-29T00:00:00\", \"2020-03-30T00:00:00\", \"2020-03-31T00:00:00\", \"2020-04-01T00:00:00\", \"2020-04-02T00:00:00\", \"2020-04-03T00:00:00\", \"2020-04-04T00:00:00\", \"2020-04-05T00:00:00\", \"2020-04-06T00:00:00\", \"2020-04-07T00:00:00\", \"2020-04-08T00:00:00\", \"2020-04-09T00:00:00\", \"2020-04-10T00:00:00\", \"2020-04-11T00:00:00\", \"2020-04-12T00:00:00\", \"2020-04-13T00:00:00\", \"2020-04-14T00:00:00\", \"2020-04-15T00:00:00\", \"2020-04-16T00:00:00\", \"2020-04-17T00:00:00\", \"2020-04-18T00:00:00\", \"2020-04-19T00:00:00\", \"2020-04-20T00:00:00\", \"2020-04-21T00:00:00\", \"2020-04-22T00:00:00\", \"2020-04-23T00:00:00\", \"2020-04-24T00:00:00\", \"2020-04-25T00:00:00\", \"2020-04-26T00:00:00\", \"2020-04-27T00:00:00\", \"2020-04-28T00:00:00\", \"2020-04-29T00:00:00\", \"2020-04-30T00:00:00\", \"2020-05-01T00:00:00\", \"2020-05-02T00:00:00\", \"2020-05-03T00:00:00\", \"2020-05-04T00:00:00\", \"2020-05-05T00:00:00\", \"2020-05-06T00:00:00\", \"2020-05-07T00:00:00\", \"2020-05-08T00:00:00\", \"2020-05-09T00:00:00\", \"2020-05-10T00:00:00\", \"2020-05-11T00:00:00\", \"2020-05-12T00:00:00\", \"2020-05-13T00:00:00\", \"2020-05-14T00:00:00\", \"2020-05-15T00:00:00\", \"2020-05-16T00:00:00\", \"2020-05-17T00:00:00\", \"2020-05-18T00:00:00\", \"2020-05-19T00:00:00\", \"2020-05-20T00:00:00\", \"2020-05-21T00:00:00\", \"2020-05-22T00:00:00\", \"2020-05-23T00:00:00\", \"2020-05-24T00:00:00\", \"2020-05-25T00:00:00\", \"2020-05-26T00:00:00\", \"2020-05-27T00:00:00\", \"2020-05-28T00:00:00\", \"2020-05-29T00:00:00\", \"2020-05-30T00:00:00\", \"2020-05-31T00:00:00\", \"2020-06-01T00:00:00\", \"2020-06-02T00:00:00\", \"2020-06-03T00:00:00\", \"2020-06-04T00:00:00\", \"2020-06-05T00:00:00\", \"2020-06-06T00:00:00\", \"2020-06-08T00:00:00\", \"2020-06-10T00:00:00\", \"2020-06-13T00:00:00\", \"2020-06-16T00:00:00\", \"2020-06-17T00:00:00\", \"2020-06-18T00:00:00\", \"2020-06-21T00:00:00\", \"2020-06-22T00:00:00\", \"2020-06-24T00:00:00\", \"2020-06-25T00:00:00\", \"2020-06-26T00:00:00\", \"2020-06-28T00:00:00\", \"2020-06-30T00:00:00\", \"2020-07-01T00:00:00\", \"2020-07-07T00:00:00\", \"2020-07-09T00:00:00\", \"2020-07-14T00:00:00\", \"2020-07-16T00:00:00\", \"2020-08-02T00:00:00\", \"2020-08-14T00:00:00\", \"2020-08-19T00:00:00\", \"2020-08-20T00:00:00\", \"2020-08-23T00:00:00\", \"2020-09-02T00:00:00\", \"2020-09-19T00:00:00\", \"2020-09-21T00:00:00\", \"2020-09-22T00:00:00\", \"2020-09-23T00:00:00\", \"2020-09-24T00:00:00\", \"2020-09-25T00:00:00\", \"2020-09-26T00:00:00\", \"2020-09-27T00:00:00\", \"2020-09-28T00:00:00\", \"2020-09-29T00:00:00\", \"2020-09-30T00:00:00\", \"2020-10-01T00:00:00\", \"2020-10-02T00:00:00\", \"2020-10-03T00:00:00\", \"2020-10-04T00:00:00\", \"2020-10-05T00:00:00\", \"2020-10-06T00:00:00\", \"2020-10-07T00:00:00\", \"2020-10-08T00:00:00\", \"2020-10-09T00:00:00\", \"2020-10-11T00:00:00\", \"2020-10-12T00:00:00\", \"2020-10-13T00:00:00\", \"2020-10-14T00:00:00\", \"2020-10-15T00:00:00\", \"2020-10-16T00:00:00\", \"2020-10-17T00:00:00\", \"2020-10-18T00:00:00\", \"2020-10-19T00:00:00\", \"2020-10-20T00:00:00\", \"2020-10-21T00:00:00\", \"2020-10-22T00:00:00\", \"2020-10-23T00:00:00\", \"2020-10-24T00:00:00\", \"2020-10-25T00:00:00\", \"2020-10-26T00:00:00\", \"2020-10-27T00:00:00\", \"2020-10-28T00:00:00\", \"2020-10-29T00:00:00\", \"2020-10-30T00:00:00\", \"2020-10-31T00:00:00\", \"2020-11-01T00:00:00\", \"2020-11-02T00:00:00\", \"2020-11-03T00:00:00\", \"2020-11-04T00:00:00\", \"2020-11-05T00:00:00\", \"2020-11-06T00:00:00\", \"2020-11-07T00:00:00\", \"2020-11-08T00:00:00\", \"2020-11-09T00:00:00\", \"2020-11-10T00:00:00\", \"2020-11-11T00:00:00\", \"2020-11-12T00:00:00\", \"2020-11-13T00:00:00\", \"2020-11-14T00:00:00\", \"2020-11-15T00:00:00\", \"2020-11-16T00:00:00\", \"2020-11-17T00:00:00\", \"2020-11-18T00:00:00\", \"2020-11-19T00:00:00\", \"2020-11-20T00:00:00\", \"2020-11-21T00:00:00\", \"2020-11-22T00:00:00\", \"2020-11-23T00:00:00\", \"2020-11-24T00:00:00\", \"2020-11-25T00:00:00\", \"2020-11-26T00:00:00\", \"2020-11-27T00:00:00\", \"2020-11-28T00:00:00\", \"2020-11-29T00:00:00\", \"2020-11-30T00:00:00\", \"2020-12-01T00:00:00\", \"2020-12-02T00:00:00\", \"2020-12-03T00:00:00\", \"2020-12-04T00:00:00\", \"2020-12-05T00:00:00\", \"2020-12-06T00:00:00\", \"2020-12-07T00:00:00\", \"2020-12-08T00:00:00\", \"2020-12-09T00:00:00\", \"2020-12-10T00:00:00\", \"2020-12-11T00:00:00\", \"2020-12-12T00:00:00\", \"2020-12-13T00:00:00\", \"2020-12-14T00:00:00\", \"2020-12-15T00:00:00\", \"2020-12-16T00:00:00\", \"2020-12-17T00:00:00\", \"2020-12-18T00:00:00\", \"2020-12-19T00:00:00\", \"2020-12-20T00:00:00\", \"2020-12-21T00:00:00\", \"2020-12-22T00:00:00\", \"2020-12-23T00:00:00\", \"2020-12-24T00:00:00\", \"2020-12-25T00:00:00\", \"2020-12-26T00:00:00\", \"2020-12-27T00:00:00\", \"2020-12-28T00:00:00\", \"2020-12-29T00:00:00\", \"2020-12-30T00:00:00\", \"2020-12-31T00:00:00\", \"2021-01-01T00:00:00\", \"2021-01-02T00:00:00\", \"2021-01-03T00:00:00\", \"2021-01-04T00:00:00\", \"2021-01-05T00:00:00\", \"2021-01-06T00:00:00\", \"2021-01-07T00:00:00\", \"2021-01-08T00:00:00\", \"2021-01-09T00:00:00\", \"2021-01-10T00:00:00\", \"2021-01-11T00:00:00\", \"2021-01-12T00:00:00\", \"2021-01-13T00:00:00\", \"2021-01-14T00:00:00\", \"2021-01-15T00:00:00\", \"2021-01-16T00:00:00\", \"2021-01-17T00:00:00\", \"2021-01-18T00:00:00\", \"2021-01-19T00:00:00\", \"2021-01-20T00:00:00\", \"2021-01-21T00:00:00\", \"2021-01-22T00:00:00\", \"2021-01-23T00:00:00\", \"2021-01-24T00:00:00\", \"2021-01-25T00:00:00\", \"2021-01-26T00:00:00\", \"2021-01-27T00:00:00\", \"2021-01-28T00:00:00\", \"2021-01-29T00:00:00\", \"2021-01-30T00:00:00\", \"2021-01-31T00:00:00\", \"2021-02-01T00:00:00\", \"2021-02-02T00:00:00\", \"2021-02-03T00:00:00\", \"2021-02-04T00:00:00\", \"2021-02-06T00:00:00\", \"2021-02-07T00:00:00\", \"2021-02-08T00:00:00\", \"2021-02-09T00:00:00\", \"2021-02-10T00:00:00\", \"2021-02-11T00:00:00\", \"2021-02-12T00:00:00\", \"2021-02-13T00:00:00\", \"2021-02-14T00:00:00\", \"2021-02-15T00:00:00\", \"2021-02-16T00:00:00\", \"2021-02-17T00:00:00\", \"2021-02-19T00:00:00\", \"2021-02-20T00:00:00\"], \"xaxis\": \"x\", \"y\": [1, 1, 3, 1, 3, 1, 3, 2, 8, 8, 3, 16, 31, 13, 15, 23, 21, 21, 16, 15, 29, 40, 25, 39, 37, 40, 49, 27, 23, 14, 24, 33, 24, 15, 19, 15, 18, 18, 11, 9, 13, 9, 11, 6, 6, 11, 7, 6, 9, 7, 3, 6, 10, 10, 8, 6, 4, 8, 7, 6, 3, 8, 7, 3, 3, 2, 2, 6, 7, 2, 1, 2, 1, 5, 2, 2, 3, 1, 2, 2, 2, 2, 2, 2, 1, 2, 1, 1, 3, 1, 2, 2, 1, 2, 1, 1, 1, 1, 1, 1, 3, 1, 2, 1, 1, 2, 1, 1, 1, 1, 1, 1, 5, 2, 3, 2, 3, 2, 2, 4, 3, 2, 1, 6, 2, 4, 2, 4, 1, 3, 6, 4, 9, 5, 5, 7, 5, 4, 5, 11, 7, 4, 2, 10, 6, 8, 6, 18, 11, 6, 16, 16, 9, 1, 5, 8, 1, 2, 7, 10, 6, 7, 6, 4, 5, 6, 4, 15, 4, 12, 8, 8, 9, 2, 7, 12, 8, 11, 9, 12, 13, 9, 18, 12, 22, 9, 30, 13, 14, 20, 18, 18, 7, 15, 8, 12, 17, 11, 22, 9, 16, 8, 16, 11, 16, 22, 16, 19, 13, 17, 13, 22, 25, 24, 20, 14, 14, 18, 13, 9, 16, 16, 12, 14, 10, 13, 6, 9, 9, 5, 8, 4, 2, 7, 2, 3, 7, 4, 2, 1, 4, 2, 3, 3, 1, 2, 1, 4, 3, 2, 1, 1], \"yaxis\": \"y\"}, {\"alignmentgroup\": \"True\", \"hoverlabel\": {\"namelength\": 0}, \"hovertemplate\": \"Age Group=20s<br>Reported Date=%{x}<br>Deaths=%{y}\", \"legendgroup\": \"Age Group=20s\", \"marker\": {\"color\": \"rgb(179,179,179)\"}, \"name\": \"Age Group=20s\", \"offsetgroup\": \"Age Group=20s\", \"orientation\": \"v\", \"showlegend\": true, \"textposition\": \"auto\", \"type\": \"bar\", \"x\": [\"2020-04-06T00:00:00\", \"2020-05-06T00:00:00\", \"2020-05-29T00:00:00\", \"2020-12-02T00:00:00\", \"2020-12-06T00:00:00\", \"2021-01-02T00:00:00\", \"2021-01-19T00:00:00\", \"2021-01-26T00:00:00\"], \"xaxis\": \"x\", \"y\": [2, 1, 1, 1, 1, 1, 1, 1], \"yaxis\": \"y\"}, {\"alignmentgroup\": \"True\", \"hoverlabel\": {\"namelength\": 0}, \"hovertemplate\": \"Age Group=<20<br>Reported Date=%{x}<br>Deaths=%{y}\", \"legendgroup\": \"Age Group=<20\", \"marker\": {\"color\": \"rgb(102,194,165)\"}, \"name\": \"Age Group=<20\", \"offsetgroup\": \"Age Group=<20\", \"orientation\": \"v\", \"showlegend\": true, \"textposition\": \"auto\", \"type\": \"bar\", \"x\": [\"2020-06-20T00:00:00\", \"2021-01-13T00:00:00\"], \"xaxis\": \"x\", \"y\": [1, 1], \"yaxis\": \"y\"}, {\"alignmentgroup\": \"True\", \"hoverlabel\": {\"namelength\": 0}, \"hovertemplate\": \"Age Group=UNKNOWN<br>Reported Date=%{x}<br>Deaths=%{y}\", \"legendgroup\": \"Age Group=UNKNOWN\", \"marker\": {\"color\": \"rgb(252,141,98)\"}, \"name\": \"Age Group=UNKNOWN\", \"offsetgroup\": \"Age Group=UNKNOWN\", \"orientation\": \"v\", \"showlegend\": true, \"textposition\": \"auto\", \"type\": \"bar\", \"x\": [\"2020-12-21T00:00:00\"], \"xaxis\": \"x\", \"y\": [1], \"yaxis\": \"y\"}],\n",
              "                        {\"barmode\": \"relative\", \"legend\": {\"tracegroupgap\": 0}, \"template\": {\"data\": {\"bar\": [{\"error_x\": {\"color\": \"#2a3f5f\"}, \"error_y\": {\"color\": \"#2a3f5f\"}, \"marker\": {\"line\": {\"color\": \"#E5ECF6\", \"width\": 0.5}}, \"type\": \"bar\"}], \"barpolar\": [{\"marker\": {\"line\": {\"color\": \"#E5ECF6\", \"width\": 0.5}}, \"type\": \"barpolar\"}], \"carpet\": [{\"aaxis\": {\"endlinecolor\": \"#2a3f5f\", \"gridcolor\": \"white\", \"linecolor\": \"white\", \"minorgridcolor\": \"white\", \"startlinecolor\": \"#2a3f5f\"}, \"baxis\": {\"endlinecolor\": \"#2a3f5f\", \"gridcolor\": \"white\", \"linecolor\": \"white\", \"minorgridcolor\": \"white\", \"startlinecolor\": \"#2a3f5f\"}, \"type\": \"carpet\"}], \"choropleth\": [{\"colorbar\": {\"outlinewidth\": 0, \"ticks\": \"\"}, \"type\": \"choropleth\"}], \"contour\": [{\"colorbar\": {\"outlinewidth\": 0, \"ticks\": \"\"}, \"colorscale\": [[0.0, \"#0d0887\"], [0.1111111111111111, \"#46039f\"], [0.2222222222222222, \"#7201a8\"], [0.3333333333333333, \"#9c179e\"], [0.4444444444444444, \"#bd3786\"], [0.5555555555555556, \"#d8576b\"], [0.6666666666666666, \"#ed7953\"], [0.7777777777777778, \"#fb9f3a\"], [0.8888888888888888, \"#fdca26\"], [1.0, \"#f0f921\"]], \"type\": \"contour\"}], \"contourcarpet\": [{\"colorbar\": {\"outlinewidth\": 0, \"ticks\": \"\"}, \"type\": \"contourcarpet\"}], \"heatmap\": [{\"colorbar\": {\"outlinewidth\": 0, \"ticks\": \"\"}, \"colorscale\": [[0.0, \"#0d0887\"], [0.1111111111111111, \"#46039f\"], [0.2222222222222222, \"#7201a8\"], [0.3333333333333333, \"#9c179e\"], [0.4444444444444444, \"#bd3786\"], [0.5555555555555556, \"#d8576b\"], [0.6666666666666666, \"#ed7953\"], [0.7777777777777778, \"#fb9f3a\"], [0.8888888888888888, \"#fdca26\"], [1.0, \"#f0f921\"]], \"type\": \"heatmap\"}], \"heatmapgl\": [{\"colorbar\": {\"outlinewidth\": 0, \"ticks\": \"\"}, \"colorscale\": [[0.0, \"#0d0887\"], [0.1111111111111111, \"#46039f\"], [0.2222222222222222, \"#7201a8\"], [0.3333333333333333, \"#9c179e\"], [0.4444444444444444, \"#bd3786\"], [0.5555555555555556, \"#d8576b\"], [0.6666666666666666, \"#ed7953\"], [0.7777777777777778, \"#fb9f3a\"], [0.8888888888888888, \"#fdca26\"], [1.0, \"#f0f921\"]], \"type\": \"heatmapgl\"}], \"histogram\": [{\"marker\": {\"colorbar\": {\"outlinewidth\": 0, \"ticks\": \"\"}}, \"type\": \"histogram\"}], \"histogram2d\": [{\"colorbar\": {\"outlinewidth\": 0, \"ticks\": \"\"}, \"colorscale\": [[0.0, \"#0d0887\"], [0.1111111111111111, \"#46039f\"], [0.2222222222222222, \"#7201a8\"], [0.3333333333333333, \"#9c179e\"], [0.4444444444444444, \"#bd3786\"], [0.5555555555555556, \"#d8576b\"], [0.6666666666666666, \"#ed7953\"], [0.7777777777777778, \"#fb9f3a\"], [0.8888888888888888, \"#fdca26\"], [1.0, \"#f0f921\"]], \"type\": \"histogram2d\"}], \"histogram2dcontour\": [{\"colorbar\": {\"outlinewidth\": 0, \"ticks\": \"\"}, \"colorscale\": [[0.0, \"#0d0887\"], [0.1111111111111111, \"#46039f\"], [0.2222222222222222, \"#7201a8\"], [0.3333333333333333, \"#9c179e\"], [0.4444444444444444, \"#bd3786\"], [0.5555555555555556, \"#d8576b\"], [0.6666666666666666, \"#ed7953\"], [0.7777777777777778, \"#fb9f3a\"], [0.8888888888888888, \"#fdca26\"], [1.0, \"#f0f921\"]], \"type\": \"histogram2dcontour\"}], \"mesh3d\": [{\"colorbar\": {\"outlinewidth\": 0, \"ticks\": \"\"}, \"type\": \"mesh3d\"}], \"parcoords\": [{\"line\": {\"colorbar\": {\"outlinewidth\": 0, \"ticks\": \"\"}}, \"type\": \"parcoords\"}], \"pie\": [{\"automargin\": true, \"type\": \"pie\"}], \"scatter\": [{\"marker\": {\"colorbar\": {\"outlinewidth\": 0, \"ticks\": \"\"}}, \"type\": \"scatter\"}], \"scatter3d\": [{\"line\": {\"colorbar\": {\"outlinewidth\": 0, \"ticks\": \"\"}}, \"marker\": {\"colorbar\": {\"outlinewidth\": 0, \"ticks\": \"\"}}, \"type\": \"scatter3d\"}], \"scattercarpet\": [{\"marker\": {\"colorbar\": {\"outlinewidth\": 0, \"ticks\": \"\"}}, \"type\": \"scattercarpet\"}], \"scattergeo\": [{\"marker\": {\"colorbar\": {\"outlinewidth\": 0, \"ticks\": \"\"}}, \"type\": \"scattergeo\"}], \"scattergl\": [{\"marker\": {\"colorbar\": {\"outlinewidth\": 0, \"ticks\": \"\"}}, \"type\": \"scattergl\"}], \"scattermapbox\": [{\"marker\": {\"colorbar\": {\"outlinewidth\": 0, \"ticks\": \"\"}}, \"type\": \"scattermapbox\"}], \"scatterpolar\": [{\"marker\": {\"colorbar\": {\"outlinewidth\": 0, \"ticks\": \"\"}}, \"type\": \"scatterpolar\"}], \"scatterpolargl\": [{\"marker\": {\"colorbar\": {\"outlinewidth\": 0, \"ticks\": \"\"}}, \"type\": \"scatterpolargl\"}], \"scatterternary\": [{\"marker\": {\"colorbar\": {\"outlinewidth\": 0, \"ticks\": \"\"}}, \"type\": \"scatterternary\"}], \"surface\": [{\"colorbar\": {\"outlinewidth\": 0, \"ticks\": \"\"}, \"colorscale\": [[0.0, \"#0d0887\"], [0.1111111111111111, \"#46039f\"], [0.2222222222222222, \"#7201a8\"], [0.3333333333333333, \"#9c179e\"], [0.4444444444444444, \"#bd3786\"], [0.5555555555555556, \"#d8576b\"], [0.6666666666666666, \"#ed7953\"], [0.7777777777777778, \"#fb9f3a\"], [0.8888888888888888, \"#fdca26\"], [1.0, \"#f0f921\"]], \"type\": \"surface\"}], \"table\": [{\"cells\": {\"fill\": {\"color\": \"#EBF0F8\"}, \"line\": {\"color\": \"white\"}}, \"header\": {\"fill\": {\"color\": \"#C8D4E3\"}, \"line\": {\"color\": \"white\"}}, \"type\": \"table\"}]}, \"layout\": {\"annotationdefaults\": {\"arrowcolor\": \"#2a3f5f\", \"arrowhead\": 0, \"arrowwidth\": 1}, \"coloraxis\": {\"colorbar\": {\"outlinewidth\": 0, \"ticks\": \"\"}}, \"colorscale\": {\"diverging\": [[0, \"#8e0152\"], [0.1, \"#c51b7d\"], [0.2, \"#de77ae\"], [0.3, \"#f1b6da\"], [0.4, \"#fde0ef\"], [0.5, \"#f7f7f7\"], [0.6, \"#e6f5d0\"], [0.7, \"#b8e186\"], [0.8, \"#7fbc41\"], [0.9, \"#4d9221\"], [1, \"#276419\"]], \"sequential\": [[0.0, \"#0d0887\"], [0.1111111111111111, \"#46039f\"], [0.2222222222222222, \"#7201a8\"], [0.3333333333333333, \"#9c179e\"], [0.4444444444444444, \"#bd3786\"], [0.5555555555555556, \"#d8576b\"], [0.6666666666666666, \"#ed7953\"], [0.7777777777777778, \"#fb9f3a\"], [0.8888888888888888, \"#fdca26\"], [1.0, \"#f0f921\"]], \"sequentialminus\": [[0.0, \"#0d0887\"], [0.1111111111111111, \"#46039f\"], [0.2222222222222222, \"#7201a8\"], [0.3333333333333333, \"#9c179e\"], [0.4444444444444444, \"#bd3786\"], [0.5555555555555556, \"#d8576b\"], [0.6666666666666666, \"#ed7953\"], [0.7777777777777778, \"#fb9f3a\"], [0.8888888888888888, \"#fdca26\"], [1.0, \"#f0f921\"]]}, \"colorway\": [\"#636efa\", \"#EF553B\", \"#00cc96\", \"#ab63fa\", \"#FFA15A\", \"#19d3f3\", \"#FF6692\", \"#B6E880\", \"#FF97FF\", \"#FECB52\"], \"font\": {\"color\": \"#2a3f5f\"}, \"geo\": {\"bgcolor\": \"white\", \"lakecolor\": \"white\", \"landcolor\": \"#E5ECF6\", \"showlakes\": true, \"showland\": true, \"subunitcolor\": \"white\"}, \"hoverlabel\": {\"align\": \"left\"}, \"hovermode\": \"closest\", \"mapbox\": {\"style\": \"light\"}, \"paper_bgcolor\": \"white\", \"plot_bgcolor\": \"#E5ECF6\", \"polar\": {\"angularaxis\": {\"gridcolor\": \"white\", \"linecolor\": \"white\", \"ticks\": \"\"}, \"bgcolor\": \"#E5ECF6\", \"radialaxis\": {\"gridcolor\": \"white\", \"linecolor\": \"white\", \"ticks\": \"\"}}, \"scene\": {\"xaxis\": {\"backgroundcolor\": \"#E5ECF6\", \"gridcolor\": \"white\", \"gridwidth\": 2, \"linecolor\": \"white\", \"showbackground\": true, \"ticks\": \"\", \"zerolinecolor\": \"white\"}, \"yaxis\": {\"backgroundcolor\": \"#E5ECF6\", \"gridcolor\": \"white\", \"gridwidth\": 2, \"linecolor\": \"white\", \"showbackground\": true, \"ticks\": \"\", \"zerolinecolor\": \"white\"}, \"zaxis\": {\"backgroundcolor\": \"#E5ECF6\", \"gridcolor\": \"white\", \"gridwidth\": 2, \"linecolor\": \"white\", \"showbackground\": true, \"ticks\": \"\", \"zerolinecolor\": \"white\"}}, \"shapedefaults\": {\"line\": {\"color\": \"#2a3f5f\"}}, \"ternary\": {\"aaxis\": {\"gridcolor\": \"white\", \"linecolor\": \"white\", \"ticks\": \"\"}, \"baxis\": {\"gridcolor\": \"white\", \"linecolor\": \"white\", \"ticks\": \"\"}, \"bgcolor\": \"#E5ECF6\", \"caxis\": {\"gridcolor\": \"white\", \"linecolor\": \"white\", \"ticks\": \"\"}}, \"title\": {\"x\": 0.05}, \"xaxis\": {\"automargin\": true, \"gridcolor\": \"white\", \"linecolor\": \"white\", \"ticks\": \"\", \"title\": {\"standoff\": 15}, \"zerolinecolor\": \"white\", \"zerolinewidth\": 2}, \"yaxis\": {\"automargin\": true, \"gridcolor\": \"white\", \"linecolor\": \"white\", \"ticks\": \"\", \"title\": {\"standoff\": 15}, \"zerolinecolor\": \"white\", \"zerolinewidth\": 2}}}, \"title\": {\"text\": \"Ontario Covid-19 Deaths by Age Group\"}, \"xaxis\": {\"anchor\": \"y\", \"domain\": [0.0, 1.0], \"title\": {\"text\": \"Reported Date\"}}, \"yaxis\": {\"anchor\": \"x\", \"domain\": [0.0, 1.0], \"title\": {\"text\": \"Deaths\"}}},\n",
              "                        {\"responsive\": true}\n",
              "                    ).then(function(){\n",
              "                            \n",
              "var gd = document.getElementById('dd274f93-465c-4f6f-9ebc-720b89222422');\n",
              "var x = new MutationObserver(function (mutations, observer) {{\n",
              "        var display = window.getComputedStyle(gd).display;\n",
              "        if (!display || display === 'none') {{\n",
              "            console.log([gd, 'removed!']);\n",
              "            Plotly.purge(gd);\n",
              "            observer.disconnect();\n",
              "        }}\n",
              "}});\n",
              "\n",
              "// Listen for the removal of the full notebook cells\n",
              "var notebookContainer = gd.closest('#notebook-container');\n",
              "if (notebookContainer) {{\n",
              "    x.observe(notebookContainer, {childList: true});\n",
              "}}\n",
              "\n",
              "// Listen for the clearing of the current output cell\n",
              "var outputEl = gd.closest('.output');\n",
              "if (outputEl) {{\n",
              "    x.observe(outputEl, {childList: true});\n",
              "}}\n",
              "\n",
              "                        })\n",
              "                };\n",
              "                \n",
              "            </script>\n",
              "        </div>\n",
              "</body>\n",
              "</html>"
            ]
          },
          "metadata": {
            "tags": []
          }
        }
      ]
    }
  ]
}