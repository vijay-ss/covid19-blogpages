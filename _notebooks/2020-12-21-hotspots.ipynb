{
 "metadata": {
  "language_info": {
   "codemirror_mode": {
    "name": "ipython",
    "version": 3
   },
   "file_extension": ".py",
   "mimetype": "text/x-python",
   "name": "python",
   "nbconvert_exporter": "python",
   "pygments_lexer": "ipython3",
   "version": "3.8.5-final"
  },
  "orig_nbformat": 2,
  "kernelspec": {
   "name": "python3",
   "display_name": "Python 3",
   "language": "python"
  }
 },
 "nbformat": 4,
 "nbformat_minor": 2,
 "cells": [
  {
   "source": [
    "# Ontario Covid-19 Hotspots\n",
    "> Insights into the Covid-19 hotspots in Ontario, Canada.\n",
    "\n",
    "- toc: true \n",
    "- badges: true\n",
    "- comments: true\n",
    "- categories: [jupyter]\n",
    "- image: images/test.png"
   ],
   "cell_type": "markdown",
   "metadata": {}
  },
  {
   "cell_type": "code",
   "execution_count": 22,
   "metadata": {},
   "outputs": [
    {
     "output_type": "stream",
     "name": "stdout",
     "text": [
      "Libraries successfully imported.\n"
     ]
    }
   ],
   "source": [
    "#hide\n",
    "\n",
    "import pandas as pd\n",
    "import numpy as np\n",
    "\n",
    "import plotly.express as px\n",
    "import plotly.graph_objects as go\n",
    "\n",
    "from IPython.display import HTML, display\n",
    "import ipywidgets as widgets\n",
    "\n",
    "import datetime as dt\n",
    "\n",
    "print('Libraries successfully imported.')\n"
   ]
  },
  {
   "cell_type": "code",
   "execution_count": 23,
   "metadata": {},
   "outputs": [
    {
     "output_type": "stream",
     "name": "stdout",
     "text": [
      "Data sets successfully loaded. Max date is: 2020-12-19\n"
     ]
    }
   ],
   "source": [
    "#hide\n",
    "\n",
    "url = 'https://data.ontario.ca/dataset/f4112442-bdc8-45d2-be3c-12efae72fb27/resource/455fd63b-603d-4608-8216-7d8647f43350/download/conposcovidloc.csv'\n",
    "url_2 = 'https://data.ontario.ca/dataset/f4f86e54-872d-43f8-8a86-3892fd3cb5e6/resource/ed270bb8-340b-41f9-a7c6-e8ef587e6d11/download/covidtesting.csv'\n",
    "url_3 = 'https://data.ontario.ca/dataset/f4f86e54-872d-43f8-8a86-3892fd3cb5e6/resource/8a88fe6d-d8fb-41a3-9d04-f0550a44999f/download/daily_change_in_cases_by_phu.csv'\n",
    "\n",
    "#src_conpos = pd.read_csv(url, index_col=0, parse_dates=['Accurate_Episode_Date', 'Case_Reported_Date', 'Test_Reported_Date', 'Specimen_Date']).reset_index()\n",
    "#src_testing = pd.read_csv(url_2, index_col=0, parse_dates=['Reported Date']).reset_index()\n",
    "src_daily = pd.read_csv(url_3, index_col=0, parse_dates=['Date']).reset_index()\n",
    "\n",
    "# duplicate entry for December 5th, 2020 causing error\n",
    "#src_testing.drop_duplicates(inplace=True)\n",
    "\n",
    "print('Data sets successfully loaded. Max date is: ' + src_daily['Date'].max().strftime(\"%Y-%m-%d\"))"
   ]
  },
  {
   "cell_type": "code",
   "execution_count": 24,
   "metadata": {},
   "outputs": [
    {
     "output_type": "execute_result",
     "data": {
      "text/plain": [
       "        Date  Algoma_Public_Health_Unit  Brant_County_Health_Unit  \\\n",
       "0 2020-03-24                        NaN                       NaN   \n",
       "1 2020-03-25                        0.0                       1.0   \n",
       "2 2020-03-26                        0.0                       0.0   \n",
       "3 2020-03-27                        0.0                       0.0   \n",
       "4 2020-03-28                        NaN                       NaN   \n",
       "\n",
       "   Chatham-Kent_Health_Unit  Durham_Region_Health_Department  \\\n",
       "0                       NaN                              NaN   \n",
       "1                       0.0                              3.0   \n",
       "2                       0.0                              1.0   \n",
       "3                       0.0                              5.0   \n",
       "4                       NaN                              NaN   \n",
       "\n",
       "   Eastern_Ontario_Health_Unit  Grey_Bruce_Health_Unit  \\\n",
       "0                          NaN                     NaN   \n",
       "1                          0.0                     1.0   \n",
       "2                          0.0                     0.0   \n",
       "3                          0.0                     1.0   \n",
       "4                          NaN                     NaN   \n",
       "\n",
       "   Haldimand-Norfolk_Health_Unit  \\\n",
       "0                            NaN   \n",
       "1                            0.0   \n",
       "2                            0.0   \n",
       "3                            0.0   \n",
       "4                            NaN   \n",
       "\n",
       "   Haliburton,_Kawartha,_Pine_Ridge_District_Health_Unit  \\\n",
       "0                                                NaN       \n",
       "1                                                0.0       \n",
       "2                                                1.0       \n",
       "3                                               14.0       \n",
       "4                                                NaN       \n",
       "\n",
       "   Halton_Region_Health_Department  ...  Simcoe_Muskoka_District_Health_Unit  \\\n",
       "0                              NaN  ...                                  NaN   \n",
       "1                              1.0  ...                                  0.0   \n",
       "2                              4.0  ...                                  1.0   \n",
       "3                              1.0  ...                                  4.0   \n",
       "4                              NaN  ...                                  NaN   \n",
       "\n",
       "   Southwestern_Public_Health  Sudbury_&_District_Health_Unit  \\\n",
       "0                         NaN                             NaN   \n",
       "1                         0.0                             1.0   \n",
       "2                         0.0                             0.0   \n",
       "3                         2.0                             1.0   \n",
       "4                         NaN                             NaN   \n",
       "\n",
       "   Thunder_Bay_District_Health_Unit  Timiskaming_Health_Unit  \\\n",
       "0                               NaN                      NaN   \n",
       "1                               0.0                      0.0   \n",
       "2                               0.0                      1.0   \n",
       "3                               0.0                      0.0   \n",
       "4                               NaN                      NaN   \n",
       "\n",
       "   Toronto_Public_Health  Wellington-Dufferin-Guelph_Public_Health  \\\n",
       "0                    NaN                                       NaN   \n",
       "1                   17.0                                       1.0   \n",
       "2                   21.0                                       1.0   \n",
       "3                   22.0                                       0.0   \n",
       "4                    NaN                                       NaN   \n",
       "\n",
       "   Windsor-Essex_County_Health_Unit  York_Region_Public_Health_Services  Total  \n",
       "0                               NaN                                 NaN      0  \n",
       "1                               1.0                                 5.0     46  \n",
       "2                               2.0                                 5.0     69  \n",
       "3                               0.0                                34.0    124  \n",
       "4                               NaN                                 NaN      0  \n",
       "\n",
       "[5 rows x 36 columns]"
      ],
      "text/html": "<div>\n<style scoped>\n    .dataframe tbody tr th:only-of-type {\n        vertical-align: middle;\n    }\n\n    .dataframe tbody tr th {\n        vertical-align: top;\n    }\n\n    .dataframe thead th {\n        text-align: right;\n    }\n</style>\n<table border=\"1\" class=\"dataframe\">\n  <thead>\n    <tr style=\"text-align: right;\">\n      <th></th>\n      <th>Date</th>\n      <th>Algoma_Public_Health_Unit</th>\n      <th>Brant_County_Health_Unit</th>\n      <th>Chatham-Kent_Health_Unit</th>\n      <th>Durham_Region_Health_Department</th>\n      <th>Eastern_Ontario_Health_Unit</th>\n      <th>Grey_Bruce_Health_Unit</th>\n      <th>Haldimand-Norfolk_Health_Unit</th>\n      <th>Haliburton,_Kawartha,_Pine_Ridge_District_Health_Unit</th>\n      <th>Halton_Region_Health_Department</th>\n      <th>...</th>\n      <th>Simcoe_Muskoka_District_Health_Unit</th>\n      <th>Southwestern_Public_Health</th>\n      <th>Sudbury_&amp;_District_Health_Unit</th>\n      <th>Thunder_Bay_District_Health_Unit</th>\n      <th>Timiskaming_Health_Unit</th>\n      <th>Toronto_Public_Health</th>\n      <th>Wellington-Dufferin-Guelph_Public_Health</th>\n      <th>Windsor-Essex_County_Health_Unit</th>\n      <th>York_Region_Public_Health_Services</th>\n      <th>Total</th>\n    </tr>\n  </thead>\n  <tbody>\n    <tr>\n      <th>0</th>\n      <td>2020-03-24</td>\n      <td>NaN</td>\n      <td>NaN</td>\n      <td>NaN</td>\n      <td>NaN</td>\n      <td>NaN</td>\n      <td>NaN</td>\n      <td>NaN</td>\n      <td>NaN</td>\n      <td>NaN</td>\n      <td>...</td>\n      <td>NaN</td>\n      <td>NaN</td>\n      <td>NaN</td>\n      <td>NaN</td>\n      <td>NaN</td>\n      <td>NaN</td>\n      <td>NaN</td>\n      <td>NaN</td>\n      <td>NaN</td>\n      <td>0</td>\n    </tr>\n    <tr>\n      <th>1</th>\n      <td>2020-03-25</td>\n      <td>0.0</td>\n      <td>1.0</td>\n      <td>0.0</td>\n      <td>3.0</td>\n      <td>0.0</td>\n      <td>1.0</td>\n      <td>0.0</td>\n      <td>0.0</td>\n      <td>1.0</td>\n      <td>...</td>\n      <td>0.0</td>\n      <td>0.0</td>\n      <td>1.0</td>\n      <td>0.0</td>\n      <td>0.0</td>\n      <td>17.0</td>\n      <td>1.0</td>\n      <td>1.0</td>\n      <td>5.0</td>\n      <td>46</td>\n    </tr>\n    <tr>\n      <th>2</th>\n      <td>2020-03-26</td>\n      <td>0.0</td>\n      <td>0.0</td>\n      <td>0.0</td>\n      <td>1.0</td>\n      <td>0.0</td>\n      <td>0.0</td>\n      <td>0.0</td>\n      <td>1.0</td>\n      <td>4.0</td>\n      <td>...</td>\n      <td>1.0</td>\n      <td>0.0</td>\n      <td>0.0</td>\n      <td>0.0</td>\n      <td>1.0</td>\n      <td>21.0</td>\n      <td>1.0</td>\n      <td>2.0</td>\n      <td>5.0</td>\n      <td>69</td>\n    </tr>\n    <tr>\n      <th>3</th>\n      <td>2020-03-27</td>\n      <td>0.0</td>\n      <td>0.0</td>\n      <td>0.0</td>\n      <td>5.0</td>\n      <td>0.0</td>\n      <td>1.0</td>\n      <td>0.0</td>\n      <td>14.0</td>\n      <td>1.0</td>\n      <td>...</td>\n      <td>4.0</td>\n      <td>2.0</td>\n      <td>1.0</td>\n      <td>0.0</td>\n      <td>0.0</td>\n      <td>22.0</td>\n      <td>0.0</td>\n      <td>0.0</td>\n      <td>34.0</td>\n      <td>124</td>\n    </tr>\n    <tr>\n      <th>4</th>\n      <td>2020-03-28</td>\n      <td>NaN</td>\n      <td>NaN</td>\n      <td>NaN</td>\n      <td>NaN</td>\n      <td>NaN</td>\n      <td>NaN</td>\n      <td>NaN</td>\n      <td>NaN</td>\n      <td>NaN</td>\n      <td>...</td>\n      <td>NaN</td>\n      <td>NaN</td>\n      <td>NaN</td>\n      <td>NaN</td>\n      <td>NaN</td>\n      <td>NaN</td>\n      <td>NaN</td>\n      <td>NaN</td>\n      <td>NaN</td>\n      <td>0</td>\n    </tr>\n  </tbody>\n</table>\n<p>5 rows × 36 columns</p>\n</div>"
     },
     "metadata": {},
     "execution_count": 24
    }
   ],
   "source": [
    "#hide\n",
    "src_daily.head()"
   ]
  },
  {
   "cell_type": "code",
   "execution_count": 25,
   "metadata": {},
   "outputs": [
    {
     "output_type": "execute_result",
     "data": {
      "text/plain": [
       "        Date                          Public_Health_Unit  Confirmed\n",
       "0 2020-03-24                   Algoma_Public_Health_Unit        0.0\n",
       "1 2020-03-24                Middlesex-London_Health_Unit        0.0\n",
       "2 2020-03-24     Renfrew_County_and_District_Health_Unit        0.0\n",
       "3 2020-03-24           Region_of_Waterloo,_Public_Health        0.0\n",
       "4 2020-03-24  North_Bay_Parry_Sound_District_Health_Unit        0.0"
      ],
      "text/html": "<div>\n<style scoped>\n    .dataframe tbody tr th:only-of-type {\n        vertical-align: middle;\n    }\n\n    .dataframe tbody tr th {\n        vertical-align: top;\n    }\n\n    .dataframe thead th {\n        text-align: right;\n    }\n</style>\n<table border=\"1\" class=\"dataframe\">\n  <thead>\n    <tr style=\"text-align: right;\">\n      <th></th>\n      <th>Date</th>\n      <th>Public_Health_Unit</th>\n      <th>Confirmed</th>\n    </tr>\n  </thead>\n  <tbody>\n    <tr>\n      <th>0</th>\n      <td>2020-03-24</td>\n      <td>Algoma_Public_Health_Unit</td>\n      <td>0.0</td>\n    </tr>\n    <tr>\n      <th>1</th>\n      <td>2020-03-24</td>\n      <td>Middlesex-London_Health_Unit</td>\n      <td>0.0</td>\n    </tr>\n    <tr>\n      <th>2</th>\n      <td>2020-03-24</td>\n      <td>Renfrew_County_and_District_Health_Unit</td>\n      <td>0.0</td>\n    </tr>\n    <tr>\n      <th>3</th>\n      <td>2020-03-24</td>\n      <td>Region_of_Waterloo,_Public_Health</td>\n      <td>0.0</td>\n    </tr>\n    <tr>\n      <th>4</th>\n      <td>2020-03-24</td>\n      <td>North_Bay_Parry_Sound_District_Health_Unit</td>\n      <td>0.0</td>\n    </tr>\n  </tbody>\n</table>\n</div>"
     },
     "metadata": {},
     "execution_count": 25
    }
   ],
   "source": [
    "# hide\n",
    "df_phu = src_daily.drop(columns=['Total']).melt(id_vars='Date', value_name='Confirmed') \\\n",
    ".rename(columns={\"variable\" : \"Public_Health_Unit\"}) \\\n",
    ".fillna(0).sort_values(['Date']).reset_index(drop=True)\n",
    "\n",
    "df_phu.head()"
   ]
  }
 ]
}